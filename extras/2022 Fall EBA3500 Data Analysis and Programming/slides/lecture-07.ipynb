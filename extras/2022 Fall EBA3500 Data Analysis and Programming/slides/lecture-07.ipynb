{
 "cells": [
  {
   "cell_type": "markdown",
   "metadata": {
    "id": "cXdeN6tD7Z7S"
   },
   "source": [
    "# EBA3500 Lecture 7. Interaction and power"
   ]
  },
  {
   "cell_type": "markdown",
   "metadata": {
    "id": "O2HOse_gXgvM"
   },
   "source": [
    "We'll use the `titanic` data set once again. "
   ]
  },
  {
   "cell_type": "code",
   "execution_count": null,
   "metadata": {
    "colab": {
     "base_uri": "https://localhost:8080/"
    },
    "id": "tvmWAYTEXQ4x",
    "outputId": "16873284-fe5e-4763-b0bf-c8dcf1f3932e"
   },
   "outputs": [],
   "source": [
    "import seaborn as sns\n",
    "titanic = sns.load_dataset(\"titanic\")\n",
    "titanic.head()"
   ]
  },
  {
   "cell_type": "markdown",
   "metadata": {},
   "source": [
    "## Interactions"
   ]
  },
  {
   "cell_type": "markdown",
   "metadata": {
    "id": "8BcjX3XAAFXm"
   },
   "source": [
    "Interactions are regression terms that involve products of two or more covariates, e.g., \n",
    "$$y = \\alpha + \\beta_1 x_1 + \\beta_{12} x_1x_2.$$ \n",
    "The terminology is most freqently used for categorical variables. Let's explore what it means."
   ]
  },
  {
   "cell_type": "markdown",
   "metadata": {
    "id": "S2xP-onnX4IY"
   },
   "source": [
    "## The Cartesian product"
   ]
  },
  {
   "cell_type": "markdown",
   "metadata": {
    "id": "y375A7zzX9GC"
   },
   "source": [
    "We'll have to deal with another fundamental set-theoretic construction, called the *Cartesian product*. \n",
    "\n",
    "**Note:** If something is *Cartesian*, it is named after the French reneissance philosopher René Descartes."
   ]
  },
  {
   "cell_type": "markdown",
   "metadata": {
    "id": "VfLc5ZnUruT8"
   },
   "source": [
    "We will use the symbol \"$\\in$\", which reads \"in\". Writing \"$a\\in A$\" means the same as \"$a \\textrm{ in } A$\". This symbol may look unfamiliar but is a staple of mathematical notation."
   ]
  },
  {
   "cell_type": "markdown",
   "metadata": {
    "id": "8UlMqfb3Vz84"
   },
   "source": [
    "#### Definition\n",
    "> Let $A$ and $B$ be two sets. The *Cartesian product*, denoted by $A\\times B$, is the unique set containing the tuples $(a,b)$ for $a\\in A$ and $b \\in B$. "
   ]
  },
  {
   "cell_type": "markdown",
   "metadata": {
    "id": "CJ-Fti_WZzDp"
   },
   "source": [
    "We also call $A \\times B$ the *product set*, or the product of $A$ and $B$. "
   ]
  },
  {
   "cell_type": "markdown",
   "metadata": {
    "id": "-rAsShfWqnlW"
   },
   "source": [
    "#### Example"
   ]
  },
  {
   "cell_type": "markdown",
   "metadata": {
    "id": "jWJQobjoqspe"
   },
   "source": [
    "Recall the sex and class categories from the Titanic data set."
   ]
  },
  {
   "cell_type": "code",
   "execution_count": null,
   "metadata": {
    "colab": {
     "base_uri": "https://localhost:8080/"
    },
    "id": "3Q3gwR1DXxIG",
    "outputId": "b7bb5aea-4291-4bce-df88-d8e2ec75b5f1"
   },
   "outputs": [],
   "source": [
    "set(titanic.sex)"
   ]
  },
  {
   "cell_type": "code",
   "execution_count": null,
   "metadata": {
    "colab": {
     "base_uri": "https://localhost:8080/"
    },
    "id": "5SPr--JoXo8H",
    "outputId": "a41a9c2f-ce4f-479f-b0fd-137fda919309"
   },
   "outputs": [],
   "source": [
    "set(titanic[\"class\"])"
   ]
  },
  {
   "cell_type": "markdown",
   "metadata": {
    "id": "3oFptdiOqyDv"
   },
   "source": [
    "We will construct the product set of these two sets. To to this, we will use the `product` function from `itertools`. This function often comes in handy in programming in general."
   ]
  },
  {
   "cell_type": "code",
   "execution_count": null,
   "metadata": {
    "colab": {
     "base_uri": "https://localhost:8080/"
    },
    "id": "_7cjOUOnX2Gm",
    "outputId": "2dc0f1eb-b77e-4ff7-db22-adeccec63d8a"
   },
   "outputs": [],
   "source": [
    "from itertools import product\n",
    "sex_class = set(product(set(titanic.sex), set(titanic[\"class\"])))\n",
    "sex_class"
   ]
  },
  {
   "cell_type": "markdown",
   "metadata": {},
   "source": [
    "It is not the case that $A\\times B = B\\times A$!"
   ]
  },
  {
   "cell_type": "code",
   "execution_count": null,
   "metadata": {},
   "outputs": [],
   "source": [
    "from itertools import product\n",
    "class_sex = set(product(set(titanic[\"class\"]), set(titanic[\"sex\"])))\n",
    "class_sex"
   ]
  },
  {
   "cell_type": "code",
   "execution_count": null,
   "metadata": {},
   "outputs": [],
   "source": [
    "class_sex == sex_class"
   ]
  },
  {
   "cell_type": "markdown",
   "metadata": {
    "id": "o8Wgr7jNrI54"
   },
   "source": [
    "We can also take the product of more than two sets, say $A\\times B \\times C$. Such products are defined in the obvious way, i.e., $(a,b,c)\\in A\\times B\\times C$ if and only if $a\\in A$, $b \\in B$, and $c \\in C$."
   ]
  },
  {
   "cell_type": "code",
   "execution_count": null,
   "metadata": {
    "colab": {
     "base_uri": "https://localhost:8080/"
    },
    "id": "q0QFSd4DsGU3",
    "outputId": "bc9bcbaf-bba2-49fd-e4d7-7600233f51c3"
   },
   "outputs": [],
   "source": [
    "set(titanic.survived)"
   ]
  },
  {
   "cell_type": "code",
   "execution_count": null,
   "metadata": {
    "colab": {
     "base_uri": "https://localhost:8080/"
    },
    "id": "60Hh9evTsJLF",
    "outputId": "948987c4-5217-454d-d56a-ce9405e27297"
   },
   "outputs": [],
   "source": [
    "set(product(set(titanic[\"class\"]), set(titanic[\"sex\"]), set(titanic[\"survived\"])))"
   ]
  },
  {
   "cell_type": "markdown",
   "metadata": {},
   "source": [
    "#### Exercise\n",
    "Suppose that $A, B, C$ have elements $n,m,k$ each. What is the size of $A\\times B\\times C$?"
   ]
  },
  {
   "cell_type": "markdown",
   "metadata": {
    "id": "J5aLbwlYVuYy"
   },
   "source": [
    "### Titanic and interaction"
   ]
  },
  {
   "cell_type": "markdown",
   "metadata": {
    "id": "aPoCl1CVXDie"
   },
   "source": [
    "Recall from the last lecture that both sex and class affects the probability of survival. "
   ]
  },
  {
   "cell_type": "code",
   "execution_count": null,
   "metadata": {
    "colab": {
     "base_uri": "https://localhost:8080/",
     "height": 298
    },
    "id": "iXY9niCgG4CS",
    "outputId": "347a896d-aa5a-4160-beb7-b21af09a7f13"
   },
   "outputs": [],
   "source": [
    "import seaborn as sns\n",
    "sns.catplot(x=\"sex\", hue=\"survived\", col=\"class\", data=titanic, kind=\"count\")"
   ]
  },
  {
   "cell_type": "markdown",
   "metadata": {
    "id": "pyJ-nDZA_vEy"
   },
   "source": [
    "The basic model involves only *linear effects*\n",
    "$$\n",
    "y = \\beta_0 + \\beta_{\\textrm{male}}1[\\textrm{sex} = \\textrm{male}] + \\beta_{\\textrm{2nd}}1[\\textrm{class} = \\textrm{2nd}]+ \\beta_{\\textrm{3rd}}1[\\textrm{class} = \\textrm{3rd}].\n",
    "$$\n"
   ]
  },
  {
   "cell_type": "markdown",
   "metadata": {
    "id": "7p7Gepm6FjNF"
   },
   "source": [
    "\n",
    "Let's fit it and see what we get."
   ]
  },
  {
   "cell_type": "code",
   "execution_count": null,
   "metadata": {
    "colab": {
     "base_uri": "https://localhost:8080/",
     "height": 556
    },
    "id": "kQhVNkVyFl5c",
    "outputId": "21585f55-b9c9-476a-e542-7addeb8a6afe"
   },
   "outputs": [],
   "source": [
    "import statsmodels.formula.api as smf\n",
    "fit = smf.ols(\"survived ~ sex + Q('class')\", data = titanic).fit()\n",
    "fit.summary()"
   ]
  },
  {
   "cell_type": "markdown",
   "metadata": {
    "id": "VdhewXb2Fm1M"
   },
   "source": [
    "Now we check how well the estimates match the data. First we'll take a look at the predicted values of the model."
   ]
  },
  {
   "cell_type": "code",
   "execution_count": null,
   "metadata": {
    "colab": {
     "base_uri": "https://localhost:8080/"
    },
    "id": "eZkwvv10G20q",
    "outputId": "77ee280a-8c5f-4708-bc65-ca3fa4ae1f0e"
   },
   "outputs": [],
   "source": [
    "import pandas as pd\n",
    "records = sorted(list(product(set(titanic.sex), set(titanic[\"class\"]))))\n",
    "records"
   ]
  },
  {
   "cell_type": "markdown",
   "metadata": {},
   "source": [
    "We need to make this into a data frame, as follows."
   ]
  },
  {
   "cell_type": "code",
   "execution_count": null,
   "metadata": {
    "colab": {
     "base_uri": "https://localhost:8080/"
    },
    "id": "RE7_cyyaslDy",
    "outputId": "15f9e3be-0e21-44db-a834-a4046cb5a012"
   },
   "outputs": [],
   "source": [
    "frame = pd.DataFrame.from_records(records, columns = [\"sex\", \"class\"])\n",
    "frame"
   ]
  },
  {
   "cell_type": "markdown",
   "metadata": {},
   "source": [
    "We want to predict the probability of survival at the values in `frame`.\n",
    "So to do this, we will use the `predict` method."
   ]
  },
  {
   "cell_type": "code",
   "execution_count": null,
   "metadata": {},
   "outputs": [],
   "source": [
    "fit.predict(frame)"
   ]
  },
  {
   "cell_type": "markdown",
   "metadata": {
    "id": "cusegcPmMVxb"
   },
   "source": [
    "This is just a list of floats with no names. Let's merge it with the `frame` to make stuff clearer"
   ]
  },
  {
   "cell_type": "code",
   "execution_count": null,
   "metadata": {
    "colab": {
     "base_uri": "https://localhost:8080/",
     "height": 296
    },
    "id": "ybCB5mtLMVYa",
    "outputId": "2dee00c1-88c4-4611-cd7c-d54ffd7df4fc"
   },
   "outputs": [],
   "source": [
    "frame[\"predicted\"] = fit.predict(frame)\n",
    "frame"
   ]
  },
  {
   "cell_type": "markdown",
   "metadata": {
    "id": "_9QacVQKNxpz"
   },
   "source": [
    "Let's compare these predictions to the means using the `groupby` method."
   ]
  },
  {
   "cell_type": "code",
   "execution_count": null,
   "metadata": {
    "colab": {
     "base_uri": "https://localhost:8080/"
    },
    "id": "KPMbNbS-s5PW",
    "outputId": "64099d95-624e-47b0-baa3-bb4fd7aa98e3"
   },
   "outputs": [],
   "source": [
    "means = titanic.groupby([\"sex\", \"class\"]).mean()[\"survived\"]\n",
    "means"
   ]
  },
  {
   "cell_type": "markdown",
   "metadata": {
    "id": "H__vQAY5tEUu"
   },
   "source": [
    "This table is simple enough. The mean on the column to the right is the mean of the subgroup for the corresponding sex and class on the right."
   ]
  },
  {
   "cell_type": "markdown",
   "metadata": {
    "id": "P1dN8AbjtO9o"
   },
   "source": [
    "Let's compare these means to the predicted values of our model."
   ]
  },
  {
   "cell_type": "code",
   "execution_count": null,
   "metadata": {
    "colab": {
     "base_uri": "https://localhost:8080/",
     "height": 296
    },
    "id": "E5B1rrVYOdAa",
    "outputId": "92aadceb-9217-4031-bb79-6b9eb6e70ac2"
   },
   "outputs": [],
   "source": [
    "import numpy as np\n",
    "frame[\"mean\"] = means.array\n",
    "frame"
   ]
  },
  {
   "cell_type": "markdown",
   "metadata": {
    "id": "DHZJHj1eWScb"
   },
   "source": [
    "Why aren't the values equal? First, notice that there are $6$ means, but only $4$ parameters in the regression output. "
   ]
  },
  {
   "cell_type": "code",
   "execution_count": null,
   "metadata": {},
   "outputs": [],
   "source": [
    "fit.params"
   ]
  },
  {
   "cell_type": "markdown",
   "metadata": {},
   "source": [
    "\n",
    "\n",
    "\n",
    "Second, the model doens't take *interactions* into account, only linear effects. Interactions occur when the effect of one variable depends on the value of another variable.\n"
   ]
  },
  {
   "cell_type": "markdown",
   "metadata": {
    "id": "xmcgZRGJOIoh"
   },
   "source": [
    "### A \"two-way\" model"
   ]
  },
  {
   "cell_type": "markdown",
   "metadata": {
    "id": "7HYXraACV6yn"
   },
   "source": [
    "Let $A$ and $B$ be sets with $I$ and $J$ elements each. Consider the following model\n",
    "$$y=\\sum_{i=1}^{I}\\sum_{j=1}^{J}\\beta_{ij}1[X_{1}=a_{j}]1[X_{2}=b_{k}].$$\n",
    "That is the same model as, using $X = (X_1, X_2)$,\n",
    "$$y=\\sum_{i=1}^{I}\\sum_{j=1}^{J}\\beta_{ij}1[X = (a_{j}, b_{k})],$$\n",
    "where $(a_i,b_j) \\in A\\times B$. Thus it may be viewed as an ordinary categorical variable model."
   ]
  },
  {
   "cell_type": "markdown",
   "metadata": {
    "id": "cWCcsTF8OMDx"
   },
   "source": [
    "### Titanic example"
   ]
  },
  {
   "cell_type": "markdown",
   "metadata": {
    "id": "_YE34cisOCeR"
   },
   "source": [
    "Let $A = \\{\\textrm{female}, \\textrm{male}\\}$ and $B = \\{\\textrm{1st},\\textrm{2nd}, \\textrm{3rd}\\}$. That is, $A$ are the sex categories and $B$ are the class categories. Remember their product set, which equals\n"
   ]
  },
  {
   "cell_type": "code",
   "execution_count": null,
   "metadata": {
    "colab": {
     "base_uri": "https://localhost:8080/"
    },
    "id": "fP6MoyaAO0I5",
    "outputId": "ad194d10-917d-4722-dd60-531fc8717680"
   },
   "outputs": [],
   "source": [
    "set(product(set(titanic[\"sex\"]), set(titanic[\"class\"])))"
   ]
  },
  {
   "cell_type": "markdown",
   "metadata": {
    "id": "_zVOJbHjO8Dh"
   },
   "source": [
    "Writing down the model explicitly doesn't help, as it's cumbersome to look at. But using $$y=\\sum_{i=1}^{I}\\sum_{j=1}^{J}\\beta_{ij}1[X = (a_{j}, b_{k})],$$\n",
    "where $(a_i,b_j) \\in A\\times B$, we can write a table of the corresponding coefficients."
   ]
  },
  {
   "cell_type": "markdown",
   "metadata": {
    "id": "PLkzT7DDYKsH"
   },
   "source": [
    "|         |        | Class |     |     |\n",
    "| ---     |------- | ----- | --- |-----| \n",
    "|         |        | 1st   | 2nd | 3rd |\n",
    "| **Sex** |        |       |     |     |\n",
    "|         | Female | $\\beta_{11}$ | $\\beta_{12}$ | $\\beta_{13}$ | \n",
    "|         | Male   | $\\beta_{21}$ | $\\beta_{22}$ | $\\beta_{23}$ |"
   ]
  },
  {
   "cell_type": "markdown",
   "metadata": {
    "id": "46hec8bEPhex"
   },
   "source": [
    "When you want to predict the probability of survival for a male passenger traveling 3rd class, you find the second row (male) and third column (3rd class), and use the $\\beta_{23}$ coefficient. "
   ]
  },
  {
   "cell_type": "markdown",
   "metadata": {
    "id": "CeS-VUeKQQg2"
   },
   "source": [
    "Now let's fit the model! To do this, we will define a new column in the data frame `titanic` containing the product set of `Sex` and `Class`."
   ]
  },
  {
   "cell_type": "code",
   "execution_count": null,
   "metadata": {
    "colab": {
     "base_uri": "https://localhost:8080/"
    },
    "id": "4CH6emvvQzjR",
    "outputId": "7f3b7ef1-167f-4b5e-c4b5-d3af5ca9c966"
   },
   "outputs": [],
   "source": [
    "titanic[\"sex_class\"] = list(zip(titanic[\"sex\"], titanic[\"class\"]))\n",
    "titanic[\"sex_class\"]"
   ]
  },
  {
   "cell_type": "markdown",
   "metadata": {
    "id": "mbEnrBHct_0m"
   },
   "source": [
    "Now we're ready to run the model."
   ]
  },
  {
   "cell_type": "code",
   "execution_count": null,
   "metadata": {
    "colab": {
     "base_uri": "https://localhost:8080/",
     "height": 563
    },
    "id": "OK0GIWQoRLSB",
    "outputId": "60e207f2-b21e-4fb6-9a1c-245487be8da2"
   },
   "outputs": [],
   "source": [
    "fit2 = smf.ols(\"survived ~ sex_class - 1\", data = titanic).fit()\n",
    "fit2.summary()"
   ]
  },
  {
   "cell_type": "markdown",
   "metadata": {
    "id": "-koKBpdySSJp"
   },
   "source": [
    "Let's see how these new coefficients match the means we just calculated."
   ]
  },
  {
   "cell_type": "code",
   "execution_count": null,
   "metadata": {
    "colab": {
     "base_uri": "https://localhost:8080/",
     "height": 296
    },
    "id": "iq5mbDNrRYeG",
    "outputId": "b13202fe-5cb8-4b70-9409-f0ee54187374"
   },
   "outputs": [],
   "source": [
    "frame[\"new_predicted\"] = fit2.params.array\n",
    "frame"
   ]
  },
  {
   "cell_type": "markdown",
   "metadata": {
    "id": "d7DQwracTWiA"
   },
   "source": [
    "That's perfect!"
   ]
  },
  {
   "cell_type": "markdown",
   "metadata": {
    "id": "wIXcgWF6TYTa"
   },
   "source": [
    "As it happens, `statsmodels` allows us to run interaction models such as these easily. We just need to use the `*` command:"
   ]
  },
  {
   "cell_type": "code",
   "execution_count": null,
   "metadata": {
    "colab": {
     "base_uri": "https://localhost:8080/",
     "height": 563
    },
    "id": "PamcHyYaQJHh",
    "outputId": "3931e33f-8087-40b0-9631-2948952d978b"
   },
   "outputs": [],
   "source": [
    "import statsmodels.formula.api as smf\n",
    "fit = smf.ols(\"survived ~ sex * Q('class')\", data = titanic).fit()\n",
    "fit.summary()"
   ]
  },
  {
   "cell_type": "markdown",
   "metadata": {
    "id": "51lk0qXwTkk4"
   },
   "source": [
    "Yet again, we have to think about baselines. Since there is no `sex[T.Female]` in the table, the baseline sex is female. Since there is no `class[T.1st]` in the table, the baseline class is 1st class.\n",
    "\n",
    "To calculate the predicted value of, say, a male with class `3rd`, you would have to sum the coefficients of `sex[T.Male]`, `class[T.3rd]` *and* `sex[T.Male]:class[T.3rd]`. "
   ]
  },
  {
   "cell_type": "code",
   "execution_count": null,
   "metadata": {
    "colab": {
     "base_uri": "https://localhost:8080/"
    },
    "id": "UKzk6XeqUV5y",
    "outputId": "71b60a31-c39f-475e-b786-1a006308afaf"
   },
   "outputs": [],
   "source": [
    "fit.params"
   ]
  },
  {
   "cell_type": "code",
   "execution_count": null,
   "metadata": {
    "colab": {
     "base_uri": "https://localhost:8080/"
    },
    "id": "ngVcde9wUXsg",
    "outputId": "a35ade8e-bdbd-4e88-faa7-65feec0b3a81"
   },
   "outputs": [],
   "source": [
    "coef = fit.params\n",
    "coef[\"Intercept\"] + coef[\"sex[T.male]\"] + coef[\"Q('class')[T.Third]\"]+ coef[\"sex[T.male]:Q('class')[T.Third]\"]"
   ]
  },
  {
   "cell_type": "code",
   "execution_count": null,
   "metadata": {
    "colab": {
     "base_uri": "https://localhost:8080/",
     "height": 80
    },
    "id": "q0qQWqU7UuNI",
    "outputId": "3412a126-48d5-4b9e-8146-fd73c6ee8c24"
   },
   "outputs": [],
   "source": [
    "frame[\"mean\"][5]"
   ]
  },
  {
   "cell_type": "markdown",
   "metadata": {
    "id": "v99Ge8Xcuji-"
   },
   "source": [
    "It's clearly harder to interpret the coefficients of a the `statsmodels` object with formula `\"survived ~ sex * class\"` than that with formula `\"survived ~ sex_class - 1\"`. However, we may use the formulation `\"survived ~ sex * class\"` to more easily ask meaningful questions.\n",
    "\n",
    "\n"
   ]
  },
  {
   "cell_type": "markdown",
   "metadata": {
    "id": "W9KurpU-_UDM"
   },
   "source": [
    "Most importantly, do we need the interaction terms or not? In other words, do we need the whole model `\"survived ~ sex * Q('class')\"`, or would it suffice with `\"survived ~ sex + Q('class')\"`?"
   ]
  },
  {
   "cell_type": "markdown",
   "metadata": {},
   "source": [
    "## Testing for interactions"
   ]
  },
  {
   "cell_type": "markdown",
   "metadata": {},
   "source": [
    "Testing for interactions is similar to the testing we did in the last lecture. Consider a model with $2$ categorical variables $x_1$ and $x_2$ with $I$ and $J$ categories each. The model with linear effects is \n",
    "$$\n",
    "y = \\beta_0 + \\sum_{i = 2}^{I} {\\beta^1_{i}1[x_1 = i]} + \\sum_{j = 2}^{J} {\\beta^2_{j} 1[x_2 = j]} + \\epsilon\n",
    "$$"
   ]
  },
  {
   "cell_type": "markdown",
   "metadata": {},
   "source": [
    "Here we start the sums at $i=2$ and $j=2$ since the $x_1 = 1$ and $x_2 = 2$ are absorbed into the baseline."
   ]
  },
  {
   "cell_type": "markdown",
   "metadata": {},
   "source": [
    "This is the general form of the titanic model with two categories we've already looked at:"
   ]
  },
  {
   "cell_type": "code",
   "execution_count": null,
   "metadata": {},
   "outputs": [],
   "source": [
    "fit = smf.ols(\"survived ~ sex + Q('class')\", data = titanic).fit()\n",
    "fit.summary()"
   ]
  },
  {
   "cell_type": "markdown",
   "metadata": {},
   "source": [
    "This model doesn't include interactions, as there are no product terms $1[x_1 = i]1[x_2 = j]$ in the model. Let's add them to the model and see what it looks like."
   ]
  },
  {
   "cell_type": "markdown",
   "metadata": {},
   "source": [
    "The interaction model $$y=\\sum_{i=1}^{I}\\sum_{j=1}^{J}\\beta_{ij}1[X_{1}=a_{j}]1[X_{2}=b_{k}]$$ can be written as en extension of the linear effects model $$y = \\beta_0 + \\sum_{i = 2}^{I} {\\beta^1_{i}1[x_1 = i]} + \\sum_{j = 2}^{J} {\\beta^2_{j} 1[x_2 = j]} + \\sum_{i = 2}^{I}\\sum_{j = 2}^{J} {\\beta^{1\\times2}_{ij} 1[x_1 = j]1[x_2=j]} + \\epsilon$$"
   ]
  },
  {
   "cell_type": "markdown",
   "metadata": {},
   "source": [
    "The double sum starts at $i,j=2$ due to absorption into the baseline."
   ]
  },
  {
   "cell_type": "markdown",
   "metadata": {},
   "source": [
    "Formulating the interaction model in this way allows us to formulate a test of whether the interactions matter. Our null hypothesis is that the all the regression coefficients belonging to the interaction part of the model are $0$. Formally, we could write\n",
    "$$H_0: \\beta^{1\\times2}_{ij} = 0\\quad \\textrm{for all } i,j\\geq2.$$\n",
    "Our alternative hypothesis is that the interaction terms matter *in some way*. In other words, at least one coefficients $\\beta^{1\\times2}_{ij}$ is not equal to $0$.\n",
    "$$H_a: \\textrm{There is a pair } (i,j) \\textrm{ where } \\beta^{1\\times2}_{ij} \\neq 0.$$"
   ]
  },
  {
   "cell_type": "markdown",
   "metadata": {},
   "source": [
    "Notice that we only care about the interaction coefficients $\\beta_{ij}^{1\\times2}$; the other regression coefficients aren't featured in the hypothesis statements at all."
   ]
  },
  {
   "cell_type": "markdown",
   "metadata": {},
   "source": [
    "This is similar to the setup in the previous lecture in the $F$ test, except that we care about a *subset* of $\\beta$"
   ]
  },
  {
   "cell_type": "markdown",
   "metadata": {},
   "source": [
    "### Example"
   ]
  },
  {
   "cell_type": "markdown",
   "metadata": {},
   "source": [
    "We'll continue work with the interaction model for `titanic`."
   ]
  },
  {
   "cell_type": "markdown",
   "metadata": {},
   "source": [
    "First, recall the linear effects model:\n",
    "$$\n",
    "y = \\beta_0 + \\beta_{\\textrm{male}}1[\\textrm{sex} = \\textrm{male}] + \\beta_{\\textrm{2nd}}1[\\textrm{class} = \\textrm{2nd}]+ \\beta_{\\textrm{3rd}}1[\\textrm{class} = \\textrm{3rd}].\n",
    "$$"
   ]
  },
  {
   "cell_type": "markdown",
   "metadata": {},
   "source": [
    "In the `statsmodels` regression model below, we add the interaction terms corresponding to $\\beta_{\\textrm{male}\\times\\textrm{2nd}}$, $\\beta_{\\textrm{male}\\times\\textrm{3rd}}$, making the interaction model"
   ]
  },
  {
   "cell_type": "markdown",
   "metadata": {},
   "source": [
    "$$\n",
    "y = \\beta_0 + \\beta_{\\textrm{male}}1[\\textrm{sex} = \\textrm{male}] + \\beta_{\\textrm{2nd}}1[\\textrm{class} = \\textrm{2nd}]+ \\beta_{\\textrm{3rd}}1[\\textrm{class} = \\textrm{3rd}] + \n",
    "\\beta_{\\textrm{male}\\times\\textrm{2nd}}1[(\\textrm{sex}, \\textrm{class}) = (\\textrm{male}, \\textrm{2nd})] + \n",
    "\\beta_{\\textrm{male}\\times\\textrm{3rd}}1[(\\textrm{sex}, \\textrm{class}) = (\\textrm{male}, \\textrm{3nd})].\n",
    "$$"
   ]
  },
  {
   "cell_type": "code",
   "execution_count": null,
   "metadata": {},
   "outputs": [],
   "source": [
    "import statsmodels.formula.api as smf\n",
    "fit = smf.ols(\"survived ~ sex * Q('class')\", data = titanic).fit()\n",
    "fit.summary()"
   ]
  },
  {
   "cell_type": "markdown",
   "metadata": {},
   "source": [
    "Now we'll make what is called an ANOVA table."
   ]
  },
  {
   "cell_type": "code",
   "execution_count": null,
   "metadata": {},
   "outputs": [],
   "source": [
    "import statsmodels.api as sm\n",
    "sm.stats.anova_lm(fit, typ=3) "
   ]
  },
  {
   "cell_type": "markdown",
   "metadata": {},
   "source": [
    "Let's interpret this table. It contains three *p*-values, one for `sex`, one for `class`, and one for `sex:class`, which is the interaction term. You only need to think about the $PR(>F)$ column, which contains the *p*-values."
   ]
  },
  {
   "cell_type": "markdown",
   "metadata": {},
   "source": [
    "1. **Sex.** Here $H_0$ is that all the regression coefficients for the category `Sex` are $0$ (that is, is $\\beta_\\textrm{male} = 0$) when we do not include any of the other coefficients in the model. I.e., it ask if sex matters when we do not include `Class` and interactions.\n",
    "2. **Class.** Now $H_0$ is that all the regression coefficients for the category `Class` are $0$ when we do include the coefficients for `Sex` in the model.\n",
    "3. **Sex:Class.** $H_0$ is that all the interaction coefficients, i.e., the coefficients for the category `Sex:Class` are $0$ when the coefficients for `Sex` and `Class` are included in the model."
   ]
  },
  {
   "cell_type": "markdown",
   "metadata": {},
   "source": [
    "In conclusion, we find that the *p*-value for our null hypothesis $H_0$, that all of the interaction regression coefficients are $0$, is `6.545202e-16`, or $6.54\\cdot10^{-16}$."
   ]
  },
  {
   "cell_type": "markdown",
   "metadata": {},
   "source": [
    "## Marketing example"
   ]
  },
  {
   "cell_type": "markdown",
   "metadata": {},
   "source": [
    "Inference problems with multiple categorical variables and their interactions are often called ANOVA, or \"analysis of variance\". Very prominently used in research, but also in business. [Here is an example in marketing](https://imsmwu.github.io/MRDA2017/_book/analysis-of-variance.html). Notice that most people work with various sums of squares when dealing with ANOVA. We *don't* do that in this course.    "
   ]
  },
  {
   "cell_type": "markdown",
   "metadata": {},
   "source": [
    "> Assume that you are a marketing manager at an online fashion store, and you wish to analyze the effect of online promotion on sales. You conduct an experiment and select a sample of 30 comparable products to be included in the experiment. Then you randomly assign the products to one of three groups: (1) = high promotion level, (2) = medium promotion level, (3) = low promotion level, and record the sales over one day. This means that you have 10 products assigned to each treatment."
   ]
  },
  {
   "cell_type": "markdown",
   "metadata": {},
   "source": [
    "We download the data and take a look at it."
   ]
  },
  {
   "cell_type": "code",
   "execution_count": null,
   "metadata": {},
   "outputs": [],
   "source": [
    "import pandas as pd\n",
    "sales = pd.read_table(\"https://raw.githubusercontent.com/IMSMWU/Teaching/master/MRDA2017/online_store_promo.dat\")\n",
    "sales.head()"
   ]
  },
  {
   "cell_type": "code",
   "execution_count": null,
   "metadata": {},
   "outputs": [],
   "source": [
    "sales.info()"
   ]
  },
  {
   "cell_type": "markdown",
   "metadata": {},
   "source": [
    "Let's visualize this."
   ]
  },
  {
   "cell_type": "code",
   "execution_count": null,
   "metadata": {},
   "outputs": [],
   "source": [
    "sns.catplot(y = \"Sales\", col = \"Newsletter\", x = \"Promotion\", kind = \"bar\", data = sales)"
   ]
  },
  {
   "cell_type": "markdown",
   "metadata": {},
   "source": [
    "It seems like both newsletter and promotion has and effect on the amount of sales."
   ]
  },
  {
   "cell_type": "code",
   "execution_count": null,
   "metadata": {},
   "outputs": [],
   "source": [
    "model = smf.ols(\"Sales ~ Newsletter + Promotion\", data = sales).fit()\n",
    "sm.stats.anova_lm(model, typ=3) "
   ]
  },
  {
   "cell_type": "markdown",
   "metadata": {},
   "source": [
    "But let's check the interactions too!"
   ]
  },
  {
   "cell_type": "code",
   "execution_count": null,
   "metadata": {},
   "outputs": [],
   "source": [
    "model = smf.ols(\"Sales ~ Newsletter * Promotion\", data = sales).fit()\n",
    "sm.stats.anova_lm(model, typ=3) "
   ]
  },
  {
   "cell_type": "markdown",
   "metadata": {},
   "source": [
    "Hence we have evidence that both inclusion in a newsletter and degree of promotion matter by themselves - and there is an interaction!"
   ]
  },
  {
   "cell_type": "markdown",
   "metadata": {},
   "source": [
    "## $n$-way ANOVA\n",
    "We have looked at two-way ANOVA: Here we have two categorical covariates and look at their interactions. We can also look at interactions between more than two variables. But this is seldom done, as it is hard to estimate them well.\n"
   ]
  },
  {
   "cell_type": "code",
   "execution_count": null,
   "metadata": {},
   "outputs": [],
   "source": [
    "titanic_model = smf.ols(\"survived ~ sex * Q('class') * embarked\", data = titanic).fit()\n",
    "titanic_model.summary()"
   ]
  },
  {
   "cell_type": "code",
   "execution_count": null,
   "metadata": {},
   "outputs": [],
   "source": [
    "titanic.shape"
   ]
  },
  {
   "cell_type": "markdown",
   "metadata": {},
   "source": [
    "The total number of estimated coefficients is $2\\cdot 3 \\cdot 3$, as there are two sexes, three classes, and three ports. This is a lot to estimate, and the precision of the estimates becomes worse as a consequence."
   ]
  },
  {
   "cell_type": "code",
   "execution_count": null,
   "metadata": {},
   "outputs": [],
   "source": [
    "sm.stats.anova_lm(titanic_model, typ=3) "
   ]
  },
  {
   "cell_type": "markdown",
   "metadata": {},
   "source": [
    "It seems like `embarked` barely matters at all. So we try:"
   ]
  },
  {
   "cell_type": "code",
   "execution_count": null,
   "metadata": {},
   "outputs": [],
   "source": [
    "sm.stats.anova_lm(smf.ols(\"survived ~ Q('class') * sex\", data = titanic).fit(), typ=3) "
   ]
  },
  {
   "cell_type": "markdown",
   "metadata": {},
   "source": [
    "Usually a two-way design is enough. If you need to do more, be careful and read up on three-way ANOVA first."
   ]
  },
  {
   "cell_type": "markdown",
   "metadata": {},
   "source": [
    "## Power analysis"
   ]
  },
  {
   "cell_type": "markdown",
   "metadata": {},
   "source": [
    "It's often convenient to frame experimental questions as hypothesis tests. The most common testing scenario is the two-sample problem. Here you have two means $\\mu_0$ and $\\mu_1$ and iid observations $X_1,X_2,\\ldots,X_{n_1}$ from the first group and $Y_1,Y_2,\\ldots Y_{n_2}$ from the second group. You wish to test:\n",
    "$$\\begin{align}\n",
    "H_{0} & : \\mu_{0}=\\mu_{1},\\\\\n",
    "H_{1} & : \\mu_{0}\\neq\\mu_{1}.\n",
    "\\end{align}$$\n",
    "\n",
    "This is usually done using the [*t*-test](https://en.wikipedia.org/wiki/t-test), which is an exact test if both $X_i$ and $Y_i$ are normal with the same standard deviation. In other words, $X_i\\sim N(\\mu_1,\\sigma)$ and $Y_i\\sim N(\\mu_2, \\sigma)$."
   ]
  },
  {
   "cell_type": "markdown",
   "metadata": {},
   "source": [
    "We have already looked at such tests with regression, but with the same sample sizes. Now we look at the case of unequal sample sizes using `scipy`."
   ]
  },
  {
   "cell_type": "markdown",
   "metadata": {},
   "source": [
    "**Power**- When we conduct an experiment we would like to have enough data to make it plausible that the null hypothesis gets rejected. The power of a test is defined as the probability of rejecting the null. It depends both on the unknown parameters and the sample size. We usually aim for a power of $80\\%$; we do it by guessing the value of the unknown parameters and then simulate or calculate how many observations we need. "
   ]
  },
  {
   "cell_type": "markdown",
   "metadata": {},
   "source": [
    "### Simulation"
   ]
  },
  {
   "cell_type": "markdown",
   "metadata": {},
   "source": [
    "We make a function that simulates from the normal model described above."
   ]
  },
  {
   "cell_type": "code",
   "execution_count": null,
   "metadata": {},
   "outputs": [],
   "source": [
    "from numpy import random\n",
    "from scipy.stats import ttest_ind\n",
    "rng = random.default_rng(seed = 313)\n",
    "\n",
    "def simulate(n1, n2, mu1, mu2):\n",
    "    \"\"\"Simulate two normal vectors with means mu1, mu2 and standard deviation 1.\"\"\"\n",
    "    x = rng.normal(size = n1) + mu1\n",
    "    y = rng.normal(size = n2) + mu2\n",
    "    return (x, y)"
   ]
  },
  {
   "cell_type": "markdown",
   "metadata": {},
   "source": [
    "Using unpacking we find $x$ and $y$."
   ]
  },
  {
   "cell_type": "code",
   "execution_count": null,
   "metadata": {},
   "outputs": [],
   "source": [
    "x, y = simulate(10, 20, mu1 = 1, mu2 = 1.2)\n",
    "print((x, y))"
   ]
  },
  {
   "cell_type": "markdown",
   "metadata": {},
   "source": [
    "And we can use the `ttest_ind` function from `scipy` to calculate the $t$-test. "
   ]
  },
  {
   "cell_type": "code",
   "execution_count": null,
   "metadata": {},
   "outputs": [],
   "source": [
    "ttest_ind(x, y)"
   ]
  },
  {
   "cell_type": "markdown",
   "metadata": {},
   "source": [
    "We combine these two simulations to simulate *p*-values directly."
   ]
  },
  {
   "cell_type": "code",
   "execution_count": null,
   "metadata": {},
   "outputs": [],
   "source": [
    "def check_power(n1, n2, mu1, mu2):\n",
    "    \"\"\"Simulate p-value using simulate.\"\"\"\n",
    "    x, y = simulate(n1, n2, mu1, mu2)\n",
    "    return ttest_ind(x, y).pvalue"
   ]
  },
  {
   "cell_type": "code",
   "execution_count": null,
   "metadata": {},
   "outputs": [],
   "source": [
    "check_power(10, 20, 1, 1.2)"
   ]
  },
  {
   "cell_type": "markdown",
   "metadata": {},
   "source": [
    "Now we can make a histogram of the resulting simultions when $\\mu_1 = 1$ and $\\mu_2 = 1.2$."
   ]
  },
  {
   "cell_type": "code",
   "execution_count": null,
   "metadata": {},
   "outputs": [],
   "source": [
    "pvalues = np.array([check_power(10, 20, 1, 1.2) for _ in range(n_reps)])\n",
    "sns.histplot(pvalues, stat = \"probability\")\n",
    "np.mean(pvalues <= 0.5)"
   ]
  },
  {
   "cell_type": "markdown",
   "metadata": {},
   "source": [
    "We do not have high enough sample size to get a big probability of rejection! Let's double the sample size and see what happens."
   ]
  },
  {
   "cell_type": "code",
   "execution_count": null,
   "metadata": {},
   "outputs": [],
   "source": [
    "pvalues = np.array([check_power(20, 40, 1, 1.2) for _ in range(n_reps)])\n",
    "sns.histplot(pvalues, stat = \"probability\")\n",
    "np.mean(pvalues <= 0.5)"
   ]
  },
  {
   "cell_type": "markdown",
   "metadata": {},
   "source": [
    "Still not a big chance of rejecting $H_0$."
   ]
  },
  {
   "cell_type": "markdown",
   "metadata": {},
   "source": [
    "### Using `statsmodels`.\n",
    "We an use `statsmodels` to calculate power too, but only for the more simple situation with one mean and one sequence of variables. It uses the notion of effect size, which equals $(\\mu_2 - \\mu_1)/\\sigma$. Since $\\sigma = 1$ in our case, our effect size is $0.2$.\n"
   ]
  },
  {
   "cell_type": "code",
   "execution_count": null,
   "metadata": {},
   "outputs": [],
   "source": [
    "from statsmodels.stats.power import TTestIndPower\n",
    "power = TTestIndPower()\n",
    "power.solve_power(effect_size = 0.2, power = 0.8, nobs1 = None, alpha=0.5)"
   ]
  },
  {
   "cell_type": "markdown",
   "metadata": {},
   "source": [
    "This suggest that we need about $n=100$ observations in both groups to get a power of $80\\%$."
   ]
  },
  {
   "cell_type": "code",
   "execution_count": null,
   "metadata": {},
   "outputs": [],
   "source": [
    "pvalues = np.array([check_power(80, 100, 1, 1.2) for _ in range(n_reps)])\n",
    "sns.histplot(pvalues, stat = \"probability\")\n",
    "np.mean(pvalues <= 0.5)"
   ]
  }
 ],
 "metadata": {
  "kernelspec": {
   "display_name": "Python 3.10.7 64-bit",
   "language": "python",
   "name": "python3"
  },
  "language_info": {
   "codemirror_mode": {
    "name": "ipython",
    "version": 3
   },
   "file_extension": ".py",
   "mimetype": "text/x-python",
   "name": "python",
   "nbconvert_exporter": "python",
   "pygments_lexer": "ipython3",
   "version": "3.10.7"
  },
  "orig_nbformat": 4,
  "vscode": {
   "interpreter": {
    "hash": "a7dbb88c84ecda04e2dfa8176cb6708abf8c95c32934f510df16d1a1f4945387"
   }
  }
 },
 "nbformat": 4,
 "nbformat_minor": 2
}
