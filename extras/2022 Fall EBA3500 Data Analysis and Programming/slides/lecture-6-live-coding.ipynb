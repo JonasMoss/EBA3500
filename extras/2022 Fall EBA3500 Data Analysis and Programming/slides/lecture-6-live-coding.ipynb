{
  "cells": [
    {
      "cell_type": "markdown",
      "metadata": {
        "id": "UgmoNQR9ENO-"
      },
      "source": [
        "## Penguins"
      ]
    },
    {
      "cell_type": "markdown",
      "metadata": {
        "id": "JQFbqC1EGGlN"
      },
      "source": [
        "The `seaborn` package has a bunch of included data sets, such as the `penguins`data set."
      ]
    },
    {
      "cell_type": "code",
      "execution_count": null,
      "metadata": {
        "id": "-OITswn7Fcbl"
      },
      "outputs": [],
      "source": [
        "import seaborn as sns\n",
        "penguins = sns.load_dataset(\"penguins\")\n",
        "penguins.head()"
      ]
    },
    {
      "cell_type": "code",
      "execution_count": null,
      "metadata": {
        "id": "WZoM4NjKGJZH"
      },
      "outputs": [],
      "source": [
        "penguins.shape"
      ]
    },
    {
      "cell_type": "code",
      "execution_count": null,
      "metadata": {
        "id": "O36cfH_DGXfF"
      },
      "outputs": [],
      "source": [
        "from collections import Counter\n",
        "Counter(penguins.island)"
      ]
    },
    {
      "cell_type": "markdown",
      "metadata": {
        "id": "-kPbn-gIGdF1"
      },
      "source": [
        "We can plot this using `countplot`."
      ]
    },
    {
      "cell_type": "code",
      "execution_count": null,
      "metadata": {
        "id": "IOdcY3xHGaIe"
      },
      "outputs": [],
      "source": [
        "sns.countplot(x=\"island\", data=penguins)"
      ]
    },
    {
      "cell_type": "markdown",
      "metadata": {
        "id": "a_fuMV_hGm63"
      },
      "source": [
        "Using `groupby` we can calculate summary statistics across groups."
      ]
    },
    {
      "cell_type": "code",
      "execution_count": null,
      "metadata": {
        "id": "bP26Mi4mGkW2"
      },
      "outputs": [],
      "source": [
        "penguins.groupby(\"island\").mean()"
      ]
    },
    {
      "cell_type": "markdown",
      "metadata": {
        "id": "YQron1mOGvLe"
      },
      "source": [
        "This also works for other functions, e.g. `std`."
      ]
    },
    {
      "cell_type": "code",
      "execution_count": null,
      "metadata": {
        "id": "8xx08galGzb4"
      },
      "outputs": [],
      "source": [
        "penguins.groupby(\"island\").std()"
      ]
    },
    {
      "cell_type": "markdown",
      "metadata": {
        "id": "t6jhvTC_G9JW"
      },
      "source": [
        "Now let's run a regression! Our categorical covariates are the islands; our response is the bill length."
      ]
    },
    {
      "cell_type": "code",
      "execution_count": null,
      "metadata": {
        "id": "i-5_-PMcHDvg"
      },
      "outputs": [],
      "source": [
        "fit = smf.ols(\"\"\"bill_length_mm ~ I(1 * (island == 'Biscoe'))\n",
        "  + I(1 * (island == 'Dream')) \n",
        "  + I(1 * (island == 'Torgersen')) - 1\"\"\", \n",
        "  data = penguins).fit()\n",
        "  \n",
        "fit.summary()"
      ]
    },
    {
      "cell_type": "code",
      "execution_count": null,
      "metadata": {
        "id": "pqUMIZ7LHTAJ"
      },
      "outputs": [],
      "source": [
        "fit = smf.ols(\"bill_length_mm ~ C(island) - 1\", data = penguins).fit()\n",
        "fit.summary()"
      ]
    },
    {
      "cell_type": "code",
      "execution_count": null,
      "metadata": {
        "id": "17rEmVR1Hhv_"
      },
      "outputs": [],
      "source": [
        "fit.pvalues"
      ]
    },
    {
      "cell_type": "markdown",
      "metadata": {
        "id": "G4Qgk96nHnun"
      },
      "source": [
        "Here we see that all of the beta coefficients are highly significant. But what does that mean? It means that the mean length of the bills are unlikely to be  for every island! What we typically care about is whether there is a difference between the islands, say Biscoe and Dream."
      ]
    },
    {
      "cell_type": "code",
      "execution_count": null,
      "metadata": {
        "id": "OcB_F_r9HbhY"
      },
      "outputs": [],
      "source": [
        "fit2 = smf.ols(\"bill_length_mm ~ C(island)\", data = penguins).fit()\n",
        "fit2.summary()"
      ]
    },
    {
      "cell_type": "markdown",
      "metadata": {
        "id": "XtX0nBNPHsL4"
      },
      "source": [
        "In this run of the regression model, there is no `C(island)[Biscoe]` because this coefficient has been absorbed into a *baseline*.\n",
        "\n"
      ]
    },
    {
      "cell_type": "code",
      "execution_count": null,
      "metadata": {
        "id": "mu71V1LMHza4"
      },
      "outputs": [],
      "source": [
        "fit.params"
      ]
    },
    {
      "cell_type": "code",
      "execution_count": null,
      "metadata": {
        "id": "-Kf5sokTH1Wx"
      },
      "outputs": [],
      "source": [
        "fit2.params\n"
      ]
    },
    {
      "cell_type": "markdown",
      "metadata": {
        "id": "MFLuHwvYH78A"
      },
      "source": [
        "How do we find `Dream`? Add the baseline!"
      ]
    },
    {
      "cell_type": "code",
      "execution_count": null,
      "metadata": {
        "id": "dPUz5-vBIBN4"
      },
      "outputs": [],
      "source": [
        "fit2.params[0] + fit2.params[1]\n"
      ]
    },
    {
      "cell_type": "code",
      "execution_count": null,
      "metadata": {
        "id": "HOdMkyU4IC_Y"
      },
      "outputs": [],
      "source": [
        "fit.params[1]\n"
      ]
    },
    {
      "cell_type": "markdown",
      "metadata": {
        "id": "wqxzS2qjEzTT"
      },
      "source": [
        "## Titanic"
      ]
    },
    {
      "cell_type": "code",
      "execution_count": null,
      "metadata": {
        "id": "N-WmZr1aE4Z9"
      },
      "outputs": [],
      "source": [
        "import seaborn as sns\n",
        "titanic = sns.load_dataset(\"titanic\")\n",
        "titanic.head()"
      ]
    },
    {
      "cell_type": "code",
      "execution_count": null,
      "metadata": {
        "id": "De4g1BWjISVA"
      },
      "outputs": [],
      "source": [
        "titanic.shape"
      ]
    },
    {
      "cell_type": "code",
      "execution_count": null,
      "metadata": {
        "id": "TxASf9DJIcGZ"
      },
      "outputs": [],
      "source": [
        "titanic.groupby(\"sex\").mean()"
      ]
    },
    {
      "cell_type": "code",
      "execution_count": null,
      "metadata": {
        "id": "DRUGOl3gIj4K"
      },
      "outputs": [],
      "source": [
        "smf.ols(\"survived ~ C(sex)\", data = titanic).fit().summary()"
      ]
    },
    {
      "cell_type": "markdown",
      "metadata": {
        "id": "xLVzQ3SXIzaQ"
      },
      "source": [
        "How about $k$ categories then?"
      ]
    },
    {
      "cell_type": "code",
      "execution_count": null,
      "metadata": {
        "id": "10MZIQihI4G6"
      },
      "outputs": [],
      "source": [
        "from collections import Counter\n",
        "Counter(titanic[\"class\"])"
      ]
    },
    {
      "cell_type": "code",
      "execution_count": null,
      "metadata": {
        "id": "K7tLsZ58Jb9T"
      },
      "outputs": [],
      "source": [
        "smf.ols(\"survived ~ Q('class')\", data = titanic).fit().summary()"
      ]
    },
    {
      "cell_type": "markdown",
      "metadata": {
        "id": "ofZPOWFoKKKm"
      },
      "source": [
        "Since both *p*-values are truly small, class has an effect. "
      ]
    },
    {
      "cell_type": "code",
      "execution_count": null,
      "metadata": {
        "id": "eGAkeYJ8KQ9T"
      },
      "outputs": [],
      "source": [
        "smf.ols(\"survived ~ Q('class')\", data = titanic.sample(n = 20, random_state=1)).fit().summary()"
      ]
    },
    {
      "cell_type": "markdown",
      "metadata": {
        "id": "zJbGqBwTDbgz"
      },
      "source": [
        "## The $F$ test."
      ]
    },
    {
      "cell_type": "code",
      "execution_count": null,
      "metadata": {
        "id": "PgaHNQL1_J2B"
      },
      "outputs": [],
      "source": [
        "import pandas as pd\n",
        "import statsmodels.formula.api as smf\n",
        "# Example taken from https://towardsdatascience.com/anova-test-with-python-cfbf4013328b.\n",
        "students = pd.read_csv(\"https://userpage.fu-berlin.de/soga/200/2010_data_sets/students.csv\")\n",
        "students.head()"
      ]
    },
    {
      "cell_type": "code",
      "execution_count": null,
      "metadata": {
        "id": "gYQ7jrGQCvwL"
      },
      "outputs": [],
      "source": [
        "students.major.dtype"
      ]
    },
    {
      "cell_type": "markdown",
      "metadata": {
        "id": "0QrnkgwPC3pQ"
      },
      "source": [
        "This is already encoded as categorical data!"
      ]
    },
    {
      "cell_type": "code",
      "execution_count": null,
      "metadata": {
        "id": "LalGUYBhBijZ"
      },
      "outputs": [],
      "source": [
        "smf.ols(\"salary ~ major - 1\", data = students).fit().summary()"
      ]
    },
    {
      "cell_type": "markdown",
      "metadata": {
        "id": "f4FuoxYACrnF"
      },
      "source": [
        "This data contains more categorical variables, e.g. `minor`."
      ]
    },
    {
      "cell_type": "code",
      "execution_count": null,
      "metadata": {
        "id": "TA2fbqtgB7iw"
      },
      "outputs": [],
      "source": [
        "smf.ols(\"salary ~ major + minor - 1\", data = students).fit().summary()"
      ]
    },
    {
      "cell_type": "markdown",
      "metadata": {
        "id": "USeUXmh2Chhy"
      },
      "source": [
        "Can we find the $F$ statistic for the minor too? Yes, by using `anova_lm`! (With argumen `type = 3`.)"
      ]
    },
    {
      "cell_type": "code",
      "execution_count": null,
      "metadata": {
        "id": "afypwvElCNIW"
      },
      "outputs": [],
      "source": [
        "from statsmodels.stats.anova import anova_lm\n",
        "anova_lm(smf.ols(\"salary ~ major + minor - 1\", data = students).fit(), type = 3)"
      ]
    },
    {
      "cell_type": "markdown",
      "metadata": {
        "id": "3d4mZA5OC-oo"
      },
      "source": [
        "We can continue on with this, testing, e.g., the influence of religion."
      ]
    },
    {
      "cell_type": "code",
      "execution_count": null,
      "metadata": {
        "id": "cZY8oqdVDFuB"
      },
      "outputs": [],
      "source": [
        "smf.ols(\"salary ~ major + minor + religion - 1\", data = students).fit().summary()"
      ]
    },
    {
      "cell_type": "code",
      "execution_count": null,
      "metadata": {
        "id": "Sbu2sKOaDM7T"
      },
      "outputs": [],
      "source": [
        "anova_lm(smf.ols(\"salary ~ major + minor + religion - 1\", data = students).fit(), type = 3)"
      ]
    },
    {
      "cell_type": "markdown",
      "metadata": {
        "id": "OFafOCfdDSA4"
      },
      "source": [
        "It also works for numerical covariates."
      ]
    },
    {
      "cell_type": "code",
      "execution_count": null,
      "metadata": {
        "id": "HJcfHTG8DUcq"
      },
      "outputs": [],
      "source": [
        "anova_lm(smf.ols(\"salary ~ major + minor + religion + age - 1\", data = students,).fit(), type = 3)"
      ]
    }
  ],
  "metadata": {
    "colab": {
      "collapsed_sections": [],
      "provenance": []
    },
    "kernelspec": {
      "display_name": "Python 3.10.7 64-bit",
      "language": "python",
      "name": "python3"
    },
    "language_info": {
      "name": "python",
      "version": "3.10.7"
    },
    "vscode": {
      "interpreter": {
        "hash": "683e9bbf599fde3b00e37a0db68ad40a268db525b46af3924c3427b16ddb8792"
      }
    }
  },
  "nbformat": 4,
  "nbformat_minor": 0
}
