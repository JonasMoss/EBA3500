{
 "cells": [
  {
   "cell_type": "markdown",
   "metadata": {
    "id": "cXdeN6tD7Z7S"
   },
   "source": [
    "# EBA3500 Lecture 7. Interaction and ANOVA"
   ]
  },
  {
   "cell_type": "markdown",
   "metadata": {
    "id": "O2HOse_gXgvM"
   },
   "source": [
    "We'll use the `titanic` data set once again. "
   ]
  },
  {
   "cell_type": "code",
   "execution_count": 3,
   "metadata": {
    "colab": {
     "base_uri": "https://localhost:8080/"
    },
    "id": "tvmWAYTEXQ4x",
    "outputId": "16873284-fe5e-4763-b0bf-c8dcf1f3932e"
   },
   "outputs": [
    {
     "data": {
      "text/html": [
       "<div>\n",
       "<style scoped>\n",
       "    .dataframe tbody tr th:only-of-type {\n",
       "        vertical-align: middle;\n",
       "    }\n",
       "\n",
       "    .dataframe tbody tr th {\n",
       "        vertical-align: top;\n",
       "    }\n",
       "\n",
       "    .dataframe thead th {\n",
       "        text-align: right;\n",
       "    }\n",
       "</style>\n",
       "<table border=\"1\" class=\"dataframe\">\n",
       "  <thead>\n",
       "    <tr style=\"text-align: right;\">\n",
       "      <th></th>\n",
       "      <th>survived</th>\n",
       "      <th>pclass</th>\n",
       "      <th>sex</th>\n",
       "      <th>age</th>\n",
       "      <th>sibsp</th>\n",
       "      <th>parch</th>\n",
       "      <th>fare</th>\n",
       "      <th>embarked</th>\n",
       "      <th>class</th>\n",
       "      <th>who</th>\n",
       "      <th>adult_male</th>\n",
       "      <th>deck</th>\n",
       "      <th>embark_town</th>\n",
       "      <th>alive</th>\n",
       "      <th>alone</th>\n",
       "    </tr>\n",
       "  </thead>\n",
       "  <tbody>\n",
       "    <tr>\n",
       "      <th>0</th>\n",
       "      <td>0</td>\n",
       "      <td>3</td>\n",
       "      <td>male</td>\n",
       "      <td>22.0</td>\n",
       "      <td>1</td>\n",
       "      <td>0</td>\n",
       "      <td>7.2500</td>\n",
       "      <td>S</td>\n",
       "      <td>Third</td>\n",
       "      <td>man</td>\n",
       "      <td>True</td>\n",
       "      <td>NaN</td>\n",
       "      <td>Southampton</td>\n",
       "      <td>no</td>\n",
       "      <td>False</td>\n",
       "    </tr>\n",
       "    <tr>\n",
       "      <th>1</th>\n",
       "      <td>1</td>\n",
       "      <td>1</td>\n",
       "      <td>female</td>\n",
       "      <td>38.0</td>\n",
       "      <td>1</td>\n",
       "      <td>0</td>\n",
       "      <td>71.2833</td>\n",
       "      <td>C</td>\n",
       "      <td>First</td>\n",
       "      <td>woman</td>\n",
       "      <td>False</td>\n",
       "      <td>C</td>\n",
       "      <td>Cherbourg</td>\n",
       "      <td>yes</td>\n",
       "      <td>False</td>\n",
       "    </tr>\n",
       "    <tr>\n",
       "      <th>2</th>\n",
       "      <td>1</td>\n",
       "      <td>3</td>\n",
       "      <td>female</td>\n",
       "      <td>26.0</td>\n",
       "      <td>0</td>\n",
       "      <td>0</td>\n",
       "      <td>7.9250</td>\n",
       "      <td>S</td>\n",
       "      <td>Third</td>\n",
       "      <td>woman</td>\n",
       "      <td>False</td>\n",
       "      <td>NaN</td>\n",
       "      <td>Southampton</td>\n",
       "      <td>yes</td>\n",
       "      <td>True</td>\n",
       "    </tr>\n",
       "    <tr>\n",
       "      <th>3</th>\n",
       "      <td>1</td>\n",
       "      <td>1</td>\n",
       "      <td>female</td>\n",
       "      <td>35.0</td>\n",
       "      <td>1</td>\n",
       "      <td>0</td>\n",
       "      <td>53.1000</td>\n",
       "      <td>S</td>\n",
       "      <td>First</td>\n",
       "      <td>woman</td>\n",
       "      <td>False</td>\n",
       "      <td>C</td>\n",
       "      <td>Southampton</td>\n",
       "      <td>yes</td>\n",
       "      <td>False</td>\n",
       "    </tr>\n",
       "    <tr>\n",
       "      <th>4</th>\n",
       "      <td>0</td>\n",
       "      <td>3</td>\n",
       "      <td>male</td>\n",
       "      <td>35.0</td>\n",
       "      <td>0</td>\n",
       "      <td>0</td>\n",
       "      <td>8.0500</td>\n",
       "      <td>S</td>\n",
       "      <td>Third</td>\n",
       "      <td>man</td>\n",
       "      <td>True</td>\n",
       "      <td>NaN</td>\n",
       "      <td>Southampton</td>\n",
       "      <td>no</td>\n",
       "      <td>True</td>\n",
       "    </tr>\n",
       "  </tbody>\n",
       "</table>\n",
       "</div>"
      ],
      "text/plain": [
       "   survived  pclass     sex   age  sibsp  parch     fare embarked  class  \\\n",
       "0         0       3    male  22.0      1      0   7.2500        S  Third   \n",
       "1         1       1  female  38.0      1      0  71.2833        C  First   \n",
       "2         1       3  female  26.0      0      0   7.9250        S  Third   \n",
       "3         1       1  female  35.0      1      0  53.1000        S  First   \n",
       "4         0       3    male  35.0      0      0   8.0500        S  Third   \n",
       "\n",
       "     who  adult_male deck  embark_town alive  alone  \n",
       "0    man        True  NaN  Southampton    no  False  \n",
       "1  woman       False    C    Cherbourg   yes  False  \n",
       "2  woman       False  NaN  Southampton   yes   True  \n",
       "3  woman       False    C  Southampton   yes  False  \n",
       "4    man        True  NaN  Southampton    no   True  "
      ]
     },
     "execution_count": 3,
     "metadata": {},
     "output_type": "execute_result"
    }
   ],
   "source": [
    "import seaborn as sns\n",
    "titanic = sns.load_dataset(\"titanic\")\n",
    "titanic.head()"
   ]
  },
  {
   "cell_type": "markdown",
   "metadata": {},
   "source": [
    "## Interactions"
   ]
  },
  {
   "cell_type": "markdown",
   "metadata": {
    "id": "8BcjX3XAAFXm"
   },
   "source": [
    "Interactions are regression terms that involve products of two or more covariates, e.g., \n",
    "$$y = \\alpha + \\beta_1 x_1 + \\beta_{12} x_1x_2.$$ \n",
    "The terminology is most freqently used for categorical variables. Let's explore what it means."
   ]
  },
  {
   "cell_type": "markdown",
   "metadata": {
    "id": "S2xP-onnX4IY"
   },
   "source": [
    "## The Cartesian product"
   ]
  },
  {
   "cell_type": "markdown",
   "metadata": {
    "id": "y375A7zzX9GC"
   },
   "source": [
    "We'll have to deal with another fundamental set-theoretic construction, called the *Cartesian product*. \n",
    "\n",
    "**Note:** If something is *Cartesian*, it is named after the French reneissance philosopher René Descartes."
   ]
  },
  {
   "cell_type": "markdown",
   "metadata": {
    "id": "VfLc5ZnUruT8"
   },
   "source": [
    "We will use the symbol \"$\\in$\", which reads \"in\". Writing \"$a\\in A$\" means the same as \"$a \\textrm{ in } A$\". This symbol may look unfamiliar but is a staple of mathematical notation."
   ]
  },
  {
   "cell_type": "markdown",
   "metadata": {
    "id": "8UlMqfb3Vz84"
   },
   "source": [
    "#### Definition\n",
    "> Let $A$ and $B$ be two sets. The *Cartesian product*, denoted by $A\\times B$, is the unique set containing the tuples $(a,b)$ for $a\\in A$ and $b \\in B$. "
   ]
  },
  {
   "cell_type": "markdown",
   "metadata": {
    "id": "CJ-Fti_WZzDp"
   },
   "source": [
    "We also call $A \\times B$ the *product set*, or the product of $A$ and $B$. "
   ]
  },
  {
   "cell_type": "markdown",
   "metadata": {
    "id": "-rAsShfWqnlW"
   },
   "source": [
    "#### Example"
   ]
  },
  {
   "cell_type": "markdown",
   "metadata": {
    "id": "jWJQobjoqspe"
   },
   "source": [
    "Recall the sex and class categories from the Titanic data set."
   ]
  },
  {
   "cell_type": "code",
   "execution_count": 5,
   "metadata": {
    "colab": {
     "base_uri": "https://localhost:8080/"
    },
    "id": "3Q3gwR1DXxIG",
    "outputId": "b7bb5aea-4291-4bce-df88-d8e2ec75b5f1"
   },
   "outputs": [
    {
     "data": {
      "text/plain": [
       "{'female', 'male'}"
      ]
     },
     "execution_count": 5,
     "metadata": {},
     "output_type": "execute_result"
    }
   ],
   "source": [
    "set(titanic.sex)"
   ]
  },
  {
   "cell_type": "code",
   "execution_count": 7,
   "metadata": {
    "colab": {
     "base_uri": "https://localhost:8080/"
    },
    "id": "5SPr--JoXo8H",
    "outputId": "a41a9c2f-ce4f-479f-b0fd-137fda919309"
   },
   "outputs": [
    {
     "data": {
      "text/plain": [
       "{'First', 'Second', 'Third'}"
      ]
     },
     "execution_count": 7,
     "metadata": {},
     "output_type": "execute_result"
    }
   ],
   "source": [
    "set(titanic[\"class\"])"
   ]
  },
  {
   "cell_type": "markdown",
   "metadata": {
    "id": "3oFptdiOqyDv"
   },
   "source": [
    "We will construct the product set of these two sets. To to this, we will use the `product` function from `itertools`. This function often comes in handy in programming in general."
   ]
  },
  {
   "cell_type": "code",
   "execution_count": 9,
   "metadata": {
    "colab": {
     "base_uri": "https://localhost:8080/"
    },
    "id": "_7cjOUOnX2Gm",
    "outputId": "2dc0f1eb-b77e-4ff7-db22-adeccec63d8a"
   },
   "outputs": [
    {
     "data": {
      "text/plain": [
       "{('female', 'First'),\n",
       " ('female', 'Second'),\n",
       " ('female', 'Third'),\n",
       " ('male', 'First'),\n",
       " ('male', 'Second'),\n",
       " ('male', 'Third')}"
      ]
     },
     "execution_count": 9,
     "metadata": {},
     "output_type": "execute_result"
    }
   ],
   "source": [
    "from itertools import product\n",
    "sex_class = set(product(set(titanic.sex), set(titanic[\"class\"])))\n",
    "sex_class"
   ]
  },
  {
   "cell_type": "markdown",
   "metadata": {},
   "source": [
    "It is not the case that $A\\times B = B\\times A$!"
   ]
  },
  {
   "cell_type": "code",
   "execution_count": 10,
   "metadata": {},
   "outputs": [
    {
     "data": {
      "text/plain": [
       "{('First', 'female'),\n",
       " ('First', 'male'),\n",
       " ('Second', 'female'),\n",
       " ('Second', 'male'),\n",
       " ('Third', 'female'),\n",
       " ('Third', 'male')}"
      ]
     },
     "execution_count": 10,
     "metadata": {},
     "output_type": "execute_result"
    }
   ],
   "source": [
    "from itertools import product\n",
    "class_sex = set(product(set(titanic[\"class\"]), set(titanic[\"sex\"])))\n",
    "class_sex"
   ]
  },
  {
   "cell_type": "code",
   "execution_count": 12,
   "metadata": {},
   "outputs": [
    {
     "data": {
      "text/plain": [
       "False"
      ]
     },
     "execution_count": 12,
     "metadata": {},
     "output_type": "execute_result"
    }
   ],
   "source": [
    "class_sex == sex_class"
   ]
  },
  {
   "cell_type": "markdown",
   "metadata": {
    "id": "o8Wgr7jNrI54"
   },
   "source": [
    "We can also take the product of more than two sets, say $A\\times B \\times C$. Such products are defined in the obvious way, i.e., $(a,b,c)\\in A\\times B\\times C$ if and only if $a\\in A$, $b \\in B$, and $c \\in C$."
   ]
  },
  {
   "cell_type": "code",
   "execution_count": 14,
   "metadata": {
    "colab": {
     "base_uri": "https://localhost:8080/"
    },
    "id": "q0QFSd4DsGU3",
    "outputId": "bc9bcbaf-bba2-49fd-e4d7-7600233f51c3"
   },
   "outputs": [
    {
     "data": {
      "text/plain": [
       "{0, 1}"
      ]
     },
     "execution_count": 14,
     "metadata": {},
     "output_type": "execute_result"
    }
   ],
   "source": [
    "set(titanic.survived)"
   ]
  },
  {
   "cell_type": "code",
   "execution_count": 15,
   "metadata": {
    "colab": {
     "base_uri": "https://localhost:8080/"
    },
    "id": "60Hh9evTsJLF",
    "outputId": "948987c4-5217-454d-d56a-ce9405e27297"
   },
   "outputs": [
    {
     "data": {
      "text/plain": [
       "{('First', 'female', 0),\n",
       " ('First', 'female', 1),\n",
       " ('First', 'male', 0),\n",
       " ('First', 'male', 1),\n",
       " ('Second', 'female', 0),\n",
       " ('Second', 'female', 1),\n",
       " ('Second', 'male', 0),\n",
       " ('Second', 'male', 1),\n",
       " ('Third', 'female', 0),\n",
       " ('Third', 'female', 1),\n",
       " ('Third', 'male', 0),\n",
       " ('Third', 'male', 1)}"
      ]
     },
     "execution_count": 15,
     "metadata": {},
     "output_type": "execute_result"
    }
   ],
   "source": [
    "set(product(set(titanic[\"class\"]), set(titanic[\"sex\"]), set(titanic[\"survived\"])))"
   ]
  },
  {
   "cell_type": "markdown",
   "metadata": {},
   "source": [
    "#### Exercise\n",
    "Suppose that $A, B, C$ have elements $n,m,k$ each. What is the size of $A\\times B\\times C$?"
   ]
  },
  {
   "cell_type": "markdown",
   "metadata": {
    "id": "J5aLbwlYVuYy"
   },
   "source": [
    "### Titanic and interaction"
   ]
  },
  {
   "cell_type": "markdown",
   "metadata": {
    "id": "aPoCl1CVXDie"
   },
   "source": [
    "Recall from the last lecture that both sex and class affects the probability of survival. "
   ]
  },
  {
   "cell_type": "code",
   "execution_count": 16,
   "metadata": {
    "colab": {
     "base_uri": "https://localhost:8080/",
     "height": 298
    },
    "id": "iXY9niCgG4CS",
    "outputId": "347a896d-aa5a-4160-beb7-b21af09a7f13"
   },
   "outputs": [
    {
     "data": {
      "text/plain": [
       "<seaborn.axisgrid.FacetGrid at 0x1c87b8bc0d0>"
      ]
     },
     "execution_count": 16,
     "metadata": {},
     "output_type": "execute_result"
    },
    {
     "data": {
      "image/png": "[encoded data removed]",
      "text/plain": [
       "<Figure size 1570.49x500 with 3 Axes>"
      ]
     },
     "metadata": {},
     "output_type": "display_data"
    }
   ],
   "source": [
    "import seaborn as sns\n",
    "sns.catplot(x=\"sex\", hue=\"survived\", col=\"class\", data=titanic, kind=\"count\")"
   ]
  },
  {
   "cell_type": "markdown",
   "metadata": {
    "id": "pyJ-nDZA_vEy"
   },
   "source": [
    "The basic model involves only *linear effects*\n",
    "$$\n",
    "y = \\beta_0 + \\beta_{\\textrm{male}}1[\\textrm{sex} = \\textrm{male}] + \\beta_{\\textrm{2nd}}1[\\textrm{class} = \\textrm{2nd}]+ \\beta_{\\textrm{3rd}}1[\\textrm{class} = \\textrm{3rd}] + \\beta_{\\textrm{Crew}}1[\\textrm{class} = \\textrm{crew}].\n",
    "$$\n"
   ]
  },
  {
   "cell_type": "markdown",
   "metadata": {
    "id": "7p7Gepm6FjNF"
   },
   "source": [
    "\n",
    "Let's fit it and see what we get."
   ]
  },
  {
   "cell_type": "code",
   "execution_count": 20,
   "metadata": {
    "colab": {
     "base_uri": "https://localhost:8080/",
     "height": 556
    },
    "id": "kQhVNkVyFl5c",
    "outputId": "21585f55-b9c9-476a-e542-7addeb8a6afe"
   },
   "outputs": [
    {
     "data": {
      "text/html": [
       "<table class=\"simpletable\">\n",
       "<caption>OLS Regression Results</caption>\n",
       "<tr>\n",
       "  <th>Dep. Variable:</th>        <td>survived</td>     <th>  R-squared:         </th> <td>   0.368</td>\n",
       "</tr>\n",
       "<tr>\n",
       "  <th>Model:</th>                   <td>OLS</td>       <th>  Adj. R-squared:    </th> <td>   0.366</td>\n",
       "</tr>\n",
       "<tr>\n",
       "  <th>Method:</th>             <td>Least Squares</td>  <th>  F-statistic:       </th> <td>   172.0</td>\n",
       "</tr>\n",
       "<tr>\n",
       "  <th>Date:</th>             <td>Tue, 11 Oct 2022</td> <th>  Prob (F-statistic):</th> <td>7.04e-88</td>\n",
       "</tr>\n",
       "<tr>\n",
       "  <th>Time:</th>                 <td>06:01:53</td>     <th>  Log-Likelihood:    </th> <td> -417.70</td>\n",
       "</tr>\n",
       "<tr>\n",
       "  <th>No. Observations:</th>      <td>   891</td>      <th>  AIC:               </th> <td>   843.4</td>\n",
       "</tr>\n",
       "<tr>\n",
       "  <th>Df Residuals:</th>          <td>   887</td>      <th>  BIC:               </th> <td>   862.6</td>\n",
       "</tr>\n",
       "<tr>\n",
       "  <th>Df Model:</th>              <td>     3</td>      <th>                     </th>     <td> </td>   \n",
       "</tr>\n",
       "<tr>\n",
       "  <th>Covariance Type:</th>      <td>nonrobust</td>    <th>                     </th>     <td> </td>   \n",
       "</tr>\n",
       "</table>\n",
       "<table class=\"simpletable\">\n",
       "<tr>\n",
       "            <td></td>              <th>coef</th>     <th>std err</th>      <th>t</th>      <th>P>|t|</th>  <th>[0.025</th>    <th>0.975]</th>  \n",
       "</tr>\n",
       "<tr>\n",
       "  <th>Intercept</th>            <td>    0.9212</td> <td>    0.031</td> <td>   30.118</td> <td> 0.000</td> <td>    0.861</td> <td>    0.981</td>\n",
       "</tr>\n",
       "<tr>\n",
       "  <th>sex[T.male]</th>          <td>   -0.5163</td> <td>    0.027</td> <td>  -18.814</td> <td> 0.000</td> <td>   -0.570</td> <td>   -0.462</td>\n",
       "</tr>\n",
       "<tr>\n",
       "  <th>Q('class')[T.Second]</th> <td>   -0.1454</td> <td>    0.039</td> <td>   -3.739</td> <td> 0.000</td> <td>   -0.222</td> <td>   -0.069</td>\n",
       "</tr>\n",
       "<tr>\n",
       "  <th>Q('class')[T.Third]</th>  <td>   -0.3140</td> <td>    0.032</td> <td>   -9.849</td> <td> 0.000</td> <td>   -0.377</td> <td>   -0.251</td>\n",
       "</tr>\n",
       "</table>\n",
       "<table class=\"simpletable\">\n",
       "<tr>\n",
       "  <th>Omnibus:</th>       <td>41.418</td> <th>  Durbin-Watson:     </th> <td>   1.920</td>\n",
       "</tr>\n",
       "<tr>\n",
       "  <th>Prob(Omnibus):</th> <td> 0.000</td> <th>  Jarque-Bera (JB):  </th> <td>  46.281</td>\n",
       "</tr>\n",
       "<tr>\n",
       "  <th>Skew:</th>          <td> 0.557</td> <th>  Prob(JB):          </th> <td>8.92e-11</td>\n",
       "</tr>\n",
       "<tr>\n",
       "  <th>Kurtosis:</th>      <td> 3.081</td> <th>  Cond. No.          </th> <td>    5.33</td>\n",
       "</tr>\n",
       "</table><br/><br/>Notes:<br/>[1] Standard Errors assume that the covariance matrix of the errors is correctly specified."
      ],
      "text/plain": [
       "<class 'statsmodels.iolib.summary.Summary'>\n",
       "\"\"\"\n",
       "                            OLS Regression Results                            \n",
       "==============================================================================\n",
       "Dep. Variable:               survived   R-squared:                       0.368\n",
       "Model:                            OLS   Adj. R-squared:                  0.366\n",
       "Method:                 Least Squares   F-statistic:                     172.0\n",
       "Date:                Tue, 11 Oct 2022   Prob (F-statistic):           7.04e-88\n",
       "Time:                        06:01:53   Log-Likelihood:                -417.70\n",
       "No. Observations:                 891   AIC:                             843.4\n",
       "Df Residuals:                     887   BIC:                             862.6\n",
       "Df Model:                           3                                         \n",
       "Covariance Type:            nonrobust                                         \n",
       "========================================================================================\n",
       "                           coef    std err          t      P>|t|      [0.025      0.975]\n",
       "----------------------------------------------------------------------------------------\n",
       "Intercept                0.9212      0.031     30.118      0.000       0.861       0.981\n",
       "sex[T.male]             -0.5163      0.027    -18.814      0.000      -0.570      -0.462\n",
       "Q('class')[T.Second]    -0.1454      0.039     -3.739      0.000      -0.222      -0.069\n",
       "Q('class')[T.Third]     -0.3140      0.032     -9.849      0.000      -0.377      -0.251\n",
       "==============================================================================\n",
       "Omnibus:                       41.418   Durbin-Watson:                   1.920\n",
       "Prob(Omnibus):                  0.000   Jarque-Bera (JB):               46.281\n",
       "Skew:                           0.557   Prob(JB):                     8.92e-11\n",
       "Kurtosis:                       3.081   Cond. No.                         5.33\n",
       "==============================================================================\n",
       "\n",
       "Notes:\n",
       "[1] Standard Errors assume that the covariance matrix of the errors is correctly specified.\n",
       "\"\"\""
      ]
     },
     "execution_count": 20,
     "metadata": {},
     "output_type": "execute_result"
    }
   ],
   "source": [
    "import statsmodels.formula.api as smf\n",
    "fit = smf.ols(\"survived ~ sex + Q('class')\", data = titanic).fit()\n",
    "fit.summary()"
   ]
  },
  {
   "cell_type": "markdown",
   "metadata": {
    "id": "VdhewXb2Fm1M"
   },
   "source": [
    "Now we check how well the estimates match the data. First we'll take a look at the predicted values of the model."
   ]
  },
  {
   "cell_type": "code",
   "execution_count": 42,
   "metadata": {
    "colab": {
     "base_uri": "https://localhost:8080/"
    },
    "id": "eZkwvv10G20q",
    "outputId": "77ee280a-8c5f-4708-bc65-ca3fa4ae1f0e"
   },
   "outputs": [
    {
     "data": {
      "text/plain": [
       "[('female', 'First'),\n",
       " ('female', 'Second'),\n",
       " ('female', 'Third'),\n",
       " ('male', 'First'),\n",
       " ('male', 'Second'),\n",
       " ('male', 'Third')]"
      ]
     },
     "execution_count": 42,
     "metadata": {},
     "output_type": "execute_result"
    }
   ],
   "source": [
    "import pandas as pd\n",
    "records = sorted(list(product(set(titanic.sex), set(titanic[\"class\"]))))\n",
    "records"
   ]
  },
  {
   "cell_type": "markdown",
   "metadata": {},
   "source": [
    "We need to make this into a data frame, as follows."
   ]
  },
  {
   "cell_type": "code",
   "execution_count": 43,
   "metadata": {
    "colab": {
     "base_uri": "https://localhost:8080/"
    },
    "id": "RE7_cyyaslDy",
    "outputId": "15f9e3be-0e21-44db-a834-a4046cb5a012"
   },
   "outputs": [
    {
     "data": {
      "text/html": [
       "<div>\n",
       "<style scoped>\n",
       "    .dataframe tbody tr th:only-of-type {\n",
       "        vertical-align: middle;\n",
       "    }\n",
       "\n",
       "    .dataframe tbody tr th {\n",
       "        vertical-align: top;\n",
       "    }\n",
       "\n",
       "    .dataframe thead th {\n",
       "        text-align: right;\n",
       "    }\n",
       "</style>\n",
       "<table border=\"1\" class=\"dataframe\">\n",
       "  <thead>\n",
       "    <tr style=\"text-align: right;\">\n",
       "      <th></th>\n",
       "      <th>sex</th>\n",
       "      <th>class</th>\n",
       "    </tr>\n",
       "  </thead>\n",
       "  <tbody>\n",
       "    <tr>\n",
       "      <th>0</th>\n",
       "      <td>female</td>\n",
       "      <td>First</td>\n",
       "    </tr>\n",
       "    <tr>\n",
       "      <th>1</th>\n",
       "      <td>female</td>\n",
       "      <td>Second</td>\n",
       "    </tr>\n",
       "    <tr>\n",
       "      <th>2</th>\n",
       "      <td>female</td>\n",
       "      <td>Third</td>\n",
       "    </tr>\n",
       "    <tr>\n",
       "      <th>3</th>\n",
       "      <td>male</td>\n",
       "      <td>First</td>\n",
       "    </tr>\n",
       "    <tr>\n",
       "      <th>4</th>\n",
       "      <td>male</td>\n",
       "      <td>Second</td>\n",
       "    </tr>\n",
       "    <tr>\n",
       "      <th>5</th>\n",
       "      <td>male</td>\n",
       "      <td>Third</td>\n",
       "    </tr>\n",
       "  </tbody>\n",
       "</table>\n",
       "</div>"
      ],
      "text/plain": [
       "      sex   class\n",
       "0  female   First\n",
       "1  female  Second\n",
       "2  female   Third\n",
       "3    male   First\n",
       "4    male  Second\n",
       "5    male   Third"
      ]
     },
     "execution_count": 43,
     "metadata": {},
     "output_type": "execute_result"
    }
   ],
   "source": [
    "frame = pd.DataFrame.from_records(records, columns = [\"sex\", \"class\"])\n",
    "frame"
   ]
  },
  {
   "cell_type": "markdown",
   "metadata": {},
   "source": [
    "We want to predict the probability of survival at the values in `frame`.\n",
    "So to do this, we will use the `predict` method."
   ]
  },
  {
   "cell_type": "code",
   "execution_count": 44,
   "metadata": {},
   "outputs": [
    {
     "data": {
      "text/plain": [
       "0    0.921226\n",
       "1    0.775854\n",
       "2    0.607221\n",
       "3    0.404957\n",
       "4    0.259584\n",
       "5    0.090951\n",
       "dtype: float64"
      ]
     },
     "execution_count": 44,
     "metadata": {},
     "output_type": "execute_result"
    }
   ],
   "source": [
    "fit.predict(frame)"
   ]
  },
  {
   "cell_type": "markdown",
   "metadata": {
    "id": "cusegcPmMVxb"
   },
   "source": [
    "This is just a list of floats with no names. Let's merge it with the `frame` to make stuff clearer"
   ]
  },
  {
   "cell_type": "code",
   "execution_count": 45,
   "metadata": {
    "colab": {
     "base_uri": "https://localhost:8080/",
     "height": 296
    },
    "id": "ybCB5mtLMVYa",
    "outputId": "2dee00c1-88c4-4611-cd7c-d54ffd7df4fc"
   },
   "outputs": [
    {
     "data": {
      "text/html": [
       "<div>\n",
       "<style scoped>\n",
       "    .dataframe tbody tr th:only-of-type {\n",
       "        vertical-align: middle;\n",
       "    }\n",
       "\n",
       "    .dataframe tbody tr th {\n",
       "        vertical-align: top;\n",
       "    }\n",
       "\n",
       "    .dataframe thead th {\n",
       "        text-align: right;\n",
       "    }\n",
       "</style>\n",
       "<table border=\"1\" class=\"dataframe\">\n",
       "  <thead>\n",
       "    <tr style=\"text-align: right;\">\n",
       "      <th></th>\n",
       "      <th>sex</th>\n",
       "      <th>class</th>\n",
       "      <th>predicted</th>\n",
       "    </tr>\n",
       "  </thead>\n",
       "  <tbody>\n",
       "    <tr>\n",
       "      <th>0</th>\n",
       "      <td>female</td>\n",
       "      <td>First</td>\n",
       "      <td>0.921226</td>\n",
       "    </tr>\n",
       "    <tr>\n",
       "      <th>1</th>\n",
       "      <td>female</td>\n",
       "      <td>Second</td>\n",
       "      <td>0.775854</td>\n",
       "    </tr>\n",
       "    <tr>\n",
       "      <th>2</th>\n",
       "      <td>female</td>\n",
       "      <td>Third</td>\n",
       "      <td>0.607221</td>\n",
       "    </tr>\n",
       "    <tr>\n",
       "      <th>3</th>\n",
       "      <td>male</td>\n",
       "      <td>First</td>\n",
       "      <td>0.404957</td>\n",
       "    </tr>\n",
       "    <tr>\n",
       "      <th>4</th>\n",
       "      <td>male</td>\n",
       "      <td>Second</td>\n",
       "      <td>0.259584</td>\n",
       "    </tr>\n",
       "    <tr>\n",
       "      <th>5</th>\n",
       "      <td>male</td>\n",
       "      <td>Third</td>\n",
       "      <td>0.090951</td>\n",
       "    </tr>\n",
       "  </tbody>\n",
       "</table>\n",
       "</div>"
      ],
      "text/plain": [
       "      sex   class  predicted\n",
       "0  female   First   0.921226\n",
       "1  female  Second   0.775854\n",
       "2  female   Third   0.607221\n",
       "3    male   First   0.404957\n",
       "4    male  Second   0.259584\n",
       "5    male   Third   0.090951"
      ]
     },
     "execution_count": 45,
     "metadata": {},
     "output_type": "execute_result"
    }
   ],
   "source": [
    "frame[\"predicted\"] = fit.predict(frame)\n",
    "frame"
   ]
  },
  {
   "cell_type": "markdown",
   "metadata": {
    "id": "_9QacVQKNxpz"
   },
   "source": [
    "Let's compare these predictions to the means using the `groupby` method."
   ]
  },
  {
   "cell_type": "code",
   "execution_count": 46,
   "metadata": {
    "colab": {
     "base_uri": "https://localhost:8080/"
    },
    "id": "KPMbNbS-s5PW",
    "outputId": "64099d95-624e-47b0-baa3-bb4fd7aa98e3"
   },
   "outputs": [
    {
     "data": {
      "text/plain": [
       "sex     class \n",
       "female  First     0.968085\n",
       "        Second    0.921053\n",
       "        Third     0.500000\n",
       "male    First     0.368852\n",
       "        Second    0.157407\n",
       "        Third     0.135447\n",
       "Name: survived, dtype: float64"
      ]
     },
     "execution_count": 46,
     "metadata": {},
     "output_type": "execute_result"
    }
   ],
   "source": [
    "means = titanic.groupby([\"sex\", \"class\"]).mean()[\"survived\"]\n",
    "means"
   ]
  },
  {
   "cell_type": "markdown",
   "metadata": {
    "id": "H__vQAY5tEUu"
   },
   "source": [
    "This table is simple enough. The mean on the column to the right is the mean of the subgroup for the corresponding sex and class on the right."
   ]
  },
  {
   "cell_type": "markdown",
   "metadata": {
    "id": "P1dN8AbjtO9o"
   },
   "source": [
    "Let's compare these means to the predicted values of our model."
   ]
  },
  {
   "cell_type": "code",
   "execution_count": 47,
   "metadata": {
    "colab": {
     "base_uri": "https://localhost:8080/",
     "height": 296
    },
    "id": "E5B1rrVYOdAa",
    "outputId": "92aadceb-9217-4031-bb79-6b9eb6e70ac2"
   },
   "outputs": [
    {
     "data": {
      "text/html": [
       "<div>\n",
       "<style scoped>\n",
       "    .dataframe tbody tr th:only-of-type {\n",
       "        vertical-align: middle;\n",
       "    }\n",
       "\n",
       "    .dataframe tbody tr th {\n",
       "        vertical-align: top;\n",
       "    }\n",
       "\n",
       "    .dataframe thead th {\n",
       "        text-align: right;\n",
       "    }\n",
       "</style>\n",
       "<table border=\"1\" class=\"dataframe\">\n",
       "  <thead>\n",
       "    <tr style=\"text-align: right;\">\n",
       "      <th></th>\n",
       "      <th>sex</th>\n",
       "      <th>class</th>\n",
       "      <th>predicted</th>\n",
       "      <th>mean</th>\n",
       "    </tr>\n",
       "  </thead>\n",
       "  <tbody>\n",
       "    <tr>\n",
       "      <th>0</th>\n",
       "      <td>female</td>\n",
       "      <td>First</td>\n",
       "      <td>0.921226</td>\n",
       "      <td>0.968085</td>\n",
       "    </tr>\n",
       "    <tr>\n",
       "      <th>1</th>\n",
       "      <td>female</td>\n",
       "      <td>Second</td>\n",
       "      <td>0.775854</td>\n",
       "      <td>0.921053</td>\n",
       "    </tr>\n",
       "    <tr>\n",
       "      <th>2</th>\n",
       "      <td>female</td>\n",
       "      <td>Third</td>\n",
       "      <td>0.607221</td>\n",
       "      <td>0.500000</td>\n",
       "    </tr>\n",
       "    <tr>\n",
       "      <th>3</th>\n",
       "      <td>male</td>\n",
       "      <td>First</td>\n",
       "      <td>0.404957</td>\n",
       "      <td>0.368852</td>\n",
       "    </tr>\n",
       "    <tr>\n",
       "      <th>4</th>\n",
       "      <td>male</td>\n",
       "      <td>Second</td>\n",
       "      <td>0.259584</td>\n",
       "      <td>0.157407</td>\n",
       "    </tr>\n",
       "    <tr>\n",
       "      <th>5</th>\n",
       "      <td>male</td>\n",
       "      <td>Third</td>\n",
       "      <td>0.090951</td>\n",
       "      <td>0.135447</td>\n",
       "    </tr>\n",
       "  </tbody>\n",
       "</table>\n",
       "</div>"
      ],
      "text/plain": [
       "      sex   class  predicted      mean\n",
       "0  female   First   0.921226  0.968085\n",
       "1  female  Second   0.775854  0.921053\n",
       "2  female   Third   0.607221  0.500000\n",
       "3    male   First   0.404957  0.368852\n",
       "4    male  Second   0.259584  0.157407\n",
       "5    male   Third   0.090951  0.135447"
      ]
     },
     "execution_count": 47,
     "metadata": {},
     "output_type": "execute_result"
    }
   ],
   "source": [
    "import numpy as np\n",
    "frame[\"mean\"] = means.array\n",
    "frame"
   ]
  },
  {
   "cell_type": "markdown",
   "metadata": {
    "id": "DHZJHj1eWScb"
   },
   "source": [
    "Why aren't the values equal? First, notice that there are $6$ means, but only $4$ parameters in the regression output. "
   ]
  },
  {
   "cell_type": "code",
   "execution_count": 49,
   "metadata": {},
   "outputs": [
    {
     "data": {
      "text/plain": [
       "Intercept               0.921226\n",
       "sex[T.male]            -0.516270\n",
       "Q('class')[T.Second]   -0.145372\n",
       "Q('class')[T.Third]    -0.314005\n",
       "dtype: float64"
      ]
     },
     "execution_count": 49,
     "metadata": {},
     "output_type": "execute_result"
    }
   ],
   "source": [
    "fit.params"
   ]
  },
  {
   "cell_type": "markdown",
   "metadata": {},
   "source": [
    "\n",
    "\n",
    "\n",
    "Second, the model doens't take *interactions* into account, only linear effects. Interactions occur when the effect of one variable depends on the value of another variable.\n"
   ]
  },
  {
   "cell_type": "markdown",
   "metadata": {
    "id": "xmcgZRGJOIoh"
   },
   "source": [
    "### A \"two-way\" model"
   ]
  },
  {
   "cell_type": "markdown",
   "metadata": {
    "id": "7HYXraACV6yn"
   },
   "source": [
    "Let $A$ and $B$ be sets with $I$ and $J$ elements each. Consider the following model\n",
    "$$y=\\sum_{i=1}^{I}\\sum_{j=1}^{J}\\beta_{ij}1[X_{1}=a_{j}]1[X_{2}=b_{k}].$$\n",
    "That is the same model as, using $X = (X_1, X_2)$,\n",
    "$$y=\\sum_{i=1}^{I}\\sum_{j=1}^{J}\\beta_{ij}1[X = (a_{j}, b_{k})],$$\n",
    "where $(a_i,b_j) \\in A\\times B$. Thus it may be viewed as an ordinary categorical variable model."
   ]
  },
  {
   "cell_type": "markdown",
   "metadata": {
    "id": "cWCcsTF8OMDx"
   },
   "source": [
    "### Titanic example"
   ]
  },
  {
   "cell_type": "markdown",
   "metadata": {
    "id": "_YE34cisOCeR"
   },
   "source": [
    "Let $A = \\{\\textrm{female}, \\textrm{male}\\}$ and $B = \\{\\textrm{1st},\\textrm{2nd}, \\textrm{3rd}, \\textrm{Crew}\\}$. That is, $A$ are the sex categories and $B$ are the class categories. Remember their product set, which equals\n"
   ]
  },
  {
   "cell_type": "code",
   "execution_count": 16,
   "metadata": {
    "colab": {
     "base_uri": "https://localhost:8080/"
    },
    "id": "fP6MoyaAO0I5",
    "outputId": "ad194d10-917d-4722-dd60-531fc8717680"
   },
   "outputs": [
    {
     "data": {
      "text/plain": [
       "{('Female', '1st'),\n",
       " ('Female', '2nd'),\n",
       " ('Female', '3rd'),\n",
       " ('Female', 'Crew'),\n",
       " ('Male', '1st'),\n",
       " ('Male', '2nd'),\n",
       " ('Male', '3rd'),\n",
       " ('Male', 'Crew')}"
      ]
     },
     "execution_count": 16,
     "metadata": {},
     "output_type": "execute_result"
    }
   ],
   "source": [
    "set(product(set(titanic.Sex), set(titanic.Class)))"
   ]
  },
  {
   "cell_type": "markdown",
   "metadata": {
    "id": "_zVOJbHjO8Dh"
   },
   "source": [
    "Writing down the model explicitly doesn't help, as it's cumbersome to look at. But using $$y=\\sum_{i=1}^{I}\\sum_{j=1}^{J}\\beta_{ij}1[X = (a_{j}, b_{k})],$$\n",
    "where $(a_i,b_j) \\in A\\times B$, we can write a table of the corresponding coefficients."
   ]
  },
  {
   "cell_type": "markdown",
   "metadata": {
    "id": "PLkzT7DDYKsH"
   },
   "source": [
    "|         |        | Class |     |     |      |\n",
    "| ---     |------- | ----- | --- |-----| ---  |\n",
    "|         |        | 1st   | 2nd | 3rd | Crew |\n",
    "| **Sex** |        |       |     |     |      |\n",
    "|         | Female | $\\beta_{11}$ | $\\beta_{12}$ | $\\beta_{13}$ | $\\beta_{14}$     |\n",
    "|         | Male   | $\\beta_{21}$ | $\\beta_{22}$ | $\\beta_{23}$ | $\\beta_{24}$     |"
   ]
  },
  {
   "cell_type": "markdown",
   "metadata": {
    "id": "46hec8bEPhex"
   },
   "source": [
    "When you want to predict the probability of survival for a male passenger traveling 3rd class, you find the second row (male) and third column (3rd class), and use the $\\beta_{23}$ coefficient. "
   ]
  },
  {
   "cell_type": "markdown",
   "metadata": {
    "id": "CeS-VUeKQQg2"
   },
   "source": [
    "Now let's fit the model! To do this, we will define a new column in the data frame `titanic` containing the product set of `Sex` and `Class`."
   ]
  },
  {
   "cell_type": "code",
   "execution_count": 50,
   "metadata": {
    "colab": {
     "base_uri": "https://localhost:8080/"
    },
    "id": "4CH6emvvQzjR",
    "outputId": "7f3b7ef1-167f-4b5e-c4b5-d3af5ca9c966"
   },
   "outputs": [
    {
     "data": {
      "text/plain": [
       "0        (male, Third)\n",
       "1      (female, First)\n",
       "2      (female, Third)\n",
       "3      (female, First)\n",
       "4        (male, Third)\n",
       "            ...       \n",
       "886     (male, Second)\n",
       "887    (female, First)\n",
       "888    (female, Third)\n",
       "889      (male, First)\n",
       "890      (male, Third)\n",
       "Name: sex_class, Length: 891, dtype: object"
      ]
     },
     "execution_count": 50,
     "metadata": {},
     "output_type": "execute_result"
    }
   ],
   "source": [
    "titanic[\"sex_class\"] = list(zip(titanic[\"sex\"], titanic[\"class\"]))\n",
    "titanic[\"sex_class\"]"
   ]
  },
  {
   "cell_type": "markdown",
   "metadata": {
    "id": "mbEnrBHct_0m"
   },
   "source": [
    "Now we're ready to run the model."
   ]
  },
  {
   "cell_type": "code",
   "execution_count": 52,
   "metadata": {
    "colab": {
     "base_uri": "https://localhost:8080/",
     "height": 563
    },
    "id": "OK0GIWQoRLSB",
    "outputId": "60e207f2-b21e-4fb6-9a1c-245487be8da2"
   },
   "outputs": [
    {
     "data": {
      "text/html": [
       "<table class=\"simpletable\">\n",
       "<caption>OLS Regression Results</caption>\n",
       "<tr>\n",
       "  <th>Dep. Variable:</th>        <td>survived</td>     <th>  R-squared:         </th> <td>   0.394</td>\n",
       "</tr>\n",
       "<tr>\n",
       "  <th>Model:</th>                   <td>OLS</td>       <th>  Adj. R-squared:    </th> <td>   0.390</td>\n",
       "</tr>\n",
       "<tr>\n",
       "  <th>Method:</th>             <td>Least Squares</td>  <th>  F-statistic:       </th> <td>   114.9</td>\n",
       "</tr>\n",
       "<tr>\n",
       "  <th>Date:</th>             <td>Tue, 11 Oct 2022</td> <th>  Prob (F-statistic):</th> <td>1.32e-93</td>\n",
       "</tr>\n",
       "<tr>\n",
       "  <th>Time:</th>                 <td>06:08:07</td>     <th>  Log-Likelihood:    </th> <td> -399.13</td>\n",
       "</tr>\n",
       "<tr>\n",
       "  <th>No. Observations:</th>      <td>   891</td>      <th>  AIC:               </th> <td>   810.3</td>\n",
       "</tr>\n",
       "<tr>\n",
       "  <th>Df Residuals:</th>          <td>   885</td>      <th>  BIC:               </th> <td>   839.0</td>\n",
       "</tr>\n",
       "<tr>\n",
       "  <th>Df Model:</th>              <td>     5</td>      <th>                     </th>     <td> </td>   \n",
       "</tr>\n",
       "<tr>\n",
       "  <th>Covariance Type:</th>      <td>nonrobust</td>    <th>                     </th>     <td> </td>   \n",
       "</tr>\n",
       "</table>\n",
       "<table class=\"simpletable\">\n",
       "<tr>\n",
       "                 <td></td>                    <th>coef</th>     <th>std err</th>      <th>t</th>      <th>P>|t|</th>  <th>[0.025</th>    <th>0.975]</th>  \n",
       "</tr>\n",
       "<tr>\n",
       "  <th>sex_class[('female', 'First')]</th>  <td>    0.9681</td> <td>    0.039</td> <td>   24.700</td> <td> 0.000</td> <td>    0.891</td> <td>    1.045</td>\n",
       "</tr>\n",
       "<tr>\n",
       "  <th>sex_class[('female', 'Second')]</th> <td>    0.9211</td> <td>    0.044</td> <td>   21.131</td> <td> 0.000</td> <td>    0.836</td> <td>    1.007</td>\n",
       "</tr>\n",
       "<tr>\n",
       "  <th>sex_class[('female', 'Third')]</th>  <td>    0.5000</td> <td>    0.032</td> <td>   15.790</td> <td> 0.000</td> <td>    0.438</td> <td>    0.562</td>\n",
       "</tr>\n",
       "<tr>\n",
       "  <th>sex_class[('male', 'First')]</th>    <td>    0.3689</td> <td>    0.034</td> <td>   10.721</td> <td> 0.000</td> <td>    0.301</td> <td>    0.436</td>\n",
       "</tr>\n",
       "<tr>\n",
       "  <th>sex_class[('male', 'Second')]</th>   <td>    0.1574</td> <td>    0.037</td> <td>    4.305</td> <td> 0.000</td> <td>    0.086</td> <td>    0.229</td>\n",
       "</tr>\n",
       "<tr>\n",
       "  <th>sex_class[('male', 'Third')]</th>    <td>    0.1354</td> <td>    0.020</td> <td>    6.640</td> <td> 0.000</td> <td>    0.095</td> <td>    0.175</td>\n",
       "</tr>\n",
       "</table>\n",
       "<table class=\"simpletable\">\n",
       "<tr>\n",
       "  <th>Omnibus:</th>       <td>80.766</td> <th>  Durbin-Watson:     </th> <td>   1.945</td>\n",
       "</tr>\n",
       "<tr>\n",
       "  <th>Prob(Omnibus):</th> <td> 0.000</td> <th>  Jarque-Bera (JB):  </th> <td> 101.275</td>\n",
       "</tr>\n",
       "<tr>\n",
       "  <th>Skew:</th>          <td> 0.817</td> <th>  Prob(JB):          </th> <td>1.02e-22</td>\n",
       "</tr>\n",
       "<tr>\n",
       "  <th>Kurtosis:</th>      <td> 3.247</td> <th>  Cond. No.          </th> <td>    2.14</td>\n",
       "</tr>\n",
       "</table><br/><br/>Notes:<br/>[1] Standard Errors assume that the covariance matrix of the errors is correctly specified."
      ],
      "text/plain": [
       "<class 'statsmodels.iolib.summary.Summary'>\n",
       "\"\"\"\n",
       "                            OLS Regression Results                            \n",
       "==============================================================================\n",
       "Dep. Variable:               survived   R-squared:                       0.394\n",
       "Model:                            OLS   Adj. R-squared:                  0.390\n",
       "Method:                 Least Squares   F-statistic:                     114.9\n",
       "Date:                Tue, 11 Oct 2022   Prob (F-statistic):           1.32e-93\n",
       "Time:                        06:08:07   Log-Likelihood:                -399.13\n",
       "No. Observations:                 891   AIC:                             810.3\n",
       "Df Residuals:                     885   BIC:                             839.0\n",
       "Df Model:                           5                                         \n",
       "Covariance Type:            nonrobust                                         \n",
       "===================================================================================================\n",
       "                                      coef    std err          t      P>|t|      [0.025      0.975]\n",
       "---------------------------------------------------------------------------------------------------\n",
       "sex_class[('female', 'First')]      0.9681      0.039     24.700      0.000       0.891       1.045\n",
       "sex_class[('female', 'Second')]     0.9211      0.044     21.131      0.000       0.836       1.007\n",
       "sex_class[('female', 'Third')]      0.5000      0.032     15.790      0.000       0.438       0.562\n",
       "sex_class[('male', 'First')]        0.3689      0.034     10.721      0.000       0.301       0.436\n",
       "sex_class[('male', 'Second')]       0.1574      0.037      4.305      0.000       0.086       0.229\n",
       "sex_class[('male', 'Third')]        0.1354      0.020      6.640      0.000       0.095       0.175\n",
       "==============================================================================\n",
       "Omnibus:                       80.766   Durbin-Watson:                   1.945\n",
       "Prob(Omnibus):                  0.000   Jarque-Bera (JB):              101.275\n",
       "Skew:                           0.817   Prob(JB):                     1.02e-22\n",
       "Kurtosis:                       3.247   Cond. No.                         2.14\n",
       "==============================================================================\n",
       "\n",
       "Notes:\n",
       "[1] Standard Errors assume that the covariance matrix of the errors is correctly specified.\n",
       "\"\"\""
      ]
     },
     "execution_count": 52,
     "metadata": {},
     "output_type": "execute_result"
    }
   ],
   "source": [
    "fit2 = smf.ols(\"survived ~ sex_class - 1\", data = titanic).fit()\n",
    "fit2.summary()"
   ]
  },
  {
   "cell_type": "markdown",
   "metadata": {
    "id": "-koKBpdySSJp"
   },
   "source": [
    "Let's see how these new coefficients match the means we just calculated."
   ]
  },
  {
   "cell_type": "code",
   "execution_count": 53,
   "metadata": {
    "colab": {
     "base_uri": "https://localhost:8080/",
     "height": 296
    },
    "id": "iq5mbDNrRYeG",
    "outputId": "b13202fe-5cb8-4b70-9409-f0ee54187374"
   },
   "outputs": [
    {
     "data": {
      "text/html": [
       "<div>\n",
       "<style scoped>\n",
       "    .dataframe tbody tr th:only-of-type {\n",
       "        vertical-align: middle;\n",
       "    }\n",
       "\n",
       "    .dataframe tbody tr th {\n",
       "        vertical-align: top;\n",
       "    }\n",
       "\n",
       "    .dataframe thead th {\n",
       "        text-align: right;\n",
       "    }\n",
       "</style>\n",
       "<table border=\"1\" class=\"dataframe\">\n",
       "  <thead>\n",
       "    <tr style=\"text-align: right;\">\n",
       "      <th></th>\n",
       "      <th>sex</th>\n",
       "      <th>class</th>\n",
       "      <th>predicted</th>\n",
       "      <th>mean</th>\n",
       "      <th>new_predicted</th>\n",
       "    </tr>\n",
       "  </thead>\n",
       "  <tbody>\n",
       "    <tr>\n",
       "      <th>0</th>\n",
       "      <td>female</td>\n",
       "      <td>First</td>\n",
       "      <td>0.921226</td>\n",
       "      <td>0.968085</td>\n",
       "      <td>0.968085</td>\n",
       "    </tr>\n",
       "    <tr>\n",
       "      <th>1</th>\n",
       "      <td>female</td>\n",
       "      <td>Second</td>\n",
       "      <td>0.775854</td>\n",
       "      <td>0.921053</td>\n",
       "      <td>0.921053</td>\n",
       "    </tr>\n",
       "    <tr>\n",
       "      <th>2</th>\n",
       "      <td>female</td>\n",
       "      <td>Third</td>\n",
       "      <td>0.607221</td>\n",
       "      <td>0.500000</td>\n",
       "      <td>0.500000</td>\n",
       "    </tr>\n",
       "    <tr>\n",
       "      <th>3</th>\n",
       "      <td>male</td>\n",
       "      <td>First</td>\n",
       "      <td>0.404957</td>\n",
       "      <td>0.368852</td>\n",
       "      <td>0.368852</td>\n",
       "    </tr>\n",
       "    <tr>\n",
       "      <th>4</th>\n",
       "      <td>male</td>\n",
       "      <td>Second</td>\n",
       "      <td>0.259584</td>\n",
       "      <td>0.157407</td>\n",
       "      <td>0.157407</td>\n",
       "    </tr>\n",
       "    <tr>\n",
       "      <th>5</th>\n",
       "      <td>male</td>\n",
       "      <td>Third</td>\n",
       "      <td>0.090951</td>\n",
       "      <td>0.135447</td>\n",
       "      <td>0.135447</td>\n",
       "    </tr>\n",
       "  </tbody>\n",
       "</table>\n",
       "</div>"
      ],
      "text/plain": [
       "      sex   class  predicted      mean  new_predicted\n",
       "0  female   First   0.921226  0.968085       0.968085\n",
       "1  female  Second   0.775854  0.921053       0.921053\n",
       "2  female   Third   0.607221  0.500000       0.500000\n",
       "3    male   First   0.404957  0.368852       0.368852\n",
       "4    male  Second   0.259584  0.157407       0.157407\n",
       "5    male   Third   0.090951  0.135447       0.135447"
      ]
     },
     "execution_count": 53,
     "metadata": {},
     "output_type": "execute_result"
    }
   ],
   "source": [
    "frame[\"new_predicted\"] = fit2.params.array\n",
    "frame"
   ]
  },
  {
   "cell_type": "markdown",
   "metadata": {
    "id": "d7DQwracTWiA"
   },
   "source": [
    "That's perfect!"
   ]
  },
  {
   "cell_type": "markdown",
   "metadata": {
    "id": "wIXcgWF6TYTa"
   },
   "source": [
    "As it happens, `statsmodels` allows us to run interaction models such as these easily. We just need to use the `*` command:"
   ]
  },
  {
   "cell_type": "code",
   "execution_count": 57,
   "metadata": {
    "colab": {
     "base_uri": "https://localhost:8080/",
     "height": 563
    },
    "id": "PamcHyYaQJHh",
    "outputId": "3931e33f-8087-40b0-9631-2948952d978b"
   },
   "outputs": [
    {
     "data": {
      "text/html": [
       "<table class=\"simpletable\">\n",
       "<caption>OLS Regression Results</caption>\n",
       "<tr>\n",
       "  <th>Dep. Variable:</th>        <td>survived</td>     <th>  R-squared:         </th> <td>   0.394</td>\n",
       "</tr>\n",
       "<tr>\n",
       "  <th>Model:</th>                   <td>OLS</td>       <th>  Adj. R-squared:    </th> <td>   0.390</td>\n",
       "</tr>\n",
       "<tr>\n",
       "  <th>Method:</th>             <td>Least Squares</td>  <th>  F-statistic:       </th> <td>   114.9</td>\n",
       "</tr>\n",
       "<tr>\n",
       "  <th>Date:</th>             <td>Tue, 11 Oct 2022</td> <th>  Prob (F-statistic):</th> <td>1.32e-93</td>\n",
       "</tr>\n",
       "<tr>\n",
       "  <th>Time:</th>                 <td>06:09:33</td>     <th>  Log-Likelihood:    </th> <td> -399.13</td>\n",
       "</tr>\n",
       "<tr>\n",
       "  <th>No. Observations:</th>      <td>   891</td>      <th>  AIC:               </th> <td>   810.3</td>\n",
       "</tr>\n",
       "<tr>\n",
       "  <th>Df Residuals:</th>          <td>   885</td>      <th>  BIC:               </th> <td>   839.0</td>\n",
       "</tr>\n",
       "<tr>\n",
       "  <th>Df Model:</th>              <td>     5</td>      <th>                     </th>     <td> </td>   \n",
       "</tr>\n",
       "<tr>\n",
       "  <th>Covariance Type:</th>      <td>nonrobust</td>    <th>                     </th>     <td> </td>   \n",
       "</tr>\n",
       "</table>\n",
       "<table class=\"simpletable\">\n",
       "<tr>\n",
       "                  <td></td>                    <th>coef</th>     <th>std err</th>      <th>t</th>      <th>P>|t|</th>  <th>[0.025</th>    <th>0.975]</th>  \n",
       "</tr>\n",
       "<tr>\n",
       "  <th>Intercept</th>                        <td>    0.9681</td> <td>    0.039</td> <td>   24.700</td> <td> 0.000</td> <td>    0.891</td> <td>    1.045</td>\n",
       "</tr>\n",
       "<tr>\n",
       "  <th>sex[T.male]</th>                      <td>   -0.5992</td> <td>    0.052</td> <td>  -11.490</td> <td> 0.000</td> <td>   -0.702</td> <td>   -0.497</td>\n",
       "</tr>\n",
       "<tr>\n",
       "  <th>Q('class')[T.Second]</th>             <td>   -0.0470</td> <td>    0.059</td> <td>   -0.802</td> <td> 0.423</td> <td>   -0.162</td> <td>    0.068</td>\n",
       "</tr>\n",
       "<tr>\n",
       "  <th>Q('class')[T.Third]</th>              <td>   -0.4681</td> <td>    0.050</td> <td>   -9.290</td> <td> 0.000</td> <td>   -0.567</td> <td>   -0.369</td>\n",
       "</tr>\n",
       "<tr>\n",
       "  <th>sex[T.male]:Q('class')[T.Second]</th> <td>   -0.1644</td> <td>    0.077</td> <td>   -2.130</td> <td> 0.033</td> <td>   -0.316</td> <td>   -0.013</td>\n",
       "</tr>\n",
       "<tr>\n",
       "  <th>sex[T.male]:Q('class')[T.Third]</th>  <td>    0.2347</td> <td>    0.064</td> <td>    3.648</td> <td> 0.000</td> <td>    0.108</td> <td>    0.361</td>\n",
       "</tr>\n",
       "</table>\n",
       "<table class=\"simpletable\">\n",
       "<tr>\n",
       "  <th>Omnibus:</th>       <td>80.766</td> <th>  Durbin-Watson:     </th> <td>   1.945</td>\n",
       "</tr>\n",
       "<tr>\n",
       "  <th>Prob(Omnibus):</th> <td> 0.000</td> <th>  Jarque-Bera (JB):  </th> <td> 101.275</td>\n",
       "</tr>\n",
       "<tr>\n",
       "  <th>Skew:</th>          <td> 0.817</td> <th>  Prob(JB):          </th> <td>1.02e-22</td>\n",
       "</tr>\n",
       "<tr>\n",
       "  <th>Kurtosis:</th>      <td> 3.247</td> <th>  Cond. No.          </th> <td>    13.5</td>\n",
       "</tr>\n",
       "</table><br/><br/>Notes:<br/>[1] Standard Errors assume that the covariance matrix of the errors is correctly specified."
      ],
      "text/plain": [
       "<class 'statsmodels.iolib.summary.Summary'>\n",
       "\"\"\"\n",
       "                            OLS Regression Results                            \n",
       "==============================================================================\n",
       "Dep. Variable:               survived   R-squared:                       0.394\n",
       "Model:                            OLS   Adj. R-squared:                  0.390\n",
       "Method:                 Least Squares   F-statistic:                     114.9\n",
       "Date:                Tue, 11 Oct 2022   Prob (F-statistic):           1.32e-93\n",
       "Time:                        06:09:33   Log-Likelihood:                -399.13\n",
       "No. Observations:                 891   AIC:                             810.3\n",
       "Df Residuals:                     885   BIC:                             839.0\n",
       "Df Model:                           5                                         \n",
       "Covariance Type:            nonrobust                                         \n",
       "====================================================================================================\n",
       "                                       coef    std err          t      P>|t|      [0.025      0.975]\n",
       "----------------------------------------------------------------------------------------------------\n",
       "Intercept                            0.9681      0.039     24.700      0.000       0.891       1.045\n",
       "sex[T.male]                         -0.5992      0.052    -11.490      0.000      -0.702      -0.497\n",
       "Q('class')[T.Second]                -0.0470      0.059     -0.802      0.423      -0.162       0.068\n",
       "Q('class')[T.Third]                 -0.4681      0.050     -9.290      0.000      -0.567      -0.369\n",
       "sex[T.male]:Q('class')[T.Second]    -0.1644      0.077     -2.130      0.033      -0.316      -0.013\n",
       "sex[T.male]:Q('class')[T.Third]      0.2347      0.064      3.648      0.000       0.108       0.361\n",
       "==============================================================================\n",
       "Omnibus:                       80.766   Durbin-Watson:                   1.945\n",
       "Prob(Omnibus):                  0.000   Jarque-Bera (JB):              101.275\n",
       "Skew:                           0.817   Prob(JB):                     1.02e-22\n",
       "Kurtosis:                       3.247   Cond. No.                         13.5\n",
       "==============================================================================\n",
       "\n",
       "Notes:\n",
       "[1] Standard Errors assume that the covariance matrix of the errors is correctly specified.\n",
       "\"\"\""
      ]
     },
     "execution_count": 57,
     "metadata": {},
     "output_type": "execute_result"
    }
   ],
   "source": [
    "import statsmodels.formula.api as smf\n",
    "fit = smf.ols(\"survived ~ sex * Q('class')\", data = titanic).fit()\n",
    "fit.summary()"
   ]
  },
  {
   "cell_type": "markdown",
   "metadata": {
    "id": "51lk0qXwTkk4"
   },
   "source": [
    "Yet again, we have to think about baselines. Since there is no `sex[T.Female]` in the table, the baseline sex is female. Since there is no `class[T.1st]` in the table, the baseline class is 1st class.\n",
    "\n",
    "To calculate the predicted value of, say, a male with class `3rd`, you would have to sum the coefficients of `sex[T.Male]`, `class[T.3rd]` *and* `sex[T.Male]:class[T.3rd]`. "
   ]
  },
  {
   "cell_type": "code",
   "execution_count": 61,
   "metadata": {
    "colab": {
     "base_uri": "https://localhost:8080/"
    },
    "id": "UKzk6XeqUV5y",
    "outputId": "71b60a31-c39f-475e-b786-1a006308afaf"
   },
   "outputs": [
    {
     "data": {
      "text/plain": [
       "Intercept                           0.968085\n",
       "sex[T.male]                        -0.599233\n",
       "Q('class')[T.Second]               -0.047032\n",
       "Q('class')[T.Third]                -0.468085\n",
       "sex[T.male]:Q('class')[T.Second]   -0.164413\n",
       "sex[T.male]:Q('class')[T.Third]     0.234679\n",
       "dtype: float64"
      ]
     },
     "execution_count": 61,
     "metadata": {},
     "output_type": "execute_result"
    }
   ],
   "source": [
    "fit.params"
   ]
  },
  {
   "cell_type": "code",
   "execution_count": 64,
   "metadata": {
    "colab": {
     "base_uri": "https://localhost:8080/"
    },
    "id": "ngVcde9wUXsg",
    "outputId": "a35ade8e-bdbd-4e88-faa7-65feec0b3a81"
   },
   "outputs": [
    {
     "data": {
      "text/plain": [
       "0.135446685878962"
      ]
     },
     "execution_count": 64,
     "metadata": {},
     "output_type": "execute_result"
    }
   ],
   "source": [
    "coef = fit.params\n",
    "coef[\"Intercept\"] + coef[\"sex[T.male]\"] + coef[\"Q('class')[T.Third]\"]+ coef[\"sex[T.male]:Q('class')[T.Third]\"]"
   ]
  },
  {
   "cell_type": "code",
   "execution_count": 72,
   "metadata": {
    "colab": {
     "base_uri": "https://localhost:8080/",
     "height": 80
    },
    "id": "q0qQWqU7UuNI",
    "outputId": "3412a126-48d5-4b9e-8146-fd73c6ee8c24"
   },
   "outputs": [
    {
     "data": {
      "text/plain": [
       "0.13544668587896252"
      ]
     },
     "execution_count": 72,
     "metadata": {},
     "output_type": "execute_result"
    }
   ],
   "source": [
    "frame[\"mean\"][5]"
   ]
  },
  {
   "cell_type": "markdown",
   "metadata": {
    "id": "v99Ge8Xcuji-"
   },
   "source": [
    "It's clearly harder to interpret the coefficients of a the `statsmodels` object with formula `\"survived ~ sex * class\"` than that with formula `\"survived ~ sex_class - 1\"`. However, we may use the formulation `\"survived ~ sex * class\"` to more easily ask meaningful questions.\n",
    "\n",
    "\n"
   ]
  },
  {
   "cell_type": "markdown",
   "metadata": {
    "id": "W9KurpU-_UDM"
   },
   "source": [
    "Most importantly, do we need the interaction terms or not? In other words, do we need the whole model `\"Survived_01 ~ Sex * Class\"`, or would it suffice with `\"Survived_01 ~ Sex + Class\"`?"
   ]
  },
  {
   "cell_type": "markdown",
   "metadata": {},
   "source": [
    "## Testing for interactions"
   ]
  },
  {
   "cell_type": "markdown",
   "metadata": {},
   "source": [
    "Testing for interactions is similar to the testing we did in the last lecture. Consider a model with $2$ categorical variables $x_1$ and $x_2$ with $I$ and $J$ categories each. The model with linear effects is \n",
    "$$\n",
    "y = \\beta_0 + \\sum_{i = 2}^{I} {\\beta^1_{i}1[x_1 = i]} + \\sum_{j = 2}^{J} {\\beta^2_{j} 1[x_2 = j]} + \\epsilon\n",
    "$$"
   ]
  },
  {
   "cell_type": "markdown",
   "metadata": {},
   "source": [
    "Here we start the sums at $i=2$ and $j=2$ since the $x_1 = 1$ and $x_2 = 2$ are absorbed into the baseline."
   ]
  },
  {
   "cell_type": "markdown",
   "metadata": {},
   "source": [
    "This is the general form of the titanic model with two categories we've already looked at:"
   ]
  },
  {
   "cell_type": "code",
   "execution_count": 64,
   "metadata": {},
   "outputs": [
    {
     "data": {
      "text/html": [
       "<table class=\"simpletable\">\n",
       "<caption>OLS Regression Results</caption>\n",
       "<tr>\n",
       "  <th>Dep. Variable:</th>       <td>Survived_01</td>   <th>  R-squared:         </th> <td>   0.246</td> \n",
       "</tr>\n",
       "<tr>\n",
       "  <th>Model:</th>                   <td>OLS</td>       <th>  Adj. R-squared:    </th> <td>   0.245</td> \n",
       "</tr>\n",
       "<tr>\n",
       "  <th>Method:</th>             <td>Least Squares</td>  <th>  F-statistic:       </th> <td>   179.4</td> \n",
       "</tr>\n",
       "<tr>\n",
       "  <th>Date:</th>             <td>Thu, 21 Oct 2021</td> <th>  Prob (F-statistic):</th> <td>4.09e-133</td>\n",
       "</tr>\n",
       "<tr>\n",
       "  <th>Time:</th>                 <td>11:31:14</td>     <th>  Log-Likelihood:    </th> <td> -1139.0</td> \n",
       "</tr>\n",
       "<tr>\n",
       "  <th>No. Observations:</th>      <td>  2201</td>      <th>  AIC:               </th> <td>   2288.</td> \n",
       "</tr>\n",
       "<tr>\n",
       "  <th>Df Residuals:</th>          <td>  2196</td>      <th>  BIC:               </th> <td>   2317.</td> \n",
       "</tr>\n",
       "<tr>\n",
       "  <th>Df Model:</th>              <td>     4</td>      <th>                     </th>     <td> </td>    \n",
       "</tr>\n",
       "<tr>\n",
       "  <th>Covariance Type:</th>      <td>nonrobust</td>    <th>                     </th>     <td> </td>    \n",
       "</tr>\n",
       "</table>\n",
       "<table class=\"simpletable\">\n",
       "<tr>\n",
       "        <td></td>           <th>coef</th>     <th>std err</th>      <th>t</th>      <th>P>|t|</th>  <th>[0.025</th>    <th>0.975]</th>  \n",
       "</tr>\n",
       "<tr>\n",
       "  <th>Intercept</th>     <td>    0.9001</td> <td>    0.026</td> <td>   34.739</td> <td> 0.000</td> <td>    0.849</td> <td>    0.951</td>\n",
       "</tr>\n",
       "<tr>\n",
       "  <th>Sex[T.Male]</th>   <td>   -0.4974</td> <td>    0.023</td> <td>  -21.575</td> <td> 0.000</td> <td>   -0.543</td> <td>   -0.452</td>\n",
       "</tr>\n",
       "<tr>\n",
       "  <th>Class[T.2nd]</th>  <td>   -0.1737</td> <td>    0.033</td> <td>   -5.258</td> <td> 0.000</td> <td>   -0.238</td> <td>   -0.109</td>\n",
       "</tr>\n",
       "<tr>\n",
       "  <th>Class[T.3rd]</th>  <td>   -0.2887</td> <td>    0.028</td> <td>  -10.489</td> <td> 0.000</td> <td>   -0.343</td> <td>   -0.235</td>\n",
       "</tr>\n",
       "<tr>\n",
       "  <th>Class[T.Crew]</th> <td>   -0.1761</td> <td>    0.028</td> <td>   -6.270</td> <td> 0.000</td> <td>   -0.231</td> <td>   -0.121</td>\n",
       "</tr>\n",
       "</table>\n",
       "<table class=\"simpletable\">\n",
       "<tr>\n",
       "  <th>Omnibus:</th>       <td>222.654</td> <th>  Durbin-Watson:     </th> <td>   0.011</td>\n",
       "</tr>\n",
       "<tr>\n",
       "  <th>Prob(Omnibus):</th> <td> 0.000</td>  <th>  Jarque-Bera (JB):  </th> <td> 293.437</td>\n",
       "</tr>\n",
       "<tr>\n",
       "  <th>Skew:</th>          <td> 0.891</td>  <th>  Prob(JB):          </th> <td>1.91e-64</td>\n",
       "</tr>\n",
       "<tr>\n",
       "  <th>Kurtosis:</th>      <td> 2.836</td>  <th>  Cond. No.          </th> <td>    7.83</td>\n",
       "</tr>\n",
       "</table><br/><br/>Notes:<br/>[1] Standard Errors assume that the covariance matrix of the errors is correctly specified."
      ],
      "text/plain": [
       "<class 'statsmodels.iolib.summary.Summary'>\n",
       "\"\"\"\n",
       "                            OLS Regression Results                            \n",
       "==============================================================================\n",
       "Dep. Variable:            Survived_01   R-squared:                       0.246\n",
       "Model:                            OLS   Adj. R-squared:                  0.245\n",
       "Method:                 Least Squares   F-statistic:                     179.4\n",
       "Date:                Thu, 21 Oct 2021   Prob (F-statistic):          4.09e-133\n",
       "Time:                        11:31:14   Log-Likelihood:                -1139.0\n",
       "No. Observations:                2201   AIC:                             2288.\n",
       "Df Residuals:                    2196   BIC:                             2317.\n",
       "Df Model:                           4                                         \n",
       "Covariance Type:            nonrobust                                         \n",
       "=================================================================================\n",
       "                    coef    std err          t      P>|t|      [0.025      0.975]\n",
       "---------------------------------------------------------------------------------\n",
       "Intercept         0.9001      0.026     34.739      0.000       0.849       0.951\n",
       "Sex[T.Male]      -0.4974      0.023    -21.575      0.000      -0.543      -0.452\n",
       "Class[T.2nd]     -0.1737      0.033     -5.258      0.000      -0.238      -0.109\n",
       "Class[T.3rd]     -0.2887      0.028    -10.489      0.000      -0.343      -0.235\n",
       "Class[T.Crew]    -0.1761      0.028     -6.270      0.000      -0.231      -0.121\n",
       "==============================================================================\n",
       "Omnibus:                      222.654   Durbin-Watson:                   0.011\n",
       "Prob(Omnibus):                  0.000   Jarque-Bera (JB):              293.437\n",
       "Skew:                           0.891   Prob(JB):                     1.91e-64\n",
       "Kurtosis:                       2.836   Cond. No.                         7.83\n",
       "==============================================================================\n",
       "\n",
       "Notes:\n",
       "[1] Standard Errors assume that the covariance matrix of the errors is correctly specified.\n",
       "\"\"\""
      ]
     },
     "execution_count": 64,
     "metadata": {},
     "output_type": "execute_result"
    }
   ],
   "source": [
    "fit = smf.ols(\"survived ~ sex + class\", data = titanic).fit()\n",
    "fit.summary()"
   ]
  },
  {
   "cell_type": "markdown",
   "metadata": {},
   "source": [
    "This model doesn't include interactions, as there are no product terms $1[x_1 = i]1[x_2 = j]$ in the model. Let's add them to the model and see what it looks like."
   ]
  },
  {
   "cell_type": "markdown",
   "metadata": {},
   "source": [
    "The interaction model $$y=\\sum_{i=1}^{I}\\sum_{j=1}^{J}\\beta_{ij}1[X_{1}=a_{j}]1[X_{2}=b_{k}]$$ can be written as en extension of the linear effects model $$y = \\beta_0 + \\sum_{i = 2}^{I} {\\beta^1_{i}1[x_1 = i]} + \\sum_{j = 2}^{J} {\\beta^2_{j} 1[x_2 = j]} + \\sum_{i = 2}^{I}\\sum_{j = 2}^{J} {\\beta^{1\\times2}_{ij} 1[x_1 = j]1[x_2=j]} + \\epsilon$$"
   ]
  },
  {
   "cell_type": "markdown",
   "metadata": {},
   "source": [
    "The double sum starts at $i,j=2$ due to absorption into the baseline."
   ]
  },
  {
   "cell_type": "markdown",
   "metadata": {},
   "source": [
    "Formulating the interaction model in this way allows us to formulate a test of whether the interactions matter. Our null hypothesis is that the all the regression coefficients belonging to the interaction part of the model are $0$. Formally, we could write\n",
    "$$H_0: \\beta^{1\\times2}_{ij} = 0\\quad \\textrm{for all } i,j\\geq2.$$\n",
    "Our alternative hypothesis is that the interaction terms matter *in some way*. In other words, at least one coefficients $\\beta^{1\\times2}_{ij}$ is not equal to $0$.\n",
    "$$H_a: \\textrm{There is a pair } (i,j) \\textrm{ where } \\beta^{1\\times2}_{ij} \\neq 0.$$"
   ]
  },
  {
   "cell_type": "markdown",
   "metadata": {},
   "source": [
    "Notice that we only care about the interaction coefficients $\\beta_{ij}^{1\\times2}$; the other regression coefficients aren't featured in the hypothesis statements at all."
   ]
  },
  {
   "cell_type": "markdown",
   "metadata": {},
   "source": [
    "This is similar to the setup in the previous lecture in the $F$ test, except that we care about a *subset* of $\\beta$"
   ]
  },
  {
   "cell_type": "markdown",
   "metadata": {},
   "source": [
    "### Example"
   ]
  },
  {
   "cell_type": "markdown",
   "metadata": {},
   "source": [
    "We'll continue work with the interaction model for `titanic`."
   ]
  },
  {
   "cell_type": "markdown",
   "metadata": {},
   "source": [
    "First, recall the linear effects model:\n",
    "$$\n",
    "y = \\beta_0 + \\beta_{\\textrm{male}}1[\\textrm{sex} = \\textrm{male}] + \\beta_{\\textrm{2nd}}1[\\textrm{class} = \\textrm{2nd}]+ \\beta_{\\textrm{3rd}}1[\\textrm{class} = \\textrm{3rd}] + \\beta_{\\textrm{Crew}}1[\\textrm{class} = \\textrm{crew}].\n",
    "$$"
   ]
  },
  {
   "cell_type": "markdown",
   "metadata": {},
   "source": [
    "In the `statsmodels` regression model below, we add the interaction terms corresponding to $\\beta_{\\textrm{male}\\times\\textrm{2nd}}$, $\\beta_{\\textrm{male}\\times\\textrm{3rd}}$, $\\beta_{\\textrm{male}\\times\\textrm{crew}}$, making the interaction model"
   ]
  },
  {
   "cell_type": "markdown",
   "metadata": {},
   "source": [
    "$$\n",
    "y = \\beta_0 + \\beta_{\\textrm{male}}1[\\textrm{sex} = \\textrm{male}] + \\beta_{\\textrm{2nd}}1[\\textrm{class} = \\textrm{2nd}]+ \\beta_{\\textrm{3rd}}1[\\textrm{class} = \\textrm{3rd}] + \\beta_{\\textrm{Crew}}1[\\textrm{class} = \\textrm{crew}] + \n",
    "\\beta_{\\textrm{male}\\times\\textrm{2nd}}1[(\\textrm{sex}, \\textrm{class}) = (\\textrm{male}, \\textrm{2nd})] + \n",
    "\\beta_{\\textrm{male}\\times\\textrm{3rd}}1[(\\textrm{sex}, \\textrm{class}) = (\\textrm{male}, \\textrm{3nd})] + \n",
    "\\beta_{\\textrm{male}\\times\\textrm{crew}}1[(\\textrm{sex}, \\textrm{class}) = (\\textrm{male}, \\textrm{crew})].\n",
    "$$"
   ]
  },
  {
   "cell_type": "code",
   "execution_count": 74,
   "metadata": {},
   "outputs": [
    {
     "data": {
      "text/html": [
       "<table class=\"simpletable\">\n",
       "<caption>OLS Regression Results</caption>\n",
       "<tr>\n",
       "  <th>Dep. Variable:</th>        <td>survived</td>     <th>  R-squared:         </th> <td>   0.394</td>\n",
       "</tr>\n",
       "<tr>\n",
       "  <th>Model:</th>                   <td>OLS</td>       <th>  Adj. R-squared:    </th> <td>   0.390</td>\n",
       "</tr>\n",
       "<tr>\n",
       "  <th>Method:</th>             <td>Least Squares</td>  <th>  F-statistic:       </th> <td>   114.9</td>\n",
       "</tr>\n",
       "<tr>\n",
       "  <th>Date:</th>             <td>Tue, 11 Oct 2022</td> <th>  Prob (F-statistic):</th> <td>1.32e-93</td>\n",
       "</tr>\n",
       "<tr>\n",
       "  <th>Time:</th>                 <td>06:43:34</td>     <th>  Log-Likelihood:    </th> <td> -399.13</td>\n",
       "</tr>\n",
       "<tr>\n",
       "  <th>No. Observations:</th>      <td>   891</td>      <th>  AIC:               </th> <td>   810.3</td>\n",
       "</tr>\n",
       "<tr>\n",
       "  <th>Df Residuals:</th>          <td>   885</td>      <th>  BIC:               </th> <td>   839.0</td>\n",
       "</tr>\n",
       "<tr>\n",
       "  <th>Df Model:</th>              <td>     5</td>      <th>                     </th>     <td> </td>   \n",
       "</tr>\n",
       "<tr>\n",
       "  <th>Covariance Type:</th>      <td>nonrobust</td>    <th>                     </th>     <td> </td>   \n",
       "</tr>\n",
       "</table>\n",
       "<table class=\"simpletable\">\n",
       "<tr>\n",
       "                  <td></td>                    <th>coef</th>     <th>std err</th>      <th>t</th>      <th>P>|t|</th>  <th>[0.025</th>    <th>0.975]</th>  \n",
       "</tr>\n",
       "<tr>\n",
       "  <th>Intercept</th>                        <td>    0.9681</td> <td>    0.039</td> <td>   24.700</td> <td> 0.000</td> <td>    0.891</td> <td>    1.045</td>\n",
       "</tr>\n",
       "<tr>\n",
       "  <th>sex[T.male]</th>                      <td>   -0.5992</td> <td>    0.052</td> <td>  -11.490</td> <td> 0.000</td> <td>   -0.702</td> <td>   -0.497</td>\n",
       "</tr>\n",
       "<tr>\n",
       "  <th>Q('class')[T.Second]</th>             <td>   -0.0470</td> <td>    0.059</td> <td>   -0.802</td> <td> 0.423</td> <td>   -0.162</td> <td>    0.068</td>\n",
       "</tr>\n",
       "<tr>\n",
       "  <th>Q('class')[T.Third]</th>              <td>   -0.4681</td> <td>    0.050</td> <td>   -9.290</td> <td> 0.000</td> <td>   -0.567</td> <td>   -0.369</td>\n",
       "</tr>\n",
       "<tr>\n",
       "  <th>sex[T.male]:Q('class')[T.Second]</th> <td>   -0.1644</td> <td>    0.077</td> <td>   -2.130</td> <td> 0.033</td> <td>   -0.316</td> <td>   -0.013</td>\n",
       "</tr>\n",
       "<tr>\n",
       "  <th>sex[T.male]:Q('class')[T.Third]</th>  <td>    0.2347</td> <td>    0.064</td> <td>    3.648</td> <td> 0.000</td> <td>    0.108</td> <td>    0.361</td>\n",
       "</tr>\n",
       "</table>\n",
       "<table class=\"simpletable\">\n",
       "<tr>\n",
       "  <th>Omnibus:</th>       <td>80.766</td> <th>  Durbin-Watson:     </th> <td>   1.945</td>\n",
       "</tr>\n",
       "<tr>\n",
       "  <th>Prob(Omnibus):</th> <td> 0.000</td> <th>  Jarque-Bera (JB):  </th> <td> 101.275</td>\n",
       "</tr>\n",
       "<tr>\n",
       "  <th>Skew:</th>          <td> 0.817</td> <th>  Prob(JB):          </th> <td>1.02e-22</td>\n",
       "</tr>\n",
       "<tr>\n",
       "  <th>Kurtosis:</th>      <td> 3.247</td> <th>  Cond. No.          </th> <td>    13.5</td>\n",
       "</tr>\n",
       "</table><br/><br/>Notes:<br/>[1] Standard Errors assume that the covariance matrix of the errors is correctly specified."
      ],
      "text/plain": [
       "<class 'statsmodels.iolib.summary.Summary'>\n",
       "\"\"\"\n",
       "                            OLS Regression Results                            \n",
       "==============================================================================\n",
       "Dep. Variable:               survived   R-squared:                       0.394\n",
       "Model:                            OLS   Adj. R-squared:                  0.390\n",
       "Method:                 Least Squares   F-statistic:                     114.9\n",
       "Date:                Tue, 11 Oct 2022   Prob (F-statistic):           1.32e-93\n",
       "Time:                        06:43:34   Log-Likelihood:                -399.13\n",
       "No. Observations:                 891   AIC:                             810.3\n",
       "Df Residuals:                     885   BIC:                             839.0\n",
       "Df Model:                           5                                         \n",
       "Covariance Type:            nonrobust                                         \n",
       "====================================================================================================\n",
       "                                       coef    std err          t      P>|t|      [0.025      0.975]\n",
       "----------------------------------------------------------------------------------------------------\n",
       "Intercept                            0.9681      0.039     24.700      0.000       0.891       1.045\n",
       "sex[T.male]                         -0.5992      0.052    -11.490      0.000      -0.702      -0.497\n",
       "Q('class')[T.Second]                -0.0470      0.059     -0.802      0.423      -0.162       0.068\n",
       "Q('class')[T.Third]                 -0.4681      0.050     -9.290      0.000      -0.567      -0.369\n",
       "sex[T.male]:Q('class')[T.Second]    -0.1644      0.077     -2.130      0.033      -0.316      -0.013\n",
       "sex[T.male]:Q('class')[T.Third]      0.2347      0.064      3.648      0.000       0.108       0.361\n",
       "==============================================================================\n",
       "Omnibus:                       80.766   Durbin-Watson:                   1.945\n",
       "Prob(Omnibus):                  0.000   Jarque-Bera (JB):              101.275\n",
       "Skew:                           0.817   Prob(JB):                     1.02e-22\n",
       "Kurtosis:                       3.247   Cond. No.                         13.5\n",
       "==============================================================================\n",
       "\n",
       "Notes:\n",
       "[1] Standard Errors assume that the covariance matrix of the errors is correctly specified.\n",
       "\"\"\""
      ]
     },
     "execution_count": 74,
     "metadata": {},
     "output_type": "execute_result"
    }
   ],
   "source": [
    "import statsmodels.formula.api as smf\n",
    "fit = smf.ols(\"survived ~ sex * Q('class')\", data = titanic).fit()\n",
    "fit.summary()"
   ]
  },
  {
   "cell_type": "markdown",
   "metadata": {},
   "source": [
    "Now we'll make what is called an ANOVA table."
   ]
  },
  {
   "cell_type": "code",
   "execution_count": 76,
   "metadata": {},
   "outputs": [
    {
     "data": {
      "text/html": [
       "<div>\n",
       "<style scoped>\n",
       "    .dataframe tbody tr th:only-of-type {\n",
       "        vertical-align: middle;\n",
       "    }\n",
       "\n",
       "    .dataframe tbody tr th {\n",
       "        vertical-align: top;\n",
       "    }\n",
       "\n",
       "    .dataframe thead th {\n",
       "        text-align: right;\n",
       "    }\n",
       "</style>\n",
       "<table border=\"1\" class=\"dataframe\">\n",
       "  <thead>\n",
       "    <tr style=\"text-align: right;\">\n",
       "      <th></th>\n",
       "      <th>sum_sq</th>\n",
       "      <th>df</th>\n",
       "      <th>F</th>\n",
       "      <th>PR(&gt;F)</th>\n",
       "    </tr>\n",
       "  </thead>\n",
       "  <tbody>\n",
       "    <tr>\n",
       "      <th>Intercept</th>\n",
       "      <td>88.095745</td>\n",
       "      <td>1.0</td>\n",
       "      <td>610.099045</td>\n",
       "      <td>7.132001e-103</td>\n",
       "    </tr>\n",
       "    <tr>\n",
       "      <th>sex</th>\n",
       "      <td>19.064476</td>\n",
       "      <td>1.0</td>\n",
       "      <td>132.029288</td>\n",
       "      <td>1.398931e-28</td>\n",
       "    </tr>\n",
       "    <tr>\n",
       "      <th>Q('class')</th>\n",
       "      <td>15.674524</td>\n",
       "      <td>2.0</td>\n",
       "      <td>54.276245</td>\n",
       "      <td>5.827218e-23</td>\n",
       "    </tr>\n",
       "    <tr>\n",
       "      <th>sex:Q('class')</th>\n",
       "      <td>5.437720</td>\n",
       "      <td>2.0</td>\n",
       "      <td>18.829215</td>\n",
       "      <td>9.812394e-09</td>\n",
       "    </tr>\n",
       "    <tr>\n",
       "      <th>Residual</th>\n",
       "      <td>127.790290</td>\n",
       "      <td>885.0</td>\n",
       "      <td>NaN</td>\n",
       "      <td>NaN</td>\n",
       "    </tr>\n",
       "  </tbody>\n",
       "</table>\n",
       "</div>"
      ],
      "text/plain": [
       "                    sum_sq     df           F         PR(>F)\n",
       "Intercept        88.095745    1.0  610.099045  7.132001e-103\n",
       "sex              19.064476    1.0  132.029288   1.398931e-28\n",
       "Q('class')       15.674524    2.0   54.276245   5.827218e-23\n",
       "sex:Q('class')    5.437720    2.0   18.829215   9.812394e-09\n",
       "Residual        127.790290  885.0         NaN            NaN"
      ]
     },
     "execution_count": 76,
     "metadata": {},
     "output_type": "execute_result"
    }
   ],
   "source": [
    "import statsmodels.api as sm\n",
    "sm.stats.anova_lm(fit, typ=3) "
   ]
  },
  {
   "cell_type": "markdown",
   "metadata": {},
   "source": [
    "Let's interpret this table. It contains three *p*-values, one for `sex`, one for `class`, and one for `sex:class`, which is the interaction term. You only need to think about the $PR(>F)$ column, which contains the *p*-values."
   ]
  },
  {
   "cell_type": "markdown",
   "metadata": {},
   "source": [
    "1. **Sex.** Here $H_0$ is that all the regression coefficients for the category `Sex` are $0$ (that is, is $\\beta_\\textrm{male} = 0$) when we do not include any of the other coefficients in the model. I.e., it ask if sex matters when we do not include `Class` and interactions.\n",
    "2. **Class.** Now $H_0$ is that all the regression coefficients for the category `Class` are $0$ when we do include the coefficients for `Sex` in the model.\n",
    "3. **Sex:Class.** $H_0$ is that all the interaction coefficients, i.e., the coefficients for the category `Sex:Class` are $0$ when the coefficients for `Sex` and `Class` are included in the model."
   ]
  },
  {
   "cell_type": "markdown",
   "metadata": {},
   "source": [
    "In conclusion, we find that the *p*-value for our null hypothesis $H_0$, that all of the interaction regression coefficients are $0$, is `6.545202e-16`, or $6.54\\cdot10^{-16}$."
   ]
  },
  {
   "cell_type": "markdown",
   "metadata": {},
   "source": [
    "## $N$-way ANOVA"
   ]
  },
  {
   "cell_type": "markdown",
   "metadata": {},
   "source": [
    "Inference problems with multiple categorical variables and their interactions are often called ANOVA, or \"analysis of variance\".    "
   ]
  },
  {
   "cell_type": "markdown",
   "metadata": {},
   "source": [
    "Very prominently used in research, but also in business. [Here is an example in marketing](https://imsmwu.github.io/MRDA2017/_book/analysis-of-variance.html). Notice that most people work with various sums of squares when dealing with ANOVA. We *don't* do that in this course."
   ]
  },
  {
   "cell_type": "markdown",
   "metadata": {},
   "source": [
    "We'll have a look at the data from this site."
   ]
  },
  {
   "cell_type": "code",
   "execution_count": 81,
   "metadata": {},
   "outputs": [
    {
     "data": {
      "text/html": [
       "<div>\n",
       "<style scoped>\n",
       "    .dataframe tbody tr th:only-of-type {\n",
       "        vertical-align: middle;\n",
       "    }\n",
       "\n",
       "    .dataframe tbody tr th {\n",
       "        vertical-align: top;\n",
       "    }\n",
       "\n",
       "    .dataframe thead th {\n",
       "        text-align: right;\n",
       "    }\n",
       "</style>\n",
       "<table border=\"1\" class=\"dataframe\">\n",
       "  <thead>\n",
       "    <tr style=\"text-align: right;\">\n",
       "      <th></th>\n",
       "      <th>Obs</th>\n",
       "      <th>Promotion</th>\n",
       "      <th>Newsletter</th>\n",
       "      <th>Sales</th>\n",
       "    </tr>\n",
       "  </thead>\n",
       "  <tbody>\n",
       "    <tr>\n",
       "      <th>0</th>\n",
       "      <td>1</td>\n",
       "      <td>1</td>\n",
       "      <td>1</td>\n",
       "      <td>10</td>\n",
       "    </tr>\n",
       "    <tr>\n",
       "      <th>1</th>\n",
       "      <td>2</td>\n",
       "      <td>1</td>\n",
       "      <td>1</td>\n",
       "      <td>9</td>\n",
       "    </tr>\n",
       "    <tr>\n",
       "      <th>2</th>\n",
       "      <td>3</td>\n",
       "      <td>1</td>\n",
       "      <td>1</td>\n",
       "      <td>10</td>\n",
       "    </tr>\n",
       "    <tr>\n",
       "      <th>3</th>\n",
       "      <td>4</td>\n",
       "      <td>1</td>\n",
       "      <td>1</td>\n",
       "      <td>8</td>\n",
       "    </tr>\n",
       "    <tr>\n",
       "      <th>4</th>\n",
       "      <td>5</td>\n",
       "      <td>1</td>\n",
       "      <td>1</td>\n",
       "      <td>9</td>\n",
       "    </tr>\n",
       "  </tbody>\n",
       "</table>\n",
       "</div>"
      ],
      "text/plain": [
       "   Obs  Promotion  Newsletter  Sales\n",
       "0    1          1           1     10\n",
       "1    2          1           1      9\n",
       "2    3          1           1     10\n",
       "3    4          1           1      8\n",
       "4    5          1           1      9"
      ]
     },
     "execution_count": 81,
     "metadata": {},
     "output_type": "execute_result"
    }
   ],
   "source": [
    "sales = pd.read_table(\"https://raw.githubusercontent.com/IMSMWU/Teaching/master/MRDA2017/online_store_promo.dat\")\n",
    "sales.head()"
   ]
  },
  {
   "cell_type": "code",
   "execution_count": 91,
   "metadata": {},
   "outputs": [
    {
     "data": {
      "text/plain": [
       "<seaborn.axisgrid.FacetGrid at 0x1c80cb465c0>"
      ]
     },
     "execution_count": 91,
     "metadata": {},
     "output_type": "execute_result"
    },
    {
     "data": {
      "image/png": "[encoded data removed]",
      "text/plain": [
       "<Figure size 1000x500 with 2 Axes>"
      ]
     },
     "metadata": {},
     "output_type": "display_data"
    }
   ],
   "source": [
    "sns.catplot(y=\"Sales\", x=\"Promotion\", col=\"Newsletter\", kind = \"bar\", data=sales)"
   ]
  },
  {
   "cell_type": "markdown",
   "metadata": {},
   "source": [
    "It seems like level of promotion has an effect on sales. Moreover, it seems like including the product in a newsletter has an effect as well. "
   ]
  },
  {
   "cell_type": "code",
   "execution_count": 98,
   "metadata": {},
   "outputs": [
    {
     "data": {
      "text/html": [
       "<table class=\"simpletable\">\n",
       "<caption>OLS Regression Results</caption>\n",
       "<tr>\n",
       "  <th>Dep. Variable:</th>          <td>Sales</td>      <th>  R-squared:         </th> <td>   0.858</td>\n",
       "</tr>\n",
       "<tr>\n",
       "  <th>Model:</th>                   <td>OLS</td>       <th>  Adj. R-squared:    </th> <td>   0.841</td>\n",
       "</tr>\n",
       "<tr>\n",
       "  <th>Method:</th>             <td>Least Squares</td>  <th>  F-statistic:       </th> <td>   52.20</td>\n",
       "</tr>\n",
       "<tr>\n",
       "  <th>Date:</th>             <td>Tue, 11 Oct 2022</td> <th>  Prob (F-statistic):</th> <td>3.86e-11</td>\n",
       "</tr>\n",
       "<tr>\n",
       "  <th>Time:</th>                 <td>07:40:49</td>     <th>  Log-Likelihood:    </th> <td> -40.688</td>\n",
       "</tr>\n",
       "<tr>\n",
       "  <th>No. Observations:</th>      <td>    30</td>      <th>  AIC:               </th> <td>   89.38</td>\n",
       "</tr>\n",
       "<tr>\n",
       "  <th>Df Residuals:</th>          <td>    26</td>      <th>  BIC:               </th> <td>   94.98</td>\n",
       "</tr>\n",
       "<tr>\n",
       "  <th>Df Model:</th>              <td>     3</td>      <th>                     </th>     <td> </td>   \n",
       "</tr>\n",
       "<tr>\n",
       "  <th>Covariance Type:</th>      <td>nonrobust</td>    <th>                     </th>     <td> </td>   \n",
       "</tr>\n",
       "</table>\n",
       "<table class=\"simpletable\">\n",
       "<tr>\n",
       "           <td></td>             <th>coef</th>     <th>std err</th>      <th>t</th>      <th>P>|t|</th>  <th>[0.025</th>    <th>0.975]</th>  \n",
       "</tr>\n",
       "<tr>\n",
       "  <th>Intercept</th>          <td>    6.9667</td> <td>    0.368</td> <td>   18.910</td> <td> 0.000</td> <td>    6.209</td> <td>    7.724</td>\n",
       "</tr>\n",
       "<tr>\n",
       "  <th>C(Newsletter)[T.1]</th> <td>    2.6667</td> <td>    0.368</td> <td>    7.238</td> <td> 0.000</td> <td>    1.909</td> <td>    3.424</td>\n",
       "</tr>\n",
       "<tr>\n",
       "  <th>C(Promotion)[T.2]</th>  <td>   -2.1000</td> <td>    0.451</td> <td>   -4.654</td> <td> 0.000</td> <td>   -3.027</td> <td>   -1.173</td>\n",
       "</tr>\n",
       "<tr>\n",
       "  <th>C(Promotion)[T.3]</th>  <td>   -4.6000</td> <td>    0.451</td> <td>  -10.195</td> <td> 0.000</td> <td>   -5.527</td> <td>   -3.673</td>\n",
       "</tr>\n",
       "</table>\n",
       "<table class=\"simpletable\">\n",
       "<tr>\n",
       "  <th>Omnibus:</th>       <td> 0.808</td> <th>  Durbin-Watson:     </th> <td>   2.006</td>\n",
       "</tr>\n",
       "<tr>\n",
       "  <th>Prob(Omnibus):</th> <td> 0.668</td> <th>  Jarque-Bera (JB):  </th> <td>   0.808</td>\n",
       "</tr>\n",
       "<tr>\n",
       "  <th>Skew:</th>          <td> 0.344</td> <th>  Prob(JB):          </th> <td>   0.668</td>\n",
       "</tr>\n",
       "<tr>\n",
       "  <th>Kurtosis:</th>      <td> 2.585</td> <th>  Cond. No.          </th> <td>    4.22</td>\n",
       "</tr>\n",
       "</table><br/><br/>Notes:<br/>[1] Standard Errors assume that the covariance matrix of the errors is correctly specified."
      ],
      "text/plain": [
       "<class 'statsmodels.iolib.summary.Summary'>\n",
       "\"\"\"\n",
       "                            OLS Regression Results                            \n",
       "==============================================================================\n",
       "Dep. Variable:                  Sales   R-squared:                       0.858\n",
       "Model:                            OLS   Adj. R-squared:                  0.841\n",
       "Method:                 Least Squares   F-statistic:                     52.20\n",
       "Date:                Tue, 11 Oct 2022   Prob (F-statistic):           3.86e-11\n",
       "Time:                        07:40:49   Log-Likelihood:                -40.688\n",
       "No. Observations:                  30   AIC:                             89.38\n",
       "Df Residuals:                      26   BIC:                             94.98\n",
       "Df Model:                           3                                         \n",
       "Covariance Type:            nonrobust                                         \n",
       "======================================================================================\n",
       "                         coef    std err          t      P>|t|      [0.025      0.975]\n",
       "--------------------------------------------------------------------------------------\n",
       "Intercept              6.9667      0.368     18.910      0.000       6.209       7.724\n",
       "C(Newsletter)[T.1]     2.6667      0.368      7.238      0.000       1.909       3.424\n",
       "C(Promotion)[T.2]     -2.1000      0.451     -4.654      0.000      -3.027      -1.173\n",
       "C(Promotion)[T.3]     -4.6000      0.451    -10.195      0.000      -5.527      -3.673\n",
       "==============================================================================\n",
       "Omnibus:                        0.808   Durbin-Watson:                   2.006\n",
       "Prob(Omnibus):                  0.668   Jarque-Bera (JB):                0.808\n",
       "Skew:                           0.344   Prob(JB):                        0.668\n",
       "Kurtosis:                       2.585   Cond. No.                         4.22\n",
       "==============================================================================\n",
       "\n",
       "Notes:\n",
       "[1] Standard Errors assume that the covariance matrix of the errors is correctly specified.\n",
       "\"\"\""
      ]
     },
     "execution_count": 98,
     "metadata": {},
     "output_type": "execute_result"
    }
   ],
   "source": [
    "model = smf.ols(\"Sales ~ C(Newsletter) + C(Promotion)\", data = sales).fit()\n",
    "model.summary()"
   ]
  },
  {
   "cell_type": "code",
   "execution_count": 99,
   "metadata": {},
   "outputs": [
    {
     "data": {
      "text/html": [
       "<div>\n",
       "<style scoped>\n",
       "    .dataframe tbody tr th:only-of-type {\n",
       "        vertical-align: middle;\n",
       "    }\n",
       "\n",
       "    .dataframe tbody tr th {\n",
       "        vertical-align: top;\n",
       "    }\n",
       "\n",
       "    .dataframe thead th {\n",
       "        text-align: right;\n",
       "    }\n",
       "</style>\n",
       "<table border=\"1\" class=\"dataframe\">\n",
       "  <thead>\n",
       "    <tr style=\"text-align: right;\">\n",
       "      <th></th>\n",
       "      <th>sum_sq</th>\n",
       "      <th>df</th>\n",
       "      <th>F</th>\n",
       "      <th>PR(&gt;F)</th>\n",
       "    </tr>\n",
       "  </thead>\n",
       "  <tbody>\n",
       "    <tr>\n",
       "      <th>Intercept</th>\n",
       "      <td>364.008333</td>\n",
       "      <td>1.0</td>\n",
       "      <td>357.590050</td>\n",
       "      <td>1.020414e-16</td>\n",
       "    </tr>\n",
       "    <tr>\n",
       "      <th>C(Newsletter)</th>\n",
       "      <td>53.333333</td>\n",
       "      <td>1.0</td>\n",
       "      <td>52.392947</td>\n",
       "      <td>1.095036e-07</td>\n",
       "    </tr>\n",
       "    <tr>\n",
       "      <th>C(Promotion)</th>\n",
       "      <td>106.066667</td>\n",
       "      <td>2.0</td>\n",
       "      <td>52.098237</td>\n",
       "      <td>8.032739e-10</td>\n",
       "    </tr>\n",
       "    <tr>\n",
       "      <th>Residual</th>\n",
       "      <td>26.466667</td>\n",
       "      <td>26.0</td>\n",
       "      <td>NaN</td>\n",
       "      <td>NaN</td>\n",
       "    </tr>\n",
       "  </tbody>\n",
       "</table>\n",
       "</div>"
      ],
      "text/plain": [
       "                   sum_sq    df           F        PR(>F)\n",
       "Intercept      364.008333   1.0  357.590050  1.020414e-16\n",
       "C(Newsletter)   53.333333   1.0   52.392947  1.095036e-07\n",
       "C(Promotion)   106.066667   2.0   52.098237  8.032739e-10\n",
       "Residual        26.466667  26.0         NaN           NaN"
      ]
     },
     "execution_count": 99,
     "metadata": {},
     "output_type": "execute_result"
    }
   ],
   "source": [
    "import statsmodels.api as sm\n",
    "sm.stats.anova_lm(model, typ=3) "
   ]
  },
  {
   "cell_type": "markdown",
   "metadata": {},
   "source": [
    "But what about interactions?"
   ]
  },
  {
   "cell_type": "code",
   "execution_count": 100,
   "metadata": {},
   "outputs": [
    {
     "data": {
      "text/html": [
       "<div>\n",
       "<style scoped>\n",
       "    .dataframe tbody tr th:only-of-type {\n",
       "        vertical-align: middle;\n",
       "    }\n",
       "\n",
       "    .dataframe tbody tr th {\n",
       "        vertical-align: top;\n",
       "    }\n",
       "\n",
       "    .dataframe thead th {\n",
       "        text-align: right;\n",
       "    }\n",
       "</style>\n",
       "<table border=\"1\" class=\"dataframe\">\n",
       "  <thead>\n",
       "    <tr style=\"text-align: right;\">\n",
       "      <th></th>\n",
       "      <th>sum_sq</th>\n",
       "      <th>df</th>\n",
       "      <th>F</th>\n",
       "      <th>PR(&gt;F)</th>\n",
       "    </tr>\n",
       "  </thead>\n",
       "  <tbody>\n",
       "    <tr>\n",
       "      <th>Intercept</th>\n",
       "      <td>273.800000</td>\n",
       "      <td>1.0</td>\n",
       "      <td>283.241379</td>\n",
       "      <td>8.636680e-15</td>\n",
       "    </tr>\n",
       "    <tr>\n",
       "      <th>C(Newsletter)</th>\n",
       "      <td>8.100000</td>\n",
       "      <td>1.0</td>\n",
       "      <td>8.379310</td>\n",
       "      <td>7.958602e-03</td>\n",
       "    </tr>\n",
       "    <tr>\n",
       "      <th>C(Promotion)</th>\n",
       "      <td>72.933333</td>\n",
       "      <td>2.0</td>\n",
       "      <td>37.724138</td>\n",
       "      <td>3.902724e-08</td>\n",
       "    </tr>\n",
       "    <tr>\n",
       "      <th>C(Newsletter):C(Promotion)</th>\n",
       "      <td>3.266667</td>\n",
       "      <td>2.0</td>\n",
       "      <td>1.689655</td>\n",
       "      <td>2.058092e-01</td>\n",
       "    </tr>\n",
       "    <tr>\n",
       "      <th>Residual</th>\n",
       "      <td>23.200000</td>\n",
       "      <td>24.0</td>\n",
       "      <td>NaN</td>\n",
       "      <td>NaN</td>\n",
       "    </tr>\n",
       "  </tbody>\n",
       "</table>\n",
       "</div>"
      ],
      "text/plain": [
       "                                sum_sq    df           F        PR(>F)\n",
       "Intercept                   273.800000   1.0  283.241379  8.636680e-15\n",
       "C(Newsletter)                 8.100000   1.0    8.379310  7.958602e-03\n",
       "C(Promotion)                 72.933333   2.0   37.724138  3.902724e-08\n",
       "C(Newsletter):C(Promotion)    3.266667   2.0    1.689655  2.058092e-01\n",
       "Residual                     23.200000  24.0         NaN           NaN"
      ]
     },
     "execution_count": 100,
     "metadata": {},
     "output_type": "execute_result"
    }
   ],
   "source": [
    "model = smf.ols(\"Sales ~ C(Newsletter) * C(Promotion)\", data = sales).fit()\n",
    "sm.stats.anova_lm(model, typ=3) "
   ]
  },
  {
   "cell_type": "markdown",
   "metadata": {},
   "source": [
    "## Power analysis"
   ]
  },
  {
   "cell_type": "markdown",
   "metadata": {},
   "source": [
    "How do you know that you had "
   ]
  }
 ],
 "metadata": {
  "kernelspec": {
   "display_name": "Python 3.10.7 64-bit",
   "language": "python",
   "name": "python3"
  },
  "language_info": {
   "codemirror_mode": {
    "name": "ipython",
    "version": 3
   },
   "file_extension": ".py",
   "mimetype": "text/x-python",
   "name": "python",
   "nbconvert_exporter": "python",
   "pygments_lexer": "ipython3",
   "version": "3.10.7"
  },
  "orig_nbformat": 4,
  "vscode": {
   "interpreter": {
    "hash": "683e9bbf599fde3b00e37a0db68ad40a268db525b46af3924c3427b16ddb8792"
   }
  }
 },
 "nbformat": 4,
 "nbformat_minor": 2
}
