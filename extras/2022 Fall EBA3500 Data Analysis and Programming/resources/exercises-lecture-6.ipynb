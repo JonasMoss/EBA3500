{
  "cells": [
    {
      "cell_type": "markdown",
      "metadata": {
        "id": "HfmFu7z9m37E"
      },
      "source": [
        "# EBA3500 Exercises 6"
      ]
    },
    {
      "cell_type": "markdown",
      "metadata": {
        "id": "KZWoknLrXUHv"
      },
      "source": [
        "The following definition wasn't included in the lectures, but was implicitly used in the last part of part (ii).\n",
        "#### Definition: Categorical regression with one category\n",
        "> Let $A_1, A_2, ..., A_k$ be sets and $x$ be a vector whose $i$th element is in $A_i$. Then the linear regression model based on these sets (or these categorical variables) is\n",
        "$$\n",
        "y = \\sum_{i=1}^k \\sum_{a_i\\in A_i} \\beta_{a_i} 1[x_i \\textrm{ = }a_i] + \\epsilon,\\quad x_i \\textrm{ in } A_i.\n",
        "$$\n",
        "\n",
        "For instance, let $A_1 = \\{\\textrm{female}, \\textrm{male}\\}$ and $A_2 = \\{\\textrm{Biscoe}, \\textrm{Dream}, \\textrm{Torgersen}\\}$. Then the regression model based on these categorical variables is\n",
        "$$ \n",
        "y = \\sum_{a_1\\in A_1} \\beta_{a_i} 1[x_1 \\textrm{ = }a_1] + \\sum_{a_2\\in A_2} \\beta_{a_2} 1[x_i \\textrm{ = }a_2] + \\epsilon\n",
        "$$\n",
        "which equals\n",
        "$$\n",
        "y = \\beta_{\\textrm{female}}1[x_1 =\\textrm{female}] + \\beta_{\\textrm{male}}1[x_1 =\\textrm{male}] + \\beta_{\\textrm{Biscoe}}1[x_2 =\\textrm{Biscoe}]+\\beta_{\\textrm{Dream}}1[x_2 =\\textrm{Dream}] + \\beta_{\\textrm{Torgersen}}1[x_2 =\\textrm{Torgersen}] + \\epsilon\n",
        "$$"
      ]
    },
    {
      "cell_type": "markdown",
      "metadata": {
        "id": "FrJ59N3ZS5Lr"
      },
      "source": [
        "## Exercise 1: Review exercises"
      ]
    },
    {
      "cell_type": "markdown",
      "metadata": {
        "id": "-LcD_tWkS94z"
      },
      "source": [
        "1.   Define the indicator function $1[x\\textrm{ in }A]$. \n",
        "4.   What are, roughly, the three types of statistical data?\n",
        "2.   What is the definition of regression with categorical variables in a set $A$?\n",
        "2.   What does `y ~ C(x)` do in `statsmodels`?\n",
        "3.   What is the difference between `y ~ C(x) - 1` and `y ~ C(x)`?\n",
        "4.   Why would you want to use `y ~ C(x)` instead of `y ~ C(x) - 1`?\n",
        "\n",
        "\n"
      ]
    },
    {
      "cell_type": "markdown",
      "metadata": {
        "id": "kpquW-fZnhXD"
      },
      "source": [
        "### Exercise 2: Penguin plots"
      ]
    },
    {
      "cell_type": "markdown",
      "metadata": {
        "id": "JfmG2y3ynoJS"
      },
      "source": [
        "We went through several plotting functions in part (ii) of the lecture, and have covered some before too. Let's employ them on the penguin data set!"
      ]
    },
    {
      "cell_type": "code",
      "execution_count": 8,
      "metadata": {
        "id": "clXqv0m3n1DT"
      },
      "outputs": [],
      "source": [
        "import seaborn as sns\n",
        "penguins = sns.load_dataset(\"penguins\")"
      ]
    },
    {
      "cell_type": "markdown",
      "metadata": {
        "id": "uP3D_fC5n2zt"
      },
      "source": [
        "## (a)\n",
        "Visualize the number of males and females by the island and species categories. Comment briefly on the plot. (*Hint:* Use `sns.catplot`!)"
      ]
    },
    {
      "cell_type": "markdown",
      "metadata": {
        "id": "5wmsmgbdoEN7"
      },
      "source": [
        "### (b)\n",
        "Is there any relationsship between `island` and `species` on one hand, and probability of being female on the other hand? Make a guess first, an then run the logistic regression `sex ~ island + species`."
      ]
    },
    {
      "cell_type": "markdown",
      "metadata": {
        "id": "LCGoo5kHpA5y"
      },
      "source": [
        "### (c)\n",
        "Plot the flipper length by sex, species, and island. Comment on the results. (*Hint:* Use `sns.catplot` again.) "
      ]
    },
    {
      "cell_type": "markdown",
      "metadata": {
        "id": "UdvXaXlXi3g7"
      },
      "source": [
        "## Exercises 3: Interpreting penguins"
      ]
    },
    {
      "cell_type": "markdown",
      "metadata": {
        "id": "eX-STGUpjP57"
      },
      "source": [
        "Consdiser the following regression model,"
      ]
    },
    {
      "cell_type": "markdown",
      "metadata": {
        "id": "gizQesV0jGMd"
      },
      "source": [
        "### (a)\n",
        "Comment on the $R^2$, the *p*-values and the *t*-values. How do you interpret them? Are there any covariates that do not appear to matter very much?"
      ]
    },
    {
      "cell_type": "markdown",
      "metadata": {
        "id": "7CViyyLTj-gc"
      },
      "source": [
        "### (b)\n",
        "What are the baseline covariates in this model? That is, what values of `island`, `species`, and `sex` are absorbed into the intercept?"
      ]
    },
    {
      "cell_type": "markdown",
      "metadata": {
        "id": "Re_2I-PMkp2b"
      },
      "source": [
        "### (c)\n",
        "1. Predict the bill length of a *female* penguin on the island *Biscoe* of the species *Gentoo*. You should use the parameters (i.e. `fit.params`) of the regression model, but use the `predict` method (and similar methods) only to validate. You should be able to do the calculation correctly using this information only.\n",
        "2. Predict the bill length of a *male* penguin on the island *Dream* of the species *Chinstrap*.\n",
        "3. Predict the bill length of a *female* penguin on the island *Biscoe* of the species *Adelie*."
      ]
    },
    {
      "cell_type": "markdown",
      "metadata": {
        "id": "o8wfjlHKlWTu"
      },
      "source": [
        "### (d)\n",
        "I want you to predict the bill length of my penguin. However, I've messed up! Due to a serious case of sensory malfunction, I can't distinguish the species *Chinstrap* and *Adelie* from one another. Make a regression model `fit2` that predicts the bill length from `islands`, `sex` and `species`, but that cannot differentiate between *Chinstrap* and *Adelie*. Use it to predict the bill length of a *female* penguin on *Biscoe* of species either equal to *Chinstrap* or *Adelie*. \n",
        "**Hint:** Can you make a new column in `penguins` that merges Chinstrap and Adelie into a single \"species\"?"
      ]
    },
    {
      "cell_type": "markdown",
      "metadata": {
        "id": "DTvJN43nmKMT"
      },
      "source": [
        "### (e) \n",
        "For the model `fit2` you made in the previous problem, predict the value a penguin with species *Gentoo*. Compare your prediction to that of `fit`. "
      ]
    },
    {
      "cell_type": "markdown",
      "metadata": {
        "id": "YL3v0CvpRt-v"
      },
      "source": [
        "## Exercise 3: Indicator functions and regression\n"
      ]
    },
    {
      "cell_type": "markdown",
      "metadata": {
        "id": "noiTgZakSxtH"
      },
      "source": [
        "\n",
        "## (a)\n",
        "Using the `titanic` data from lecture (ii), spell out `Survived ~ Sex` using indicator functions. Remember to take the baseline into account.\n"
      ]
    },
    {
      "cell_type": "markdown",
      "metadata": {
        "id": "KOU1Il-QSwE4"
      },
      "source": [
        "\n",
        "## (b)\n",
        "Spell out `Survived ~ Class` using indicator functions. Again, remember the baseline!\n"
      ]
    },
    {
      "cell_type": "markdown",
      "metadata": {
        "id": "tdVnuMl2SvJ2"
      },
      "source": [
        "\n",
        "## (c)\n",
        "Spell out `Survived ~ Class + Sex` using indicator functions. "
      ]
    }
  ],
  "metadata": {
    "colab": {
      "name": "EBA3500-exercises-7",
      "provenance": []
    },
    "kernelspec": {
      "display_name": "Python 3",
      "name": "python3"
    },
    "language_info": {
      "name": "python"
    }
  },
  "nbformat": 4,
  "nbformat_minor": 0
}
