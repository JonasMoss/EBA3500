{
 "cells": [
  {
   "cell_type": "markdown",
   "id": "04ffa6a2",
   "metadata": {},
   "source": [
    "# Exercise 10 - Solutions"
   ]
  },
  {
   "cell_type": "markdown",
   "id": "4420797a",
   "metadata": {},
   "source": [
    "### 1: Coding of variables\n",
    "#### a) Understanding Codings"
   ]
  },
  {
   "cell_type": "markdown",
   "id": "55739777",
   "metadata": {},
   "source": [
    "A correct coding has to respect the order of the ordinal elements and be complete in the sense that it has a mapping for all ordinal values. Thus (i) and (iii) are codings of the given ordinal values.  "
   ]
  },
  {
   "cell_type": "markdown",
   "id": "a9fdd0ee",
   "metadata": {},
   "source": [
    "#### b) A simple coding function"
   ]
  },
  {
   "cell_type": "code",
   "execution_count": 1,
   "id": "be68e1d1",
   "metadata": {},
   "outputs": [],
   "source": [
    "def simple_coding(series):\n",
    "    \n",
    "    \"\"\"\n",
    "    This function creates a simple coding for an ordinal input series.\n",
    "    \n",
    "    Parameters\n",
    "    ----------\n",
    "        series : pandas.Series\n",
    "            The input series to be encoded\n",
    "    \n",
    "    Returns\n",
    "    -------\n",
    "            The encoded input sequence\n",
    "    \"\"\"\n",
    "    \n",
    "    # extract vlaues of categorical variable\n",
    "    values = series.dtype.categories\n",
    "    \n",
    "    # create a dictionary with keys=ordinal values and values=coding\n",
    "    dict = {a:i+1 for i,a in enumerate(values)}\n",
    "    \n",
    "    # encode & return the series\n",
    "    return series.replace(dict)\n"
   ]
  },
  {
   "cell_type": "markdown",
   "id": "1a843983",
   "metadata": {},
   "source": [
    "Let's read in the dataset provided in the exercise to test our simple function."
   ]
  },
  {
   "cell_type": "code",
   "execution_count": 2,
   "id": "4f808ba2",
   "metadata": {},
   "outputs": [
    {
     "data": {
      "text/html": [
       "<div>\n",
       "<style scoped>\n",
       "    .dataframe tbody tr th:only-of-type {\n",
       "        vertical-align: middle;\n",
       "    }\n",
       "\n",
       "    .dataframe tbody tr th {\n",
       "        vertical-align: top;\n",
       "    }\n",
       "\n",
       "    .dataframe thead th {\n",
       "        text-align: right;\n",
       "    }\n",
       "</style>\n",
       "<table border=\"1\" class=\"dataframe\">\n",
       "  <thead>\n",
       "    <tr style=\"text-align: right;\">\n",
       "      <th></th>\n",
       "      <th>apply</th>\n",
       "      <th>pared</th>\n",
       "      <th>public</th>\n",
       "      <th>gpa</th>\n",
       "    </tr>\n",
       "  </thead>\n",
       "  <tbody>\n",
       "    <tr>\n",
       "      <th>0</th>\n",
       "      <td>very likely</td>\n",
       "      <td>0</td>\n",
       "      <td>0</td>\n",
       "      <td>3.26</td>\n",
       "    </tr>\n",
       "    <tr>\n",
       "      <th>1</th>\n",
       "      <td>somewhat likely</td>\n",
       "      <td>1</td>\n",
       "      <td>0</td>\n",
       "      <td>3.21</td>\n",
       "    </tr>\n",
       "    <tr>\n",
       "      <th>2</th>\n",
       "      <td>unlikely</td>\n",
       "      <td>1</td>\n",
       "      <td>1</td>\n",
       "      <td>3.94</td>\n",
       "    </tr>\n",
       "    <tr>\n",
       "      <th>3</th>\n",
       "      <td>somewhat likely</td>\n",
       "      <td>0</td>\n",
       "      <td>0</td>\n",
       "      <td>2.81</td>\n",
       "    </tr>\n",
       "    <tr>\n",
       "      <th>4</th>\n",
       "      <td>somewhat likely</td>\n",
       "      <td>0</td>\n",
       "      <td>0</td>\n",
       "      <td>2.53</td>\n",
       "    </tr>\n",
       "  </tbody>\n",
       "</table>\n",
       "</div>"
      ],
      "text/plain": [
       "             apply  pared  public   gpa\n",
       "0      very likely      0       0  3.26\n",
       "1  somewhat likely      1       0  3.21\n",
       "2         unlikely      1       1  3.94\n",
       "3  somewhat likely      0       0  2.81\n",
       "4  somewhat likely      0       0  2.53"
      ]
     },
     "execution_count": 2,
     "metadata": {},
     "output_type": "execute_result"
    }
   ],
   "source": [
    "import pandas as pd\n",
    "url = \"https://stats.idre.ucla.edu/stat/data/ologit.dta\"\n",
    "data_student = pd.read_stata(url)\n",
    "data_student.head()\n"
   ]
  },
  {
   "cell_type": "markdown",
   "id": "ecc5e6e8",
   "metadata": {},
   "source": [
    "Test the function:"
   ]
  },
  {
   "cell_type": "code",
   "execution_count": 3,
   "id": "c70c5319",
   "metadata": {},
   "outputs": [
    {
     "data": {
      "text/plain": [
       "0      3\n",
       "1      2\n",
       "2      1\n",
       "3      2\n",
       "4      2\n",
       "      ..\n",
       "395    1\n",
       "396    1\n",
       "397    2\n",
       "398    2\n",
       "399    3\n",
       "Name: apply, Length: 400, dtype: int64"
      ]
     },
     "execution_count": 3,
     "metadata": {},
     "output_type": "execute_result"
    }
   ],
   "source": [
    "simple_coding(data_student['apply'])"
   ]
  },
  {
   "cell_type": "markdown",
   "id": "cc8eb601",
   "metadata": {},
   "source": [
    "#### c) A coding function\n",
    "\n",
    "Given the way we structured the `simple_coding` function, only very minor changes are required. Notice that the default argument implements the mapping used in the `simple_coding` function."
   ]
  },
  {
   "cell_type": "code",
   "execution_count": 4,
   "id": "10c9a832",
   "metadata": {},
   "outputs": [],
   "source": [
    "def coding(series, f = lambda x: x):\n",
    "    \n",
    "    \"\"\"\n",
    "    This function creates a simple coding for an ordinal input series based on the coding defined by function `f`.\n",
    "    \n",
    "    Parameters\n",
    "    ----------\n",
    "        series : pandas.Series\n",
    "            The input series to be encoded.\n",
    "        f : function\n",
    "            A coding function that defines the encoding.\n",
    "    \n",
    "    Returns\n",
    "    -------\n",
    "            The encoded input sequence\n",
    "    \"\"\"\n",
    "    \n",
    "    # extract vlaues of categorical variable\n",
    "    values = series.dtype.categories\n",
    "    \n",
    "    # create a dictionary with keys=ordinal values and values=coding\n",
    "    dict_ = {a : f(i+1) for i,a in enumerate(values)}\n",
    "    \n",
    "    # encode & return the series\n",
    "    return series.replace(dict_)\n"
   ]
  },
  {
   "cell_type": "markdown",
   "id": "72c844dd",
   "metadata": {},
   "source": [
    "Let's again test the function on the provided data using `x**2`:"
   ]
  },
  {
   "cell_type": "code",
   "execution_count": 5,
   "id": "c324ecaf",
   "metadata": {},
   "outputs": [
    {
     "data": {
      "text/plain": [
       "0      9\n",
       "1      4\n",
       "2      1\n",
       "3      4\n",
       "4      4\n",
       "      ..\n",
       "395    1\n",
       "396    1\n",
       "397    4\n",
       "398    4\n",
       "399    9\n",
       "Name: apply, Length: 400, dtype: int64"
      ]
     },
     "execution_count": 5,
     "metadata": {},
     "output_type": "execute_result"
    }
   ],
   "source": [
    "coding(data_student['apply'], lambda x: x**2)"
   ]
  },
  {
   "cell_type": "markdown",
   "id": "1581bcf1",
   "metadata": {},
   "source": [
    "Finally, let's test using `np.log`:"
   ]
  },
  {
   "cell_type": "code",
   "execution_count": 6,
   "id": "ca1d366f",
   "metadata": {},
   "outputs": [
    {
     "data": {
      "text/plain": [
       "<PandasArray>\n",
       "[1.0986122886681098, 0.6931471805599453,                0.0,\n",
       " 0.6931471805599453, 0.6931471805599453,                0.0,\n",
       " 0.6931471805599453, 0.6931471805599453,                0.0,\n",
       " 0.6931471805599453,\n",
       " ...\n",
       "                0.0, 0.6931471805599453, 1.0986122886681098,\n",
       " 0.6931471805599453, 0.6931471805599453,                0.0,\n",
       "                0.0, 0.6931471805599453, 0.6931471805599453,\n",
       " 1.0986122886681098]\n",
       "Length: 400, dtype: float64"
      ]
     },
     "execution_count": 6,
     "metadata": {},
     "output_type": "execute_result"
    }
   ],
   "source": [
    "import numpy as np\n",
    "coding(data_student[\"apply\"], np.log).array"
   ]
  },
  {
   "cell_type": "markdown",
   "id": "e83fa262",
   "metadata": {},
   "source": [
    "#### d) Applications\n",
    "Let's start with the student dataset:\n",
    "\n",
    "##### Student dataset\n",
    "###### (i)"
   ]
  },
  {
   "cell_type": "code",
   "execution_count": 7,
   "id": "ce1275c7",
   "metadata": {},
   "outputs": [
    {
     "data": {
      "text/plain": [
       "0      3\n",
       "1      2\n",
       "2      1\n",
       "3      2\n",
       "4      2\n",
       "      ..\n",
       "395    1\n",
       "396    1\n",
       "397    2\n",
       "398    2\n",
       "399    3\n",
       "Name: apply, Length: 400, dtype: int64"
      ]
     },
     "execution_count": 7,
     "metadata": {},
     "output_type": "execute_result"
    }
   ],
   "source": [
    "coding(data_student['apply'])"
   ]
  },
  {
   "cell_type": "markdown",
   "id": "812bd180",
   "metadata": {},
   "source": [
    "###### (ii)"
   ]
  },
  {
   "cell_type": "code",
   "execution_count": 8,
   "id": "74e8a574",
   "metadata": {},
   "outputs": [
    {
     "data": {
      "text/plain": [
       "0      9\n",
       "1      4\n",
       "2      1\n",
       "3      4\n",
       "4      4\n",
       "      ..\n",
       "395    1\n",
       "396    1\n",
       "397    4\n",
       "398    4\n",
       "399    9\n",
       "Name: apply, Length: 400, dtype: int64"
      ]
     },
     "execution_count": 8,
     "metadata": {},
     "output_type": "execute_result"
    }
   ],
   "source": [
    "coding(data_student['apply'], lambda x: x**2)"
   ]
  },
  {
   "cell_type": "markdown",
   "id": "a4e63535",
   "metadata": {},
   "source": [
    "###### (iii) \n",
    "\n",
    "The lambda function for this purpose can be written as:"
   ]
  },
  {
   "cell_type": "code",
   "execution_count": 9,
   "id": "023fdbba",
   "metadata": {},
   "outputs": [],
   "source": [
    "g = lambda x: 1 if x == 1 else (x+1 if x>1 else None)"
   ]
  },
  {
   "cell_type": "markdown",
   "id": "73767546",
   "metadata": {},
   "source": [
    "It returns $1$, if $x$ is $1$, returns $x+1$, if $x>1$ and returns `None` otherwise. "
   ]
  },
  {
   "cell_type": "code",
   "execution_count": 10,
   "id": "2927ec14",
   "metadata": {},
   "outputs": [
    {
     "data": {
      "text/plain": [
       "0      4\n",
       "1      3\n",
       "2      1\n",
       "3      3\n",
       "4      3\n",
       "      ..\n",
       "395    1\n",
       "396    1\n",
       "397    3\n",
       "398    3\n",
       "399    4\n",
       "Name: apply, Length: 400, dtype: int64"
      ]
     },
     "execution_count": 10,
     "metadata": {},
     "output_type": "execute_result"
    }
   ],
   "source": [
    "coding(data_student['apply'], g)"
   ]
  },
  {
   "cell_type": "markdown",
   "id": "eff7c554",
   "metadata": {},
   "source": [
    "##### Global Warming Data\n"
   ]
  },
  {
   "cell_type": "code",
   "execution_count": 11,
   "id": "3f37a761",
   "metadata": {},
   "outputs": [],
   "source": [
    "import pyreadr, os, pathlib\n",
    "\n",
    "def pyreadr_load(url, local_file = \"temp_pyreadr.rda\"):\n",
    "    \"\"\"\n",
    "    Download the R dataset at the specified url into local_file, load the \n",
    "    local file, delete the local file. Return the dataset.\n",
    "    \"\"\"\n",
    "  \n",
    "    file_name = pyreadr.download_file(url, local_file)\n",
    "    dataframe = pyreadr.read_r(file_name)\n",
    "    os.remove(str(pathlib.Path().resolve()) + \"/\" + file_name)\n",
    "    name = next(iter(dataframe.items()))[0]\n",
    "    return dataframe[name]"
   ]
  },
  {
   "cell_type": "markdown",
   "id": "447b2d70",
   "metadata": {},
   "source": [
    "Load the data."
   ]
  },
  {
   "cell_type": "code",
   "execution_count": 12,
   "id": "30c386ce",
   "metadata": {},
   "outputs": [
    {
     "data": {
      "text/html": [
       "<div>\n",
       "<style scoped>\n",
       "    .dataframe tbody tr th:only-of-type {\n",
       "        vertical-align: middle;\n",
       "    }\n",
       "\n",
       "    .dataframe tbody tr th {\n",
       "        vertical-align: top;\n",
       "    }\n",
       "\n",
       "    .dataframe thead th {\n",
       "        text-align: right;\n",
       "    }\n",
       "</style>\n",
       "<table border=\"1\" class=\"dataframe\">\n",
       "  <thead>\n",
       "    <tr style=\"text-align: right;\">\n",
       "      <th></th>\n",
       "      <th>govact</th>\n",
       "      <th>posemot</th>\n",
       "      <th>negemot</th>\n",
       "      <th>ideology</th>\n",
       "      <th>age</th>\n",
       "      <th>sex</th>\n",
       "      <th>partyid</th>\n",
       "    </tr>\n",
       "  </thead>\n",
       "  <tbody>\n",
       "    <tr>\n",
       "      <th>0</th>\n",
       "      <td>7.0</td>\n",
       "      <td>1.00</td>\n",
       "      <td>6.0</td>\n",
       "      <td>3.0</td>\n",
       "      <td>34.0</td>\n",
       "      <td>0.0</td>\n",
       "      <td>2.0</td>\n",
       "    </tr>\n",
       "    <tr>\n",
       "      <th>1</th>\n",
       "      <td>6.0</td>\n",
       "      <td>5.00</td>\n",
       "      <td>6.0</td>\n",
       "      <td>4.0</td>\n",
       "      <td>50.0</td>\n",
       "      <td>1.0</td>\n",
       "      <td>2.0</td>\n",
       "    </tr>\n",
       "    <tr>\n",
       "      <th>2</th>\n",
       "      <td>5.2</td>\n",
       "      <td>2.00</td>\n",
       "      <td>6.0</td>\n",
       "      <td>5.0</td>\n",
       "      <td>50.0</td>\n",
       "      <td>0.0</td>\n",
       "      <td>2.0</td>\n",
       "    </tr>\n",
       "    <tr>\n",
       "      <th>3</th>\n",
       "      <td>6.0</td>\n",
       "      <td>4.33</td>\n",
       "      <td>6.0</td>\n",
       "      <td>4.0</td>\n",
       "      <td>71.0</td>\n",
       "      <td>1.0</td>\n",
       "      <td>1.0</td>\n",
       "    </tr>\n",
       "    <tr>\n",
       "      <th>4</th>\n",
       "      <td>7.0</td>\n",
       "      <td>3.00</td>\n",
       "      <td>6.0</td>\n",
       "      <td>1.0</td>\n",
       "      <td>40.0</td>\n",
       "      <td>0.0</td>\n",
       "      <td>1.0</td>\n",
       "    </tr>\n",
       "  </tbody>\n",
       "</table>\n",
       "</div>"
      ],
      "text/plain": [
       "   govact  posemot  negemot  ideology   age  sex  partyid\n",
       "0     7.0     1.00      6.0       3.0  34.0  0.0      2.0\n",
       "1     6.0     5.00      6.0       4.0  50.0  1.0      2.0\n",
       "2     5.2     2.00      6.0       5.0  50.0  0.0      2.0\n",
       "3     6.0     4.33      6.0       4.0  71.0  1.0      1.0\n",
       "4     7.0     3.00      6.0       1.0  40.0  0.0      1.0"
      ]
     },
     "execution_count": 12,
     "metadata": {},
     "output_type": "execute_result"
    }
   ],
   "source": [
    "url = 'https://github.com/cardiomoon/processR/blob/master/data/glbwarm.rda?raw=true'\n",
    "glbwarm = pyreadr_load(url)\n",
    "glbwarm.head()"
   ]
  },
  {
   "cell_type": "markdown",
   "id": "e1634d78",
   "metadata": {},
   "source": [
    "###### (i)\n",
    "First, we see that \"ideology\" is a `float`. We thus have to convert it to categorical first."
   ]
  },
  {
   "cell_type": "code",
   "execution_count": 13,
   "id": "9e898205",
   "metadata": {},
   "outputs": [
    {
     "data": {
      "text/plain": [
       "dtype('float64')"
      ]
     },
     "execution_count": 13,
     "metadata": {},
     "output_type": "execute_result"
    }
   ],
   "source": [
    "glbwarm.ideology.dtype"
   ]
  },
  {
   "cell_type": "code",
   "execution_count": 14,
   "id": "76d0cf23",
   "metadata": {},
   "outputs": [],
   "source": [
    "# convert ideology to ordered categorical\n",
    "glbwarm['ideology'] = pd.Categorical(glbwarm.ideology, ordered=True)"
   ]
  },
  {
   "cell_type": "markdown",
   "id": "47bfc877",
   "metadata": {},
   "source": [
    "We are now ready to call our function:"
   ]
  },
  {
   "cell_type": "code",
   "execution_count": 15,
   "id": "e3dd37cd",
   "metadata": {},
   "outputs": [
    {
     "data": {
      "text/plain": [
       "0      3\n",
       "1      4\n",
       "2      5\n",
       "3      4\n",
       "4      1\n",
       "      ..\n",
       "810    4\n",
       "811    7\n",
       "812    5\n",
       "813    6\n",
       "814    7\n",
       "Name: ideology, Length: 815, dtype: int64"
      ]
     },
     "execution_count": 15,
     "metadata": {},
     "output_type": "execute_result"
    }
   ],
   "source": [
    "coding(glbwarm['ideology'])"
   ]
  },
  {
   "cell_type": "markdown",
   "id": "2cca4cf2",
   "metadata": {},
   "source": [
    "###### (ii)"
   ]
  },
  {
   "cell_type": "code",
   "execution_count": 16,
   "id": "b7ccb3a7",
   "metadata": {},
   "outputs": [
    {
     "data": {
      "text/plain": [
       "0       9\n",
       "1      16\n",
       "2      25\n",
       "3      16\n",
       "4       1\n",
       "       ..\n",
       "810    16\n",
       "811    49\n",
       "812    25\n",
       "813    36\n",
       "814    49\n",
       "Name: ideology, Length: 815, dtype: int64"
      ]
     },
     "execution_count": 16,
     "metadata": {},
     "output_type": "execute_result"
    }
   ],
   "source": [
    "coding(glbwarm['ideology'], lambda x: x**2)"
   ]
  },
  {
   "cell_type": "markdown",
   "id": "263adfeb",
   "metadata": {},
   "source": [
    "###### (iii)"
   ]
  },
  {
   "cell_type": "code",
   "execution_count": 17,
   "id": "148d8413",
   "metadata": {},
   "outputs": [
    {
     "data": {
      "text/plain": [
       "0      4\n",
       "1      5\n",
       "2      6\n",
       "3      5\n",
       "4      1\n",
       "      ..\n",
       "810    5\n",
       "811    8\n",
       "812    6\n",
       "813    7\n",
       "814    8\n",
       "Name: ideology, Length: 815, dtype: int64"
      ]
     },
     "execution_count": 17,
     "metadata": {},
     "output_type": "execute_result"
    }
   ],
   "source": [
    "coding(glbwarm['ideology'], g)"
   ]
  },
  {
   "cell_type": "markdown",
   "id": "3aac90d0",
   "metadata": {},
   "source": [
    "#### e) Another coding function\n",
    "\n",
    "Given the ability for recursive function calls and the way we set up our function, we can actually plug in the new mapping function directly."
   ]
  },
  {
   "cell_type": "code",
   "execution_count": 18,
   "id": "e812c6e4",
   "metadata": {},
   "outputs": [],
   "source": [
    "f = lambda i: np.sign(i - np.mean(coding(data_student['apply']))) * (i - np.mean(coding(data_student['apply']))) ** 2"
   ]
  },
  {
   "cell_type": "code",
   "execution_count": 19,
   "id": "e8756950",
   "metadata": {},
   "outputs": [
    {
     "data": {
      "text/plain": [
       "0      2.1025\n",
       "1      0.2025\n",
       "2     -0.3025\n",
       "3      0.2025\n",
       "4      0.2025\n",
       "        ...  \n",
       "395   -0.3025\n",
       "396   -0.3025\n",
       "397    0.2025\n",
       "398    0.2025\n",
       "399    2.1025\n",
       "Name: apply, Length: 400, dtype: float64"
      ]
     },
     "execution_count": 19,
     "metadata": {},
     "output_type": "execute_result"
    }
   ],
   "source": [
    "coding(data_student['apply'], f)"
   ]
  },
  {
   "cell_type": "markdown",
   "id": "533269e1",
   "metadata": {},
   "source": [
    "If we want to keep the function slightly more flexible, we can make the following adjustments to our code:"
   ]
  },
  {
   "cell_type": "code",
   "execution_count": 20,
   "id": "bf53d4d8",
   "metadata": {},
   "outputs": [],
   "source": [
    "# import signature\n",
    "from inspect import signature"
   ]
  },
  {
   "cell_type": "code",
   "execution_count": 21,
   "id": "7bf36f14",
   "metadata": {},
   "outputs": [],
   "source": [
    "def coding(series, f = lambda x: x):\n",
    "    \n",
    "    \"\"\"\n",
    "    This function creates a simple coding for an ordinal input series based on the coding defined by function `f`.\n",
    "    \n",
    "    Parameters\n",
    "    ----------\n",
    "        series : pandas.Series\n",
    "            The input series to be encoded.\n",
    "        f : function\n",
    "            A coding function that defines the encoding.\n",
    "    \n",
    "    Returns\n",
    "    -------\n",
    "            The encoded input sequence\n",
    "    \"\"\"\n",
    "    \n",
    "    # extract vlaues of categorical variable\n",
    "    values = series.dtype.categories\n",
    "    \n",
    "    # create a dictionary with keys=ordinal values and values=coding\n",
    "    ## check the number of function arguments\n",
    "    if len(signature(f).parameters) == 1:\n",
    "        dict_ = {a : f(i+1) for i,a in enumerate(values)}\n",
    "    else:\n",
    "        dict_ = {a : f(i+1,series) for i,a in enumerate(values)}\n",
    "        \n",
    "    # encode & return the series\n",
    "    return series.replace(dict_)"
   ]
  },
  {
   "cell_type": "markdown",
   "id": "9bfeecd0",
   "metadata": {},
   "source": [
    "Let's again run a quick test:"
   ]
  },
  {
   "cell_type": "code",
   "execution_count": 22,
   "id": "b0292c3b",
   "metadata": {},
   "outputs": [],
   "source": [
    "f = lambda i, s: np.sign(i - np.mean(coding(s))) * (i - np.mean(coding(s))) ** 2"
   ]
  },
  {
   "cell_type": "code",
   "execution_count": 23,
   "id": "386cd1a8",
   "metadata": {},
   "outputs": [
    {
     "data": {
      "text/plain": [
       "0      2.1025\n",
       "1      0.2025\n",
       "2     -0.3025\n",
       "3      0.2025\n",
       "4      0.2025\n",
       "        ...  \n",
       "395   -0.3025\n",
       "396   -0.3025\n",
       "397    0.2025\n",
       "398    0.2025\n",
       "399    2.1025\n",
       "Name: apply, Length: 400, dtype: float64"
      ]
     },
     "execution_count": 23,
     "metadata": {},
     "output_type": "execute_result"
    }
   ],
   "source": [
    "coding(data_student['apply'],f)"
   ]
  },
  {
   "cell_type": "markdown",
   "id": "aeddb3c3",
   "metadata": {},
   "source": [
    "#### f) Applications\n",
    "For simplicity, let's stick to the student data.\n",
    "##### 1)"
   ]
  },
  {
   "cell_type": "code",
   "execution_count": 24,
   "id": "d7f5ced3",
   "metadata": {},
   "outputs": [
    {
     "data": {
      "text/plain": [
       "0      2.1025\n",
       "1      0.2025\n",
       "2     -0.3025\n",
       "3      0.2025\n",
       "4      0.2025\n",
       "        ...  \n",
       "395   -0.3025\n",
       "396   -0.3025\n",
       "397    0.2025\n",
       "398    0.2025\n",
       "399    2.1025\n",
       "Name: apply, Length: 400, dtype: float64"
      ]
     },
     "execution_count": 24,
     "metadata": {},
     "output_type": "execute_result"
    }
   ],
   "source": [
    "f = lambda i, s: np.sign(i - np.mean(coding(s))) * (i - np.mean(coding(s))) ** 2\n",
    "coding(data_student['apply'],f)"
   ]
  },
  {
   "cell_type": "markdown",
   "id": "b746c9cc",
   "metadata": {},
   "source": [
    "##### 2)"
   ]
  },
  {
   "cell_type": "code",
   "execution_count": 25,
   "id": "96046e7b",
   "metadata": {},
   "outputs": [
    {
     "data": {
      "text/plain": [
       "0      0.55\n",
       "1      0.35\n",
       "2      0.10\n",
       "3      0.35\n",
       "4      0.35\n",
       "       ... \n",
       "395    0.10\n",
       "396    0.10\n",
       "397    0.35\n",
       "398    0.35\n",
       "399    0.55\n",
       "Name: apply, Length: 400, dtype: float64"
      ]
     },
     "execution_count": 25,
     "metadata": {},
     "output_type": "execute_result"
    }
   ],
   "source": [
    "from collections import Counter\n",
    "def f(i, s):\n",
    "    total = np.cumsum([0] + list(Counter(coding(s)).values()))\n",
    "    total = total / total[-1]\n",
    "    values = np.diff(total)\n",
    "    return values[i-1]\n",
    "\n",
    "coding(data_student['apply'],f)"
   ]
  },
  {
   "cell_type": "markdown",
   "id": "72944e78",
   "metadata": {},
   "source": [
    "##### 3)"
   ]
  },
  {
   "cell_type": "code",
   "execution_count": 26,
   "id": "a87076c0",
   "metadata": {},
   "outputs": [
    {
     "data": {
      "text/plain": [
       "0      0.125661\n",
       "1     -0.385320\n",
       "2     -1.281552\n",
       "3     -0.385320\n",
       "4     -0.385320\n",
       "         ...   \n",
       "395   -1.281552\n",
       "396   -1.281552\n",
       "397   -0.385320\n",
       "398   -0.385320\n",
       "399    0.125661\n",
       "Name: apply, Length: 400, dtype: float64"
      ]
     },
     "execution_count": 26,
     "metadata": {},
     "output_type": "execute_result"
    }
   ],
   "source": [
    "from scipy import stats\n",
    "\n",
    "coding(data_student['apply'],lambda i,s: stats.norm.ppf(f(i,s)))"
   ]
  },
  {
   "cell_type": "markdown",
   "id": "62d5b827",
   "metadata": {},
   "source": [
    "##### 4)"
   ]
  },
  {
   "cell_type": "code",
   "execution_count": 27,
   "id": "521bb943",
   "metadata": {},
   "outputs": [
    {
     "data": {
      "text/plain": [
       "0      0.105361\n",
       "1     -0.356675\n",
       "2     -1.609438\n",
       "3     -0.356675\n",
       "4     -0.356675\n",
       "         ...   \n",
       "395   -1.609438\n",
       "396   -1.609438\n",
       "397   -0.356675\n",
       "398   -0.356675\n",
       "399    0.105361\n",
       "Name: apply, Length: 400, dtype: float64"
      ]
     },
     "execution_count": 27,
     "metadata": {},
     "output_type": "execute_result"
    }
   ],
   "source": [
    "coding(data_student['apply'],lambda i,s: stats.laplace.ppf(f(i,s)))"
   ]
  },
  {
   "cell_type": "markdown",
   "id": "a8a063b2",
   "metadata": {},
   "source": [
    "#### g) Making `f` more effective [Intermediate Python programming]"
   ]
  },
  {
   "cell_type": "code",
   "execution_count": 28,
   "id": "66da5677",
   "metadata": {},
   "outputs": [],
   "source": [
    "class F:\n",
    "    values = None\n",
    "  \n",
    "    def __call__(self, i, s):\n",
    "        \n",
    "        # compute values if no values in self\n",
    "        if self.values is None:\n",
    "            total = np.cumsum([0] + list(Counter(coding(s)).values()))\n",
    "            total = total / total[-1]\n",
    "            \n",
    "            # store values in class handle\n",
    "            self.values = np.diff(total)\n",
    "        \n",
    "        # return the values from memory \n",
    "        return self.values[i-1]"
   ]
  },
  {
   "cell_type": "code",
   "execution_count": 29,
   "id": "18e02220",
   "metadata": {},
   "outputs": [
    {
     "data": {
      "text/plain": [
       "0.35"
      ]
     },
     "execution_count": 29,
     "metadata": {},
     "output_type": "execute_result"
    }
   ],
   "source": [
    "s = data_student['apply']\n",
    "\n",
    "f = F()\n",
    "f(2, s)"
   ]
  },
  {
   "cell_type": "markdown",
   "id": "6ac60f5f",
   "metadata": {},
   "source": [
    "### 2: Varying intercepts and slopes"
   ]
  },
  {
   "cell_type": "code",
   "execution_count": 30,
   "id": "68ed6284",
   "metadata": {},
   "outputs": [],
   "source": [
    "import statsmodels.formula.api as smf"
   ]
  },
  {
   "cell_type": "code",
   "execution_count": 31,
   "id": "4be9ceab",
   "metadata": {},
   "outputs": [
    {
     "data": {
      "text/html": [
       "<table class=\"simpletable\">\n",
       "<caption>OLS Regression Results</caption>\n",
       "<tr>\n",
       "  <th>Dep. Variable:</th>         <td>govact</td>      <th>  R-squared:         </th> <td>   0.367</td>\n",
       "</tr>\n",
       "<tr>\n",
       "  <th>Model:</th>                   <td>OLS</td>       <th>  Adj. R-squared:    </th> <td>   0.365</td>\n",
       "</tr>\n",
       "<tr>\n",
       "  <th>Method:</th>             <td>Least Squares</td>  <th>  F-statistic:       </th> <td>   156.9</td>\n",
       "</tr>\n",
       "<tr>\n",
       "  <th>Date:</th>             <td>Fri, 29 Oct 2021</td> <th>  Prob (F-statistic):</th> <td>3.38e-80</td>\n",
       "</tr>\n",
       "<tr>\n",
       "  <th>Time:</th>                 <td>16:54:16</td>     <th>  Log-Likelihood:    </th> <td> -1220.3</td>\n",
       "</tr>\n",
       "<tr>\n",
       "  <th>No. Observations:</th>      <td>   815</td>      <th>  AIC:               </th> <td>   2449.</td>\n",
       "</tr>\n",
       "<tr>\n",
       "  <th>Df Residuals:</th>          <td>   811</td>      <th>  BIC:               </th> <td>   2467.</td>\n",
       "</tr>\n",
       "<tr>\n",
       "  <th>Df Model:</th>              <td>     3</td>      <th>                     </th>     <td> </td>   \n",
       "</tr>\n",
       "<tr>\n",
       "  <th>Covariance Type:</th>      <td>nonrobust</td>    <th>                     </th>     <td> </td>   \n",
       "</tr>\n",
       "</table>\n",
       "<table class=\"simpletable\">\n",
       "<tr>\n",
       "          <td></td>             <th>coef</th>     <th>std err</th>      <th>t</th>      <th>P>|t|</th>  <th>[0.025</th>    <th>0.975]</th>  \n",
       "</tr>\n",
       "<tr>\n",
       "  <th>Intercept</th>         <td>    3.2223</td> <td>    0.120</td> <td>   26.781</td> <td> 0.000</td> <td>    2.986</td> <td>    3.458</td>\n",
       "</tr>\n",
       "<tr>\n",
       "  <th>C(partyid)[T.2.0]</th> <td>   -0.2908</td> <td>    0.097</td> <td>   -2.985</td> <td> 0.003</td> <td>   -0.482</td> <td>   -0.100</td>\n",
       "</tr>\n",
       "<tr>\n",
       "  <th>C(partyid)[T.3.0]</th> <td>   -0.6082</td> <td>    0.093</td> <td>   -6.537</td> <td> 0.000</td> <td>   -0.791</td> <td>   -0.426</td>\n",
       "</tr>\n",
       "<tr>\n",
       "  <th>negemot</th>           <td>    0.4582</td> <td>    0.026</td> <td>   17.401</td> <td> 0.000</td> <td>    0.406</td> <td>    0.510</td>\n",
       "</tr>\n",
       "</table>\n",
       "<table class=\"simpletable\">\n",
       "<tr>\n",
       "  <th>Omnibus:</th>       <td>11.675</td> <th>  Durbin-Watson:     </th> <td>   1.914</td>\n",
       "</tr>\n",
       "<tr>\n",
       "  <th>Prob(Omnibus):</th> <td> 0.003</td> <th>  Jarque-Bera (JB):  </th> <td>  11.971</td>\n",
       "</tr>\n",
       "<tr>\n",
       "  <th>Skew:</th>          <td>-0.261</td> <th>  Prob(JB):          </th> <td> 0.00252</td>\n",
       "</tr>\n",
       "<tr>\n",
       "  <th>Kurtosis:</th>      <td> 3.283</td> <th>  Cond. No.          </th> <td>    15.5</td>\n",
       "</tr>\n",
       "</table><br/><br/>Notes:<br/>[1] Standard Errors assume that the covariance matrix of the errors is correctly specified."
      ],
      "text/plain": [
       "<class 'statsmodels.iolib.summary.Summary'>\n",
       "\"\"\"\n",
       "                            OLS Regression Results                            \n",
       "==============================================================================\n",
       "Dep. Variable:                 govact   R-squared:                       0.367\n",
       "Model:                            OLS   Adj. R-squared:                  0.365\n",
       "Method:                 Least Squares   F-statistic:                     156.9\n",
       "Date:                Fri, 29 Oct 2021   Prob (F-statistic):           3.38e-80\n",
       "Time:                        16:54:16   Log-Likelihood:                -1220.3\n",
       "No. Observations:                 815   AIC:                             2449.\n",
       "Df Residuals:                     811   BIC:                             2467.\n",
       "Df Model:                           3                                         \n",
       "Covariance Type:            nonrobust                                         \n",
       "=====================================================================================\n",
       "                        coef    std err          t      P>|t|      [0.025      0.975]\n",
       "-------------------------------------------------------------------------------------\n",
       "Intercept             3.2223      0.120     26.781      0.000       2.986       3.458\n",
       "C(partyid)[T.2.0]    -0.2908      0.097     -2.985      0.003      -0.482      -0.100\n",
       "C(partyid)[T.3.0]    -0.6082      0.093     -6.537      0.000      -0.791      -0.426\n",
       "negemot               0.4582      0.026     17.401      0.000       0.406       0.510\n",
       "==============================================================================\n",
       "Omnibus:                       11.675   Durbin-Watson:                   1.914\n",
       "Prob(Omnibus):                  0.003   Jarque-Bera (JB):               11.971\n",
       "Skew:                          -0.261   Prob(JB):                      0.00252\n",
       "Kurtosis:                       3.283   Cond. No.                         15.5\n",
       "==============================================================================\n",
       "\n",
       "Notes:\n",
       "[1] Standard Errors assume that the covariance matrix of the errors is correctly specified.\n",
       "\"\"\""
      ]
     },
     "execution_count": 31,
     "metadata": {},
     "output_type": "execute_result"
    }
   ],
   "source": [
    "fit = smf.ols(\"govact ~ negemot + C(partyid)\", data = glbwarm).fit()\n",
    "fit.summary()"
   ]
  },
  {
   "cell_type": "code",
   "execution_count": 32,
   "id": "fd442da3",
   "metadata": {},
   "outputs": [
    {
     "data": {
      "text/plain": [
       "<seaborn.axisgrid.FacetGrid at 0x199af074250>"
      ]
     },
     "execution_count": 32,
     "metadata": {},
     "output_type": "execute_result"
    },
    {
     "data": {
      "image/png": "[encoded data removed]",
      "text/plain": [
       "<Figure size 412x360 with 1 Axes>"
      ]
     },
     "metadata": {
      "needs_background": "light"
     },
     "output_type": "display_data"
    }
   ],
   "source": [
    "import seaborn as sns\n",
    "sns.lmplot(x ='negemot', y ='govact', data = glbwarm, hue ='partyid')"
   ]
  },
  {
   "cell_type": "code",
   "execution_count": 33,
   "id": "de1975f5",
   "metadata": {},
   "outputs": [],
   "source": [
    "import matplotlib.pyplot as plt"
   ]
  },
  {
   "cell_type": "code",
   "execution_count": 34,
   "id": "fa6d4e25",
   "metadata": {},
   "outputs": [],
   "source": [
    "def plotter(x,y,data,hue):\n",
    "    \"\"\"\n",
    "    Function to plot a varying intercept model.\n",
    "    \n",
    "    Parameters\n",
    "    ----------\n",
    "        x : string\n",
    "            name of the x-variable\n",
    "        y : string \n",
    "            name of the y-variable\n",
    "        data : dataframe\n",
    "            dataset\n",
    "        hue: string\n",
    "            name of the categorical variable\n",
    "    \n",
    "    \"\"\"\n",
    "    # compute number of categories\n",
    "    cats = len(pd.Categorical(data[hue]).categories)\n",
    "   \n",
    "    # define the formula of the regression model\n",
    "    formula=str(y) + \" ~ \" + str(x) + \" + C(\" + str(hue) + \")\"\n",
    "    \n",
    "    # fit the regression model\n",
    "    fit = smf.ols(formula, data = data).fit()\n",
    "    \n",
    "    # generate the intercepts for each category\n",
    "    aux = np.zeros([cats,1])\n",
    "    aux[1:] = np.asarray(fit.params[1:cats])[:,None]\n",
    "    intercepts = np.kron(fit.params[0],np.ones([cats,1])) + aux\n",
    "    \n",
    "    # extract the slope coefficient\n",
    "    beta = np.asarray(fit.params[cats:])\n",
    "    \n",
    "    # compute the min and max of the support\n",
    "    min_ = np.min(data[x])\n",
    "    max_ = np.max(data[x])\n",
    "    \n",
    "    # generate x and y for the regression lines\n",
    "    xx = np.linspace(min_,max_,100)\n",
    "    yy = np.zeros([cats,100])\n",
    "    yy = yy + intercepts + xx*beta\n",
    "    \n",
    "    # create figure handles\n",
    "    fig, ax = plt.subplots()\n",
    "    \n",
    "    # plot scatterplot for every category\n",
    "    for i in pd.Categorical(data[hue]).categories:\n",
    "        data.loc[data[hue]==i,x]\n",
    "        ax.scatter(data.loc[data[hue]==i,x],data.loc[data[hue]==i,y],label=hue + \": \"+ str(i))\n",
    "        ax.legend(bbox_to_anchor=(1.02, 1))\n",
    "        \n",
    "    # plot the regression lines for each category\n",
    "    ax.plot(xx,yy.T)\n",
    "    \n",
    "    # add axis labels\n",
    "    plt.xlabel(x)\n",
    "    plt.ylabel(y)\n",
    "    plt.show()\n",
    "    "
   ]
  },
  {
   "cell_type": "markdown",
   "id": "1bddd193",
   "metadata": {},
   "source": [
    "We can now test our function."
   ]
  },
  {
   "cell_type": "code",
   "execution_count": 35,
   "id": "3b9dcc66",
   "metadata": {},
   "outputs": [
    {
     "data": {
      "image/png": "[encoded data removed]",
      "text/plain": [
       "<Figure size 432x288 with 1 Axes>"
      ]
     },
     "metadata": {
      "needs_background": "light"
     },
     "output_type": "display_data"
    }
   ],
   "source": [
    "plotter('negemot','govact',glbwarm,'partyid')\n"
   ]
  },
  {
   "cell_type": "code",
   "execution_count": null,
   "id": "69575a70",
   "metadata": {},
   "outputs": [],
   "source": [
    " "
   ]
  }
 ],
 "metadata": {
  "kernelspec": {
   "display_name": "Python 3",
   "language": "python",
   "name": "python3"
  },
  "language_info": {
   "codemirror_mode": {
    "name": "ipython",
    "version": 3
   },
   "file_extension": ".py",
   "mimetype": "text/x-python",
   "name": "python",
   "nbconvert_exporter": "python",
   "pygments_lexer": "ipython3",
   "version": "3.8.10"
  }
 },
 "nbformat": 4,
 "nbformat_minor": 5
}
