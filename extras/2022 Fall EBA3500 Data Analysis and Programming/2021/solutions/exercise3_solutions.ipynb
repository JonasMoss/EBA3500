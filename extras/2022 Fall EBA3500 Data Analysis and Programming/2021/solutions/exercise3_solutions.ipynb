{
 "cells": [
  {
   "cell_type": "markdown",
   "id": "c5f1b9bb",
   "metadata": {},
   "source": [
    "# Exercise 3 - Solutions\n",
    "\n",
    "As always, first import the libraries which we need throughout the exercise."
   ]
  },
  {
   "cell_type": "code",
   "execution_count": 1,
   "id": "6c24a019",
   "metadata": {},
   "outputs": [],
   "source": [
    "import numpy as np\n",
    "import statsmodels.formula.api as smf\n",
    "import pandas as pd\n",
    "import matplotlib.pyplot as plt\n",
    "import seaborn as sns\n",
    "from scipy.optimize import curve_fit\n",
    "\n",
    "# set a figure size default\n",
    "plt.rcParams[\"figure.figsize\"] = [10,8]"
   ]
  },
  {
   "cell_type": "markdown",
   "id": "58d50d8e",
   "metadata": {},
   "source": [
    "### 1 Inference\n",
    "\n",
    "The p-value gives the probability of observing a test result at least as extreme as the result actually observed, under the assumption that the $H_0$ is correct. In regression, we use p-values for hypothesis testing. Assuming e.g. a significance level of 5%, we reject the $H_0$, if $p\\leq0.05$ and cannot reject the $H_0$, if the $p>0.05$."
   ]
  },
  {
   "cell_type": "markdown",
   "id": "50efb206",
   "metadata": {},
   "source": [
    "### 2 $R^2$ and correlation\n",
    "#### a) The $R^2$ in the absolute deviations regression\n",
    "\n",
    "Here we are supposed to write a function that computes the $R^2$ for LAD. In essence, we have to replace the mean in the formula for the $R^2$ in the least squares case with the median. Note, however, that this is a \"pseudo $R^2$\"."
   ]
  },
  {
   "cell_type": "code",
   "execution_count": 2,
   "id": "a52739c7",
   "metadata": {},
   "outputs": [],
   "source": [
    "def rsq_lad(predictions, y):\n",
    "    \"\"\"\n",
    "    This function computes the R^2 of LAD.\n",
    "    \n",
    "    Parameters\n",
    "    ----------\n",
    "        predictions : the models predictions\n",
    "        y           : the original data\n",
    "        \n",
    "    Returns\n",
    "    -------\n",
    "        The coefficient of determination\n",
    "    \"\"\"\n",
    "    \n",
    "    # compute the elements of R^2\n",
    "    lower = np.sum(abs(y - np.median(y)))\n",
    "    upper = np.sum(abs(y - predictions))\n",
    "    \n",
    "    # return the R^2 for LAD\n",
    "    return np.max([(1 - upper / lower), 0]) "
   ]
  },
  {
   "cell_type": "markdown",
   "id": "d38260d0",
   "metadata": {},
   "source": [
    "We can now test our simple function. To do so, let's recycle a  simulation from last week. To facilitate understanding, the code is repeated below. Alternatively, we could simply import the function."
   ]
  },
  {
   "cell_type": "code",
   "execution_count": 3,
   "id": "966d684d",
   "metadata": {},
   "outputs": [],
   "source": [
    "def simulate_a(a, b):\n",
    "    \"\"\"\n",
    "    This function simulates data according to y = 2 + 3x + u with uniform errors. \n",
    "    \n",
    "    Parameters\n",
    "    ----------\n",
    "        a : function for the lower bound of the uniform random variable\n",
    "        b : function for the upper bound of the uniform random variable\n",
    "        \n",
    "    Returns\n",
    "    -------\n",
    "        x : the x values\n",
    "        y : the y values\n",
    "    \"\"\"\n",
    "    \n",
    "    # set a seed for reproducability\n",
    "    rng = np.random.default_rng(seed = 313)\n",
    "\n",
    "    # generate x on a [0, 1] interval\n",
    "    x = np.linspace(0, 1, num = 100)\n",
    "\n",
    "    # draw 100 draws of a uniform random variable\n",
    "    u = rng.uniform(a(x), b(x), 100)\n",
    "\n",
    "    # compute y\n",
    "    y = 2 + 3 * x + u\n",
    "    \n",
    "    return x, y"
   ]
  },
  {
   "cell_type": "markdown",
   "id": "9f972ed9",
   "metadata": {},
   "source": [
    "Let us now generate some data and compute the LAD regression."
   ]
  },
  {
   "cell_type": "code",
   "execution_count": 4,
   "id": "0d38fd09",
   "metadata": {},
   "outputs": [],
   "source": [
    "# call the function \n",
    "x, y = simulate_a(lambda x: -1, lambda x: 1)\n",
    "\n",
    "# create dataframe\n",
    "data = pd.DataFrame(np.vstack((y,x)).T, columns=['y','x'])\n",
    "\n",
    "# run LAD regression\n",
    "res_lad = smf.quantreg(\"y ~ x\", data = data).fit(q = 0.5)"
   ]
  },
  {
   "cell_type": "markdown",
   "id": "0039405c",
   "metadata": {},
   "source": [
    "With our estimate in hand, we can now compute the pseudo $R^2$ produced by our function and the one produced by the regression package."
   ]
  },
  {
   "cell_type": "code",
   "execution_count": 5,
   "id": "94d2f5de",
   "metadata": {},
   "outputs": [
    {
     "name": "stdout",
     "output_type": "stream",
     "text": [
      "R^2 from our function:\n",
      "0.4282640997260535\n",
      "\n",
      "R^2 from the regression output:\n",
      "0.4282640997260535\n"
     ]
    }
   ],
   "source": [
    "# compute the predicted values\n",
    "y_hat = res_lad.params[0] + data.x*res_lad.params[1]\n",
    "print('R^2 from our function:\\n' + str(rsq_lad(y_hat, y)))\n",
    "\n",
    "# note that one has to read out \"prsquared\", which stands for \"pseudo R^2\"\n",
    "print('\\nR^2 from the regression output:\\n' + str(res_lad.prsquared))"
   ]
  },
  {
   "cell_type": "markdown",
   "id": "4d104473",
   "metadata": {},
   "source": [
    "As suggested by the exercise, let's check another example."
   ]
  },
  {
   "cell_type": "code",
   "execution_count": 6,
   "id": "de6bb43d",
   "metadata": {},
   "outputs": [],
   "source": [
    "# simulate some data\n",
    "x, y = simulate_a(lambda x: -3, lambda x: 3)\n",
    "\n",
    "# create dataframe\n",
    "data = pd.DataFrame(np.vstack((y,x)).T, columns=['y','x'])\n",
    "\n",
    "# run LAD regression\n",
    "res_lad = smf.quantreg(\"y ~ x\", data = data).fit(q = 0.5)"
   ]
  },
  {
   "cell_type": "markdown",
   "id": "176e5f17",
   "metadata": {},
   "source": [
    "Again, we compare the $R^2$ computed by our function and by the package."
   ]
  },
  {
   "cell_type": "code",
   "execution_count": 7,
   "id": "e1a58bcf",
   "metadata": {},
   "outputs": [
    {
     "name": "stdout",
     "output_type": "stream",
     "text": [
      "R^2 from our function:\n",
      "0.0924143316822903\n",
      "\n",
      "R^2 from the regression output:\n",
      "0.0924143316822903\n"
     ]
    }
   ],
   "source": [
    "# compute the predicted values\n",
    "y_hat = res_lad.params[0] + data.x*res_lad.params[1]\n",
    "print('R^2 from our function:\\n' + str(rsq_lad(y_hat, y)))\n",
    "\n",
    "# note that one has to read out \"prsquared\", which stands for \"pseudo R^2\"\n",
    "print('\\nR^2 from the regression output:\\n' + str(res_lad.prsquared))"
   ]
  },
  {
   "cell_type": "markdown",
   "id": "d3d8eb34",
   "metadata": {},
   "source": [
    "The results are again the same. Finally, let's check the symmetry (make sure to swap x and y)!"
   ]
  },
  {
   "cell_type": "code",
   "execution_count": 8,
   "id": "58c84e33",
   "metadata": {},
   "outputs": [
    {
     "name": "stdout",
     "output_type": "stream",
     "text": [
      "R^2 from our function:\n",
      "0.1101727545114698\n",
      "\n",
      "R^2 from the regression output:\n",
      "0.1101727545114698\n"
     ]
    }
   ],
   "source": [
    "# run LAD regression\n",
    "res_lad = smf.quantreg(\"x ~ y\", data = data).fit(q = 0.5)\n",
    "\n",
    "# compute the predicted values\n",
    "y_hat = res_lad.params[0] + data.y*res_lad.params[1]\n",
    "print('R^2 from our function:\\n' + str(rsq_lad(y_hat, x)))\n",
    "\n",
    "# note that one has to read out \"prsquared\", which stands for \"pseudo R^2\"\n",
    "print('\\nR^2 from the regression output:\\n' + str(res_lad.prsquared))"
   ]
  },
  {
   "cell_type": "markdown",
   "id": "9fa246b5",
   "metadata": {},
   "source": [
    "The results are almost the same as above, however, our pseudo $R^2$ is not symmetric. "
   ]
  },
  {
   "cell_type": "markdown",
   "id": "a9859f5a",
   "metadata": {},
   "source": [
    "#### b) Anscombe's Quartet\n",
    "\n",
    "Load and plot the data."
   ]
  },
  {
   "cell_type": "code",
   "execution_count": 9,
   "id": "6f2467f4",
   "metadata": {},
   "outputs": [
    {
     "data": {
      "image/png": "[encoded data removed]",
      "text/plain": [
       "<Figure size 576x576 with 4 Axes>"
      ]
     },
     "metadata": {},
     "output_type": "display_data"
    }
   ],
   "source": [
    "import seaborn as sns\n",
    "sns.set_theme(style=\"ticks\")\n",
    "df = sns.load_dataset(\"anscombe\")\n",
    "sns.lmplot(x=\"x\", y=\"y\", col=\"dataset\",\n",
    "hue=\"dataset\", data=df, col_wrap=2,\n",
    "ci=None, palette=\"muted\", height=4, scatter_kws={\"s\": 50, \"alpha\": 1})\n",
    "plt.show()"
   ]
  },
  {
   "cell_type": "markdown",
   "id": "7fadd9b2",
   "metadata": {},
   "source": [
    "For this exercise, let us quickly modify the function that we built in task `1` and put the LAD regression inside the function itself. In addition, we will also have it run a OLS regression and output its $R^2$."
   ]
  },
  {
   "cell_type": "code",
   "execution_count": 10,
   "id": "686ca128",
   "metadata": {},
   "outputs": [],
   "source": [
    "def rsq_lad(y, x):\n",
    "    \"\"\"\n",
    "    This function computes the R^2 of LAD and OLS.\n",
    "    \n",
    "    Parameters\n",
    "    ----------\n",
    "        y : array \n",
    "            The dependent variable\n",
    "        x : array\n",
    "            The independent variable\n",
    "        \n",
    "    Returns\n",
    "    -------\n",
    "        [rs_lad, rs_ols] : list\n",
    "            The first element is the R^2 for lad, the second the R^2 for OLS.\n",
    "    \"\"\"\n",
    "    \n",
    "    # create dataframe\n",
    "    data = pd.DataFrame(np.vstack((y,x)).T, columns=['y','x'])\n",
    "    \n",
    "    # run LAD regression\n",
    "    res_lad = smf.quantreg(\"y ~ x\", data = data).fit(q = 0.5)\n",
    "    \n",
    "    # compute the predicted values for LAD\n",
    "    predictions_lad = res_lad.params[0] + x * res_lad.params[1]\n",
    "    \n",
    "    # run OLS regression\n",
    "    res_ls = smf.ols(\"y ~ x\", data = data).fit()\n",
    "    \n",
    "    # compute the predicted values for OLS\n",
    "    predictions_ls = res_ls.params[0] + x * res_ls.params[1]\n",
    "    \n",
    "    # compute the elements of R^2 for LAD\n",
    "    lower = np.sum(np.abs(y - np.median(y))) \n",
    "    upper = np.sum(np.abs(y - (predictions_lad)))\n",
    "    \n",
    "    # compute the R^2 for LAD\n",
    "    rs_lad = np.max([(1 - upper / lower), 0])\n",
    "    \n",
    "    # compute the elements of R^2 for OLS\n",
    "    lower = np.sum((y - np.mean(y))**2) \n",
    "    upper = np.sum((y - (predictions_ls))**2)\n",
    "    \n",
    "    # compute the R^2 for OLS\n",
    "    rs_ls = np.max([(1 - upper / lower), 0])\n",
    "    \n",
    "    return [rs_lad, rs_ls] "
   ]
  },
  {
   "cell_type": "markdown",
   "id": "0dd03d65",
   "metadata": {},
   "source": [
    "We can now run the regression of $y$ on $x$. If you have difficulty understanding the below code, have a look at the [pandas documentation](https://pandas.pydata.org/docs/reference/api/pandas.DataFrame.apply.html). Essentially, `apply` allows to apply a function to columns or rows of a dataframe (In general, this tool is very useful and it's worth understanding and keeping in mind)."
   ]
  },
  {
   "cell_type": "code",
   "execution_count": 11,
   "id": "b9a51005",
   "metadata": {},
   "outputs": [
    {
     "data": {
      "text/plain": [
       "dataset\n",
       "I        [0.4627128367723099, 0.666542459508775]\n",
       "II     [0.34691275114654974, 0.6662420337274844]\n",
       "III     [0.7080765635401254, 0.6663240410665593]\n",
       "IV     [0.35477582845294753, 0.6667072568984653]\n",
       "dtype: object"
      ]
     },
     "execution_count": 11,
     "metadata": {},
     "output_type": "execute_result"
    }
   ],
   "source": [
    "# run the regression for \n",
    "df.groupby(\"dataset\").apply(lambda z: rsq_lad(z[\"y\"],z[\"x\"]))"
   ]
  },
  {
   "cell_type": "markdown",
   "id": "92329506",
   "metadata": {},
   "source": [
    "As suggested by the exercise, we will now swap $x$ and $y$. First, let's plot the data with the inverted axis."
   ]
  },
  {
   "cell_type": "code",
   "execution_count": 12,
   "id": "70f25c12",
   "metadata": {},
   "outputs": [
    {
     "data": {
      "image/png": "[encoded data removed]",
      "text/plain": [
       "<Figure size 576x576 with 4 Axes>"
      ]
     },
     "metadata": {},
     "output_type": "display_data"
    }
   ],
   "source": [
    "sns.lmplot(x=\"y\", y=\"x\", col=\"dataset\", hue=\"dataset\", data=df, col_wrap=2, ci = None, palette = \"muted\", height = 4, scatter_kws = {\"s\": 50, \"alpha\": 1})\n",
    "plt.show()"
   ]
  },
  {
   "cell_type": "markdown",
   "id": "fad7646c",
   "metadata": {},
   "source": [
    "Finally, compute the LAD pseudo $R^2$ of the regression of $x$ on $y$."
   ]
  },
  {
   "cell_type": "code",
   "execution_count": 13,
   "id": "9065b7c9",
   "metadata": {},
   "outputs": [
    {
     "data": {
      "text/plain": [
       "dataset\n",
       "I       [0.4608426094988298, 0.666542459508775]\n",
       "II     [0.4912878530356105, 0.6662420337274841]\n",
       "III    [0.5887820298746499, 0.6663240410665591]\n",
       "IV                    [0.0, 0.6667072568984653]\n",
       "dtype: object"
      ]
     },
     "execution_count": 13,
     "metadata": {},
     "output_type": "execute_result"
    }
   ],
   "source": [
    "df.groupby(\"dataset\").apply(lambda z: rsq_lad(z[\"x\"],z[\"y\"]))"
   ]
  },
  {
   "cell_type": "markdown",
   "id": "a216e861",
   "metadata": {},
   "source": [
    "As we can see, the OLS $R^2$ is always the same and invariant to swapping $x$ and $y$ as well as the \"shape\" of the data. The LAD $R^2$, however, is not the same across datasets and is also not symmetric. \n"
   ]
  },
  {
   "cell_type": "markdown",
   "id": "aaf96ca5",
   "metadata": {},
   "source": [
    "#### c) LAD correlation\n",
    "\n",
    "As we can see from the lecture slides, in univariate regression, the $R^2$ is also equal to the squared correlation between $x$ and $y$. We can exploit this principle to come up with a \"correlation\" measure in the LAD case."
   ]
  },
  {
   "cell_type": "code",
   "execution_count": 14,
   "id": "c227ec70",
   "metadata": {},
   "outputs": [],
   "source": [
    "def corr_lad(y, x):\n",
    "    \n",
    "    \"\"\"\n",
    "    This function computes the R^2 of LAD and OLS.\n",
    "    \n",
    "    Parameters\n",
    "    ----------\n",
    "        y : array \n",
    "            The dependent variable\n",
    "        x : array\n",
    "            The independent variable\n",
    "    \n",
    "    Returns\n",
    "    -------\n",
    "        \"Lad-correlation\"\n",
    "    \"\"\"\n",
    "    # create dataframe\n",
    "    data = pd.DataFrame(np.vstack((y,x)).T, columns=['y','x'])\n",
    "    \n",
    "    # run a LAD regression\n",
    "    res = smf.quantreg(\"y ~ x\", data = data).fit(q = 0.5)\n",
    "    \n",
    "    # compute the elements of R^2 for LAD\n",
    "    lower = np.sum(np.abs(y - np.median(y))) \n",
    "    upper = np.sum(np.abs(y - (res.params[0] + x * res.params[1])))\n",
    "    \n",
    "    # return the LAD-correlation\n",
    "    return np.sign(res.params[1]) * np.max([(1 - upper / lower), 0])\n"
   ]
  },
  {
   "cell_type": "markdown",
   "id": "3c3a2220",
   "metadata": {},
   "source": [
    "Let us now quickly test our function on $x$ and $y$ from above."
   ]
  },
  {
   "cell_type": "code",
   "execution_count": 15,
   "id": "8223ad7f",
   "metadata": {},
   "outputs": [
    {
     "data": {
      "text/plain": [
       "0.0924143316822903"
      ]
     },
     "execution_count": 15,
     "metadata": {},
     "output_type": "execute_result"
    }
   ],
   "source": [
    "corr_lad(y,x)"
   ]
  },
  {
   "cell_type": "markdown",
   "id": "b634d94d",
   "metadata": {},
   "source": [
    "### 3 Non-linear least squares\n",
    "\n",
    "#### a) Estimator-plotter function"
   ]
  },
  {
   "cell_type": "code",
   "execution_count": 16,
   "id": "4a645c05",
   "metadata": {},
   "outputs": [],
   "source": [
    "def nls_plotter(x, y, func, args):\n",
    "    \"\"\"\n",
    "    Estimate the parameters of func (as in curve_fit)\n",
    "    using non-linear least squares. Make a scatterplot of\n",
    "    x and y and add the curve defined by func using the estimated\n",
    "    parameters. Return the non-linear R squared.\n",
    "    \n",
    "    Parameters\n",
    "    ----------\n",
    "        x    : the independent variable\n",
    "        y    : the dependent variable\n",
    "        func : the functional form of the non-linear regression\n",
    "        args : the true input arguments of the function\n",
    "        \n",
    "    Returns\n",
    "    -------\n",
    "        The R^2 of the non-linear regression.\n",
    "    \n",
    "    \"\"\"\n",
    "    \n",
    "    # estimate the non-linear regression\n",
    "    parameters = curve_fit(func, x, y)[0]\n",
    "    \n",
    "    # Plot scatter plot and function\n",
    "    plt.scatter(x, y)\n",
    "    plt.plot(x, func(x, *args), color = \"black\")\n",
    "    plt.plot(x, func(x, *parameters), color = \"red\")\n",
    "    plt.show()\n",
    "\n",
    "    lower = np.sum((y2 - np.mean(y2)) ** 2) \n",
    "    upper = np.sum((y2 - func(x, *parameters)) ** 2) \n",
    "    \n",
    "    return 1 - upper / lower"
   ]
  },
  {
   "cell_type": "markdown",
   "id": "dad47c25",
   "metadata": {},
   "source": [
    "Note that the \"unpacking\" of input arguments is a critical part of the function, which allows to keep it flexible!"
   ]
  },
  {
   "cell_type": "markdown",
   "id": "4727a240",
   "metadata": {},
   "source": [
    "#### b) Four parameterized functions\n",
    "\n",
    "To save space, we can put all functions into anonymous functions."
   ]
  },
  {
   "cell_type": "code",
   "execution_count": 17,
   "id": "a8fd66e2",
   "metadata": {},
   "outputs": [],
   "source": [
    "# function for the logistic curve\n",
    "logistic = lambda x, a, b, c, d: a/(1+b**(x-c))+d\n",
    "    \n",
    "# function for the hyperbolic curve\n",
    "hyperbolic = lambda x, a, b, c: a + b/(x+c)\n",
    "\n",
    "# function for logarithmic curve\n",
    "logarithmic = lambda x, a, b, c: a + b*x**c\n",
    "\n",
    "# function for the exponential curve\n",
    "exponential = lambda x, a, b, c: a + b*c**x"
   ]
  },
  {
   "cell_type": "markdown",
   "id": "b5d5d435",
   "metadata": {},
   "source": [
    "#### c) 4-plotter\n",
    "\n",
    "First, we adjust out `nls_plotter` function, such that it takes a plot handle, `ax` as input. This will allow to plot into the subplots that are generated in `grid_plotter`. "
   ]
  },
  {
   "cell_type": "code",
   "execution_count": 18,
   "id": "6fb402f2",
   "metadata": {},
   "outputs": [],
   "source": [
    "def nls_plotter(x, y, func, ax):\n",
    "    \"\"\"\n",
    "    Estimate the parameters of func (as in curve_fit)\n",
    "    using non-linear least squares. Make a scatterplot of\n",
    "    x and y and add the curve defined by func using the estimated\n",
    "    parameters. Return the non-linear R squared.\n",
    "    \n",
    "    Parameters\n",
    "    ----------\n",
    "        x    : the independent variable\n",
    "        y    : the dependent variable\n",
    "        func : the functional form of the non-linear regression\n",
    "        args : the true input arguments of the function\n",
    "        ax   : a plot handle\n",
    "        \n",
    "    Returns\n",
    "    -------\n",
    "        The R^2 of the non-linear regression.\n",
    "    \n",
    "    \"\"\"\n",
    "    \n",
    "    # estimate the non-linear regression\n",
    "    parameters = curve_fit(func, x, y)[0]\n",
    "    \n",
    "    ax.scatter(x, y)\n",
    "    ax.plot(x, func(x, *parameters), color = \"red\")\n",
    "    \n",
    "\n",
    "    lower = np.sum((y - np.mean(y)) ** 2) \n",
    "    upper = np.sum((y - func(x, *parameters)) ** 2) \n",
    "    \n",
    "    return 1 - upper / lower"
   ]
  },
  {
   "cell_type": "markdown",
   "id": "aeacfe56",
   "metadata": {},
   "source": [
    "Let's set `grid_plotter` up in a way, such that we can simply loop over the functions that we want to fit with NLS. "
   ]
  },
  {
   "cell_type": "code",
   "execution_count": 19,
   "id": "ae5a7c1f",
   "metadata": {},
   "outputs": [],
   "source": [
    "def grid_plotter(y, x, functions, function_names):\n",
    "    \n",
    "    fig, ax = plt.subplots(4,1)\n",
    "    \n",
    "    r2_dict = {}\n",
    "    for i, func in enumerate(functions):\n",
    "        try:\n",
    "            r2_dict[function_names[i]] = nls_plotter(x, y, func, ax[i])\n",
    "        except:\n",
    "            print('\\nEstimation of ' + str(function_names[i]) + ' curve did not converge')\n",
    "    return r2_dict"
   ]
  },
  {
   "cell_type": "markdown",
   "id": "a73126d1",
   "metadata": {},
   "source": [
    "#### d) Application"
   ]
  },
  {
   "cell_type": "code",
   "execution_count": 20,
   "id": "e4035f75",
   "metadata": {},
   "outputs": [],
   "source": [
    "from rdatasets import data\n",
    "dataset = data(\"DNase\")\n",
    "dataset = dataset[dataset['Run'] == 1]\n",
    "x = np.log(dataset[\"conc\"])\n",
    "y = dataset[\"density\"]"
   ]
  },
  {
   "cell_type": "code",
   "execution_count": 21,
   "id": "5e28f240",
   "metadata": {},
   "outputs": [
    {
     "name": "stdout",
     "output_type": "stream",
     "text": [
      "\n",
      "Estimation of logarithmic curve did not converge\n"
     ]
    },
    {
     "data": {
      "image/png": "[encoded data removed]",
      "text/plain": [
       "<Figure size 720x576 with 4 Axes>"
      ]
     },
     "metadata": {},
     "output_type": "display_data"
    }
   ],
   "source": [
    "a = [logistic, hyperbolic, logarithmic, exponential]\n",
    "b = ['logistic', 'hyperbolic', 'logarithmic', 'exponential']\n",
    "a = grid_plotter(y, x, a, b)"
   ]
  },
  {
   "cell_type": "markdown",
   "id": "3becd2c1",
   "metadata": {},
   "source": [
    "Output the $R^2$."
   ]
  },
  {
   "cell_type": "code",
   "execution_count": 22,
   "id": "83a9eba2",
   "metadata": {},
   "outputs": [
    {
     "data": {
      "text/plain": [
       "{'logistic': 0.9991302139734051,\n",
       " 'hyperbolic': 0.13043574757855525,\n",
       " 'exponential': 0.9915054583356937}"
      ]
     },
     "execution_count": 22,
     "metadata": {},
     "output_type": "execute_result"
    }
   ],
   "source": [
    "# output the R^2 dictionary\n",
    "a"
   ]
  },
  {
   "cell_type": "markdown",
   "id": "6b6a4195",
   "metadata": {},
   "source": [
    "The logistic function seems to fit the data best. "
   ]
  },
  {
   "cell_type": "code",
   "execution_count": null,
   "id": "4aa4a36b",
   "metadata": {},
   "outputs": [],
   "source": []
  }
 ],
 "metadata": {
  "@webio": {
   "lastCommId": null,
   "lastKernelId": null
  },
  "kernelspec": {
   "display_name": "Python 3",
   "language": "python",
   "name": "python3"
  },
  "language_info": {
   "codemirror_mode": {
    "name": "ipython",
    "version": 3
   },
   "file_extension": ".py",
   "mimetype": "text/x-python",
   "name": "python",
   "nbconvert_exporter": "python",
   "pygments_lexer": "ipython3",
   "version": "3.8.10"
  }
 },
 "nbformat": 4,
 "nbformat_minor": 5
}
