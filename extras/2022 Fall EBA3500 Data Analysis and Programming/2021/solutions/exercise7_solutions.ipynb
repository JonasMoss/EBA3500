{
 "cells": [
  {
   "cell_type": "markdown",
   "id": "11d5826a",
   "metadata": {},
   "source": [
    "# Exercise 7 - Solutions"
   ]
  },
  {
   "cell_type": "markdown",
   "id": "06e6c404",
   "metadata": {},
   "source": [
    "### 1: Review Exercises\n",
    "#### 1) \n",
    "The indicator function $1[x\\: in\\: A]$ returns a $1$ whenever $x$ is contained in $A$ and returns a $0$ otherwise.\n",
    "#### 2) \n",
    "Continuous or numeric data, ordered data, and categorical data.\n",
    "#### 3)\n",
    "Let $A$ be a set. Then the linear regression model on this set of categories is\n",
    "$$\n",
    "y = \\sum_{a\\in A} \\beta_a 1[x\\textrm{ = }a] + \\epsilon,\\quad x \\textrm{ in } A.\n",
    "$$\n",
    "#### 4) \n",
    "$C(x)$ tells `statsmodels` that $x$ is a categorical variable.\n",
    "#### 5) \n",
    "The $-1$ removes the constant from the regression model. When  $C(x)$ is supplied, `statsmodels` will expand $x$ as a categorical variable taking into account the constant (one category is going to be absorbed by the intercept). $C(x)-1$ avoids this.\n",
    "#### 6) \n",
    "Excluding the constants makes it hard to interpret the p-values. In the penguin example, we do not care about whether the bill length is unlikely to be $0$ for every island, rather we are interested in the difference between the islands. "
   ]
  },
  {
   "cell_type": "markdown",
   "id": "dff23daa",
   "metadata": {},
   "source": [
    "### Exercise 2: Penguin Plots\n",
    "\n",
    "First, import `seaborn` and the `penguins` data."
   ]
  },
  {
   "cell_type": "code",
   "execution_count": 1,
   "id": "c76fe18f",
   "metadata": {},
   "outputs": [],
   "source": [
    "import seaborn as sns\n",
    "penguins = sns.load_dataset(\"penguins\")"
   ]
  },
  {
   "cell_type": "markdown",
   "id": "13bcab29",
   "metadata": {},
   "source": [
    "#### a)\n",
    "We can now visualize the data using `catplot`"
   ]
  },
  {
   "cell_type": "code",
   "execution_count": 2,
   "id": "cb4e7445",
   "metadata": {},
   "outputs": [
    {
     "data": {
      "text/plain": [
       "<seaborn.axisgrid.FacetGrid at 0x1c99b5405b0>"
      ]
     },
     "execution_count": 2,
     "metadata": {},
     "output_type": "execute_result"
    },
    {
     "data": {
      "image/png": "[encoded data removed]",
      "text/plain": [
       "<Figure size 1164.62x360 with 3 Axes>"
      ]
     },
     "metadata": {
      "needs_background": "light"
     },
     "output_type": "display_data"
    }
   ],
   "source": [
    "sns.catplot(x=\"sex\",hue=\"island\",col=\"species\",data=penguins, kind=\"count\")"
   ]
  },
  {
   "cell_type": "markdown",
   "id": "352449be",
   "metadata": {},
   "source": [
    "Looking at the plot, we can see some interesting data features:\n",
    "* The species Adelie seems to be common on all three islands\n",
    "* Species Chinstrap and Gentoo, however, only seem to be prevalent on Dream and Biscoe, respectively. \n",
    "* Only species Adelie seems to be living on Torgersen.\n",
    "* Adelie is the largest species.\n",
    "* There are roughly equally as many males as females.\n",
    "\n",
    "We can see some of these features better by inverting the plot."
   ]
  },
  {
   "cell_type": "code",
   "execution_count": 3,
   "id": "a7a626af",
   "metadata": {},
   "outputs": [
    {
     "data": {
      "text/plain": [
       "<seaborn.axisgrid.FacetGrid at 0x1c99786c490>"
      ]
     },
     "execution_count": 3,
     "metadata": {},
     "output_type": "execute_result"
    },
    {
     "data": {
      "image/png": "[encoded data removed]",
      "text/plain": [
       "<Figure size 1164.12x360 with 3 Axes>"
      ]
     },
     "metadata": {
      "needs_background": "light"
     },
     "output_type": "display_data"
    }
   ],
   "source": [
    "sns.catplot(x=\"sex\",hue=\"species\",col=\"island\",data=penguins, kind=\"count\")"
   ]
  },
  {
   "cell_type": "markdown",
   "id": "7d7e10bd",
   "metadata": {},
   "source": [
    "#### b) \n",
    "\n",
    "Looking at our results from above, neither `species` nor `islands` should be good predictors of sex."
   ]
  },
  {
   "cell_type": "code",
   "execution_count": 4,
   "id": "8543f2e3",
   "metadata": {},
   "outputs": [
    {
     "name": "stdout",
     "output_type": "stream",
     "text": [
      "Optimization terminated successfully.\n",
      "         Current function value: 0.692974\n",
      "         Iterations 3\n"
     ]
    },
    {
     "name": "stderr",
     "output_type": "stream",
     "text": [
      "<ipython-input-4-8eb75001f2c4>:8: SettingWithCopyWarning: \n",
      "A value is trying to be set on a copy of a slice from a DataFrame.\n",
      "Try using .loc[row_indexer,col_indexer] = value instead\n",
      "\n",
      "See the caveats in the documentation: https://pandas.pydata.org/pandas-docs/stable/user_guide/indexing.html#returning-a-view-versus-a-copy\n",
      "  penguins[\"sex2\"] = 1 * (penguins.sex == \"Male\")\n"
     ]
    },
    {
     "data": {
      "text/html": [
       "<table class=\"simpletable\">\n",
       "<caption>Logit Regression Results</caption>\n",
       "<tr>\n",
       "  <th>Dep. Variable:</th>         <td>sex2</td>       <th>  No. Observations:  </th>  <td>   333</td>  \n",
       "</tr>\n",
       "<tr>\n",
       "  <th>Model:</th>                 <td>Logit</td>      <th>  Df Residuals:      </th>  <td>   328</td>  \n",
       "</tr>\n",
       "<tr>\n",
       "  <th>Method:</th>                 <td>MLE</td>       <th>  Df Model:          </th>  <td>     4</td>  \n",
       "</tr>\n",
       "<tr>\n",
       "  <th>Date:</th>            <td>Sat, 09 Oct 2021</td> <th>  Pseudo R-squ.:     </th> <td>0.0001908</td>\n",
       "</tr>\n",
       "<tr>\n",
       "  <th>Time:</th>                <td>15:15:17</td>     <th>  Log-Likelihood:    </th> <td> -230.76</td> \n",
       "</tr>\n",
       "<tr>\n",
       "  <th>converged:</th>             <td>True</td>       <th>  LL-Null:           </th> <td> -230.80</td> \n",
       "</tr>\n",
       "<tr>\n",
       "  <th>Covariance Type:</th>     <td>nonrobust</td>    <th>  LLR p-value:       </th>  <td>0.9991</td>  \n",
       "</tr>\n",
       "</table>\n",
       "<table class=\"simpletable\">\n",
       "<tr>\n",
       "             <td></td>                <th>coef</th>     <th>std err</th>      <th>z</th>      <th>P>|z|</th>  <th>[0.025</th>    <th>0.975]</th>  \n",
       "</tr>\n",
       "<tr>\n",
       "  <th>Intercept</th>               <td>-4.479e-17</td> <td>    0.302</td> <td>-1.49e-16</td> <td> 1.000</td> <td>   -0.591</td> <td>    0.591</td>\n",
       "</tr>\n",
       "<tr>\n",
       "  <th>C(island)[T.Dream]</th>      <td>    0.0364</td> <td>    0.405</td> <td>    0.090</td> <td> 0.928</td> <td>   -0.757</td> <td>    0.829</td>\n",
       "</tr>\n",
       "<tr>\n",
       "  <th>C(island)[T.Torgersen]</th>  <td>   -0.0426</td> <td>    0.420</td> <td>   -0.101</td> <td> 0.919</td> <td>   -0.865</td> <td>    0.780</td>\n",
       "</tr>\n",
       "<tr>\n",
       "  <th>C(species)[T.Chinstrap]</th> <td>   -0.0364</td> <td>    0.363</td> <td>   -0.100</td> <td> 0.920</td> <td>   -0.747</td> <td>    0.675</td>\n",
       "</tr>\n",
       "<tr>\n",
       "  <th>C(species)[T.Gentoo]</th>    <td>    0.0504</td> <td>    0.353</td> <td>    0.143</td> <td> 0.886</td> <td>   -0.641</td> <td>    0.742</td>\n",
       "</tr>\n",
       "</table>"
      ],
      "text/plain": [
       "<class 'statsmodels.iolib.summary.Summary'>\n",
       "\"\"\"\n",
       "                           Logit Regression Results                           \n",
       "==============================================================================\n",
       "Dep. Variable:                   sex2   No. Observations:                  333\n",
       "Model:                          Logit   Df Residuals:                      328\n",
       "Method:                           MLE   Df Model:                            4\n",
       "Date:                Sat, 09 Oct 2021   Pseudo R-squ.:               0.0001908\n",
       "Time:                        15:15:17   Log-Likelihood:                -230.76\n",
       "converged:                       True   LL-Null:                       -230.80\n",
       "Covariance Type:            nonrobust   LLR p-value:                    0.9991\n",
       "===========================================================================================\n",
       "                              coef    std err          z      P>|z|      [0.025      0.975]\n",
       "-------------------------------------------------------------------------------------------\n",
       "Intercept               -4.479e-17      0.302  -1.49e-16      1.000      -0.591       0.591\n",
       "C(island)[T.Dream]          0.0364      0.405      0.090      0.928      -0.757       0.829\n",
       "C(island)[T.Torgersen]     -0.0426      0.420     -0.101      0.919      -0.865       0.780\n",
       "C(species)[T.Chinstrap]    -0.0364      0.363     -0.100      0.920      -0.747       0.675\n",
       "C(species)[T.Gentoo]        0.0504      0.353      0.143      0.886      -0.641       0.742\n",
       "===========================================================================================\n",
       "\"\"\""
      ]
     },
     "execution_count": 4,
     "metadata": {},
     "output_type": "execute_result"
    }
   ],
   "source": [
    "import statsmodels.formula.api as smf\n",
    "import pandas as pd\n",
    "\n",
    "# drop the missing values\n",
    "penguins = penguins.dropna()\n",
    "\n",
    "# convert sex to numeric\n",
    "penguins[\"sex2\"] = 1 * (penguins.sex == \"Male\")\n",
    "\n",
    "# run the logistic regression\n",
    "fit = smf.logit(\"sex2 ~ C(island) + C(species)\", data = penguins).fit()\n",
    "fit.summary()"
   ]
  },
  {
   "cell_type": "markdown",
   "id": "b93ef498",
   "metadata": {},
   "source": [
    "Running the regression confirms this suspicion. "
   ]
  },
  {
   "cell_type": "markdown",
   "id": "ad1cb3e7",
   "metadata": {},
   "source": [
    "#### c)"
   ]
  },
  {
   "cell_type": "code",
   "execution_count": 5,
   "id": "29394284",
   "metadata": {},
   "outputs": [
    {
     "data": {
      "text/plain": [
       "<seaborn.axisgrid.FacetGrid at 0x1c99c122f40>"
      ]
     },
     "execution_count": 5,
     "metadata": {},
     "output_type": "execute_result"
    },
    {
     "data": {
      "image/png": "[encoded data removed]",
      "text/plain": [
       "<Figure size 444.625x360 with 1 Axes>"
      ]
     },
     "metadata": {
      "needs_background": "light"
     },
     "output_type": "display_data"
    }
   ],
   "source": [
    "sns.catplot(x=\"flipper_length_mm\",hue=\"island\",y=\"species\", data=penguins)"
   ]
  },
  {
   "cell_type": "markdown",
   "id": "5bde2070",
   "metadata": {},
   "source": [
    "Species Gentoo seems to have the largest flipper length on average. In addition, Chinstrap penguins on average seem to have slightly longer flippers than Adelie penguins."
   ]
  },
  {
   "cell_type": "markdown",
   "id": "b15aa564",
   "metadata": {},
   "source": [
    "### 3: Interpreting Penguins"
   ]
  },
  {
   "cell_type": "code",
   "execution_count": 6,
   "id": "fae158ab",
   "metadata": {},
   "outputs": [
    {
     "data": {
      "text/html": [
       "<table class=\"simpletable\">\n",
       "<caption>OLS Regression Results</caption>\n",
       "<tr>\n",
       "  <th>Dep. Variable:</th>     <td>bill_length_mm</td>  <th>  R-squared:         </th> <td>   0.822</td> \n",
       "</tr>\n",
       "<tr>\n",
       "  <th>Model:</th>                   <td>OLS</td>       <th>  Adj. R-squared:    </th> <td>   0.819</td> \n",
       "</tr>\n",
       "<tr>\n",
       "  <th>Method:</th>             <td>Least Squares</td>  <th>  F-statistic:       </th> <td>   302.0</td> \n",
       "</tr>\n",
       "<tr>\n",
       "  <th>Date:</th>             <td>Sat, 09 Oct 2021</td> <th>  Prob (F-statistic):</th> <td>3.36e-120</td>\n",
       "</tr>\n",
       "<tr>\n",
       "  <th>Time:</th>                 <td>15:15:17</td>     <th>  Log-Likelihood:    </th> <td> -750.43</td> \n",
       "</tr>\n",
       "<tr>\n",
       "  <th>No. Observations:</th>      <td>   333</td>      <th>  AIC:               </th> <td>   1513.</td> \n",
       "</tr>\n",
       "<tr>\n",
       "  <th>Df Residuals:</th>          <td>   327</td>      <th>  BIC:               </th> <td>   1536.</td> \n",
       "</tr>\n",
       "<tr>\n",
       "  <th>Df Model:</th>              <td>     5</td>      <th>                     </th>     <td> </td>    \n",
       "</tr>\n",
       "<tr>\n",
       "  <th>Covariance Type:</th>      <td>nonrobust</td>    <th>                     </th>     <td> </td>    \n",
       "</tr>\n",
       "</table>\n",
       "<table class=\"simpletable\">\n",
       "<tr>\n",
       "            <td></td>              <th>coef</th>     <th>std err</th>      <th>t</th>      <th>P>|t|</th>  <th>[0.025</th>    <th>0.975]</th>  \n",
       "</tr>\n",
       "<tr>\n",
       "  <th>Intercept</th>            <td>   37.1263</td> <td>    0.373</td> <td>   99.550</td> <td> 0.000</td> <td>   36.393</td> <td>   37.860</td>\n",
       "</tr>\n",
       "<tr>\n",
       "  <th>island[T.Dream]</th>      <td>   -0.4886</td> <td>    0.470</td> <td>   -1.039</td> <td> 0.300</td> <td>   -1.414</td> <td>    0.436</td>\n",
       "</tr>\n",
       "<tr>\n",
       "  <th>island[T.Torgersen]</th>  <td>    0.1026</td> <td>    0.488</td> <td>    0.210</td> <td> 0.833</td> <td>   -0.857</td> <td>    1.062</td>\n",
       "</tr>\n",
       "<tr>\n",
       "  <th>species[T.Chinstrap]</th> <td>   10.3474</td> <td>    0.422</td> <td>   24.541</td> <td> 0.000</td> <td>    9.518</td> <td>   11.177</td>\n",
       "</tr>\n",
       "<tr>\n",
       "  <th>species[T.Gentoo]</th>    <td>    8.5465</td> <td>    0.410</td> <td>   20.834</td> <td> 0.000</td> <td>    7.739</td> <td>    9.353</td>\n",
       "</tr>\n",
       "<tr>\n",
       "  <th>sex[T.Male]</th>          <td>    3.6975</td> <td>    0.255</td> <td>   14.508</td> <td> 0.000</td> <td>    3.196</td> <td>    4.199</td>\n",
       "</tr>\n",
       "</table>\n",
       "<table class=\"simpletable\">\n",
       "<tr>\n",
       "  <th>Omnibus:</th>       <td>35.395</td> <th>  Durbin-Watson:     </th> <td>   1.961</td>\n",
       "</tr>\n",
       "<tr>\n",
       "  <th>Prob(Omnibus):</th> <td> 0.000</td> <th>  Jarque-Bera (JB):  </th> <td>  84.335</td>\n",
       "</tr>\n",
       "<tr>\n",
       "  <th>Skew:</th>          <td> 0.523</td> <th>  Prob(JB):          </th> <td>4.86e-19</td>\n",
       "</tr>\n",
       "<tr>\n",
       "  <th>Kurtosis:</th>      <td> 5.233</td> <th>  Cond. No.          </th> <td>    7.61</td>\n",
       "</tr>\n",
       "</table><br/><br/>Notes:<br/>[1] Standard Errors assume that the covariance matrix of the errors is correctly specified."
      ],
      "text/plain": [
       "<class 'statsmodels.iolib.summary.Summary'>\n",
       "\"\"\"\n",
       "                            OLS Regression Results                            \n",
       "==============================================================================\n",
       "Dep. Variable:         bill_length_mm   R-squared:                       0.822\n",
       "Model:                            OLS   Adj. R-squared:                  0.819\n",
       "Method:                 Least Squares   F-statistic:                     302.0\n",
       "Date:                Sat, 09 Oct 2021   Prob (F-statistic):          3.36e-120\n",
       "Time:                        15:15:17   Log-Likelihood:                -750.43\n",
       "No. Observations:                 333   AIC:                             1513.\n",
       "Df Residuals:                     327   BIC:                             1536.\n",
       "Df Model:                           5                                         \n",
       "Covariance Type:            nonrobust                                         \n",
       "========================================================================================\n",
       "                           coef    std err          t      P>|t|      [0.025      0.975]\n",
       "----------------------------------------------------------------------------------------\n",
       "Intercept               37.1263      0.373     99.550      0.000      36.393      37.860\n",
       "island[T.Dream]         -0.4886      0.470     -1.039      0.300      -1.414       0.436\n",
       "island[T.Torgersen]      0.1026      0.488      0.210      0.833      -0.857       1.062\n",
       "species[T.Chinstrap]    10.3474      0.422     24.541      0.000       9.518      11.177\n",
       "species[T.Gentoo]        8.5465      0.410     20.834      0.000       7.739       9.353\n",
       "sex[T.Male]              3.6975      0.255     14.508      0.000       3.196       4.199\n",
       "==============================================================================\n",
       "Omnibus:                       35.395   Durbin-Watson:                   1.961\n",
       "Prob(Omnibus):                  0.000   Jarque-Bera (JB):               84.335\n",
       "Skew:                           0.523   Prob(JB):                     4.86e-19\n",
       "Kurtosis:                       5.233   Cond. No.                         7.61\n",
       "==============================================================================\n",
       "\n",
       "Notes:\n",
       "[1] Standard Errors assume that the covariance matrix of the errors is correctly specified.\n",
       "\"\"\""
      ]
     },
     "execution_count": 6,
     "metadata": {},
     "output_type": "execute_result"
    }
   ],
   "source": [
    "import seaborn as sns\n",
    "import statsmodels.formula.api as smf\n",
    "penguins = sns.load_dataset(\"penguins\")\n",
    "fit = smf.ols(\"bill_length_mm ~ island + species + sex\", data = penguins).fit()\n",
    "fit.summary()"
   ]
  },
  {
   "cell_type": "markdown",
   "id": "3cb7a8e8",
   "metadata": {},
   "source": [
    "#### a) \n",
    "The adjusted $R^2$ is large, i.e. the model predicts bill length very well. Judging by the t-statistics and p-values, the results appear to be driven by the species and sex, rather than the island. This, however, makes intuitive sense given how the different species are distributed across the islands. As an example, the probability of observing a coefficient as extreme as 3.69 (sex[T.Male]), given the $H0$ of the coefficient being zero were true, is 0.\n",
    "\n",
    "#### b) \n",
    "Biscoe, Adelie and Female are absorbed into the intercept. \n",
    "\n",
    "#### c) \n",
    "##### i)"
   ]
  },
  {
   "cell_type": "code",
   "execution_count": 7,
   "id": "d2c65767",
   "metadata": {},
   "outputs": [
    {
     "data": {
      "text/plain": [
       "Intercept               37.126271\n",
       "island[T.Dream]         -0.488613\n",
       "island[T.Torgersen]      0.102633\n",
       "species[T.Chinstrap]    10.347437\n",
       "species[T.Gentoo]        8.546461\n",
       "sex[T.Male]              3.697459\n",
       "dtype: float64"
      ]
     },
     "execution_count": 7,
     "metadata": {},
     "output_type": "execute_result"
    }
   ],
   "source": [
    "fit.params"
   ]
  },
  {
   "cell_type": "code",
   "execution_count": 8,
   "id": "f34b1bac",
   "metadata": {},
   "outputs": [
    {
     "data": {
      "text/plain": [
       "45.672731284075574"
      ]
     },
     "execution_count": 8,
     "metadata": {},
     "output_type": "execute_result"
    }
   ],
   "source": [
    "fit.params[0]+fit.params[4]"
   ]
  },
  {
   "cell_type": "markdown",
   "id": "0365561d",
   "metadata": {},
   "source": [
    "##### ii)"
   ]
  },
  {
   "cell_type": "code",
   "execution_count": 9,
   "id": "b017f2a0",
   "metadata": {},
   "outputs": [
    {
     "data": {
      "text/plain": [
       "50.682552850682384"
      ]
     },
     "execution_count": 9,
     "metadata": {},
     "output_type": "execute_result"
    }
   ],
   "source": [
    "fit.params[0]+fit.params[1]+fit.params[3]+fit.params[-1]"
   ]
  },
  {
   "cell_type": "markdown",
   "id": "30b2d0df",
   "metadata": {},
   "source": [
    "##### iii)"
   ]
  },
  {
   "cell_type": "code",
   "execution_count": 10,
   "id": "ba06684f",
   "metadata": {},
   "outputs": [
    {
     "data": {
      "text/plain": [
       "37.12627067872937"
      ]
     },
     "execution_count": 10,
     "metadata": {},
     "output_type": "execute_result"
    }
   ],
   "source": [
    "fit.params[0]"
   ]
  },
  {
   "cell_type": "markdown",
   "id": "4342b83c",
   "metadata": {},
   "source": [
    "#### d) "
   ]
  },
  {
   "cell_type": "code",
   "execution_count": 11,
   "id": "ad5b0cf1",
   "metadata": {},
   "outputs": [
    {
     "data": {
      "text/html": [
       "<table class=\"simpletable\">\n",
       "<caption>OLS Regression Results</caption>\n",
       "<tr>\n",
       "  <th>Dep. Variable:</th>     <td>bill_length_mm</td>  <th>  R-squared:         </th> <td>   0.494</td>\n",
       "</tr>\n",
       "<tr>\n",
       "  <th>Model:</th>                   <td>OLS</td>       <th>  Adj. R-squared:    </th> <td>   0.488</td>\n",
       "</tr>\n",
       "<tr>\n",
       "  <th>Method:</th>             <td>Least Squares</td>  <th>  F-statistic:       </th> <td>   80.09</td>\n",
       "</tr>\n",
       "<tr>\n",
       "  <th>Date:</th>             <td>Sat, 09 Oct 2021</td> <th>  Prob (F-statistic):</th> <td>2.40e-47</td>\n",
       "</tr>\n",
       "<tr>\n",
       "  <th>Time:</th>                 <td>15:15:18</td>     <th>  Log-Likelihood:    </th> <td> -924.33</td>\n",
       "</tr>\n",
       "<tr>\n",
       "  <th>No. Observations:</th>      <td>   333</td>      <th>  AIC:               </th> <td>   1859.</td>\n",
       "</tr>\n",
       "<tr>\n",
       "  <th>Df Residuals:</th>          <td>   328</td>      <th>  BIC:               </th> <td>   1878.</td>\n",
       "</tr>\n",
       "<tr>\n",
       "  <th>Df Model:</th>              <td>     4</td>      <th>                     </th>     <td> </td>   \n",
       "</tr>\n",
       "<tr>\n",
       "  <th>Covariance Type:</th>      <td>nonrobust</td>    <th>                     </th>     <td> </td>   \n",
       "</tr>\n",
       "</table>\n",
       "<table class=\"simpletable\">\n",
       "<tr>\n",
       "           <td></td>              <th>coef</th>     <th>std err</th>      <th>t</th>      <th>P>|t|</th>  <th>[0.025</th>    <th>0.975]</th>  \n",
       "</tr>\n",
       "<tr>\n",
       "  <th>Intercept</th>           <td>   45.6903</td> <td>    0.421</td> <td>  108.589</td> <td> 0.000</td> <td>   44.863</td> <td>   46.518</td>\n",
       "</tr>\n",
       "<tr>\n",
       "  <th>island[T.Dream]</th>     <td>    5.2321</td> <td>    0.687</td> <td>    7.611</td> <td> 0.000</td> <td>    3.880</td> <td>    6.584</td>\n",
       "</tr>\n",
       "<tr>\n",
       "  <th>island[T.Torgersen]</th> <td>    0.1023</td> <td>    0.821</td> <td>    0.125</td> <td> 0.901</td> <td>   -1.513</td> <td>    1.717</td>\n",
       "</tr>\n",
       "<tr>\n",
       "  <th>species2[T.True]</th>    <td>   -8.5469</td> <td>    0.690</td> <td>  -12.378</td> <td> 0.000</td> <td>   -9.905</td> <td>   -7.189</td>\n",
       "</tr>\n",
       "<tr>\n",
       "  <th>sex[T.Male]</th>         <td>    3.6631</td> <td>    0.429</td> <td>    8.539</td> <td> 0.000</td> <td>    2.819</td> <td>    4.507</td>\n",
       "</tr>\n",
       "</table>\n",
       "<table class=\"simpletable\">\n",
       "<tr>\n",
       "  <th>Omnibus:</th>       <td> 1.565</td> <th>  Durbin-Watson:     </th> <td>   0.720</td>\n",
       "</tr>\n",
       "<tr>\n",
       "  <th>Prob(Omnibus):</th> <td> 0.457</td> <th>  Jarque-Bera (JB):  </th> <td>   1.365</td>\n",
       "</tr>\n",
       "<tr>\n",
       "  <th>Skew:</th>          <td> 0.044</td> <th>  Prob(JB):          </th> <td>   0.505</td>\n",
       "</tr>\n",
       "<tr>\n",
       "  <th>Kurtosis:</th>      <td> 3.301</td> <th>  Cond. No.          </th> <td>    7.34</td>\n",
       "</tr>\n",
       "</table><br/><br/>Notes:<br/>[1] Standard Errors assume that the covariance matrix of the errors is correctly specified."
      ],
      "text/plain": [
       "<class 'statsmodels.iolib.summary.Summary'>\n",
       "\"\"\"\n",
       "                            OLS Regression Results                            \n",
       "==============================================================================\n",
       "Dep. Variable:         bill_length_mm   R-squared:                       0.494\n",
       "Model:                            OLS   Adj. R-squared:                  0.488\n",
       "Method:                 Least Squares   F-statistic:                     80.09\n",
       "Date:                Sat, 09 Oct 2021   Prob (F-statistic):           2.40e-47\n",
       "Time:                        15:15:18   Log-Likelihood:                -924.33\n",
       "No. Observations:                 333   AIC:                             1859.\n",
       "Df Residuals:                     328   BIC:                             1878.\n",
       "Df Model:                           4                                         \n",
       "Covariance Type:            nonrobust                                         \n",
       "=======================================================================================\n",
       "                          coef    std err          t      P>|t|      [0.025      0.975]\n",
       "---------------------------------------------------------------------------------------\n",
       "Intercept              45.6903      0.421    108.589      0.000      44.863      46.518\n",
       "island[T.Dream]         5.2321      0.687      7.611      0.000       3.880       6.584\n",
       "island[T.Torgersen]     0.1023      0.821      0.125      0.901      -1.513       1.717\n",
       "species2[T.True]       -8.5469      0.690    -12.378      0.000      -9.905      -7.189\n",
       "sex[T.Male]             3.6631      0.429      8.539      0.000       2.819       4.507\n",
       "==============================================================================\n",
       "Omnibus:                        1.565   Durbin-Watson:                   0.720\n",
       "Prob(Omnibus):                  0.457   Jarque-Bera (JB):                1.365\n",
       "Skew:                           0.044   Prob(JB):                        0.505\n",
       "Kurtosis:                       3.301   Cond. No.                         7.34\n",
       "==============================================================================\n",
       "\n",
       "Notes:\n",
       "[1] Standard Errors assume that the covariance matrix of the errors is correctly specified.\n",
       "\"\"\""
      ]
     },
     "execution_count": 11,
     "metadata": {},
     "output_type": "execute_result"
    }
   ],
   "source": [
    "# create a new column\n",
    "penguins['species2'] = penguins.species.apply(lambda x: x == 'Adelie' or x=='Chinstrap')\n",
    "\n",
    "# compute model fit2\n",
    "fit2 = smf.ols(\"bill_length_mm ~ island + species2 + sex\", data = penguins).fit()\n",
    "fit2.summary()"
   ]
  },
  {
   "cell_type": "code",
   "execution_count": 12,
   "id": "2686449a",
   "metadata": {},
   "outputs": [
    {
     "data": {
      "text/plain": [
       "37.14345488033901"
      ]
     },
     "execution_count": 12,
     "metadata": {},
     "output_type": "execute_result"
    }
   ],
   "source": [
    "fit2.params[0]+fit2.params[3]"
   ]
  },
  {
   "cell_type": "markdown",
   "id": "592df3f8",
   "metadata": {},
   "source": [
    "#### e) "
   ]
  },
  {
   "cell_type": "code",
   "execution_count": 13,
   "id": "17cb9173",
   "metadata": {},
   "outputs": [
    {
     "data": {
      "text/plain": [
       "45.69034870085173"
      ]
     },
     "execution_count": 13,
     "metadata": {},
     "output_type": "execute_result"
    }
   ],
   "source": [
    "fit2.params[0]"
   ]
  },
  {
   "cell_type": "markdown",
   "id": "9cc6779a",
   "metadata": {},
   "source": [
    "The estimated coefficient is basically the same."
   ]
  },
  {
   "cell_type": "markdown",
   "id": "2c965be0",
   "metadata": {},
   "source": [
    "### 4: Indicator functions and regression"
   ]
  },
  {
   "cell_type": "code",
   "execution_count": 14,
   "id": "7b61413e",
   "metadata": {},
   "outputs": [
    {
     "data": {
      "text/html": [
       "<div>\n",
       "<style scoped>\n",
       "    .dataframe tbody tr th:only-of-type {\n",
       "        vertical-align: middle;\n",
       "    }\n",
       "\n",
       "    .dataframe tbody tr th {\n",
       "        vertical-align: top;\n",
       "    }\n",
       "\n",
       "    .dataframe thead th {\n",
       "        text-align: right;\n",
       "    }\n",
       "</style>\n",
       "<table border=\"1\" class=\"dataframe\">\n",
       "  <thead>\n",
       "    <tr style=\"text-align: right;\">\n",
       "      <th></th>\n",
       "      <th>Class</th>\n",
       "      <th>Sex</th>\n",
       "      <th>Age</th>\n",
       "      <th>Survived</th>\n",
       "    </tr>\n",
       "  </thead>\n",
       "  <tbody>\n",
       "    <tr>\n",
       "      <th>0</th>\n",
       "      <td>3rd</td>\n",
       "      <td>Male</td>\n",
       "      <td>Child</td>\n",
       "      <td>No</td>\n",
       "    </tr>\n",
       "    <tr>\n",
       "      <th>1</th>\n",
       "      <td>3rd</td>\n",
       "      <td>Male</td>\n",
       "      <td>Child</td>\n",
       "      <td>No</td>\n",
       "    </tr>\n",
       "    <tr>\n",
       "      <th>2</th>\n",
       "      <td>3rd</td>\n",
       "      <td>Male</td>\n",
       "      <td>Child</td>\n",
       "      <td>No</td>\n",
       "    </tr>\n",
       "    <tr>\n",
       "      <th>3</th>\n",
       "      <td>3rd</td>\n",
       "      <td>Male</td>\n",
       "      <td>Child</td>\n",
       "      <td>No</td>\n",
       "    </tr>\n",
       "    <tr>\n",
       "      <th>4</th>\n",
       "      <td>3rd</td>\n",
       "      <td>Male</td>\n",
       "      <td>Child</td>\n",
       "      <td>No</td>\n",
       "    </tr>\n",
       "  </tbody>\n",
       "</table>\n",
       "</div>"
      ],
      "text/plain": [
       "  Class   Sex    Age Survived\n",
       "0   3rd  Male  Child       No\n",
       "1   3rd  Male  Child       No\n",
       "2   3rd  Male  Child       No\n",
       "3   3rd  Male  Child       No\n",
       "4   3rd  Male  Child       No"
      ]
     },
     "execution_count": 14,
     "metadata": {},
     "output_type": "execute_result"
    }
   ],
   "source": [
    "import pyreadr, os, pathlib\n",
    "\n",
    "def pyreadr_load(url, local_file = \"temp_pyreadr.rda\"):\n",
    "    \"\"\"\n",
    "    Download the R dataset at the specified url into local_file, load the \n",
    "    local file, delete the local file. Return the dataset.\n",
    "    \"\"\"\n",
    "  \n",
    "    file_name = pyreadr.download_file(url, local_file)\n",
    "    dataframe = pyreadr.read_r(file_name)\n",
    "    os.remove(str(pathlib.Path().resolve()) + \"/\" + file_name)\n",
    "    name = next(iter(dataframe.items()))[0]\n",
    "    return dataframe[name]\n",
    "\n",
    "\n",
    "url = 'https://github.com/kassambara/datarium/blob/master/data/titanic.raw.rda?raw=true'\n",
    "titanic = pyreadr_load(url)\n",
    "titanic.head()"
   ]
  },
  {
   "cell_type": "markdown",
   "id": "f5778777",
   "metadata": {},
   "source": [
    "\n",
    "#### a)\n",
    "$$\n",
    "\\textrm{survived} = a_{female} + \\beta_{\\textrm{male}}1[\\textrm{sex} =\\textrm{male}]+   \\epsilon\n",
    "$$"
   ]
  },
  {
   "cell_type": "markdown",
   "id": "63fbde49",
   "metadata": {},
   "source": [
    "#### b) \n",
    "\n",
    "$$\n",
    "\\textrm{survived} = a_{\\textrm{1st class}} + \\beta_{\\textrm{2nd class}}1[\\textrm{class} =\\textrm{2nd class}]\n",
    "+ \\beta_{\\textrm{3nd class}}1[\\textrm{class} =\\textrm{3nd class}]\n",
    "+ \\beta_{\\textrm{crew}}1[\\textrm{class} =\\textrm{crew}]\n",
    "+   \\epsilon\n",
    "$$"
   ]
  },
  {
   "cell_type": "markdown",
   "id": "a8455ebe",
   "metadata": {},
   "source": [
    "#### c)\n",
    "\n",
    "$$\n",
    "\\textrm{survived} = a_{\\textrm{1st class, female}} + \\beta_{\\textrm{2nd class}}1[\\textrm{class} =\\textrm{2nd class}]\n",
    "+ \\beta_{\\textrm{3nd class}}1[\\textrm{class} =\\textrm{3nd class}]\n",
    "+ \\beta_{\\textrm{crew}}1[\\textrm{class} =\\textrm{crew}]\n",
    "+ \\beta_{\\textrm{male}}1[\\textrm{sex} =\\textrm{male}]\n",
    "+   \\epsilon\n",
    "$$"
   ]
  },
  {
   "cell_type": "markdown",
   "id": "cee9d996",
   "metadata": {},
   "source": [
    "### 5) Interpreting Logistic Regression"
   ]
  },
  {
   "cell_type": "markdown",
   "id": "92c81966",
   "metadata": {},
   "source": [
    "#### a)\n",
    "Generate the data:"
   ]
  },
  {
   "cell_type": "code",
   "execution_count": 15,
   "id": "a841b3ba",
   "metadata": {},
   "outputs": [],
   "source": [
    "import numpy as np\n",
    "import pandas as pd\n",
    "rng = np.random.default_rng(313)\n",
    "x = rng.random((1000000, 4))"
   ]
  },
  {
   "cell_type": "markdown",
   "id": "02d1cacc",
   "metadata": {},
   "source": [
    "#### b)\n",
    "Generate y:"
   ]
  },
  {
   "cell_type": "code",
   "execution_count": 16,
   "id": "ca146209",
   "metadata": {},
   "outputs": [],
   "source": [
    "beta = [1, 2, 3, 4]\n",
    "y = x @ np.array(beta) + rng.logistic(size = 1000000)"
   ]
  },
  {
   "cell_type": "markdown",
   "id": "3645428a",
   "metadata": {},
   "source": [
    "#### c)\n",
    "Generate z, based on the computed y values:"
   ]
  },
  {
   "cell_type": "code",
   "execution_count": 17,
   "id": "8b26c731",
   "metadata": {},
   "outputs": [],
   "source": [
    "z = y >= 0"
   ]
  },
  {
   "cell_type": "markdown",
   "id": "a48164fb",
   "metadata": {},
   "source": [
    "#### d)\n",
    "Compute the logistic regression model:"
   ]
  },
  {
   "cell_type": "code",
   "execution_count": 18,
   "id": "118841a0",
   "metadata": {},
   "outputs": [
    {
     "name": "stdout",
     "output_type": "stream",
     "text": [
      "Optimization terminated successfully.\n",
      "         Current function value: 0.077413\n",
      "         Iterations 9\n"
     ]
    },
    {
     "data": {
      "text/html": [
       "<table class=\"simpletable\">\n",
       "<caption>Logit Regression Results</caption>\n",
       "<tr>\n",
       "  <th>Dep. Variable:</th>           <td>z</td>        <th>  No. Observations:  </th>  <td>1000000</td>\n",
       "</tr>\n",
       "<tr>\n",
       "  <th>Model:</th>                 <td>Logit</td>      <th>  Df Residuals:      </th>  <td>999995</td> \n",
       "</tr>\n",
       "<tr>\n",
       "  <th>Method:</th>                 <td>MLE</td>       <th>  Df Model:          </th>  <td>     4</td> \n",
       "</tr>\n",
       "<tr>\n",
       "  <th>Date:</th>            <td>Sat, 09 Oct 2021</td> <th>  Pseudo R-squ.:     </th>  <td>0.1838</td> \n",
       "</tr>\n",
       "<tr>\n",
       "  <th>Time:</th>                <td>15:15:29</td>     <th>  Log-Likelihood:    </th> <td> -77413.</td>\n",
       "</tr>\n",
       "<tr>\n",
       "  <th>converged:</th>             <td>True</td>       <th>  LL-Null:           </th> <td> -94846.</td>\n",
       "</tr>\n",
       "<tr>\n",
       "  <th>Covariance Type:</th>     <td>nonrobust</td>    <th>  LLR p-value:       </th>  <td> 0.000</td> \n",
       "</tr>\n",
       "</table>\n",
       "<table class=\"simpletable\">\n",
       "<tr>\n",
       "      <td></td>         <th>coef</th>     <th>std err</th>      <th>z</th>      <th>P>|z|</th>  <th>[0.025</th>    <th>0.975]</th>  \n",
       "</tr>\n",
       "<tr>\n",
       "  <th>Intercept</th> <td>    0.0599</td> <td>    0.022</td> <td>    2.713</td> <td> 0.007</td> <td>    0.017</td> <td>    0.103</td>\n",
       "</tr>\n",
       "<tr>\n",
       "  <th>x1</th>        <td>    0.9272</td> <td>    0.027</td> <td>   34.938</td> <td> 0.000</td> <td>    0.875</td> <td>    0.979</td>\n",
       "</tr>\n",
       "<tr>\n",
       "  <th>x2</th>        <td>    2.0055</td> <td>    0.028</td> <td>   71.139</td> <td> 0.000</td> <td>    1.950</td> <td>    2.061</td>\n",
       "</tr>\n",
       "<tr>\n",
       "  <th>x3</th>        <td>    2.9587</td> <td>    0.031</td> <td>   95.651</td> <td> 0.000</td> <td>    2.898</td> <td>    3.019</td>\n",
       "</tr>\n",
       "<tr>\n",
       "  <th>x4</th>        <td>    3.9837</td> <td>    0.035</td> <td>  114.055</td> <td> 0.000</td> <td>    3.915</td> <td>    4.052</td>\n",
       "</tr>\n",
       "</table>"
      ],
      "text/plain": [
       "<class 'statsmodels.iolib.summary.Summary'>\n",
       "\"\"\"\n",
       "                           Logit Regression Results                           \n",
       "==============================================================================\n",
       "Dep. Variable:                      z   No. Observations:              1000000\n",
       "Model:                          Logit   Df Residuals:                   999995\n",
       "Method:                           MLE   Df Model:                            4\n",
       "Date:                Sat, 09 Oct 2021   Pseudo R-squ.:                  0.1838\n",
       "Time:                        15:15:29   Log-Likelihood:                -77413.\n",
       "converged:                       True   LL-Null:                       -94846.\n",
       "Covariance Type:            nonrobust   LLR p-value:                     0.000\n",
       "==============================================================================\n",
       "                 coef    std err          z      P>|z|      [0.025      0.975]\n",
       "------------------------------------------------------------------------------\n",
       "Intercept      0.0599      0.022      2.713      0.007       0.017       0.103\n",
       "x1             0.9272      0.027     34.938      0.000       0.875       0.979\n",
       "x2             2.0055      0.028     71.139      0.000       1.950       2.061\n",
       "x3             2.9587      0.031     95.651      0.000       2.898       3.019\n",
       "x4             3.9837      0.035    114.055      0.000       3.915       4.052\n",
       "==============================================================================\n",
       "\"\"\""
      ]
     },
     "execution_count": 18,
     "metadata": {},
     "output_type": "execute_result"
    }
   ],
   "source": [
    "df = pd.DataFrame(np.c_[x,y,z], columns = [\"x1\", \"x2\", \"x3\", \"x4\", \"y\", \"z\"])\n",
    "fit = smf.logit(\"z ~ x1 + x2 + x3 + x4\", data = df).fit()\n",
    "fit.summary()"
   ]
  },
  {
   "cell_type": "markdown",
   "id": "55aad335",
   "metadata": {},
   "source": [
    "The coefficients are close to the \"true\" value."
   ]
  },
  {
   "cell_type": "code",
   "execution_count": null,
   "id": "71c3c33e",
   "metadata": {},
   "outputs": [],
   "source": []
  }
 ],
 "metadata": {
  "@webio": {
   "lastCommId": null,
   "lastKernelId": null
  },
  "kernelspec": {
   "display_name": "Python 3",
   "language": "python",
   "name": "python3"
  },
  "language_info": {
   "codemirror_mode": {
    "name": "ipython",
    "version": 3
   },
   "file_extension": ".py",
   "mimetype": "text/x-python",
   "name": "python",
   "nbconvert_exporter": "python",
   "pygments_lexer": "ipython3",
   "version": "3.8.10"
  }
 },
 "nbformat": 4,
 "nbformat_minor": 5
}
