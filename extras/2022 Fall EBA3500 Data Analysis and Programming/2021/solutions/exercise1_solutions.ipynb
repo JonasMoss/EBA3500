{
 "cells": [
  {
   "cell_type": "markdown",
   "id": "9092745f",
   "metadata": {},
   "source": [
    "# Exercise 1 - Solutions\n",
    "\n",
    "First, you need to import the `numpy` library."
   ]
  },
  {
   "cell_type": "code",
   "execution_count": 1,
   "id": "99fc09fb",
   "metadata": {},
   "outputs": [],
   "source": [
    "import numpy as np"
   ]
  },
  {
   "cell_type": "markdown",
   "id": "312b9acd",
   "metadata": {},
   "source": [
    "Before we start, note that we will use `numpy.array` instead of matrices. Arrays generally allow for the same mathematical operations, however, the `matrix` class is deprecated and will likely be removed in a future release. It is hence recommended to exclusively stick to using arrays. \n",
    "\n",
    "### 1 Working with multiplication\n",
    "\n",
    "#### a)\n",
    "\n",
    "First, we need to initialize the matrices:"
   ]
  },
  {
   "cell_type": "code",
   "execution_count": 2,
   "id": "4f93f800",
   "metadata": {},
   "outputs": [
    {
     "name": "stdout",
     "output_type": "stream",
     "text": [
      "B = \n",
      "[[1 0 1]\n",
      " [0 1 0]\n",
      " [1 0 1]]\n",
      "\n",
      "A = \n",
      "[[1 2 2]\n",
      " [2 1 3]\n",
      " [3 2 1]]\n",
      "\n"
     ]
    }
   ],
   "source": [
    "# initialize the first matrix as matrix \"A\"\n",
    "B = np.array([[1, 0, 1], [0, 1, 0], [1, 0, 1]])\n",
    "print('B = \\n' + str(B) + '\\n')\n",
    "\n",
    "# intialize the second matrix as matrix \"B\"\n",
    "A = np.array([[1, 2, 2], [2, 1, 3], [3, 2, 1]])\n",
    "print('A = \\n' + str(A) + '\\n')"
   ]
  },
  {
   "cell_type": "markdown",
   "id": "0218a9d6",
   "metadata": {},
   "source": [
    "With the matrices in place, we can now perform the matrix multiplication to verify the result:"
   ]
  },
  {
   "cell_type": "code",
   "execution_count": 3,
   "id": "fac26408",
   "metadata": {},
   "outputs": [
    {
     "data": {
      "text/plain": [
       "array([[4, 4, 3],\n",
       "       [2, 1, 3],\n",
       "       [4, 4, 3]])"
      ]
     },
     "execution_count": 3,
     "metadata": {},
     "output_type": "execute_result"
    }
   ],
   "source": [
    "# multiply matrices a and b\n",
    "B@A"
   ]
  },
  {
   "cell_type": "markdown",
   "id": "559be2f6",
   "metadata": {},
   "source": [
    "Indeed, the result equals the matrix given on the exercise sheet.\n",
    "\n",
    "#### b) \n",
    "\n",
    "We can reuse our matrices from above to calculate the result:"
   ]
  },
  {
   "cell_type": "code",
   "execution_count": 4,
   "id": "0bc4c62b",
   "metadata": {},
   "outputs": [
    {
     "data": {
      "text/plain": [
       "array([[3, 2, 3],\n",
       "       [5, 1, 5],\n",
       "       [4, 2, 4]])"
      ]
     },
     "execution_count": 4,
     "metadata": {},
     "output_type": "execute_result"
    }
   ],
   "source": [
    "# multiply matrices b and a\n",
    "A@B"
   ]
  },
  {
   "cell_type": "markdown",
   "id": "e8d9fda8",
   "metadata": {},
   "source": [
    "#### c) \n",
    "\n",
    "As we can see from looking at our results for exercise \"a)\" and \"b)\", it is not generally true that $AB =BA$."
   ]
  },
  {
   "cell_type": "markdown",
   "id": "544cc9ea",
   "metadata": {},
   "source": [
    "#### d) \n",
    "\n",
    "First, we need to set up matrix `O`."
   ]
  },
  {
   "cell_type": "code",
   "execution_count": 5,
   "id": "e3e14582",
   "metadata": {},
   "outputs": [
    {
     "name": "stdout",
     "output_type": "stream",
     "text": [
      "O = \n",
      "[[0. 0. 0. 0.]\n",
      " [0. 0. 0. 0.]\n",
      " [0. 0. 0. 0.]]\n",
      "\n"
     ]
    }
   ],
   "source": [
    "# initialize matrix O\n",
    "O = np.zeros([3, 4])\n",
    "print('O = \\n' + str(O) + '\\n')"
   ]
  },
  {
   "cell_type": "code",
   "execution_count": 6,
   "id": "a0749b56",
   "metadata": {},
   "outputs": [
    {
     "data": {
      "text/plain": [
       "array([[0., 0., 0., 0.],\n",
       "       [0., 0., 0., 0.],\n",
       "       [0., 0., 0., 0.]])"
      ]
     },
     "execution_count": 6,
     "metadata": {},
     "output_type": "execute_result"
    }
   ],
   "source": [
    "# multiply A and O\n",
    "A@O"
   ]
  },
  {
   "cell_type": "markdown",
   "id": "b70c728e",
   "metadata": {},
   "source": [
    "As we can see, the matrix product results in a zero matrix with size $3\\times4$"
   ]
  },
  {
   "cell_type": "markdown",
   "id": "845066b6",
   "metadata": {},
   "source": [
    "#### e)\n",
    "We first need to initialize the unit vectors:"
   ]
  },
  {
   "cell_type": "code",
   "execution_count": 7,
   "id": "0c1be635",
   "metadata": {},
   "outputs": [
    {
     "name": "stdout",
     "output_type": "stream",
     "text": [
      "e1 = \n",
      "[[1]\n",
      " [0]\n",
      " [0]]\n",
      "\n",
      "e2 = \n",
      "[[0]\n",
      " [1]\n",
      " [0]]\n",
      "\n",
      "e3 = \n",
      "[[0]\n",
      " [0]\n",
      " [1]]\n",
      "\n"
     ]
    }
   ],
   "source": [
    "# initialize e1\n",
    "e1 = np.array([[1],[0],[0]])\n",
    "print('e1 = \\n' + str(e1) + '\\n')\n",
    "\n",
    "# initialize e2\n",
    "e2 = np.array([[0],[1],[0]])\n",
    "print('e2 = \\n' + str(e2) + '\\n')\n",
    "\n",
    "# initialize e3\n",
    "e3 = np.array([[0],[0],[1]])\n",
    "print('e3 = \\n' + str(e3) + '\\n')"
   ]
  },
  {
   "cell_type": "markdown",
   "id": "c8483315",
   "metadata": {},
   "source": [
    "We can now perform the exercise:"
   ]
  },
  {
   "cell_type": "code",
   "execution_count": 8,
   "id": "67fdf7d1",
   "metadata": {},
   "outputs": [
    {
     "name": "stdout",
     "output_type": "stream",
     "text": [
      "A@e1 = \n",
      "[[1]\n",
      " [2]\n",
      " [3]]\n",
      "\n",
      "A@e2 = \n",
      "[[2]\n",
      " [1]\n",
      " [2]]\n",
      "\n",
      "A@e3 = \n",
      "[[2]\n",
      " [3]\n",
      " [1]]\n",
      "\n"
     ]
    }
   ],
   "source": [
    "# multiply A and e1\n",
    "print('A@e1 = \\n' + str(A@e1) + '\\n')\n",
    "\n",
    "# multiply A and e1\n",
    "print('A@e2 = \\n' + str(A@e2) + '\\n')\n",
    "\n",
    "# multiply A and e1\n",
    "print('A@e3 = \\n' + str(A@e3) + '\\n')"
   ]
  },
  {
   "cell_type": "markdown",
   "id": "534cdb76",
   "metadata": {},
   "source": [
    "If you look closely at the results, you might notice that the unit vectors $e_i$ select column $i$ from matrix $A$. In comparison, if we multiply $e_i'$ with matrix $A$, the product results in rows of  $A$ being selected. "
   ]
  },
  {
   "cell_type": "code",
   "execution_count": 9,
   "id": "3c55d4de",
   "metadata": {},
   "outputs": [
    {
     "name": "stdout",
     "output_type": "stream",
     "text": [
      "e1.T@A = \n",
      "[[1 2 2]]\n",
      "\n",
      "e2.T@A = \n",
      "[[2 1 3]]\n",
      "\n",
      "e3.T@A = \n",
      "[[3 2 1]]\n",
      "\n"
     ]
    }
   ],
   "source": [
    "# multiply A and e1\n",
    "print('e1.T@A = \\n' + str(e1.T@A) + '\\n')\n",
    "\n",
    "# multiply A and e1\n",
    "print('e2.T@A = \\n' + str(e2.T@A) + '\\n')\n",
    "\n",
    "# multiply A and e1\n",
    "print('e3.T@A = \\n' + str(e3.T@A) + '\\n')"
   ]
  },
  {
   "cell_type": "markdown",
   "id": "f3d65f00",
   "metadata": {},
   "source": [
    "### 2 Working with the dot product\n",
    "\n",
    "#### a)\n",
    "First, initialize the vectors:"
   ]
  },
  {
   "cell_type": "code",
   "execution_count": 10,
   "id": "cf93fed8",
   "metadata": {},
   "outputs": [
    {
     "name": "stdout",
     "output_type": "stream",
     "text": [
      "x=\n",
      "[[3]\n",
      " [2]\n",
      " [1]]\n",
      "\n",
      "y=\n",
      "[[1]\n",
      " [8]\n",
      " [3]]\n",
      "\n"
     ]
    }
   ],
   "source": [
    "# initliaze vector x\n",
    "x = np.array([[3], [2], [1]])\n",
    "print('x=\\n' + str(x) + '\\n')\n",
    "\n",
    "# initliaze vector y\n",
    "y = np.array([[1], [8], [3]])\n",
    "print('y=\\n' + str(y) + '\\n')"
   ]
  },
  {
   "cell_type": "markdown",
   "id": "34e9860c",
   "metadata": {},
   "source": [
    "Calculate the dot product:"
   ]
  },
  {
   "cell_type": "code",
   "execution_count": 11,
   "id": "1fc31f37",
   "metadata": {},
   "outputs": [
    {
     "data": {
      "text/plain": [
       "array([[22]])"
      ]
     },
     "execution_count": 11,
     "metadata": {},
     "output_type": "execute_result"
    }
   ],
   "source": [
    "# calculate the dot product\n",
    "x.T@y"
   ]
  },
  {
   "cell_type": "markdown",
   "id": "9712b707",
   "metadata": {},
   "source": [
    "### b)\n",
    "\n",
    "Let $x = (x_1, x_2, x_3)'$ and $y = (y_1, y_2, y_3)'$. Algebraically, the dot product is given by:\n",
    "\n",
    "$$\n",
    "x\\cdot y = \\sum_{i=1}^n x_i \\cdot y_i\n",
    "$$\n",
    "\n",
    "If we expand the above expression, we have:\n",
    "\n",
    "\n",
    "$$\n",
    "x\\cdot y = \\sum_{i=1}^n x_i \\cdot y_i = x_1 \\cdot y_1 + x_2 \\cdot y_2 + x_3 \\cdot y_3 = x'y\n",
    "$$\n",
    "\n",
    "or numerically:"
   ]
  },
  {
   "cell_type": "code",
   "execution_count": 12,
   "id": "448f398b",
   "metadata": {},
   "outputs": [
    {
     "data": {
      "text/plain": [
       "array([[ True]])"
      ]
     },
     "execution_count": 12,
     "metadata": {},
     "output_type": "execute_result"
    }
   ],
   "source": [
    "# test whether the dot product of x and y is equal to the matrix product of x.T and y \n",
    "sum(x*y) == x.T@y"
   ]
  },
  {
   "cell_type": "markdown",
   "id": "2d96bce5",
   "metadata": {},
   "source": [
    "#### c) "
   ]
  },
  {
   "cell_type": "code",
   "execution_count": 13,
   "id": "9acbb353",
   "metadata": {},
   "outputs": [
    {
     "name": "stdout",
     "output_type": "stream",
     "text": [
      "a.T@b = \n",
      "[[11]]\n",
      "\n",
      "c.T@b = \n",
      "[[10]]\n",
      "\n",
      "d.T@b = \n",
      "[[11]]\n",
      "\n"
     ]
    }
   ],
   "source": [
    "# initialize the vectors a and b\n",
    "a = np.array([[1],[2],[2]])\n",
    "b = np.array([[1],[2],[3]])\n",
    "\n",
    "# compute the dot product\n",
    "print('a.T@b = \\n' + str(a.T@b) + '\\n')\n",
    "\n",
    "# initialize vector c\n",
    "c = np.array([[2],[1],[2]])\n",
    "\n",
    "# compute the dot product\n",
    "print('c.T@b = \\n' + str(c.T@b) + '\\n')\n",
    "\n",
    "# initialize vector d\n",
    "d = np.array([[2],[3],[1]])\n",
    "\n",
    "# compute the dot product\n",
    "print('d.T@b = \\n' + str(d.T@b) + '\\n')"
   ]
  },
  {
   "cell_type": "markdown",
   "id": "205722c1",
   "metadata": {},
   "source": [
    "#### d) \n",
    "\n",
    "The matrix given in the exercise, is equal to matrix $A$ from exercise 1. We can thus simply recycle it. "
   ]
  },
  {
   "cell_type": "code",
   "execution_count": 14,
   "id": "147a390b",
   "metadata": {},
   "outputs": [
    {
     "data": {
      "text/plain": [
       "array([[14],\n",
       "       [10],\n",
       "       [11]])"
      ]
     },
     "execution_count": 14,
     "metadata": {},
     "output_type": "execute_result"
    }
   ],
   "source": [
    "# compute the matrix product\n",
    "A.T@b"
   ]
  },
  {
   "cell_type": "markdown",
   "id": "645be7d8",
   "metadata": {},
   "source": [
    "As you might notice, the result is equal to the stacked dot products of the columns of $A$ and vector $b$. "
   ]
  },
  {
   "cell_type": "markdown",
   "id": "58a633f1",
   "metadata": {},
   "source": [
    "#### e) \n",
    "What we already noticed in \"d)\", we are now going to show more rigorously. For simplicity, let $X=A$ and $y=b$. As before, we have that:"
   ]
  },
  {
   "cell_type": "code",
   "execution_count": 15,
   "id": "746f9fae",
   "metadata": {},
   "outputs": [
    {
     "data": {
      "text/plain": [
       "array([[14],\n",
       "       [10],\n",
       "       [11]])"
      ]
     },
     "execution_count": 15,
     "metadata": {},
     "output_type": "execute_result"
    }
   ],
   "source": [
    "# compute the matrix product\n",
    "A.T@b"
   ]
  },
  {
   "cell_type": "markdown",
   "id": "0435160e",
   "metadata": {},
   "source": [
    "Now, let's take the columns of $A$ and compute the dot product of each column $j$ with $b$. We will use $x\\cdot y = x'y$, which we showed earlier, here."
   ]
  },
  {
   "cell_type": "code",
   "execution_count": 16,
   "id": "fc24dbd6",
   "metadata": {},
   "outputs": [
    {
     "name": "stdout",
     "output_type": "stream",
     "text": [
      "a1.T@b = \n",
      "[14]\n",
      "\n",
      "a2.T@b = \n",
      "[10]\n",
      "\n",
      "a3.T@b = \n",
      "[11]\n",
      "\n"
     ]
    }
   ],
   "source": [
    "# compute the dot product of a1 and b\n",
    "print('a1.T@b = \\n' + str(A[:,0].T@b) + '\\n')\n",
    "\n",
    "# compute the dot product of a2 and b\n",
    "print('a2.T@b = \\n' + str(A[:,1].T@b) + '\\n')\n",
    "\n",
    "# compute the dot product of a3 and b\n",
    "print('a3.T@b = \\n' + str(A[:,2].T@b) + '\\n')"
   ]
  },
  {
   "cell_type": "markdown",
   "id": "16a63428",
   "metadata": {},
   "source": [
    "We thus have shown the relationship. More formally:\n",
    "\n",
    "$$\n",
    "X = \n",
    "  \\begin{bmatrix}\n",
    "   x_{1,1} & x_{1,2} & x_{1,3} \\\\\n",
    "   x_{2,1} & x_{2,2} & x_{2,3} \\\\\n",
    "   x_{3,1} & x_{3,2} & x_{3,3}\n",
    "  \\end{bmatrix} , \\:\\:\\: y = \\begin{bmatrix}\n",
    "   y_{1} \\\\\n",
    "   y_{2} \\\\\n",
    "   y_{3}\n",
    "  \\end{bmatrix}\n",
    "$$\n",
    "\n",
    "thus:\n",
    "$$ \n",
    "X'\\cdot y= \\begin{bmatrix}\n",
    "   x_{1,1} & x_{2,1} & x_{3,1} \\\\\n",
    "   x_{1,2} & x_{2,2} & x_{3,2} \\\\\n",
    "   x_{1,3} & x_{2,3} & x_{3,3}\n",
    "  \\end{bmatrix}  \\cdot \\begin{bmatrix}\n",
    "   y_{1} \\\\\n",
    "   y_{2} \\\\\n",
    "   y_{3}\n",
    "  \\end{bmatrix} = \\begin{bmatrix}\n",
    "   (x_{1,1}\\cdot y_1 + x_{2,1}\\cdot y_2 + x_{3,1}\\cdot y_3) \\\\\n",
    "   (x_{1,2}\\cdot y_1 + x_{2,2}\\cdot y_2 + x_{3,2}\\cdot y_3) \\\\\n",
    "   (x_{1,3}\\cdot y_1 + x_{2,3}\\cdot y_2 + x_{3,3}\\cdot y_3)\n",
    "   \\end{bmatrix} = \\begin{bmatrix}\n",
    "   \\sum_{i=1}^3 x_{i,1}\\cdot y_i \\\\\n",
    "   \\sum_{i=1}^3 x_{i,2}\\cdot y_i \\\\\n",
    "   \\sum_{i=1}^3 x_{i,3}\\cdot y_i\n",
    "   \\end{bmatrix} \n",
    "$$\n",
    "\n",
    "Which is the inner product between the columns of $X$ and the vector  $y$."
   ]
  },
  {
   "cell_type": "markdown",
   "id": "ba4e0d3c",
   "metadata": {},
   "source": [
    "### 3 The Hadamard product\n",
    "#### a) \n",
    "\n",
    "The Hadamard product entails element-by-element multiplication. As such, matrix $J$ has to fulfill two properties. First, it has to have the same dimensions as $A$. Second, when multiplied with $A$, it has to result in $A$ for generic matrix A. \n",
    "\n",
    "Matrix $J$ thus has to be a matrix of $1$'s."
   ]
  },
  {
   "cell_type": "code",
   "execution_count": 17,
   "id": "bfcb4bac",
   "metadata": {},
   "outputs": [
    {
     "name": "stdout",
     "output_type": "stream",
     "text": [
      "A = \n",
      "[[1 2 2]\n",
      " [2 1 3]\n",
      " [3 2 1]]\n",
      "\n",
      "J = \n",
      "[[1. 1. 1.]\n",
      " [1. 1. 1.]\n",
      " [1. 1. 1.]]\n",
      "\n"
     ]
    }
   ],
   "source": [
    "# for simplicity, re-rpint A\n",
    "print('A = \\n' + str(A) + '\\n')\n",
    "\n",
    "# initialize matrix J\n",
    "J = np.ones(A.shape)\n",
    "print('J = \\n' + str(J) + '\\n')"
   ]
  },
  {
   "cell_type": "markdown",
   "id": "114a4347",
   "metadata": {},
   "source": [
    "We can now show the result for matrices $A$ and $J$."
   ]
  },
  {
   "cell_type": "code",
   "execution_count": 18,
   "id": "cfa05d67",
   "metadata": {},
   "outputs": [
    {
     "data": {
      "text/latex": [
       "$\\displaystyle A \\circ J = $"
      ],
      "text/plain": [
       "<IPython.core.display.Math object>"
      ]
     },
     "metadata": {},
     "output_type": "display_data"
    },
    {
     "name": "stdout",
     "output_type": "stream",
     "text": [
      "[[1. 2. 2.]\n",
      " [2. 1. 3.]\n",
      " [3. 2. 1.]]\n",
      "\n"
     ]
    },
    {
     "data": {
      "text/latex": [
       "$\\displaystyle J \\circ A = $"
      ],
      "text/plain": [
       "<IPython.core.display.Math object>"
      ]
     },
     "metadata": {},
     "output_type": "display_data"
    },
    {
     "name": "stdout",
     "output_type": "stream",
     "text": [
      "[[1. 2. 2.]\n",
      " [2. 1. 3.]\n",
      " [3. 2. 1.]]\n",
      "\n"
     ]
    }
   ],
   "source": [
    "# import Math for printing special symbols\n",
    "from IPython.display import display, Math\n",
    "\n",
    "# compute the Hadamard product between A and J\n",
    "display(Math('A \\circ J = ')) \n",
    "print(str(A*J) + '\\n')\n",
    "\n",
    "# compute the Hadamard product between A and J\n",
    "display(Math('J \\circ A = ')) \n",
    "print(str(J*A) + '\\n')"
   ]
  },
  {
   "cell_type": "markdown",
   "id": "4e01f98f",
   "metadata": {},
   "source": [
    "As we can see, the $A\\circ J = A = J\\circ A$."
   ]
  },
  {
   "cell_type": "markdown",
   "id": "295c7457",
   "metadata": {},
   "source": [
    "#### b) \n",
    "\n",
    "In case of a scalar, we have that $a\\cdot b = 1$ for $b=1/a$. Thus, in case of the Hadamard product:\n"
   ]
  },
  {
   "cell_type": "code",
   "execution_count": 19,
   "id": "1029eba6",
   "metadata": {},
   "outputs": [
    {
     "name": "stdout",
     "output_type": "stream",
     "text": [
      "B = \n",
      "[[1.         0.5        0.5       ]\n",
      " [0.5        1.         0.33333333]\n",
      " [0.33333333 0.5        1.        ]]\n",
      "\n"
     ]
    },
    {
     "data": {
      "text/latex": [
       "$\\displaystyle A \\circ B = $"
      ],
      "text/plain": [
       "<IPython.core.display.Math object>"
      ]
     },
     "metadata": {},
     "output_type": "display_data"
    },
    {
     "name": "stdout",
     "output_type": "stream",
     "text": [
      "[[1. 1. 1.]\n",
      " [1. 1. 1.]\n",
      " [1. 1. 1.]]\n",
      "\n"
     ]
    }
   ],
   "source": [
    "# define B\n",
    "B = 1/A\n",
    "print('B = \\n' + str(B) + '\\n')\n",
    "\n",
    "# compute the Hadamard product of A and B\n",
    "display(Math('A \\circ B = ')) \n",
    "print(str(A*B) + '\\n')"
   ]
  },
  {
   "cell_type": "markdown",
   "id": "71af6dc0",
   "metadata": {},
   "source": [
    "More formally, we have that $b_{i,j}=1/a_{i,j}$"
   ]
  },
  {
   "cell_type": "markdown",
   "id": "158cf0d7",
   "metadata": {},
   "source": [
    "#### C)\n",
    "No! If $A$ contains a $0$, then $B$ is not defined. The matrix might, however, be invertible. COnversely, if the matrix is not invertible, but does not contain any zeros, then $B$ is defined. The concepts are hence not related:\n",
    "\n",
    "* An example for a matrix that is invertible, but for which $B$ is not defined:"
   ]
  },
  {
   "cell_type": "code",
   "execution_count": 20,
   "id": "494ffc60",
   "metadata": {},
   "outputs": [
    {
     "name": "stdout",
     "output_type": "stream",
     "text": [
      "C = \n",
      "[[1 2 1]\n",
      " [0 1 0]\n",
      " [5 3 1]]\n",
      "\n"
     ]
    },
    {
     "name": "stderr",
     "output_type": "stream",
     "text": [
      "<ipython-input-20-164ba9d26ca3>:6: RuntimeWarning: divide by zero encountered in true_divide\n",
      "  B = 1/C\n"
     ]
    }
   ],
   "source": [
    "# re-define C\n",
    "C = np.array([[1, 2, 1], [0, 1, 0], [5, 3, 1]])\n",
    "print('C = \\n' + str(C) + '\\n')\n",
    "\n",
    "try:\n",
    "    B = 1/C\n",
    "except:\n",
    "    print('B is not defined')\n"
   ]
  },
  {
   "cell_type": "code",
   "execution_count": 21,
   "id": "71aac8f1",
   "metadata": {},
   "outputs": [
    {
     "data": {
      "text/plain": [
       "array([[-2.50000000e-01, -2.50000000e-01,  2.50000000e-01],\n",
       "       [ 8.72318091e-17,  1.00000000e+00,  0.00000000e+00],\n",
       "       [ 1.25000000e+00, -1.75000000e+00, -2.50000000e-01]])"
      ]
     },
     "execution_count": 21,
     "metadata": {},
     "output_type": "execute_result"
    }
   ],
   "source": [
    "# compute the matrix inverse\n",
    "np.linalg.inv(C)"
   ]
  },
  {
   "cell_type": "markdown",
   "id": "f68b32d6",
   "metadata": {},
   "source": [
    "* A matrix that is not invertible, but for which $B$ is defined:"
   ]
  },
  {
   "cell_type": "code",
   "execution_count": 22,
   "id": "b90a87e0",
   "metadata": {},
   "outputs": [
    {
     "name": "stdout",
     "output_type": "stream",
     "text": [
      "C is not invertible!\n"
     ]
    }
   ],
   "source": [
    "# re-define C\n",
    "C = np.array([[1, 2, 3], [2, 4, 6], [4, 8, 9]])\n",
    "\n",
    "# compute the inverse\n",
    "try:\n",
    "    np.linalg.inv(C)\n",
    "except:\n",
    "    print('C is not invertible!')"
   ]
  },
  {
   "cell_type": "code",
   "execution_count": 23,
   "id": "73b49e7b",
   "metadata": {},
   "outputs": [
    {
     "name": "stdout",
     "output_type": "stream",
     "text": [
      "B = 1/C = \n",
      "[[1.         0.5        0.33333333]\n",
      " [0.5        0.25       0.16666667]\n",
      " [0.25       0.125      0.11111111]]\n",
      "\n"
     ]
    }
   ],
   "source": [
    "# compute B\n",
    "B = 1/C\n",
    "print('B = 1/C = \\n' + str(B) + '\\n')\n"
   ]
  },
  {
   "cell_type": "markdown",
   "id": "894a157a",
   "metadata": {},
   "source": [
    "### 4 Working with transposes\n",
    "#### a) "
   ]
  },
  {
   "cell_type": "code",
   "execution_count": 24,
   "id": "9a92e6a9",
   "metadata": {},
   "outputs": [
    {
     "name": "stdout",
     "output_type": "stream",
     "text": [
      "A = \n",
      "[[ 2 -5  3]\n",
      " [ 0  7 -2]\n",
      " [-1  4  1]]\n",
      "\n",
      "B = \n",
      "[[2 1 1]\n",
      " [3 2 1]\n",
      " [2 1 2]]\n",
      "\n"
     ]
    }
   ],
   "source": [
    "# define A and B\n",
    "A = np.array([[2, -5, 3],[0, 7, -2],[-1, 4, 1]])\n",
    "B = np.array([[2, 1, 1],[3, 2, 1],[2, 1, 2]])\n",
    "\n",
    "# display matrices\n",
    "print('A = \\n' + str(A) + '\\n')\n",
    "print('B = \\n' + str(B) + '\\n')"
   ]
  },
  {
   "cell_type": "markdown",
   "id": "348dde82",
   "metadata": {},
   "source": [
    "Let's now show the facts on an example:\n",
    "* $(A')' = A$:"
   ]
  },
  {
   "cell_type": "code",
   "execution_count": 25,
   "id": "b56e244d",
   "metadata": {},
   "outputs": [
    {
     "name": "stdout",
     "output_type": "stream",
     "text": [
      "(A')' = A: \n",
      "[[ 2 -5  3]\n",
      " [ 0  7 -2]\n",
      " [-1  4  1]]\n",
      "\n"
     ]
    }
   ],
   "source": [
    "# show the first fact\n",
    "print(\"(A')' = A: \\n\" + str((A.T).T) + '\\n')"
   ]
  },
  {
   "cell_type": "markdown",
   "id": "3d6c665f",
   "metadata": {},
   "source": [
    "The result is the same as A.\n",
    "\n",
    "* $(A + B)' = A' + B'$:"
   ]
  },
  {
   "cell_type": "code",
   "execution_count": 26,
   "id": "b2429249",
   "metadata": {},
   "outputs": [
    {
     "name": "stdout",
     "output_type": "stream",
     "text": [
      "(A + B)' = \n",
      "[[ 4  3  1]\n",
      " [-4  9  5]\n",
      " [ 4 -1  3]]\n",
      "\n",
      "A' + B' = \n",
      "[[ 4  3  1]\n",
      " [-4  9  5]\n",
      " [ 4 -1  3]]\n",
      "\n"
     ]
    }
   ],
   "source": [
    "# show the second fact\n",
    "print(\"(A + B)' = \\n\" + str((A+B).T) + '\\n')\n",
    "print(\"A' + B' = \\n\" + str(A.T+B.T) + '\\n')"
   ]
  },
  {
   "cell_type": "markdown",
   "id": "7a5e4239",
   "metadata": {},
   "source": [
    "The two results are the same.\n",
    "\n",
    "* $(AB)' = B'A'$:"
   ]
  },
  {
   "cell_type": "code",
   "execution_count": 27,
   "id": "1a6fa9a4",
   "metadata": {},
   "outputs": [
    {
     "name": "stdout",
     "output_type": "stream",
     "text": [
      "(A@B)' = \n",
      "[[-5 17 12]\n",
      " [-5 12  8]\n",
      " [ 3  3  5]]\n",
      "\n",
      "B'@A' = \n",
      "[[-5 17 12]\n",
      " [-5 12  8]\n",
      " [ 3  3  5]]\n",
      "\n"
     ]
    }
   ],
   "source": [
    "# show the third fact\n",
    "print(\"(A@B)' = \\n\" + str((A@B).T) + '\\n')\n",
    "print(\"B'@A' = \\n\" + str(B.T@A.T) + '\\n')"
   ]
  },
  {
   "cell_type": "markdown",
   "id": "5f49bbca",
   "metadata": {},
   "source": [
    "Again, the two results are the same."
   ]
  },
  {
   "cell_type": "markdown",
   "id": "217ff10e",
   "metadata": {},
   "source": [
    "#### b) \n",
    "\n",
    "$$\n",
    "x'Ax = \n",
    "  \\begin{bmatrix}\n",
    "   x_1 & x_2 &  x_3 \n",
    "  \\end{bmatrix} \n",
    "  \\begin{bmatrix}\n",
    "   2 & -5 &  3 \\\\\n",
    "   0 &  7 & -2 \\\\\n",
    "  -1 &  4 &  1\n",
    "  \\end{bmatrix}\n",
    "  \\begin{bmatrix}\n",
    "   x_1 \\\\\n",
    "   x_2 \\\\ \n",
    "   x_3 \n",
    "  \\end{bmatrix} =\n",
    "  \\begin{bmatrix}\n",
    "   2 x_1  -x_3 & -5x_1 + 7x_2 + 4x_3 & 3x_1 + -2x_2 + x_3 \n",
    "  \\end{bmatrix}\n",
    "  \\begin{bmatrix}\n",
    "   x_1 \\\\\n",
    "   x_2 \\\\ \n",
    "   x_3 \n",
    "  \\end{bmatrix} \\\\= 2 x_1^2  -x_3x_1  -5x_1x_2 + 7x_2^2 + 4x_3x_2 + 3x_1x_3 + -2x_2x_3 + x_3^2 \\\\\n",
    "  = 2x_1^2 - 5x_1x_2 + 2x_1x_3 + 7x_2^2 + 2x_2x_3 + x_3^2\n",
    " $$\n"
   ]
  },
  {
   "cell_type": "markdown",
   "id": "2dffbf6c",
   "metadata": {},
   "source": [
    "### 5 Working with inverse matrices\n",
    "#### a) \n"
   ]
  },
  {
   "cell_type": "code",
   "execution_count": 28,
   "id": "3edcacf8",
   "metadata": {},
   "outputs": [
    {
     "name": "stdout",
     "output_type": "stream",
     "text": [
      "A is not invertible!\n"
     ]
    }
   ],
   "source": [
    "# define A \n",
    "A = np.array([[1, 0, 2],[0, 1, 0],[1, 0, 2]])\n",
    "\n",
    "# compute the inverse\n",
    "try:\n",
    "    np.linalg.inv(A)\n",
    "except:\n",
    "    print('A is not invertible!')"
   ]
  },
  {
   "cell_type": "markdown",
   "id": "dcdcabe7",
   "metadata": {},
   "source": [
    "The matrix is not invertible. We can see that this is the case, looking at the hint. For **any** $b$, the system of equations has to yield a **unique** solution. \n",
    "\n",
    "$$\n",
    "Ax = \n",
    "  \\begin{bmatrix}\n",
    "   1 & 0 & 2 \\\\\n",
    "   0 & 1 & 0 \\\\\n",
    "   1 & 0 & 2\n",
    "  \\end{bmatrix}\n",
    "  \\begin{bmatrix}\n",
    "   x_1 \\\\\n",
    "   x_2 \\\\ \n",
    "   x_3 \n",
    "  \\end{bmatrix} = \n",
    "   \\begin{bmatrix}\n",
    "   x_1 + 2x_3 \\\\\n",
    "   x_2 \\\\ \n",
    "   x_1 +  2x_3\n",
    "  \\end{bmatrix} = b\n",
    "$$\n",
    "\n",
    "You might have already noticed that we have $3$ unknown variables, but only $2$ unique equations. With more unknown variables than unique equations, the system can have either infinitely many or no solutions! We can see this more easily, when bringing the matrix into triangular form:\n",
    "\n",
    "\n",
    "$$\n",
    "\\left[\n",
    "  \\begin{matrix}\n",
    "    1 & 0 & 2 \\\\\n",
    "    0 & 1 & 0 \\\\\n",
    "    0 & 0 & 0 \n",
    "  \\end{matrix}\n",
    "  \\left|\n",
    "    \\,\n",
    "    \\begin{matrix}\n",
    "      b_1  \\\\\n",
    "      b_2  \\\\\n",
    "      b_3-b_1  \n",
    "    \\end{matrix}\n",
    "  \\right.\n",
    "\\right]\n",
    "$$\n",
    "\n",
    "The last row of the augmented matrix is filled with $0$'s. To get a more intuitive understanding of our problem, consider the computation of the inverse for a $2\\times2$ matrix:\n",
    "\n",
    "$$\n",
    "A=\\begin{bmatrix}\n",
    "    a_{1,1} & a_{1,2} \\\\\n",
    "    a_{2,1} & a_{2,2} \n",
    "  \\end{bmatrix}^{-1} = \\frac{1}{|A|}\n",
    "  \\begin{bmatrix}\n",
    "    a_{2,2} & -a_{1,2} \\\\\n",
    "    -a_{2,1} & a_{1,1} \n",
    "  \\end{bmatrix}^{-1} = \\frac{1}{a_{2,2}\\cdot a_{1,1}-a_{1,2}\\cdot a_{2,1}}\n",
    "  \\begin{bmatrix}\n",
    "    a_{2,2} & -a_{1,2} \\\\\n",
    "    -a_{2,1} & a_{1,1} \n",
    "  \\end{bmatrix}\n",
    "$$\n",
    "\n",
    "where $|A|$ denotes the determinant of $A$. Thus, when the determinant is $0$, we would be dividing by zero and the inverse is not defined. The same principle carries over to bigger matrices. Let's check matrix $A$:\n"
   ]
  },
  {
   "cell_type": "code",
   "execution_count": 29,
   "id": "d022e3f3",
   "metadata": {},
   "outputs": [
    {
     "data": {
      "text/plain": [
       "0.0"
      ]
     },
     "execution_count": 29,
     "metadata": {},
     "output_type": "execute_result"
    }
   ],
   "source": [
    "#compute the determinant of A\n",
    "np.linalg.det(A)"
   ]
  },
  {
   "cell_type": "markdown",
   "id": "b7fd180a",
   "metadata": {},
   "source": [
    "Indeed, the determinant is zero. Geometrically, a $0$ determinant squishes the space spanned by a matrix into a smaller dimension. For a $3\\times 3$ matrix, this means that the $3$-dimensional space is compressed into a plane, a line, or even a point. If this is the case, the columns of the matrix must be linearly dependent. \n",
    "\n",
    "So we know now that in our system of linear equations, $Ax=b$, matrix $A$ squishes the space into a smaller dimension. To have a unique solution that takes us from $x$ to any $b$, we would require the inverse to \"undo the squishing of space\" and to take us from a point, line or plane back to a 3-dimensional space. There is no matrix, however, that has this property and thus the inverse does not exist. \n",
    "\n",
    "In short, for the inverse to exist, transformation matrix $A$ has to span the entire space. This is fulfilled, if the matrix has full rank, its determinant is unequal to zero, or its columns are linearly independent. If you would like to build more intuition, here are great videos about [determinants](https://www.youtube.com/watch?v=Ip3X9LOh2dk) and [inverses](https://www.youtube.com/watch?v=uQhTuRlWMxw&t=426s)."
   ]
  },
  {
   "cell_type": "markdown",
   "id": "8f402da9",
   "metadata": {},
   "source": [
    "#### b)\n",
    "Let's take our matrix $C$ from above:"
   ]
  },
  {
   "cell_type": "code",
   "execution_count": 30,
   "id": "eee5e799",
   "metadata": {},
   "outputs": [
    {
     "name": "stdout",
     "output_type": "stream",
     "text": [
      "C = \n",
      "[[1 2 1]\n",
      " [0 1 0]\n",
      " [5 3 1]]\n",
      "\n"
     ]
    },
    {
     "data": {
      "text/plain": [
       "array([[ 1.,  2.,  1.],\n",
       "       [-0.,  1., -0.],\n",
       "       [ 5.,  3.,  1.]])"
      ]
     },
     "execution_count": 30,
     "metadata": {},
     "output_type": "execute_result"
    }
   ],
   "source": [
    "# re-define C\n",
    "C = np.array([[1, 2, 1], [0, 1, 0], [5, 3, 1]])\n",
    "print('C = \\n' + str(C) + '\\n')\n",
    "\n",
    "# compute the inverse of the inverse\n",
    "np.linalg.inv(np.linalg.inv(C)).round(1)"
   ]
  },
  {
   "cell_type": "markdown",
   "id": "be141dcd",
   "metadata": {},
   "source": [
    "As we can see, the result is the same. More formally, let $ B = A^{-1}$. Then:\n",
    "\n",
    "$$\n",
    "B^{-1} = (A^{-1})^{-1} \n",
    "$$\n",
    "\n",
    "We know that, by the property of the inverse $AB=AA^{-1}=I  = BB^{-1} = A^{-1} (A^{-1})^{-1}$. But when $A^{-1}(A^{-1})^{-1} = I$, then it follows that $(A^{-1})^{-1}=A.$"
   ]
  }
 ],
 "metadata": {
  "@webio": {
   "lastCommId": null,
   "lastKernelId": null
  },
  "kernelspec": {
   "display_name": "Python 3",
   "language": "python",
   "name": "python3"
  },
  "language_info": {
   "codemirror_mode": {
    "name": "ipython",
    "version": 3
   },
   "file_extension": ".py",
   "mimetype": "text/x-python",
   "name": "python",
   "nbconvert_exporter": "python",
   "pygments_lexer": "ipython3",
   "version": "3.8.10"
  }
 },
 "nbformat": 4,
 "nbformat_minor": 5
}
