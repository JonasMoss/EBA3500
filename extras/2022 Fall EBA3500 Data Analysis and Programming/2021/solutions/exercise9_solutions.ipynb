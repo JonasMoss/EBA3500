{
 "cells": [
  {
   "cell_type": "markdown",
   "id": "3a99859f",
   "metadata": {},
   "source": [
    "# Exercise 9 - Solutions"
   ]
  },
  {
   "cell_type": "markdown",
   "id": "d82f2faa",
   "metadata": {},
   "source": [
    "### 1: Product Sets"
   ]
  },
  {
   "cell_type": "markdown",
   "id": "3f053699",
   "metadata": {},
   "source": [
    "#### a) Cardinality of a Set\n",
    "\n",
    "To calculate the cardinality, we can simply use the `len` function."
   ]
  },
  {
   "cell_type": "code",
   "execution_count": 1,
   "id": "a9599361",
   "metadata": {},
   "outputs": [],
   "source": [
    "def card(A):\n",
    "    \"\"\"\n",
    "    Function to compute the cardinality of a set.\n",
    "    \n",
    "    Paramerters\n",
    "    -----------\n",
    "        A : set\n",
    "            The set for which the cardicnality is supposed to be computed\n",
    "            \n",
    "    Returns:\n",
    "    -------\n",
    "        The cardinaility of the set\n",
    "    \"\"\"\n",
    "    return len(A)"
   ]
  },
  {
   "cell_type": "markdown",
   "id": "1ae039f9",
   "metadata": {},
   "source": [
    "Let's test the function."
   ]
  },
  {
   "cell_type": "code",
   "execution_count": 2,
   "id": "4101a87c",
   "metadata": {},
   "outputs": [
    {
     "data": {
      "text/plain": [
       "3"
      ]
     },
     "execution_count": 2,
     "metadata": {},
     "output_type": "execute_result"
    }
   ],
   "source": [
    "A = {1,2,3}\n",
    "card(A)"
   ]
  },
  {
   "cell_type": "markdown",
   "id": "da0cb879",
   "metadata": {},
   "source": [
    "#### b) Cardinality of $A\\times B$\n",
    "\n",
    "Recall that $A\\times B$ denotes the Cartesian product, i.e. the set of all ordered pairs. Thus, the cardinality of $A\\times B$ is the cardinality of $A$ times the cardinality of $B$, i.e. $I\\cdot J$.\n"
   ]
  },
  {
   "cell_type": "markdown",
   "id": "9286165b",
   "metadata": {},
   "source": [
    "#### c) Cardinality of $A_1\\times A_2 \\times ... \\times A_k$\n",
    "Following the same logic, we can write the cardinality of $A_1\\times A_2 \\times ... \\times A_k$ as:\n",
    "\n",
    "$$\n",
    "card_{A_1,\\dots,A_k} = \\prod_{i=1}^k I_i\n",
    "$$"
   ]
  },
  {
   "cell_type": "markdown",
   "id": "2dbd956e",
   "metadata": {},
   "source": [
    "#### d)  Number of parameters in an interaction model\n",
    "We have one regression coefficient for each ordered pair of elements in $A$ and $B$. The number of regression coefficients is thus equal to the cardinality of $A\\times B$, i.e. $I\\cdot J$."
   ]
  },
  {
   "cell_type": "markdown",
   "id": "76477df9",
   "metadata": {},
   "source": [
    "#### e) Number of parameters in a larger interaction model\n",
    "Following the same logic as above, the number of regression coefficients is equal to the cardinality of the cartesian product of all sets, i.e. $\\prod_{i=1}^k I_i$."
   ]
  },
  {
   "cell_type": "markdown",
   "id": "3c605e0c",
   "metadata": {},
   "source": [
    "#### f) Your own product function\n",
    "We can solve this exercise combining some of the tools we learned in previous classes. Two features come in particularly handy. First, in Python one can call a function within itself. Second, we can avoid storing temporary objects by using generators. Note that this solution is similar to on eof the answers in this [stackoverflow thread](https://stackoverflow.com/questions/533905/get-the-cartesian-product-of-a-series-of-lists)."
   ]
  },
  {
   "cell_type": "code",
   "execution_count": 3,
   "id": "36c3f18c",
   "metadata": {},
   "outputs": [],
   "source": [
    "def set_product(*args):\n",
    "    \"\"\"\n",
    "    This function implements something like the `product` function of itertools.\n",
    "    \n",
    "    Parameters\n",
    "    ----------\n",
    "        args : tuple\n",
    "            A tuple of input sets\n",
    "    \n",
    "    Returns\n",
    "    -------\n",
    "        A set of ordered pairs\n",
    "    \"\"\"\n",
    "    \n",
    "    # unpack the input arguments and convert to list\n",
    "    elems = list([*args])\n",
    "    \n",
    "    # define an auxiliary function\n",
    "    def compute_prod(elems):\n",
    "        \"\"\"\n",
    "        This function is a nested function of `set_prodcuts`. This function computes \n",
    "        the cartesian product of a list of input sets.\n",
    "        \n",
    "        To give you a better idea, the function works roughly as follows:\n",
    "        \n",
    "        As an example, take elems = [[1,2,3], ['a','b','c'],[sum,list]].\n",
    "        \n",
    "        1) elems[0]  = [1,2,3], so i = 1. The 'i's will thus be 1, 2, and 3\n",
    "        2) elems[1:] = [['a','b','c'],[sum,list]]. This set enters a new function call of the function itself.\n",
    "            a) elem[0]  = ['a','b','c']. The 'i's will thus be 'a','b', and 'c'\n",
    "            b) elems[1:] = [sum,list]. This set enters a new function call of the function itself.\n",
    "                i) elem[0]   = [sum,list]\n",
    "               ii) elems[1:] = is empty, so the function call will return (). We thus have the tuple (sum) and (list)\n",
    "            c) prod now is and element of: (sum) and (list). We now add prod to every i of the outer loop. This\n",
    "               results in ('a', sum), ('a', list), ('b', sum),...,('c', list)\n",
    "        3) prod now is an element of ('a', sum), ('a', list), ('b', sum),...,('c', list). Each iteration of the  \n",
    "           outer loop, we now add prod to each i. this results in:\n",
    "          (1,'a', sum), (1,'a', list), (1, 'b', sum),..., (3, 'c', list)\n",
    "            \n",
    "        Parameters\n",
    "        ----------\n",
    "            elems : list\n",
    "                A list of input sets\n",
    "        \"\"\"\n",
    "        \n",
    "        # once input is empty (e.g. when last element reached), break procedure and return empty tuple\n",
    "        if not elems:\n",
    "            yield()\n",
    "            \n",
    "        # if input is not empty continue\n",
    "        else:\n",
    "            # iterate over all elements in first input set\n",
    "            for i in elems[0]:\n",
    "                # iterate over all elements of the function output on the remaining sets\n",
    "                for prod in compute_prod(elems[1:]):\n",
    "                    \n",
    "                    # add the output handle to the tuple\n",
    "                    yield (i, )+prod\n",
    "\n",
    "    # convert the output to a set\n",
    "    return set(compute_prod(elems))"
   ]
  },
  {
   "cell_type": "markdown",
   "id": "202a3e29",
   "metadata": {},
   "source": [
    "Let's now test the function:"
   ]
  },
  {
   "cell_type": "code",
   "execution_count": 4,
   "id": "cc9b7c0f",
   "metadata": {},
   "outputs": [
    {
     "data": {
      "text/plain": [
       "{(1, 'a', <function len(obj, /)>),\n",
       " (1, 'a', <function sum(iterable, /, start=0)>),\n",
       " (1, 'b', <function len(obj, /)>),\n",
       " (1, 'b', <function sum(iterable, /, start=0)>),\n",
       " (1, 'c', <function len(obj, /)>),\n",
       " (1, 'c', <function sum(iterable, /, start=0)>),\n",
       " (2, 'a', <function len(obj, /)>),\n",
       " (2, 'a', <function sum(iterable, /, start=0)>),\n",
       " (2, 'b', <function len(obj, /)>),\n",
       " (2, 'b', <function sum(iterable, /, start=0)>),\n",
       " (2, 'c', <function len(obj, /)>),\n",
       " (2, 'c', <function sum(iterable, /, start=0)>),\n",
       " (3, 'a', <function len(obj, /)>),\n",
       " (3, 'a', <function sum(iterable, /, start=0)>),\n",
       " (3, 'b', <function len(obj, /)>),\n",
       " (3, 'b', <function sum(iterable, /, start=0)>),\n",
       " (3, 'c', <function len(obj, /)>),\n",
       " (3, 'c', <function sum(iterable, /, start=0)>)}"
      ]
     },
     "execution_count": 4,
     "metadata": {},
     "output_type": "execute_result"
    }
   ],
   "source": [
    "# call the function\n",
    "set_product([1,2,2,3], [\"a\", \"b\", \"c\"], [len, sum])"
   ]
  },
  {
   "cell_type": "markdown",
   "id": "022bacd2",
   "metadata": {},
   "source": [
    "### 2: Three-way interactions\n",
    "#### a) Load the dataset"
   ]
  },
  {
   "cell_type": "code",
   "execution_count": 5,
   "id": "77b0f86b",
   "metadata": {},
   "outputs": [],
   "source": [
    "import pyreadr, os, pathlib\n",
    "\n",
    "def pyreadr_load(url, local_file = \"temp_pyreadr.rda\"):\n",
    "    \"\"\"\n",
    "    Download the R dataset at the specified url into local_file, load the \n",
    "    local file, delete the local file. Return the dataset.\n",
    "    \"\"\"\n",
    "  \n",
    "    file_name = pyreadr.download_file(url, local_file)\n",
    "    dataframe = pyreadr.read_r(file_name)\n",
    "    os.remove(str(pathlib.Path().resolve()) + \"/\" + file_name)\n",
    "    name = next(iter(dataframe.items()))[0]\n",
    "    return dataframe[name]"
   ]
  },
  {
   "cell_type": "code",
   "execution_count": 6,
   "id": "919e1f01",
   "metadata": {},
   "outputs": [
    {
     "data": {
      "text/html": [
       "<div>\n",
       "<style scoped>\n",
       "    .dataframe tbody tr th:only-of-type {\n",
       "        vertical-align: middle;\n",
       "    }\n",
       "\n",
       "    .dataframe tbody tr th {\n",
       "        vertical-align: top;\n",
       "    }\n",
       "\n",
       "    .dataframe thead th {\n",
       "        text-align: right;\n",
       "    }\n",
       "</style>\n",
       "<table border=\"1\" class=\"dataframe\">\n",
       "  <thead>\n",
       "    <tr style=\"text-align: right;\">\n",
       "      <th></th>\n",
       "      <th>Class</th>\n",
       "      <th>Sex</th>\n",
       "      <th>Age</th>\n",
       "      <th>Survived</th>\n",
       "    </tr>\n",
       "  </thead>\n",
       "  <tbody>\n",
       "    <tr>\n",
       "      <th>0</th>\n",
       "      <td>3rd</td>\n",
       "      <td>Male</td>\n",
       "      <td>Child</td>\n",
       "      <td>No</td>\n",
       "    </tr>\n",
       "    <tr>\n",
       "      <th>1</th>\n",
       "      <td>3rd</td>\n",
       "      <td>Male</td>\n",
       "      <td>Child</td>\n",
       "      <td>No</td>\n",
       "    </tr>\n",
       "    <tr>\n",
       "      <th>2</th>\n",
       "      <td>3rd</td>\n",
       "      <td>Male</td>\n",
       "      <td>Child</td>\n",
       "      <td>No</td>\n",
       "    </tr>\n",
       "    <tr>\n",
       "      <th>3</th>\n",
       "      <td>3rd</td>\n",
       "      <td>Male</td>\n",
       "      <td>Child</td>\n",
       "      <td>No</td>\n",
       "    </tr>\n",
       "    <tr>\n",
       "      <th>4</th>\n",
       "      <td>3rd</td>\n",
       "      <td>Male</td>\n",
       "      <td>Child</td>\n",
       "      <td>No</td>\n",
       "    </tr>\n",
       "  </tbody>\n",
       "</table>\n",
       "</div>"
      ],
      "text/plain": [
       "  Class   Sex    Age Survived\n",
       "0   3rd  Male  Child       No\n",
       "1   3rd  Male  Child       No\n",
       "2   3rd  Male  Child       No\n",
       "3   3rd  Male  Child       No\n",
       "4   3rd  Male  Child       No"
      ]
     },
     "execution_count": 6,
     "metadata": {},
     "output_type": "execute_result"
    }
   ],
   "source": [
    "url = 'https://github.com/kassambara/datarium/blob/master/data/titanic.raw.rda?raw=true'\n",
    "titanic = pyreadr_load(url)\n",
    "titanic.head()"
   ]
  },
  {
   "cell_type": "markdown",
   "id": "b49b5f3a",
   "metadata": {},
   "source": [
    "#### b) Age is not just a number\n",
    "Plot taking class into account:"
   ]
  },
  {
   "cell_type": "code",
   "execution_count": 7,
   "id": "0c289bde",
   "metadata": {},
   "outputs": [
    {
     "data": {
      "text/plain": [
       "<seaborn.axisgrid.FacetGrid at 0x179e76da850>"
      ]
     },
     "execution_count": 7,
     "metadata": {},
     "output_type": "execute_result"
    },
    {
     "data": {
      "image/png": "[encoded data removed]",
      "text/plain": [
       "<Figure size 1492x360 with 4 Axes>"
      ]
     },
     "metadata": {
      "needs_background": "light"
     },
     "output_type": "display_data"
    }
   ],
   "source": [
    "import seaborn as sns\n",
    "sns.catplot(x=\"Age\", hue=\"Survived\", col=\"Class\", data=titanic, kind=\"count\")"
   ]
  },
  {
   "cell_type": "markdown",
   "id": "e3d055d7",
   "metadata": {},
   "source": [
    "Plot taking sex into account:"
   ]
  },
  {
   "cell_type": "code",
   "execution_count": 8,
   "id": "32a3e89b",
   "metadata": {},
   "outputs": [
    {
     "data": {
      "text/plain": [
       "<seaborn.axisgrid.FacetGrid at 0x179e7559640>"
      ]
     },
     "execution_count": 8,
     "metadata": {},
     "output_type": "execute_result"
    },
    {
     "data": {
      "image/png": "[encoded data removed]",
      "text/plain": [
       "<Figure size 772x360 with 2 Axes>"
      ]
     },
     "metadata": {
      "needs_background": "light"
     },
     "output_type": "display_data"
    }
   ],
   "source": [
    "sns.catplot(x=\"Age\", hue=\"Survived\", col=\"Sex\", data=titanic, kind=\"count\")"
   ]
  },
  {
   "cell_type": "markdown",
   "id": "dcd4ce91",
   "metadata": {},
   "source": [
    "#### c) Fitting a model"
   ]
  },
  {
   "cell_type": "code",
   "execution_count": 9,
   "id": "e5405b8f",
   "metadata": {},
   "outputs": [
    {
     "name": "stderr",
     "output_type": "stream",
     "text": [
      "C:\\BI-Apps\\Anaconda3\\lib\\site-packages\\pandas\\core\\generic.py:5494: SettingWithCopyWarning: \n",
      "A value is trying to be set on a copy of a slice from a DataFrame.\n",
      "Try using .loc[row_indexer,col_indexer] = value instead\n",
      "\n",
      "See the caveats in the documentation: https://pandas.pydata.org/pandas-docs/stable/user_guide/indexing.html#returning-a-view-versus-a-copy\n",
      "  self[name] = value\n"
     ]
    }
   ],
   "source": [
    "titanic_2 = titanic[titanic.Class != \"Crew\"]\n",
    "titanic_2.Class = titanic_2.Class.astype(str).astype(\"category\")"
   ]
  },
  {
   "cell_type": "code",
   "execution_count": 10,
   "id": "812e77ba",
   "metadata": {},
   "outputs": [
    {
     "data": {
      "text/html": [
       "<div>\n",
       "<style scoped>\n",
       "    .dataframe tbody tr th:only-of-type {\n",
       "        vertical-align: middle;\n",
       "    }\n",
       "\n",
       "    .dataframe tbody tr th {\n",
       "        vertical-align: top;\n",
       "    }\n",
       "\n",
       "    .dataframe thead th {\n",
       "        text-align: right;\n",
       "    }\n",
       "</style>\n",
       "<table border=\"1\" class=\"dataframe\">\n",
       "  <thead>\n",
       "    <tr style=\"text-align: right;\">\n",
       "      <th></th>\n",
       "      <th>Class</th>\n",
       "      <th>Sex</th>\n",
       "      <th>Age</th>\n",
       "      <th>Survived</th>\n",
       "    </tr>\n",
       "  </thead>\n",
       "  <tbody>\n",
       "    <tr>\n",
       "      <th>0</th>\n",
       "      <td>3rd</td>\n",
       "      <td>Male</td>\n",
       "      <td>Child</td>\n",
       "      <td>No</td>\n",
       "    </tr>\n",
       "    <tr>\n",
       "      <th>1</th>\n",
       "      <td>3rd</td>\n",
       "      <td>Male</td>\n",
       "      <td>Child</td>\n",
       "      <td>No</td>\n",
       "    </tr>\n",
       "    <tr>\n",
       "      <th>2</th>\n",
       "      <td>3rd</td>\n",
       "      <td>Male</td>\n",
       "      <td>Child</td>\n",
       "      <td>No</td>\n",
       "    </tr>\n",
       "    <tr>\n",
       "      <th>3</th>\n",
       "      <td>3rd</td>\n",
       "      <td>Male</td>\n",
       "      <td>Child</td>\n",
       "      <td>No</td>\n",
       "    </tr>\n",
       "    <tr>\n",
       "      <th>4</th>\n",
       "      <td>3rd</td>\n",
       "      <td>Male</td>\n",
       "      <td>Child</td>\n",
       "      <td>No</td>\n",
       "    </tr>\n",
       "  </tbody>\n",
       "</table>\n",
       "</div>"
      ],
      "text/plain": [
       "  Class   Sex    Age Survived\n",
       "0   3rd  Male  Child       No\n",
       "1   3rd  Male  Child       No\n",
       "2   3rd  Male  Child       No\n",
       "3   3rd  Male  Child       No\n",
       "4   3rd  Male  Child       No"
      ]
     },
     "execution_count": 10,
     "metadata": {},
     "output_type": "execute_result"
    }
   ],
   "source": [
    "titanic_2.head()"
   ]
  },
  {
   "cell_type": "markdown",
   "id": "d92612ba",
   "metadata": {},
   "source": [
    "#### d) Formulating a Model\n",
    "\n",
    "##### (i)\n",
    "$$\n",
    "\\begin{aligned}\n",
    "y = \\alpha &+ \\beta_{male}1[Sex=male]  + \\beta_{2nd\\:class}1[Class=2nd]+ \\beta_{3rd\\:class}1[Class=3rd]\n",
    "+ \\beta_{child}1[Age=child] \\\\&+ \\sum_{i=class \\in [2nd,3rd]} \\beta_{male,i}1[Sex=male]1[Class=i] + \\beta_{male,child}I[Sex=male]1[Age=child] \\\\&+  \\sum_{i=class \\in [2nd,3rd]} \\beta_{i,child}1[Class=i]1[Age=child] \n",
    " \\\\&+  \\sum_{i=class \\in [2nd,3rd]} \\beta_{male,i,child}1[Sex=male]1[Class=i]1[Age=child] \n",
    "\\end{aligned}\n",
    "$$\n",
    "\n",
    "##### (ii)\n",
    "\n",
    "$$\n",
    "\\begin{aligned}\n",
    "y = \\alpha +  \\sum_{i=Sex \\in [\\emptyset,Male]}\\sum_{j=class \\in [\\emptyset,2nd,3rd]} \\sum_{k=Age \\in [\\emptyset,child]}\\beta_{i,j,k}1[Sex=i]1[Class=j]1[Age=k] \n",
    "\\end{aligned}\n",
    "$$"
   ]
  },
  {
   "cell_type": "code",
   "execution_count": 11,
   "id": "5cd9d7e3",
   "metadata": {},
   "outputs": [
    {
     "name": "stderr",
     "output_type": "stream",
     "text": [
      "C:\\BI-Apps\\Anaconda3\\lib\\site-packages\\pandas\\core\\indexing.py:1597: SettingWithCopyWarning: \n",
      "A value is trying to be set on a copy of a slice from a DataFrame.\n",
      "Try using .loc[row_indexer,col_indexer] = value instead\n",
      "\n",
      "See the caveats in the documentation: https://pandas.pydata.org/pandas-docs/stable/user_guide/indexing.html#returning-a-view-versus-a-copy\n",
      "  self.obj[key] = value\n",
      "C:\\BI-Apps\\Anaconda3\\lib\\site-packages\\pandas\\core\\indexing.py:1676: SettingWithCopyWarning: \n",
      "A value is trying to be set on a copy of a slice from a DataFrame.\n",
      "Try using .loc[row_indexer,col_indexer] = value instead\n",
      "\n",
      "See the caveats in the documentation: https://pandas.pydata.org/pandas-docs/stable/user_guide/indexing.html#returning-a-view-versus-a-copy\n",
      "  self._setitem_single_column(ilocs[0], value, pi)\n"
     ]
    },
    {
     "data": {
      "text/html": [
       "<table class=\"simpletable\">\n",
       "<caption>OLS Regression Results</caption>\n",
       "<tr>\n",
       "  <th>Dep. Variable:</th>       <td>Survived_01</td>   <th>  R-squared:         </th> <td>   0.395</td> \n",
       "</tr>\n",
       "<tr>\n",
       "  <th>Model:</th>                   <td>OLS</td>       <th>  Adj. R-squared:    </th> <td>   0.390</td> \n",
       "</tr>\n",
       "<tr>\n",
       "  <th>Method:</th>             <td>Least Squares</td>  <th>  F-statistic:       </th> <td>   77.51</td> \n",
       "</tr>\n",
       "<tr>\n",
       "  <th>Date:</th>             <td>Mon, 25 Oct 2021</td> <th>  Prob (F-statistic):</th> <td>4.85e-134</td>\n",
       "</tr>\n",
       "<tr>\n",
       "  <th>Time:</th>                 <td>09:26:30</td>     <th>  Log-Likelihood:    </th> <td> -584.51</td> \n",
       "</tr>\n",
       "<tr>\n",
       "  <th>No. Observations:</th>      <td>  1316</td>      <th>  AIC:               </th> <td>   1193.</td> \n",
       "</tr>\n",
       "<tr>\n",
       "  <th>Df Residuals:</th>          <td>  1304</td>      <th>  BIC:               </th> <td>   1255.</td> \n",
       "</tr>\n",
       "<tr>\n",
       "  <th>Df Model:</th>              <td>    11</td>      <th>                     </th>     <td> </td>    \n",
       "</tr>\n",
       "<tr>\n",
       "  <th>Covariance Type:</th>      <td>nonrobust</td>    <th>                     </th>     <td> </td>    \n",
       "</tr>\n",
       "</table>\n",
       "<table class=\"simpletable\">\n",
       "<tr>\n",
       "                    <td></td>                       <th>coef</th>     <th>std err</th>      <th>t</th>      <th>P>|t|</th>  <th>[0.025</th>    <th>0.975]</th>  \n",
       "</tr>\n",
       "<tr>\n",
       "  <th>Intercept</th>                             <td>    0.9722</td> <td>    0.032</td> <td>   30.782</td> <td> 0.000</td> <td>    0.910</td> <td>    1.034</td>\n",
       "</tr>\n",
       "<tr>\n",
       "  <th>Sex[T.Male]</th>                           <td>   -0.6465</td> <td>    0.043</td> <td>  -15.161</td> <td> 0.000</td> <td>   -0.730</td> <td>   -0.563</td>\n",
       "</tr>\n",
       "<tr>\n",
       "  <th>Class[T.2nd]</th>                          <td>   -0.1120</td> <td>    0.050</td> <td>   -2.222</td> <td> 0.026</td> <td>   -0.211</td> <td>   -0.013</td>\n",
       "</tr>\n",
       "<tr>\n",
       "  <th>Class[T.3rd]</th>                          <td>   -0.5116</td> <td>    0.043</td> <td>  -11.837</td> <td> 0.000</td> <td>   -0.596</td> <td>   -0.427</td>\n",
       "</tr>\n",
       "<tr>\n",
       "  <th>Age[T.Child]</th>                          <td>    0.0278</td> <td>    0.380</td> <td>    0.073</td> <td> 0.942</td> <td>   -0.718</td> <td>    0.774</td>\n",
       "</tr>\n",
       "<tr>\n",
       "  <th>Sex[T.Male]:Class[T.2nd]</th>              <td>   -0.1304</td> <td>    0.065</td> <td>   -2.007</td> <td> 0.045</td> <td>   -0.258</td> <td>   -0.003</td>\n",
       "</tr>\n",
       "<tr>\n",
       "  <th>Sex[T.Male]:Class[T.3rd]</th>              <td>    0.3482</td> <td>    0.055</td> <td>    6.358</td> <td> 0.000</td> <td>    0.241</td> <td>    0.456</td>\n",
       "</tr>\n",
       "<tr>\n",
       "  <th>Sex[T.Male]:Age[T.Child]</th>              <td>    0.6465</td> <td>    0.417</td> <td>    1.549</td> <td> 0.122</td> <td>   -0.172</td> <td>    1.465</td>\n",
       "</tr>\n",
       "<tr>\n",
       "  <th>Class[T.2nd]:Age[T.Child]</th>             <td>    0.1120</td> <td>    0.397</td> <td>    0.282</td> <td> 0.778</td> <td>   -0.666</td> <td>    0.890</td>\n",
       "</tr>\n",
       "<tr>\n",
       "  <th>Class[T.3rd]:Age[T.Child]</th>             <td>   -0.0368</td> <td>    0.387</td> <td>   -0.095</td> <td> 0.924</td> <td>   -0.797</td> <td>    0.723</td>\n",
       "</tr>\n",
       "<tr>\n",
       "  <th>Sex[T.Male]:Class[T.2nd]:Age[T.Child]</th> <td>    0.1304</td> <td>    0.448</td> <td>    0.291</td> <td> 0.771</td> <td>   -0.749</td> <td>    1.009</td>\n",
       "</tr>\n",
       "<tr>\n",
       "  <th>Sex[T.Male]:Class[T.3rd]:Age[T.Child]</th> <td>   -0.5290</td> <td>    0.428</td> <td>   -1.237</td> <td> 0.216</td> <td>   -1.368</td> <td>    0.310</td>\n",
       "</tr>\n",
       "</table>\n",
       "<table class=\"simpletable\">\n",
       "<tr>\n",
       "  <th>Omnibus:</th>       <td>136.409</td> <th>  Durbin-Watson:     </th> <td>   0.018</td>\n",
       "</tr>\n",
       "<tr>\n",
       "  <th>Prob(Omnibus):</th> <td> 0.000</td>  <th>  Jarque-Bera (JB):  </th> <td> 178.916</td>\n",
       "</tr>\n",
       "<tr>\n",
       "  <th>Skew:</th>          <td> 0.893</td>  <th>  Prob(JB):          </th> <td>1.41e-39</td>\n",
       "</tr>\n",
       "<tr>\n",
       "  <th>Kurtosis:</th>      <td> 3.271</td>  <th>  Cond. No.          </th> <td>    136.</td>\n",
       "</tr>\n",
       "</table><br/><br/>Notes:<br/>[1] Standard Errors assume that the covariance matrix of the errors is correctly specified."
      ],
      "text/plain": [
       "<class 'statsmodels.iolib.summary.Summary'>\n",
       "\"\"\"\n",
       "                            OLS Regression Results                            \n",
       "==============================================================================\n",
       "Dep. Variable:            Survived_01   R-squared:                       0.395\n",
       "Model:                            OLS   Adj. R-squared:                  0.390\n",
       "Method:                 Least Squares   F-statistic:                     77.51\n",
       "Date:                Mon, 25 Oct 2021   Prob (F-statistic):          4.85e-134\n",
       "Time:                        09:26:30   Log-Likelihood:                -584.51\n",
       "No. Observations:                1316   AIC:                             1193.\n",
       "Df Residuals:                    1304   BIC:                             1255.\n",
       "Df Model:                          11                                         \n",
       "Covariance Type:            nonrobust                                         \n",
       "=========================================================================================================\n",
       "                                            coef    std err          t      P>|t|      [0.025      0.975]\n",
       "---------------------------------------------------------------------------------------------------------\n",
       "Intercept                                 0.9722      0.032     30.782      0.000       0.910       1.034\n",
       "Sex[T.Male]                              -0.6465      0.043    -15.161      0.000      -0.730      -0.563\n",
       "Class[T.2nd]                             -0.1120      0.050     -2.222      0.026      -0.211      -0.013\n",
       "Class[T.3rd]                             -0.5116      0.043    -11.837      0.000      -0.596      -0.427\n",
       "Age[T.Child]                              0.0278      0.380      0.073      0.942      -0.718       0.774\n",
       "Sex[T.Male]:Class[T.2nd]                 -0.1304      0.065     -2.007      0.045      -0.258      -0.003\n",
       "Sex[T.Male]:Class[T.3rd]                  0.3482      0.055      6.358      0.000       0.241       0.456\n",
       "Sex[T.Male]:Age[T.Child]                  0.6465      0.417      1.549      0.122      -0.172       1.465\n",
       "Class[T.2nd]:Age[T.Child]                 0.1120      0.397      0.282      0.778      -0.666       0.890\n",
       "Class[T.3rd]:Age[T.Child]                -0.0368      0.387     -0.095      0.924      -0.797       0.723\n",
       "Sex[T.Male]:Class[T.2nd]:Age[T.Child]     0.1304      0.448      0.291      0.771      -0.749       1.009\n",
       "Sex[T.Male]:Class[T.3rd]:Age[T.Child]    -0.5290      0.428     -1.237      0.216      -1.368       0.310\n",
       "==============================================================================\n",
       "Omnibus:                      136.409   Durbin-Watson:                   0.018\n",
       "Prob(Omnibus):                  0.000   Jarque-Bera (JB):              178.916\n",
       "Skew:                           0.893   Prob(JB):                     1.41e-39\n",
       "Kurtosis:                       3.271   Cond. No.                         136.\n",
       "==============================================================================\n",
       "\n",
       "Notes:\n",
       "[1] Standard Errors assume that the covariance matrix of the errors is correctly specified.\n",
       "\"\"\""
      ]
     },
     "execution_count": 11,
     "metadata": {},
     "output_type": "execute_result"
    }
   ],
   "source": [
    "import statsmodels.formula.api as smf\n",
    "titanic_2.loc[:,\"Survived_01\"] = 1 * (titanic_2.Survived == \"Yes\")\n",
    "fit = smf.ols(\"Survived_01 ~ Sex * Class * Age\", data = titanic_2).fit()\n",
    "fit.summary()"
   ]
  },
  {
   "cell_type": "markdown",
   "id": "e8bffef4",
   "metadata": {},
   "source": [
    "#### e) Running the model\n"
   ]
  },
  {
   "cell_type": "code",
   "execution_count": 12,
   "id": "fd9d173f",
   "metadata": {},
   "outputs": [
    {
     "data": {
      "text/html": [
       "<div>\n",
       "<style scoped>\n",
       "    .dataframe tbody tr th:only-of-type {\n",
       "        vertical-align: middle;\n",
       "    }\n",
       "\n",
       "    .dataframe tbody tr th {\n",
       "        vertical-align: top;\n",
       "    }\n",
       "\n",
       "    .dataframe thead th {\n",
       "        text-align: right;\n",
       "    }\n",
       "</style>\n",
       "<table border=\"1\" class=\"dataframe\">\n",
       "  <thead>\n",
       "    <tr style=\"text-align: right;\">\n",
       "      <th></th>\n",
       "      <th>sum_sq</th>\n",
       "      <th>df</th>\n",
       "      <th>F</th>\n",
       "      <th>PR(&gt;F)</th>\n",
       "    </tr>\n",
       "  </thead>\n",
       "  <tbody>\n",
       "    <tr>\n",
       "      <th>Sex</th>\n",
       "      <td>65.846867</td>\n",
       "      <td>1.0</td>\n",
       "      <td>458.396505</td>\n",
       "      <td>2.173380e-87</td>\n",
       "    </tr>\n",
       "    <tr>\n",
       "      <th>Class</th>\n",
       "      <td>19.599973</td>\n",
       "      <td>2.0</td>\n",
       "      <td>68.223132</td>\n",
       "      <td>6.620721e-29</td>\n",
       "    </tr>\n",
       "    <tr>\n",
       "      <th>Age</th>\n",
       "      <td>3.655548</td>\n",
       "      <td>1.0</td>\n",
       "      <td>25.448293</td>\n",
       "      <td>5.185637e-07</td>\n",
       "    </tr>\n",
       "    <tr>\n",
       "      <th>Sex:Class</th>\n",
       "      <td>9.471245</td>\n",
       "      <td>2.0</td>\n",
       "      <td>32.967290</td>\n",
       "      <td>1.078205e-14</td>\n",
       "    </tr>\n",
       "    <tr>\n",
       "      <th>Sex:Age</th>\n",
       "      <td>1.966263</td>\n",
       "      <td>1.0</td>\n",
       "      <td>13.688248</td>\n",
       "      <td>2.247817e-04</td>\n",
       "    </tr>\n",
       "    <tr>\n",
       "      <th>Class:Age</th>\n",
       "      <td>4.502948</td>\n",
       "      <td>2.0</td>\n",
       "      <td>15.673758</td>\n",
       "      <td>1.877172e-07</td>\n",
       "    </tr>\n",
       "    <tr>\n",
       "      <th>Sex:Class:Age</th>\n",
       "      <td>1.874120</td>\n",
       "      <td>2.0</td>\n",
       "      <td>6.523392</td>\n",
       "      <td>1.517070e-03</td>\n",
       "    </tr>\n",
       "    <tr>\n",
       "      <th>Residual</th>\n",
       "      <td>187.314504</td>\n",
       "      <td>1304.0</td>\n",
       "      <td>NaN</td>\n",
       "      <td>NaN</td>\n",
       "    </tr>\n",
       "  </tbody>\n",
       "</table>\n",
       "</div>"
      ],
      "text/plain": [
       "                   sum_sq      df           F        PR(>F)\n",
       "Sex             65.846867     1.0  458.396505  2.173380e-87\n",
       "Class           19.599973     2.0   68.223132  6.620721e-29\n",
       "Age              3.655548     1.0   25.448293  5.185637e-07\n",
       "Sex:Class        9.471245     2.0   32.967290  1.078205e-14\n",
       "Sex:Age          1.966263     1.0   13.688248  2.247817e-04\n",
       "Class:Age        4.502948     2.0   15.673758  1.877172e-07\n",
       "Sex:Class:Age    1.874120     2.0    6.523392  1.517070e-03\n",
       "Residual       187.314504  1304.0         NaN           NaN"
      ]
     },
     "execution_count": 12,
     "metadata": {},
     "output_type": "execute_result"
    }
   ],
   "source": [
    "import statsmodels.api as sm\n",
    "sm.stats.anova_lm(fit, typ=2) "
   ]
  },
  {
   "cell_type": "markdown",
   "id": "2cbc93e3",
   "metadata": {},
   "source": [
    "In conclusion, we find that we can reject the null hypothesis $H_0$, that all of the interaction regression coefficients are $0$."
   ]
  }
 ],
 "metadata": {
  "kernelspec": {
   "display_name": "Python 3",
   "language": "python",
   "name": "python3"
  },
  "language_info": {
   "codemirror_mode": {
    "name": "ipython",
    "version": 3
   },
   "file_extension": ".py",
   "mimetype": "text/x-python",
   "name": "python",
   "nbconvert_exporter": "python",
   "pygments_lexer": "ipython3",
   "version": "3.8.10"
  }
 },
 "nbformat": 4,
 "nbformat_minor": 5
}
