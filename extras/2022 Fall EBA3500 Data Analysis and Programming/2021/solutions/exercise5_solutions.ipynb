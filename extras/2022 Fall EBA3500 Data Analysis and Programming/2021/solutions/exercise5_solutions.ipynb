{
 "cells": [
  {
   "cell_type": "markdown",
   "id": "d3ac159b",
   "metadata": {},
   "source": [
    "# Exercise 5 - Solutions"
   ]
  },
  {
   "cell_type": "markdown",
   "id": "2ef4f63a",
   "metadata": {},
   "source": [
    "### 1: Review exercises\n",
    "\n",
    "1.   What are the two interpretations of the coefficients in a multiple linear regression model?\n",
    "    * for every unit increase in $x_i$, keeping the other covariates constant, the regression function/outcome variable will increase by $\\beta_i$\n",
    "    * $\\beta$ can also be interpreted as a partial derivative. $\\beta$ can hence be interpreted as the partial rate of increase in the regression function.\n",
    "\n",
    "    \n",
    "2.   What is the difference between $\\hat{\\beta_i}$ and $\\beta_i$?\n",
    "    * $\\beta$ are the population coefficients.\n",
    "    * $\\hat{\\beta}$ are the estimated regression coefficients\n",
    " \n",
    " \n",
    "3.   Why is the quadratic regression $y = \\beta_0 + \\beta_1x + \\beta_2x^2$ considered linear?\n",
    "    * The quadratic regression model can be interpreted as a multiple linear regression model, where $X_2=X_1^2$.\n",
    "\n",
    " \n",
    "4.   What can you do with `itertools.product` and `zip`?\n",
    "    * `itertools.product` computes the cartesian product, that is the ordered set of all possible combinations of two sets.\n",
    "    * `zip` creates an iterator from multiple iterables. Given e.g. two lists of equal lengths, `zip` will combine them into a single object that can itself be iterated over. \n",
    " \n",
    "    \n",
    "5.   Given a datafram `df`, how do you make a bunch of scatterplots for all the\n",
    "     variables in `df`?\n",
    "    * For example with `seaborn.pairplot()`.\n",
    "\n",
    "\n",
    "6.   What do you call the geometric shape defined by $z = a + bx + cy$?\n",
    "    * A plane. "
   ]
  },
  {
   "cell_type": "markdown",
   "id": "7d72bddc",
   "metadata": {},
   "source": [
    "### 2: Using tools from python\n",
    "#### a) `zip`:"
   ]
  },
  {
   "cell_type": "code",
   "execution_count": 1,
   "id": "4222cd6a",
   "metadata": {},
   "outputs": [],
   "source": [
    "def my_zip(iterable_1, iterable_2):\n",
    "    \"\"\"\n",
    "    This function is a simple version of python's `zip` for exemplary purposes.\n",
    "    \n",
    "    Parameters\n",
    "    ----------\n",
    "        iterable_1 : iterable\n",
    "            The first element to be zipped. Can be any tuple, list, np.array etc.\n",
    "        iterable_2 : iterable\n",
    "            The second element to be zipped. Can be any tuple, list, np.array etc.\n",
    "            \n",
    "    Retruns\n",
    "    -------\n",
    "        zipped : list \n",
    "            Returns a list of tuples. Contains the zipped inputs.\n",
    "    \"\"\"\n",
    "\n",
    "    # check if inputs have the same length\n",
    "    if len(iterable_1)==len(iterable_2):\n",
    "        \n",
    "        # initialize output\n",
    "        zipped = []\n",
    "        \n",
    "        # loop over elements\n",
    "        for i in range(len(iterable_1)):\n",
    "            # collect index i elements of inputs in tuples and append to \"zipped\"\n",
    "            zipped.append((iterable_1[i],iterable_2[i]))\n",
    "    else:\n",
    "        # raise and error, if the input arguments have different size\n",
    "        raise AttributeError('input arguments must have the same length!')\n",
    "        \n",
    "    # return zipped\n",
    "    return zipped"
   ]
  },
  {
   "cell_type": "markdown",
   "id": "f9abec5e",
   "metadata": {},
   "source": [
    "Let's test our function on a simple example:"
   ]
  },
  {
   "cell_type": "code",
   "execution_count": 2,
   "id": "73c30811",
   "metadata": {},
   "outputs": [
    {
     "data": {
      "text/plain": [
       "[(1, 6), (2, 4), (3, 5)]"
      ]
     },
     "execution_count": 2,
     "metadata": {},
     "output_type": "execute_result"
    }
   ],
   "source": [
    "# generate two arbitrary lists\n",
    "A = [1,2,3]\n",
    "B = [6,4,5]\n",
    "\n",
    "# call function\n",
    "my_zip(A,B)\n"
   ]
  },
  {
   "cell_type": "code",
   "execution_count": 3,
   "id": "a3073a52",
   "metadata": {},
   "outputs": [
    {
     "ename": "AttributeError",
     "evalue": "input arguments must have the same length!",
     "output_type": "error",
     "traceback": [
      "\u001b[1;31m---------------------------------------------------------------------------\u001b[0m",
      "\u001b[1;31mAttributeError\u001b[0m                            Traceback (most recent call last)",
      "\u001b[1;32m<ipython-input-3-39cba95ca47e>\u001b[0m in \u001b[0;36m<module>\u001b[1;34m\u001b[0m\n\u001b[0;32m      4\u001b[0m \u001b[1;33m\u001b[0m\u001b[0m\n\u001b[0;32m      5\u001b[0m \u001b[1;31m# call function\u001b[0m\u001b[1;33m\u001b[0m\u001b[1;33m\u001b[0m\u001b[1;33m\u001b[0m\u001b[0m\n\u001b[1;32m----> 6\u001b[1;33m \u001b[0mmy_zip\u001b[0m\u001b[1;33m(\u001b[0m\u001b[0mA\u001b[0m\u001b[1;33m,\u001b[0m\u001b[0mB\u001b[0m\u001b[1;33m)\u001b[0m\u001b[1;33m\u001b[0m\u001b[1;33m\u001b[0m\u001b[0m\n\u001b[0m",
      "\u001b[1;32m<ipython-input-1-49836f8bba32>\u001b[0m in \u001b[0;36mmy_zip\u001b[1;34m(iterable_1, iterable_2)\u001b[0m\n\u001b[0;32m     28\u001b[0m     \u001b[1;32melse\u001b[0m\u001b[1;33m:\u001b[0m\u001b[1;33m\u001b[0m\u001b[1;33m\u001b[0m\u001b[0m\n\u001b[0;32m     29\u001b[0m         \u001b[1;31m# raise and error, if the input arguments have different size\u001b[0m\u001b[1;33m\u001b[0m\u001b[1;33m\u001b[0m\u001b[1;33m\u001b[0m\u001b[0m\n\u001b[1;32m---> 30\u001b[1;33m         \u001b[1;32mraise\u001b[0m \u001b[0mAttributeError\u001b[0m\u001b[1;33m(\u001b[0m\u001b[1;34m'input arguments must have the same length!'\u001b[0m\u001b[1;33m)\u001b[0m\u001b[1;33m\u001b[0m\u001b[1;33m\u001b[0m\u001b[0m\n\u001b[0m\u001b[0;32m     31\u001b[0m \u001b[1;33m\u001b[0m\u001b[0m\n\u001b[0;32m     32\u001b[0m     \u001b[1;31m# return zipped\u001b[0m\u001b[1;33m\u001b[0m\u001b[1;33m\u001b[0m\u001b[1;33m\u001b[0m\u001b[0m\n",
      "\u001b[1;31mAttributeError\u001b[0m: input arguments must have the same length!"
     ]
    }
   ],
   "source": [
    "# generate two arbitrary lists\n",
    "A = [1,2,3]\n",
    "B = [6,4,5,6]\n",
    "\n",
    "# call function\n",
    "my_zip(A,B)"
   ]
  },
  {
   "cell_type": "markdown",
   "id": "cf20e1f5",
   "metadata": {},
   "source": [
    "Our function and custom error message seem to work as intended. "
   ]
  },
  {
   "cell_type": "markdown",
   "id": "6d681cea",
   "metadata": {},
   "source": [
    "#### b) `enumerate`:"
   ]
  },
  {
   "cell_type": "code",
   "execution_count": 5,
   "id": "05e12602",
   "metadata": {},
   "outputs": [],
   "source": [
    "def my_enumerate(iterable):\n",
    "    \"\"\"\n",
    "    This function is a simple version of python's `enumerate` for examplary purposes.\n",
    "    Note that I first use `len` to get the number of elements in \"iterable\". I then use \n",
    "    `range` to create the indexes of \"iterable\". Finally, I simply zip them together using \n",
    "    `zip`.\n",
    "    \n",
    "    Parameters\n",
    "    ----------\n",
    "        iterable : iterable\n",
    "            An iterable to be enumerated\n",
    "            \n",
    "    Returns\n",
    "    -------\n",
    "        the enumerated input.\n",
    "    \n",
    "    \"\"\"\n",
    "    \n",
    "    # return the enumerated input\n",
    "    return zip(range(len(A)),A)"
   ]
  },
  {
   "cell_type": "markdown",
   "id": "d2213ce7",
   "metadata": {},
   "source": [
    "Let's again test our function:"
   ]
  },
  {
   "cell_type": "code",
   "execution_count": 6,
   "id": "0334179f",
   "metadata": {},
   "outputs": [
    {
     "data": {
      "text/plain": [
       "[(0, 1), (1, 2), (2, 3)]"
      ]
     },
     "execution_count": 6,
     "metadata": {},
     "output_type": "execute_result"
    }
   ],
   "source": [
    "list(enumerate(A))"
   ]
  },
  {
   "cell_type": "markdown",
   "id": "cf1cdd36",
   "metadata": {},
   "source": [
    "#### c) The `product`function: "
   ]
  },
  {
   "cell_type": "code",
   "execution_count": 7,
   "id": "fef6f9be",
   "metadata": {},
   "outputs": [],
   "source": [
    "def my_product(list_1, list_2):\n",
    "    \"\"\"\n",
    "    This function is a simple version of python's `itertools.product` for exemplary \n",
    "    purposes.\n",
    "    \n",
    "    Parameters\n",
    "    ----------\n",
    "        list_1 : iterable\n",
    "            The first set to for computing the cartesian product.\n",
    "        list_1 : iterable\n",
    "            The second set for computing the cartesian product.\n",
    "            \n",
    "    Retruns\n",
    "    -------\n",
    "        product_list : list \n",
    "            Returns a list of the set of all ordered pairs(list_1,list_2).\n",
    "    \"\"\"\n",
    "    \n",
    "    # fill in\n",
    "    product_list = []\n",
    "    \n",
    "    # loop over elements in 1st iterable\n",
    "    for i in list_1:\n",
    "        # loop over elements on 2nd iterable\n",
    "        for j in list_2:\n",
    "            # append product_list with ordered pairs\n",
    "            product_list.append((i,j))\n",
    "    \n",
    "    # return product_list\n",
    "    return product_list\n",
    "      "
   ]
  },
  {
   "cell_type": "markdown",
   "id": "f0354f4c",
   "metadata": {},
   "source": [
    "Let's again test our function:"
   ]
  },
  {
   "cell_type": "code",
   "execution_count": 8,
   "id": "302b5c27",
   "metadata": {},
   "outputs": [
    {
     "data": {
      "text/plain": [
       "[(1, 6), (1, 4), (1, 5), (2, 6), (2, 4), (2, 5), (3, 6), (3, 4), (3, 5)]"
      ]
     },
     "execution_count": 8,
     "metadata": {},
     "output_type": "execute_result"
    }
   ],
   "source": [
    "# generate two arbitrary lists\n",
    "A = [1,2,3]\n",
    "B = [6,4,5]\n",
    "\n",
    "my_product(A,B)"
   ]
  },
  {
   "cell_type": "markdown",
   "id": "42a136b3",
   "metadata": {},
   "source": [
    "#### d) The `yield` keyword & generators:\n",
    "##### (i) Another generator"
   ]
  },
  {
   "cell_type": "code",
   "execution_count": 9,
   "id": "f604442d",
   "metadata": {},
   "outputs": [],
   "source": [
    "def my_range(f,n):\n",
    "    \"\"\"\n",
    "    This function creates a flexible generator object. The function f\n",
    "    is applied in sequence to the values of range(n)\n",
    "    \n",
    "    Parameters\n",
    "    ----------\n",
    "        f : function\n",
    "            The function applied in sequence to the values of range(n)\n",
    "        n : int\n",
    "            The maximum length.\n",
    "    \n",
    "    Returns\n",
    "    -------\n",
    "        A generator object defined by f and n.\n",
    "    \"\"\"\n",
    "    \n",
    "    # set running index to 0\n",
    "    i = 0\n",
    "    \n",
    "    # iterate while i is smaller than n\n",
    "    while i < n:\n",
    "        # yield function f applied to i\n",
    "        yield f(i)\n",
    "        \n",
    "        # update the running index\n",
    "        i += 1\n",
    " "
   ]
  },
  {
   "cell_type": "markdown",
   "id": "5856c286",
   "metadata": {},
   "source": [
    "Let's test the function:"
   ]
  },
  {
   "cell_type": "code",
   "execution_count": 10,
   "id": "18260a92",
   "metadata": {},
   "outputs": [
    {
     "data": {
      "text/plain": [
       "[0, 1, 2]"
      ]
     },
     "execution_count": 10,
     "metadata": {},
     "output_type": "execute_result"
    }
   ],
   "source": [
    "# return a simple increasing sequence\n",
    "list(my_range(lambda x : x,3))\n"
   ]
  },
  {
   "cell_type": "code",
   "execution_count": 11,
   "id": "4b6d809b",
   "metadata": {},
   "outputs": [
    {
     "data": {
      "text/plain": [
       "[0, 1, 4]"
      ]
     },
     "execution_count": 11,
     "metadata": {},
     "output_type": "execute_result"
    }
   ],
   "source": [
    "# return a simple increasing sequence of squares\n",
    "list(my_range(lambda x : x**2,3))"
   ]
  },
  {
   "cell_type": "markdown",
   "id": "430a3c03",
   "metadata": {},
   "source": [
    "##### (i) Infinite generators"
   ]
  },
  {
   "cell_type": "code",
   "execution_count": 12,
   "id": "68163d46",
   "metadata": {},
   "outputs": [],
   "source": [
    "def my_range_inf():\n",
    "    \"\"\"\n",
    "    This function creates an infinite generator object. \n",
    "    \n",
    "    Returns\n",
    "    -------\n",
    "        infinite generator object.\n",
    "    \"\"\"\n",
    "    \n",
    "    # set running index to 0\n",
    "    i = 0\n",
    "    \n",
    "    # iterate while i is smaller than infinity\n",
    "    while i < float('inf'):\n",
    "        # yield function f applied to i\n",
    "        yield i\n",
    "        \n",
    "        # update the running index\n",
    "        i += 1\n",
    "       "
   ]
  },
  {
   "cell_type": "markdown",
   "id": "ed4fccbd",
   "metadata": {},
   "source": [
    "Let's see what happens when we call it."
   ]
  },
  {
   "cell_type": "code",
   "execution_count": 13,
   "id": "ca6a9b65",
   "metadata": {},
   "outputs": [
    {
     "data": {
      "text/plain": [
       "<generator object my_range_inf at 0x000001F5B3E429E0>"
      ]
     },
     "execution_count": 13,
     "metadata": {},
     "output_type": "execute_result"
    }
   ],
   "source": [
    "my_range_inf()"
   ]
  },
  {
   "cell_type": "markdown",
   "id": "9438783c",
   "metadata": {},
   "source": [
    "Indeed, the function does not run infinitely. This is, because of the unique features of generator objects. The function returns a generator object in its current state, but does not execute the function further. \n",
    "\n",
    "Let's try the other example:"
   ]
  },
  {
   "cell_type": "code",
   "execution_count": 14,
   "id": "5120117e",
   "metadata": {},
   "outputs": [
    {
     "data": {
      "text/plain": [
       "[(1, 0), (2, 1), (3, 2)]"
      ]
     },
     "execution_count": 14,
     "metadata": {},
     "output_type": "execute_result"
    }
   ],
   "source": [
    "list(zip([1,2,3], my_range_inf()))"
   ]
  },
  {
   "cell_type": "markdown",
   "id": "8d46d763",
   "metadata": {},
   "source": [
    "Now the function is executed 3 times, the state of the generator is zipped together with the list elements and the results also returned as a list. Importantly, the number of executions is determined by the length of the list. "
   ]
  },
  {
   "cell_type": "markdown",
   "id": "92a01660",
   "metadata": {},
   "source": [
    "### 3: Multiple linear regression\n",
    "\n",
    "#### a)  Import and visualize data:"
   ]
  },
  {
   "cell_type": "code",
   "execution_count": 15,
   "id": "e4247c8b",
   "metadata": {},
   "outputs": [
    {
     "data": {
      "text/html": [
       "<div>\n",
       "<style scoped>\n",
       "    .dataframe tbody tr th:only-of-type {\n",
       "        vertical-align: middle;\n",
       "    }\n",
       "\n",
       "    .dataframe tbody tr th {\n",
       "        vertical-align: top;\n",
       "    }\n",
       "\n",
       "    .dataframe thead th {\n",
       "        text-align: right;\n",
       "    }\n",
       "</style>\n",
       "<table border=\"1\" class=\"dataframe\">\n",
       "  <thead>\n",
       "    <tr style=\"text-align: right;\">\n",
       "      <th></th>\n",
       "      <th>admit</th>\n",
       "      <th>gre</th>\n",
       "      <th>gpa</th>\n",
       "      <th>rank</th>\n",
       "    </tr>\n",
       "  </thead>\n",
       "  <tbody>\n",
       "    <tr>\n",
       "      <th>0</th>\n",
       "      <td>0</td>\n",
       "      <td>380</td>\n",
       "      <td>3.61</td>\n",
       "      <td>3</td>\n",
       "    </tr>\n",
       "    <tr>\n",
       "      <th>1</th>\n",
       "      <td>1</td>\n",
       "      <td>660</td>\n",
       "      <td>3.67</td>\n",
       "      <td>3</td>\n",
       "    </tr>\n",
       "    <tr>\n",
       "      <th>2</th>\n",
       "      <td>1</td>\n",
       "      <td>800</td>\n",
       "      <td>4.00</td>\n",
       "      <td>1</td>\n",
       "    </tr>\n",
       "    <tr>\n",
       "      <th>3</th>\n",
       "      <td>1</td>\n",
       "      <td>640</td>\n",
       "      <td>3.19</td>\n",
       "      <td>4</td>\n",
       "    </tr>\n",
       "    <tr>\n",
       "      <th>4</th>\n",
       "      <td>0</td>\n",
       "      <td>520</td>\n",
       "      <td>2.93</td>\n",
       "      <td>4</td>\n",
       "    </tr>\n",
       "  </tbody>\n",
       "</table>\n",
       "</div>"
      ],
      "text/plain": [
       "   admit  gre   gpa  rank\n",
       "0      0  380  3.61     3\n",
       "1      1  660  3.67     3\n",
       "2      1  800  4.00     1\n",
       "3      1  640  3.19     4\n",
       "4      0  520  2.93     4"
      ]
     },
     "execution_count": 15,
     "metadata": {},
     "output_type": "execute_result"
    }
   ],
   "source": [
    "# import necessary libraries\n",
    "import pandas as pd\n",
    "import seaborn as sns\n",
    "import matplotlib.pyplot as plt\n",
    "\n",
    "# download the data\n",
    "admissions = pd.read_csv('binary.csv')\n",
    "admissions.head()"
   ]
  },
  {
   "cell_type": "code",
   "execution_count": 16,
   "id": "2fbd88d9",
   "metadata": {},
   "outputs": [
    {
     "data": {
      "image/png": "[encoded data removed]",
      "text/plain": [
       "<Figure size 720x720 with 20 Axes>"
      ]
     },
     "metadata": {
      "needs_background": "light"
     },
     "output_type": "display_data"
    }
   ],
   "source": [
    "# plot the data\n",
    "sns.pairplot(admissions)\n",
    "plt.show()"
   ]
  },
  {
   "cell_type": "markdown",
   "id": "e02e0191",
   "metadata": {},
   "source": [
    "Let's mention a couple of data features:\n",
    "   * \"admit\" is a binary variable.\n",
    "   * \"gre\" is bounded from above at 800.\n",
    "   * \"gpa\" is bouded from above at 4.\n",
    "   * \"rank\" is a categorical variable.\n",
    "   * \"gre\" and \"gpa\" are positively correlated.\n",
    "   "
   ]
  },
  {
   "cell_type": "markdown",
   "id": "df9939e0",
   "metadata": {},
   "source": [
    "#### b) Predict the GRE score"
   ]
  },
  {
   "cell_type": "code",
   "execution_count": 17,
   "id": "0d386f46",
   "metadata": {},
   "outputs": [],
   "source": [
    "# import the statsmodels api\n",
    "import statsmodels.formula.api as smf"
   ]
  },
  {
   "cell_type": "markdown",
   "id": "f845acef",
   "metadata": {},
   "source": [
    "Run the multiple linear regression."
   ]
  },
  {
   "cell_type": "code",
   "execution_count": 18,
   "id": "1404772b",
   "metadata": {},
   "outputs": [
    {
     "data": {
      "text/html": [
       "<table class=\"simpletable\">\n",
       "<caption>OLS Regression Results</caption>\n",
       "<tr>\n",
       "  <th>Dep. Variable:</th>           <td>gre</td>       <th>  R-squared:         </th> <td>   0.167</td>\n",
       "</tr>\n",
       "<tr>\n",
       "  <th>Model:</th>                   <td>OLS</td>       <th>  Adj. R-squared:    </th> <td>   0.161</td>\n",
       "</tr>\n",
       "<tr>\n",
       "  <th>Method:</th>             <td>Least Squares</td>  <th>  F-statistic:       </th> <td>   26.52</td>\n",
       "</tr>\n",
       "<tr>\n",
       "  <th>Date:</th>             <td>Fri, 24 Sep 2021</td> <th>  Prob (F-statistic):</th> <td>1.19e-15</td>\n",
       "</tr>\n",
       "<tr>\n",
       "  <th>Time:</th>                 <td>12:05:05</td>     <th>  Log-Likelihood:    </th> <td> -2430.2</td>\n",
       "</tr>\n",
       "<tr>\n",
       "  <th>No. Observations:</th>      <td>   400</td>      <th>  AIC:               </th> <td>   4868.</td>\n",
       "</tr>\n",
       "<tr>\n",
       "  <th>Df Residuals:</th>          <td>   396</td>      <th>  BIC:               </th> <td>   4884.</td>\n",
       "</tr>\n",
       "<tr>\n",
       "  <th>Df Model:</th>              <td>     3</td>      <th>                     </th>     <td> </td>   \n",
       "</tr>\n",
       "<tr>\n",
       "  <th>Covariance Type:</th>      <td>nonrobust</td>    <th>                     </th>     <td> </td>   \n",
       "</tr>\n",
       "</table>\n",
       "<table class=\"simpletable\">\n",
       "<tr>\n",
       "      <td></td>         <th>coef</th>     <th>std err</th>      <th>t</th>      <th>P>|t|</th>  <th>[0.025</th>    <th>0.975]</th>  \n",
       "</tr>\n",
       "<tr>\n",
       "  <th>Intercept</th> <td>  231.2565</td> <td>   50.333</td> <td>    4.595</td> <td> 0.000</td> <td>  132.304</td> <td>  330.209</td>\n",
       "</tr>\n",
       "<tr>\n",
       "  <th>admit</th>     <td>   25.0337</td> <td>   11.887</td> <td>    2.106</td> <td> 0.036</td> <td>    1.664</td> <td>   48.403</td>\n",
       "</tr>\n",
       "<tr>\n",
       "  <th>gpa</th>       <td>  109.8122</td> <td>   14.147</td> <td>    7.762</td> <td> 0.000</td> <td>   81.999</td> <td>  137.625</td>\n",
       "</tr>\n",
       "<tr>\n",
       "  <th>rank</th>      <td>   -9.5602</td> <td>    5.782</td> <td>   -1.653</td> <td> 0.099</td> <td>  -20.927</td> <td>    1.807</td>\n",
       "</tr>\n",
       "</table>\n",
       "<table class=\"simpletable\">\n",
       "<tr>\n",
       "  <th>Omnibus:</th>       <td> 2.041</td> <th>  Durbin-Watson:     </th> <td>   1.953</td>\n",
       "</tr>\n",
       "<tr>\n",
       "  <th>Prob(Omnibus):</th> <td> 0.360</td> <th>  Jarque-Bera (JB):  </th> <td>   1.814</td>\n",
       "</tr>\n",
       "<tr>\n",
       "  <th>Skew:</th>          <td>-0.056</td> <th>  Prob(JB):          </th> <td>   0.404</td>\n",
       "</tr>\n",
       "<tr>\n",
       "  <th>Kurtosis:</th>      <td> 2.690</td> <th>  Cond. No.          </th> <td>    43.1</td>\n",
       "</tr>\n",
       "</table><br/><br/>Notes:<br/>[1] Standard Errors assume that the covariance matrix of the errors is correctly specified."
      ],
      "text/plain": [
       "<class 'statsmodels.iolib.summary.Summary'>\n",
       "\"\"\"\n",
       "                            OLS Regression Results                            \n",
       "==============================================================================\n",
       "Dep. Variable:                    gre   R-squared:                       0.167\n",
       "Model:                            OLS   Adj. R-squared:                  0.161\n",
       "Method:                 Least Squares   F-statistic:                     26.52\n",
       "Date:                Fri, 24 Sep 2021   Prob (F-statistic):           1.19e-15\n",
       "Time:                        12:05:05   Log-Likelihood:                -2430.2\n",
       "No. Observations:                 400   AIC:                             4868.\n",
       "Df Residuals:                     396   BIC:                             4884.\n",
       "Df Model:                           3                                         \n",
       "Covariance Type:            nonrobust                                         \n",
       "==============================================================================\n",
       "                 coef    std err          t      P>|t|      [0.025      0.975]\n",
       "------------------------------------------------------------------------------\n",
       "Intercept    231.2565     50.333      4.595      0.000     132.304     330.209\n",
       "admit         25.0337     11.887      2.106      0.036       1.664      48.403\n",
       "gpa          109.8122     14.147      7.762      0.000      81.999     137.625\n",
       "rank          -9.5602      5.782     -1.653      0.099     -20.927       1.807\n",
       "==============================================================================\n",
       "Omnibus:                        2.041   Durbin-Watson:                   1.953\n",
       "Prob(Omnibus):                  0.360   Jarque-Bera (JB):                1.814\n",
       "Skew:                          -0.056   Prob(JB):                        0.404\n",
       "Kurtosis:                       2.690   Cond. No.                         43.1\n",
       "==============================================================================\n",
       "\n",
       "Notes:\n",
       "[1] Standard Errors assume that the covariance matrix of the errors is correctly specified.\n",
       "\"\"\""
      ]
     },
     "execution_count": 18,
     "metadata": {},
     "output_type": "execute_result"
    }
   ],
   "source": [
    "# run the regression\n",
    "fit = smf.ols(\"gre ~ admit + gpa + rank\", data = admissions).fit()\n",
    "fit.summary() # summary() is a method that presents a lot of info!"
   ]
  },
  {
   "cell_type": "markdown",
   "id": "7f118a7e",
   "metadata": {},
   "source": [
    "\"gpa\" seems to be the most important predictor. This makes sense in light of our examination from above. \"gpa\" and \"gre\" are strongly positively correlated. "
   ]
  },
  {
   "cell_type": "code",
   "execution_count": 19,
   "id": "6eba551a",
   "metadata": {},
   "outputs": [
    {
     "data": {
      "text/plain": [
       "0.03401600256131887"
      ]
     },
     "execution_count": 19,
     "metadata": {},
     "output_type": "execute_result"
    }
   ],
   "source": [
    "fit = smf.ols(\"gre ~ admit \", data = admissions).fit()\n",
    "fit.rsquared"
   ]
  },
  {
   "cell_type": "code",
   "execution_count": 20,
   "id": "512ff1fd",
   "metadata": {},
   "outputs": [
    {
     "data": {
      "text/plain": [
       "0.14766026501113427"
      ]
     },
     "execution_count": 20,
     "metadata": {},
     "output_type": "execute_result"
    }
   ],
   "source": [
    "fit = smf.ols(\"gre ~ gpa\", data = admissions).fit()\n",
    "fit.rsquared "
   ]
  },
  {
   "cell_type": "code",
   "execution_count": 21,
   "id": "a9aa6ce5",
   "metadata": {},
   "outputs": [
    {
     "data": {
      "text/plain": [
       "0.01523917984961587"
      ]
     },
     "execution_count": 21,
     "metadata": {},
     "output_type": "execute_result"
    }
   ],
   "source": [
    "fit = smf.ols(\"gre ~ rank\", data = admissions).fit()\n",
    "fit.rsquared "
   ]
  },
  {
   "cell_type": "markdown",
   "id": "9a78256a",
   "metadata": {},
   "source": [
    "Compared to the univariate regressions, the $R^2$ is higher. Think about why this makes sense! "
   ]
  },
  {
   "cell_type": "markdown",
   "id": "e52259bd",
   "metadata": {},
   "source": [
    "#### c) Two dimensional models"
   ]
  },
  {
   "cell_type": "code",
   "execution_count": 22,
   "id": "c4f765cd",
   "metadata": {},
   "outputs": [],
   "source": [
    "# fit the model\n",
    "fit = smf.ols(\"gre ~ admit + gpa\", data = admissions).fit()"
   ]
  },
  {
   "cell_type": "markdown",
   "id": "c6ee8ad3",
   "metadata": {},
   "source": [
    "Plot the plane and a scatter plot of the data."
   ]
  },
  {
   "cell_type": "code",
   "execution_count": 23,
   "id": "e474d28c",
   "metadata": {},
   "outputs": [
    {
     "data": {
      "image/png": "[encoded data removed]",
      "text/plain": [
       "<Figure size 432x288 with 1 Axes>"
      ]
     },
     "metadata": {
      "needs_background": "light"
     },
     "output_type": "display_data"
    }
   ],
   "source": [
    "import numpy as np\n",
    "\n",
    "fig = plt.figure()\n",
    "\n",
    "# add axes\n",
    "ax = fig.add_subplot(111, projection='3d')\n",
    "\n",
    "xx, yy = np.meshgrid(range(2), range(5))\n",
    "\n",
    "zz = fit.params[0] + fit.params[1] * xx + fit.params[2] * yy\n",
    "\n",
    "# plot the plane\n",
    "ax.plot_surface(xx, yy, zz, alpha=0.3)\n",
    "ax.scatter(admissions[\"admit\"], admissions[\"gpa\"], admissions[\"gre\"]);\n",
    "plt.show()"
   ]
  },
  {
   "cell_type": "markdown",
   "id": "5d5d0302",
   "metadata": {},
   "source": [
    "Residual plot:"
   ]
  },
  {
   "cell_type": "code",
   "execution_count": 24,
   "id": "210453bc",
   "metadata": {},
   "outputs": [
    {
     "data": {
      "text/plain": [
       "<matplotlib.collections.PathCollection at 0x1f5b8043550>"
      ]
     },
     "execution_count": 24,
     "metadata": {},
     "output_type": "execute_result"
    },
    {
     "data": {
      "image/png": "[encoded data removed]",
      "text/plain": [
       "<Figure size 432x288 with 1 Axes>"
      ]
     },
     "metadata": {
      "needs_background": "light"
     },
     "output_type": "display_data"
    }
   ],
   "source": [
    "plt.scatter(fit.fittedvalues, fit.resid)"
   ]
  },
  {
   "cell_type": "markdown",
   "id": "830f9095",
   "metadata": {},
   "source": [
    "#### d) Transformations"
   ]
  },
  {
   "cell_type": "code",
   "execution_count": 25,
   "id": "a9b1ad57",
   "metadata": {},
   "outputs": [
    {
     "data": {
      "text/html": [
       "<table class=\"simpletable\">\n",
       "<caption>OLS Regression Results</caption>\n",
       "<tr>\n",
       "  <th>Dep. Variable:</th>           <td>gre</td>       <th>  R-squared:         </th> <td>   0.160</td>\n",
       "</tr>\n",
       "<tr>\n",
       "  <th>Model:</th>                   <td>OLS</td>       <th>  Adj. R-squared:    </th> <td>   0.155</td>\n",
       "</tr>\n",
       "<tr>\n",
       "  <th>Method:</th>             <td>Least Squares</td>  <th>  F-statistic:       </th> <td>   37.72</td>\n",
       "</tr>\n",
       "<tr>\n",
       "  <th>Date:</th>             <td>Fri, 24 Sep 2021</td> <th>  Prob (F-statistic):</th> <td>1.01e-15</td>\n",
       "</tr>\n",
       "<tr>\n",
       "  <th>Time:</th>                 <td>12:05:06</td>     <th>  Log-Likelihood:    </th> <td> -2432.0</td>\n",
       "</tr>\n",
       "<tr>\n",
       "  <th>No. Observations:</th>      <td>   400</td>      <th>  AIC:               </th> <td>   4870.</td>\n",
       "</tr>\n",
       "<tr>\n",
       "  <th>Df Residuals:</th>          <td>   397</td>      <th>  BIC:               </th> <td>   4882.</td>\n",
       "</tr>\n",
       "<tr>\n",
       "  <th>Df Model:</th>              <td>     2</td>      <th>                     </th>     <td> </td>   \n",
       "</tr>\n",
       "<tr>\n",
       "  <th>Covariance Type:</th>      <td>nonrobust</td>    <th>                     </th>     <td> </td>   \n",
       "</tr>\n",
       "</table>\n",
       "<table class=\"simpletable\">\n",
       "<tr>\n",
       "       <td></td>          <th>coef</th>     <th>std err</th>      <th>t</th>      <th>P>|t|</th>  <th>[0.025</th>    <th>0.975]</th>  \n",
       "</tr>\n",
       "<tr>\n",
       "  <th>Intercept</th>   <td>  139.3867</td> <td>   56.670</td> <td>    2.460</td> <td> 0.014</td> <td>   27.977</td> <td>  250.797</td>\n",
       "</tr>\n",
       "<tr>\n",
       "  <th>admit</th>       <td>   30.1069</td> <td>   11.581</td> <td>    2.600</td> <td> 0.010</td> <td>    7.339</td> <td>   52.875</td>\n",
       "</tr>\n",
       "<tr>\n",
       "  <th>np.log(gpa)</th> <td>  361.3194</td> <td>   46.897</td> <td>    7.705</td> <td> 0.000</td> <td>  269.122</td> <td>  453.516</td>\n",
       "</tr>\n",
       "</table>\n",
       "<table class=\"simpletable\">\n",
       "<tr>\n",
       "  <th>Omnibus:</th>       <td> 1.740</td> <th>  Durbin-Watson:     </th> <td>   1.933</td>\n",
       "</tr>\n",
       "<tr>\n",
       "  <th>Prob(Omnibus):</th> <td> 0.419</td> <th>  Jarque-Bera (JB):  </th> <td>   1.639</td>\n",
       "</tr>\n",
       "<tr>\n",
       "  <th>Skew:</th>          <td>-0.068</td> <th>  Prob(JB):          </th> <td>   0.441</td>\n",
       "</tr>\n",
       "<tr>\n",
       "  <th>Kurtosis:</th>      <td> 2.717</td> <th>  Cond. No.          </th> <td>    22.3</td>\n",
       "</tr>\n",
       "</table><br/><br/>Notes:<br/>[1] Standard Errors assume that the covariance matrix of the errors is correctly specified."
      ],
      "text/plain": [
       "<class 'statsmodels.iolib.summary.Summary'>\n",
       "\"\"\"\n",
       "                            OLS Regression Results                            \n",
       "==============================================================================\n",
       "Dep. Variable:                    gre   R-squared:                       0.160\n",
       "Model:                            OLS   Adj. R-squared:                  0.155\n",
       "Method:                 Least Squares   F-statistic:                     37.72\n",
       "Date:                Fri, 24 Sep 2021   Prob (F-statistic):           1.01e-15\n",
       "Time:                        12:05:06   Log-Likelihood:                -2432.0\n",
       "No. Observations:                 400   AIC:                             4870.\n",
       "Df Residuals:                     397   BIC:                             4882.\n",
       "Df Model:                           2                                         \n",
       "Covariance Type:            nonrobust                                         \n",
       "===============================================================================\n",
       "                  coef    std err          t      P>|t|      [0.025      0.975]\n",
       "-------------------------------------------------------------------------------\n",
       "Intercept     139.3867     56.670      2.460      0.014      27.977     250.797\n",
       "admit          30.1069     11.581      2.600      0.010       7.339      52.875\n",
       "np.log(gpa)   361.3194     46.897      7.705      0.000     269.122     453.516\n",
       "==============================================================================\n",
       "Omnibus:                        1.740   Durbin-Watson:                   1.933\n",
       "Prob(Omnibus):                  0.419   Jarque-Bera (JB):                1.639\n",
       "Skew:                          -0.068   Prob(JB):                        0.441\n",
       "Kurtosis:                       2.717   Cond. No.                         22.3\n",
       "==============================================================================\n",
       "\n",
       "Notes:\n",
       "[1] Standard Errors assume that the covariance matrix of the errors is correctly specified.\n",
       "\"\"\""
      ]
     },
     "execution_count": 25,
     "metadata": {},
     "output_type": "execute_result"
    }
   ],
   "source": [
    "# fit the model\n",
    "fit = smf.ols(\"gre ~ admit + np.log(gpa)\", data = admissions).fit()\n",
    "fit.summary()"
   ]
  },
  {
   "cell_type": "code",
   "execution_count": 26,
   "id": "8f22ca6c",
   "metadata": {},
   "outputs": [
    {
     "data": {
      "text/html": [
       "<table class=\"simpletable\">\n",
       "<caption>OLS Regression Results</caption>\n",
       "<tr>\n",
       "  <th>Dep. Variable:</th>           <td>gre</td>       <th>  R-squared:         </th> <td>   0.162</td>\n",
       "</tr>\n",
       "<tr>\n",
       "  <th>Model:</th>                   <td>OLS</td>       <th>  Adj. R-squared:    </th> <td>   0.157</td>\n",
       "</tr>\n",
       "<tr>\n",
       "  <th>Method:</th>             <td>Least Squares</td>  <th>  F-statistic:       </th> <td>   38.25</td>\n",
       "</tr>\n",
       "<tr>\n",
       "  <th>Date:</th>             <td>Fri, 24 Sep 2021</td> <th>  Prob (F-statistic):</th> <td>6.47e-16</td>\n",
       "</tr>\n",
       "<tr>\n",
       "  <th>Time:</th>                 <td>12:05:06</td>     <th>  Log-Likelihood:    </th> <td> -2431.6</td>\n",
       "</tr>\n",
       "<tr>\n",
       "  <th>No. Observations:</th>      <td>   400</td>      <th>  AIC:               </th> <td>   4869.</td>\n",
       "</tr>\n",
       "<tr>\n",
       "  <th>Df Residuals:</th>          <td>   397</td>      <th>  BIC:               </th> <td>   4881.</td>\n",
       "</tr>\n",
       "<tr>\n",
       "  <th>Df Model:</th>              <td>     2</td>      <th>                     </th>     <td> </td>   \n",
       "</tr>\n",
       "<tr>\n",
       "  <th>Covariance Type:</th>      <td>nonrobust</td>    <th>                     </th>     <td> </td>   \n",
       "</tr>\n",
       "</table>\n",
       "<table class=\"simpletable\">\n",
       "<tr>\n",
       "      <td></td>         <th>coef</th>     <th>std err</th>      <th>t</th>      <th>P>|t|</th>  <th>[0.025</th>    <th>0.975]</th>  \n",
       "</tr>\n",
       "<tr>\n",
       "  <th>Intercept</th> <td>  204.8408</td> <td>   47.834</td> <td>    4.282</td> <td> 0.000</td> <td>  110.801</td> <td>  298.881</td>\n",
       "</tr>\n",
       "<tr>\n",
       "  <th>admit</th>     <td>   29.6809</td> <td>   11.575</td> <td>    2.564</td> <td> 0.011</td> <td>    6.925</td> <td>   52.437</td>\n",
       "</tr>\n",
       "<tr>\n",
       "  <th>gpa</th>       <td>  110.1612</td> <td>   14.176</td> <td>    7.771</td> <td> 0.000</td> <td>   82.291</td> <td>  138.031</td>\n",
       "</tr>\n",
       "</table>\n",
       "<table class=\"simpletable\">\n",
       "<tr>\n",
       "  <th>Omnibus:</th>       <td> 1.662</td> <th>  Durbin-Watson:     </th> <td>   1.929</td>\n",
       "</tr>\n",
       "<tr>\n",
       "  <th>Prob(Omnibus):</th> <td> 0.436</td> <th>  Jarque-Bera (JB):  </th> <td>   1.572</td>\n",
       "</tr>\n",
       "<tr>\n",
       "  <th>Skew:</th>          <td>-0.063</td> <th>  Prob(JB):          </th> <td>   0.456</td>\n",
       "</tr>\n",
       "<tr>\n",
       "  <th>Kurtosis:</th>      <td> 2.720</td> <th>  Cond. No.          </th> <td>    33.6</td>\n",
       "</tr>\n",
       "</table><br/><br/>Notes:<br/>[1] Standard Errors assume that the covariance matrix of the errors is correctly specified."
      ],
      "text/plain": [
       "<class 'statsmodels.iolib.summary.Summary'>\n",
       "\"\"\"\n",
       "                            OLS Regression Results                            \n",
       "==============================================================================\n",
       "Dep. Variable:                    gre   R-squared:                       0.162\n",
       "Model:                            OLS   Adj. R-squared:                  0.157\n",
       "Method:                 Least Squares   F-statistic:                     38.25\n",
       "Date:                Fri, 24 Sep 2021   Prob (F-statistic):           6.47e-16\n",
       "Time:                        12:05:06   Log-Likelihood:                -2431.6\n",
       "No. Observations:                 400   AIC:                             4869.\n",
       "Df Residuals:                     397   BIC:                             4881.\n",
       "Df Model:                           2                                         \n",
       "Covariance Type:            nonrobust                                         \n",
       "==============================================================================\n",
       "                 coef    std err          t      P>|t|      [0.025      0.975]\n",
       "------------------------------------------------------------------------------\n",
       "Intercept    204.8408     47.834      4.282      0.000     110.801     298.881\n",
       "admit         29.6809     11.575      2.564      0.011       6.925      52.437\n",
       "gpa          110.1612     14.176      7.771      0.000      82.291     138.031\n",
       "==============================================================================\n",
       "Omnibus:                        1.662   Durbin-Watson:                   1.929\n",
       "Prob(Omnibus):                  0.436   Jarque-Bera (JB):                1.572\n",
       "Skew:                          -0.063   Prob(JB):                        0.456\n",
       "Kurtosis:                       2.720   Cond. No.                         33.6\n",
       "==============================================================================\n",
       "\n",
       "Notes:\n",
       "[1] Standard Errors assume that the covariance matrix of the errors is correctly specified.\n",
       "\"\"\""
      ]
     },
     "execution_count": 26,
     "metadata": {},
     "output_type": "execute_result"
    }
   ],
   "source": [
    "# fit the model\n",
    "fit = smf.ols(\"gre ~ admit + gpa**2\", data = admissions).fit()\n",
    "fit.summary()"
   ]
  },
  {
   "cell_type": "markdown",
   "id": "125a1b3c",
   "metadata": {},
   "source": [
    "In terms of $R^2$, the model without transformations still performs the best. "
   ]
  },
  {
   "cell_type": "markdown",
   "id": "22ec6ca7",
   "metadata": {},
   "source": [
    "### 4: Quadratic regression\n",
    "#### a ) "
   ]
  },
  {
   "cell_type": "code",
   "execution_count": 27,
   "id": "84401841",
   "metadata": {},
   "outputs": [
    {
     "data": {
      "text/html": [
       "<div>\n",
       "<style scoped>\n",
       "    .dataframe tbody tr th:only-of-type {\n",
       "        vertical-align: middle;\n",
       "    }\n",
       "\n",
       "    .dataframe tbody tr th {\n",
       "        vertical-align: top;\n",
       "    }\n",
       "\n",
       "    .dataframe thead th {\n",
       "        text-align: right;\n",
       "    }\n",
       "</style>\n",
       "<table border=\"1\" class=\"dataframe\">\n",
       "  <thead>\n",
       "    <tr style=\"text-align: right;\">\n",
       "      <th></th>\n",
       "      <th>free_market_ideology</th>\n",
       "      <th>bullshit_receptivity</th>\n",
       "    </tr>\n",
       "    <tr>\n",
       "      <th>Unnamed: 0</th>\n",
       "      <th></th>\n",
       "      <th></th>\n",
       "    </tr>\n",
       "  </thead>\n",
       "  <tbody>\n",
       "    <tr>\n",
       "      <th>1</th>\n",
       "      <td>40.0</td>\n",
       "      <td>3.100000</td>\n",
       "    </tr>\n",
       "    <tr>\n",
       "      <th>2</th>\n",
       "      <td>30.0</td>\n",
       "      <td>2.666667</td>\n",
       "    </tr>\n",
       "    <tr>\n",
       "      <th>3</th>\n",
       "      <td>70.0</td>\n",
       "      <td>3.300000</td>\n",
       "    </tr>\n",
       "    <tr>\n",
       "      <th>4</th>\n",
       "      <td>10.0</td>\n",
       "      <td>1.900000</td>\n",
       "    </tr>\n",
       "    <tr>\n",
       "      <th>5</th>\n",
       "      <td>50.0</td>\n",
       "      <td>3.566667</td>\n",
       "    </tr>\n",
       "  </tbody>\n",
       "</table>\n",
       "</div>"
      ],
      "text/plain": [
       "            free_market_ideology  bullshit_receptivity\n",
       "Unnamed: 0                                            \n",
       "1                           40.0              3.100000\n",
       "2                           30.0              2.666667\n",
       "3                           70.0              3.300000\n",
       "4                           10.0              1.900000\n",
       "5                           50.0              3.566667"
      ]
     },
     "execution_count": 27,
     "metadata": {},
     "output_type": "execute_result"
    }
   ],
   "source": [
    "# load the data\n",
    "df = pd.read_csv('bullshit.csv')\n",
    "df = df.set_index('Unnamed: 0')\n",
    "df.head()"
   ]
  },
  {
   "cell_type": "markdown",
   "id": "2316b6eb",
   "metadata": {},
   "source": [
    "#### b) "
   ]
  },
  {
   "cell_type": "code",
   "execution_count": 28,
   "id": "31ce8269",
   "metadata": {},
   "outputs": [
    {
     "data": {
      "image/png": "[encoded data removed]",
      "text/plain": [
       "<Figure size 360x360 with 6 Axes>"
      ]
     },
     "metadata": {
      "needs_background": "light"
     },
     "output_type": "display_data"
    }
   ],
   "source": [
    "# plot the data\n",
    "sns.pairplot(df)\n",
    "plt.show()"
   ]
  },
  {
   "cell_type": "code",
   "execution_count": 29,
   "id": "18b4932c",
   "metadata": {},
   "outputs": [
    {
     "data": {
      "image/png": "[encoded data removed]",
      "text/plain": [
       "<Figure size 432x288 with 1 Axes>"
      ]
     },
     "metadata": {
      "needs_background": "light"
     },
     "output_type": "display_data"
    }
   ],
   "source": [
    "plt.scatter(df.free_market_ideology, df.bullshit_receptivity)\n",
    "plt.show()"
   ]
  },
  {
   "cell_type": "markdown",
   "id": "b06cd893",
   "metadata": {},
   "source": [
    "#### c) \n",
    "\n",
    "It does not seem that there is a U-shape. "
   ]
  }
 ],
 "metadata": {
  "@webio": {
   "lastCommId": null,
   "lastKernelId": null
  },
  "kernelspec": {
   "display_name": "Python 3",
   "language": "python",
   "name": "python3"
  },
  "language_info": {
   "codemirror_mode": {
    "name": "ipython",
    "version": 3
   },
   "file_extension": ".py",
   "mimetype": "text/x-python",
   "name": "python",
   "nbconvert_exporter": "python",
   "pygments_lexer": "ipython3",
   "version": "3.8.10"
  }
 },
 "nbformat": 4,
 "nbformat_minor": 5
}
