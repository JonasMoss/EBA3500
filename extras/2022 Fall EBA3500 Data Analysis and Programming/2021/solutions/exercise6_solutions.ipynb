{
 "cells": [
  {
   "cell_type": "markdown",
   "id": "3d03b59a",
   "metadata": {},
   "source": [
    "# Exercise 6 - Solutions"
   ]
  },
  {
   "cell_type": "markdown",
   "id": "13f2123c",
   "metadata": {},
   "source": [
    "### 1: The set-theoretic union\n",
    "#### a)"
   ]
  },
  {
   "cell_type": "code",
   "execution_count": 1,
   "id": "d0ee6daf",
   "metadata": {},
   "outputs": [],
   "source": [
    "# initialize sets\n",
    "A={1,2,3}\n",
    "B={\"shoe\", \"apple\", list}"
   ]
  },
  {
   "cell_type": "markdown",
   "id": "9e61f38b",
   "metadata": {},
   "source": [
    "In python, unions can be computed with `.union()`:"
   ]
  },
  {
   "cell_type": "code",
   "execution_count": 2,
   "id": "0d3fe568",
   "metadata": {},
   "outputs": [
    {
     "data": {
      "text/plain": [
       "{1, 2, 3, list, 'apple', 'shoe'}"
      ]
     },
     "execution_count": 2,
     "metadata": {},
     "output_type": "execute_result"
    }
   ],
   "source": [
    "A.union(B)"
   ]
  },
  {
   "cell_type": "markdown",
   "id": "3a0733a7",
   "metadata": {},
   "source": [
    "#### b) "
   ]
  },
  {
   "cell_type": "code",
   "execution_count": 3,
   "id": "27f9a1e3",
   "metadata": {},
   "outputs": [],
   "source": [
    "def my_union(set_1, set_2):\n",
    "    \"\"\"\n",
    "    A simple exemplary function to create the union of two sets.\n",
    "    \n",
    "    Parameters\n",
    "    ----------\n",
    "        set_1 : set\n",
    "            The first set\n",
    "        set_2 : set\n",
    "            The second set\n",
    "    \n",
    "    Returns\n",
    "    -------\n",
    "        union : set\n",
    "            the union of both set_1 and set_2\n",
    "    \"\"\"\n",
    "    \n",
    "    # convert set_1 and set_B to lists\n",
    "    A = list(set_1)\n",
    "    B = list(set_2)\n",
    "    \n",
    "    # create the union\n",
    "    A.extend(B)\n",
    "    \n",
    "    return set((A))"
   ]
  },
  {
   "cell_type": "markdown",
   "id": "549bfd64",
   "metadata": {},
   "source": [
    "Let's test our function:"
   ]
  },
  {
   "cell_type": "code",
   "execution_count": 4,
   "id": "53afa6e1",
   "metadata": {},
   "outputs": [
    {
     "data": {
      "text/plain": [
       "{1, 2, 3, list, 'apple', 'shoe'}"
      ]
     },
     "execution_count": 4,
     "metadata": {},
     "output_type": "execute_result"
    }
   ],
   "source": [
    "my_union(A,B)"
   ]
  },
  {
   "cell_type": "markdown",
   "id": "482a2ef5",
   "metadata": {},
   "source": [
    "### 2: The set-theoretic intersection\n",
    "#### a) \n",
    "\n",
    "In python, intersections can be computed with `.intersection()`:"
   ]
  },
  {
   "cell_type": "code",
   "execution_count": 5,
   "id": "b69abfc1",
   "metadata": {},
   "outputs": [
    {
     "data": {
      "text/plain": [
       "{2, list}"
      ]
     },
     "execution_count": 5,
     "metadata": {},
     "output_type": "execute_result"
    }
   ],
   "source": [
    "# initialize sets\n",
    "A={list,1,2,3}\n",
    "B={2, \"shoe\", \"apple\", list}\n",
    "\n",
    "A.intersection(B)"
   ]
  },
  {
   "cell_type": "markdown",
   "id": "2e455408",
   "metadata": {},
   "source": [
    "#### b)"
   ]
  },
  {
   "cell_type": "code",
   "execution_count": 6,
   "id": "04b98881",
   "metadata": {},
   "outputs": [],
   "source": [
    "def my_intersection(set_1,set_2):\n",
    "    \"\"\"\n",
    "    A simple exemplary function to create the intersection of two sets.\n",
    "    \n",
    "    Parameters\n",
    "    ----------\n",
    "        set_1 : set\n",
    "            The first set\n",
    "        set_2 : set\n",
    "            The second set\n",
    "    \n",
    "    Returns\n",
    "    -------\n",
    "        intersection : set\n",
    "            the intersection of both set_1 and set_2\n",
    "    \"\"\"\n",
    "    \n",
    "    # initialize the output argument\n",
    "    intersection = set() \n",
    "    \n",
    "    # iterate trough the elements of the first set\n",
    "    for x in set_1:\n",
    "        \n",
    "        # check whether x is also an element of set_2\n",
    "        if x in set_2:\n",
    "            # if True, add x to intersection\n",
    "            intersection.add(x)\n",
    "    \n",
    "    # return the intersection\n",
    "    return intersection\n",
    "    \n"
   ]
  },
  {
   "cell_type": "markdown",
   "id": "bfdd8c0a",
   "metadata": {},
   "source": [
    "Let's test our function on using A and B."
   ]
  },
  {
   "cell_type": "code",
   "execution_count": 7,
   "id": "bd7386d3",
   "metadata": {},
   "outputs": [
    {
     "data": {
      "text/plain": [
       "{2, list}"
      ]
     },
     "execution_count": 7,
     "metadata": {},
     "output_type": "execute_result"
    }
   ],
   "source": [
    " my_intersection(A,B)"
   ]
  },
  {
   "cell_type": "markdown",
   "id": "f0765c10",
   "metadata": {},
   "source": [
    "### 3: Set-theoretic inclusion\n",
    "#### a)\n",
    "\n",
    "In python, inclusions can be tested with `.issubset()`:"
   ]
  },
  {
   "cell_type": "code",
   "execution_count": 8,
   "id": "3e4aae53",
   "metadata": {},
   "outputs": [
    {
     "name": "stdout",
     "output_type": "stream",
     "text": [
      "\n",
      " A subset of B: True\n",
      "\n",
      " A subset of C: False\n"
     ]
    }
   ],
   "source": [
    "# initialize the first example\n",
    "A = {1,2,3} \n",
    "B = {1,2,3,4,5}\n",
    "C = {1,2,4,5,6}\n",
    "\n",
    "print('\\n A subset of B: ' + str(A.issubset(B)))\n",
    "print('\\n A subset of C: ' + str(A.issubset(C)))\n"
   ]
  },
  {
   "cell_type": "markdown",
   "id": "4f22165e",
   "metadata": {},
   "source": [
    "#### b) "
   ]
  },
  {
   "cell_type": "code",
   "execution_count": 9,
   "id": "64f12976",
   "metadata": {},
   "outputs": [],
   "source": [
    "def my_subset(set_1, set_2):\n",
    "    \"\"\"\n",
    "    A simple exemplary function to evaluate the inclusion of one set in another.\n",
    "    \n",
    "    Parameters\n",
    "    ----------\n",
    "        set_1 : set\n",
    "            The first set\n",
    "        set_2 : set\n",
    "            The second set\n",
    "    \n",
    "    Returns\n",
    "    -------\n",
    "        inclusion : boolean\n",
    "            wether set_1 is a subset of set_2\n",
    "    \"\"\"\n",
    "    \n",
    "    # evaluate whether set_1 is a subset of set_2\n",
    "    inclusion = all([i in set_2 for i in set_1])\n",
    "    \n",
    "    # return inclusion\n",
    "    return inclusion"
   ]
  },
  {
   "cell_type": "markdown",
   "id": "e26a6580",
   "metadata": {},
   "source": [
    "Let's test our function for both $A$ and $B$, and $A$ and $C$:"
   ]
  },
  {
   "cell_type": "code",
   "execution_count": 10,
   "id": "ce238003",
   "metadata": {},
   "outputs": [
    {
     "name": "stdout",
     "output_type": "stream",
     "text": [
      "\n",
      " A subset of B: True\n",
      "\n",
      " A subset of C: False\n"
     ]
    }
   ],
   "source": [
    "print('\\n A subset of B: ' + str(my_subset(A,B)))\n",
    "print('\\n A subset of C: ' + str(my_subset(A,C)))"
   ]
  },
  {
   "cell_type": "markdown",
   "id": "a6b6d779",
   "metadata": {},
   "source": [
    "#### c) "
   ]
  },
  {
   "cell_type": "markdown",
   "id": "75cb1ee5",
   "metadata": {},
   "source": [
    "Yes, $A\\cap B\\subseteq A$ is true, because the elements of the intersection of $A$ and $B$ are elements of both, $A$ and $B$, and hence constitute a subset of $A$ and $B$ by definition."
   ]
  },
  {
   "cell_type": "markdown",
   "id": "c904acd8",
   "metadata": {},
   "source": [
    "#### d) "
   ]
  },
  {
   "cell_type": "markdown",
   "id": "01c21383",
   "metadata": {},
   "source": [
    "Yes, $A \\subseteq A\\cup B$ is true, because the union of both sets, $A$ and $B$ contains all elements of $A$ and $B$. Thus $A$ is a subset of $A\\cup B$."
   ]
  },
  {
   "cell_type": "markdown",
   "id": "9de8dc3f",
   "metadata": {},
   "source": [
    "### 4: Counter\n"
   ]
  },
  {
   "cell_type": "code",
   "execution_count": 11,
   "id": "b717f366",
   "metadata": {},
   "outputs": [],
   "source": [
    "def my_Counter(lst):\n",
    "    \"\"\"\n",
    "    An exemplary implementation of `counter`.\n",
    "    \n",
    "    Parameters\n",
    "    ----------\n",
    "        lst : list\n",
    "            The list, the elements of which are to be counted\n",
    "    \n",
    "    Returns\n",
    "    -------\n",
    "        count : dict\n",
    "            Dictionary containing the unique list items and their counts.\n",
    "    \"\"\"\n",
    "    \n",
    "    # initialize the dictionary with 0 counts\n",
    "    count = {x: 0 for x in set(lst)}\n",
    "\n",
    "    # iterate over the list\n",
    "    for i in lst:\n",
    "        # add 1 for each occurence of dictionary key i\n",
    "        count[i] +=1\n",
    "    \n",
    "    return count\n"
   ]
  },
  {
   "cell_type": "markdown",
   "id": "198acbdf",
   "metadata": {},
   "source": [
    "Let's test our function."
   ]
  },
  {
   "cell_type": "code",
   "execution_count": 12,
   "id": "314b16df",
   "metadata": {},
   "outputs": [
    {
     "data": {
      "text/plain": [
       "{'🌞': 2, '🐄': 3, '🐈': 4}"
      ]
     },
     "execution_count": 12,
     "metadata": {},
     "output_type": "execute_result"
    }
   ],
   "source": [
    "lst = [\"🐄\",\"🐈\",\"🌞\",\"🐄\",\"🐈\",\"🌞\",\"🐄\",\"🐈\",\"🐈\"]\n",
    "my_Counter(lst) # \"{'🌞': 2, '🐄': 3, '🐈': 4}\""
   ]
  },
  {
   "cell_type": "markdown",
   "id": "ad4e0693",
   "metadata": {},
   "source": [
    "### 3: Removing Duplicates"
   ]
  },
  {
   "cell_type": "code",
   "execution_count": 13,
   "id": "caff56e9",
   "metadata": {},
   "outputs": [],
   "source": [
    "def remove_duplicates(lst):\n",
    "    \"\"\"\n",
    "    A simple function to remove duplicates.\n",
    "    \n",
    "    Parameters\n",
    "    ----------\n",
    "        lst : list\n",
    "            list with duplicates\n",
    "    \n",
    "    Returns\n",
    "    -------\n",
    "        lst_nd : list\n",
    "            lst with the duplicates removed.\n",
    "    \"\"\"\n",
    "    \n",
    "    # remove duplicates, but keep the order\n",
    "    lst_nd = []\n",
    "\n",
    "    for i in lst:\n",
    "        if i not in lst_nd:\n",
    "            lst_nd.append(i)\n",
    "    \n",
    "    # return the list without duplicates\n",
    "    return lst_nd"
   ]
  },
  {
   "cell_type": "markdown",
   "id": "e64f0b4f",
   "metadata": {},
   "source": [
    "Let's test our function:"
   ]
  },
  {
   "cell_type": "code",
   "execution_count": 14,
   "id": "a9206893",
   "metadata": {},
   "outputs": [
    {
     "data": {
      "text/plain": [
       "['🐄', '🐈', '🌞']"
      ]
     },
     "execution_count": 14,
     "metadata": {},
     "output_type": "execute_result"
    }
   ],
   "source": [
    "remove_duplicates(lst)"
   ]
  }
 ],
 "metadata": {
  "@webio": {
   "lastCommId": null,
   "lastKernelId": null
  },
  "kernelspec": {
   "display_name": "Python 3",
   "language": "python",
   "name": "python3"
  },
  "language_info": {
   "codemirror_mode": {
    "name": "ipython",
    "version": 3
   },
   "file_extension": ".py",
   "mimetype": "text/x-python",
   "name": "python",
   "nbconvert_exporter": "python",
   "pygments_lexer": "ipython3",
   "version": "3.8.10"
  }
 },
 "nbformat": 4,
 "nbformat_minor": 5
}
