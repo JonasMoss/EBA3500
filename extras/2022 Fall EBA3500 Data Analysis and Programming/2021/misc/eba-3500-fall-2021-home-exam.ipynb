{
 "cells": [
  {
   "cell_type": "markdown",
   "id": "66affdb3",
   "metadata": {},
   "source": [
    "# EBA3500 Home exam"
   ]
  },
  {
   "cell_type": "markdown",
   "id": "098d46d2",
   "metadata": {},
   "source": [
    "***Note:*** This exam is also available as a Jupyter notebook [here](https://gist.githubusercontent.com/JonasMoss/970bd43684b4d615ab83812fcc3560d6/raw/2c1a69f0196ac01bc8c0ec94a3c58c3879d32adb/eba-3500-fall-2021-home-exam.ipynb). \n",
    "\n",
    "1. You need to be selective in the output you show. Only show output that supports\n",
    "your argument. To hide output of a cell, you may use a semi-colon \";\":\n"
   ]
  },
  {
   "cell_type": "code",
   "execution_count": 1,
   "id": "d333d175",
   "metadata": {},
   "outputs": [],
   "source": [
    "list(range(100000));"
   ]
  },
  {
   "cell_type": "markdown",
   "id": "56480abb",
   "metadata": {},
   "source": [
    "2. Make your plots look nice. Add appropriate axis labels, legends and so on.\n"
   ]
  },
  {
   "cell_type": "markdown",
   "id": "c693adc1",
   "metadata": {},
   "source": [
    "3. *\"Brevity is the soul of wit.\"* Strive not to write too much. We prefer pithy to lengthy expositions."
   ]
  },
  {
   "cell_type": "markdown",
   "id": "f4c56837",
   "metadata": {},
   "source": [
    "\n",
    "\n",
    "4. ***All subexercises are equally weighted***. That is, the weight of Task I (a) is the same as Task (II) b, etc. There are $20$ subtasks in total, giving $5$ points each."
   ]
  },
  {
   "cell_type": "markdown",
   "id": "826f6deb",
   "metadata": {},
   "source": [
    "## Task I: Applied regression"
   ]
  },
  {
   "cell_type": "markdown",
   "id": "2e1ad95f",
   "metadata": {},
   "source": [
    "We will use the following data set."
   ]
  },
  {
   "cell_type": "code",
   "execution_count": 2,
   "id": "589aa354",
   "metadata": {},
   "outputs": [
    {
     "data": {
      "text/html": [
       "<div>\n",
       "<style scoped>\n",
       "    .dataframe tbody tr th:only-of-type {\n",
       "        vertical-align: middle;\n",
       "    }\n",
       "\n",
       "    .dataframe tbody tr th {\n",
       "        vertical-align: top;\n",
       "    }\n",
       "\n",
       "    .dataframe thead th {\n",
       "        text-align: right;\n",
       "    }\n",
       "</style>\n",
       "<table border=\"1\" class=\"dataframe\">\n",
       "  <thead>\n",
       "    <tr style=\"text-align: right;\">\n",
       "      <th></th>\n",
       "      <th>individual</th>\n",
       "      <th>mode</th>\n",
       "      <th>choice</th>\n",
       "      <th>ttme</th>\n",
       "      <th>invc</th>\n",
       "      <th>invt</th>\n",
       "      <th>gc</th>\n",
       "      <th>hinc</th>\n",
       "      <th>psize</th>\n",
       "    </tr>\n",
       "  </thead>\n",
       "  <tbody>\n",
       "    <tr>\n",
       "      <th>0</th>\n",
       "      <td>1.0</td>\n",
       "      <td>1.0</td>\n",
       "      <td>0.0</td>\n",
       "      <td>69.0</td>\n",
       "      <td>59.0</td>\n",
       "      <td>100.0</td>\n",
       "      <td>70.0</td>\n",
       "      <td>35.0</td>\n",
       "      <td>1.0</td>\n",
       "    </tr>\n",
       "    <tr>\n",
       "      <th>1</th>\n",
       "      <td>1.0</td>\n",
       "      <td>2.0</td>\n",
       "      <td>0.0</td>\n",
       "      <td>34.0</td>\n",
       "      <td>31.0</td>\n",
       "      <td>372.0</td>\n",
       "      <td>71.0</td>\n",
       "      <td>35.0</td>\n",
       "      <td>1.0</td>\n",
       "    </tr>\n",
       "    <tr>\n",
       "      <th>2</th>\n",
       "      <td>1.0</td>\n",
       "      <td>3.0</td>\n",
       "      <td>0.0</td>\n",
       "      <td>35.0</td>\n",
       "      <td>25.0</td>\n",
       "      <td>417.0</td>\n",
       "      <td>70.0</td>\n",
       "      <td>35.0</td>\n",
       "      <td>1.0</td>\n",
       "    </tr>\n",
       "    <tr>\n",
       "      <th>3</th>\n",
       "      <td>1.0</td>\n",
       "      <td>4.0</td>\n",
       "      <td>1.0</td>\n",
       "      <td>0.0</td>\n",
       "      <td>10.0</td>\n",
       "      <td>180.0</td>\n",
       "      <td>30.0</td>\n",
       "      <td>35.0</td>\n",
       "      <td>1.0</td>\n",
       "    </tr>\n",
       "    <tr>\n",
       "      <th>4</th>\n",
       "      <td>2.0</td>\n",
       "      <td>1.0</td>\n",
       "      <td>0.0</td>\n",
       "      <td>64.0</td>\n",
       "      <td>58.0</td>\n",
       "      <td>68.0</td>\n",
       "      <td>68.0</td>\n",
       "      <td>30.0</td>\n",
       "      <td>2.0</td>\n",
       "    </tr>\n",
       "  </tbody>\n",
       "</table>\n",
       "</div>"
      ],
      "text/plain": [
       "   individual  mode  choice  ttme  invc   invt    gc  hinc  psize\n",
       "0         1.0   1.0     0.0  69.0  59.0  100.0  70.0  35.0    1.0\n",
       "1         1.0   2.0     0.0  34.0  31.0  372.0  71.0  35.0    1.0\n",
       "2         1.0   3.0     0.0  35.0  25.0  417.0  70.0  35.0    1.0\n",
       "3         1.0   4.0     1.0   0.0  10.0  180.0  30.0  35.0    1.0\n",
       "4         2.0   1.0     0.0  64.0  58.0   68.0  68.0  30.0    2.0"
      ]
     },
     "execution_count": 2,
     "metadata": {},
     "output_type": "execute_result"
    }
   ],
   "source": [
    "import numpy as np\n",
    "import statsmodels.api as sm\n",
    "import statsmodels.formula.api as smf\n",
    "modechoice = sm.datasets.modechoice.load_pandas().data\n",
    "modechoice.head()"
   ]
  },
  {
   "cell_type": "markdown",
   "id": "293cea19",
   "metadata": {},
   "source": [
    "Our goal is to predict to variable `ttme` from the other variables in the model. See [this page](https://www.statsmodels.org/dev/datasets/generated/modechoice.html) for documentation of `modechoice`."
   ]
  },
  {
   "cell_type": "markdown",
   "id": "80a18e22",
   "metadata": {},
   "source": [
    "### (a) Using the data (ii)"
   ]
  },
  {
   "cell_type": "markdown",
   "id": "1d7f6f73",
   "metadata": {},
   "source": [
    "Take a look at the documentation provided in the link above. Some of the categorical variables are coded as numeric in this data set. Modify `modechoice` to make them categorical. (***Hint:*** Use Google to figure out how to change the type of data frame column, called `series`, to categorical.)"
   ]
  },
  {
   "cell_type": "markdown",
   "id": "650378a5",
   "metadata": {},
   "source": [
    "### (b) Taking an initial look at the data"
   ]
  },
  {
   "cell_type": "markdown",
   "id": "ab64df2a",
   "metadata": {},
   "source": [
    "Use an appropriate plotting function to take a look at the data. Moreover, take\n",
    "a look at some data summaries such as the correlation matrix and category plots,\n",
    "if applicable."
   ]
  },
  {
   "cell_type": "markdown",
   "id": "a790cfa2",
   "metadata": {},
   "source": [
    "### (c) Evaluating models\n",
    "Fit at least five regression models with response `ttme` and make an informed choice among them. \n",
    "Do **not** show the entire output of the models you look at; it suffices to show the formula you use and the information you based your decisions on. Remember that you can and should look at interactions! (**Hint:** You have\n",
    "learned about ANOVA tables, *F*-tests, and the adjusted $R^2$. But you may\n",
    "also think about what makes most sense to include, the principle of parsimony, and so on. )"
   ]
  },
  {
   "cell_type": "markdown",
   "id": "dc1a0b2d",
   "metadata": {},
   "source": [
    "### (d) Making predictions (i)"
   ]
  },
  {
   "cell_type": "markdown",
   "id": "09f05d7f",
   "metadata": {},
   "source": [
    "In this exercise and the next, we're going to use the model"
   ]
  },
  {
   "cell_type": "code",
   "execution_count": 26,
   "id": "45287d12",
   "metadata": {},
   "outputs": [],
   "source": [
    "results = smf.ols(\"ttme ~ mode + choice + invc + invt\", data=modechoice).fit()"
   ]
  },
  {
   "cell_type": "markdown",
   "id": "6a9f637c",
   "metadata": {},
   "source": [
    "Predict the values of `ttme` when `mode`, `choice`, `invc`, and `invt` are as in the following table. Put the values in a tuple and print it.\n",
    "\n",
    "| mode  | choice | invc   | invt     | \n",
    "| ----- | ------ | ------ | -------- |\n",
    "| '1.0'  | '0.0'    |\t70    |\t90       |\n",
    "| '2.0'   | '0.0'    |\t30    |\t500\t     |\n",
    "| '4.0'   | '1.0'    |  24    | 0        |\n",
    " \n",
    "Do all of these predictions make sense? Think about what `ttme` is."
   ]
  },
  {
   "cell_type": "markdown",
   "id": "c4b889a3",
   "metadata": {},
   "source": [
    "### Making predictions (ii)"
   ]
  },
  {
   "cell_type": "markdown",
   "id": "32414754",
   "metadata": {},
   "source": [
    "1. Predict the values of `ttme` given the observed values of `mode`, `choice`, `invc`, and `invt`. You do not need to print the values, but you need to demonstrate that you know how to do it. Plot the observed values (`x = ttme`) against the predicted values `y = predicted`. Do you see a pattern? "
   ]
  },
  {
   "cell_type": "markdown",
   "id": "8351c6ba",
   "metadata": {},
   "source": [
    "2. What should the plot look like, if the model were able to predict ttme perfectly?"
   ]
  },
  {
   "cell_type": "markdown",
   "id": "287295b0",
   "metadata": {},
   "source": [
    "### (f) Missing covariates\n"
   ]
  },
  {
   "cell_type": "markdown",
   "id": "b721c02d",
   "metadata": {},
   "source": [
    "#### (i)\n",
    "Suppose we have chosen to use the model in (d). Your uncle Bob comes along with a vector of new data. He wants you to predict the value of `ttme`, but he has forgotten if `mode` equals `1.0` or `2.0`. He knows the values of all the other covariates that you need to know. How would you modify the model in (d) so it's able to predict the value of `ttme` given his data? You may assume Uncle Bob's vector is the first of the table in the previous exercise, but with `mode` equal to either `1.0` or `2.0`, if you wish to compute something explicitly. (**Hint:** You may want to use unions here. \n",
    "However, there are reasonable solutions to this exercise that do no use unions.)"
   ]
  },
  {
   "cell_type": "markdown",
   "id": "5a9c37cc",
   "metadata": {},
   "source": [
    "#### (ii)\n",
    "The following week, Bob visits again. This time he remembered `mode`, but he has forgotten `choice` and `invc`. Modify the model in (d) so that it works in this scenario as well."
   ]
  },
  {
   "cell_type": "markdown",
   "id": "35071877",
   "metadata": {},
   "source": [
    "## Task II: Algorithms for regression"
   ]
  },
  {
   "cell_type": "markdown",
   "id": "4b98a3a7",
   "metadata": {},
   "source": [
    "In this task, you will make a program doing *forward* regression. The point of forward regression is to iteratively fit regression models, adding one covariate at a time, starting with the smallest model."
   ]
  },
  {
   "cell_type": "markdown",
   "id": "c922590b",
   "metadata": {},
   "source": [
    "### (a) Extract response and covariates from a formula\n",
    "Make a function `extract(formula)` that returns a tuple containing `response` and `covariates`. Here `response` should be the name of the reponse in the formula. `covariates` should be a list containing all covariates in the formula. Be sure to remove whitespaces too! For instance, `extract(\"y ~ x + z\")` should return `(\"y\", [\"x\", \"z\"])`. (***Hint:*** See the mock exam, Task II.)"
   ]
  },
  {
   "cell_type": "markdown",
   "id": "6f7aae2f",
   "metadata": {},
   "source": [
    "### (b) Adding a covariate to a formula\n",
    "Make a function `add_covariate(formula, covariate)` that adds a `covariate` to the covariate part of a `formula`. For instance, `add_covariate(\"y  ~  x + z \", \" u\")` should return `\"y~x+z+u\"`.\n",
    "(***Hint:*** You need Python's tools for handling strings. See the mock home exam.)"
   ]
  },
  {
   "cell_type": "markdown",
   "id": "3fc39d0a",
   "metadata": {},
   "source": [
    "### (c) Find all extensions of a model by one covariate\n",
    "Make a function `extend_model(formula, covariates)` that returns a list of all extension of `formula` by one element of `covariates`, ignoring duplicates. That is, if `covariates` includes a covariate that's already in `formula`, ignore it, don't add a copy of it to `formula`. (***Hint:*** Can you use any of the other functions you have made in this exercise? You might want to use the set difference operator at some stage too. )"
   ]
  },
  {
   "cell_type": "code",
   "execution_count": null,
   "id": "ddb0c913",
   "metadata": {},
   "outputs": [],
   "source": [
    "# Your function should do the following:\n",
    "extend_model(\"y ~ x+ u + w\", [\"v\", \"z\"]) \n",
    "# ['y~x+u+w+z', 'y~x+u+w+v']"
   ]
  },
  {
   "cell_type": "markdown",
   "id": "ea045304",
   "metadata": {},
   "source": [
    "### (d) Choosing the best covariate to add\n",
    "Let `covariates` be a list of covariates and `formula` a formula. Make a function `improve_model(formula, covariates, data)` that returns a new formula. The new formula should be `formula` with the best single covariate in `covariates` added to the model `ols(formula, data)`, in terms of $R^2$."
   ]
  },
  {
   "cell_type": "markdown",
   "id": "e8921e23",
   "metadata": {},
   "source": [
    "For example, consider the `modechoice` data in the previous task, and the formula\n",
    "`ttme ~ mode + choice + invc + invt + gc`. There are two remaining covariates that aren't in the formula, namely\n",
    "`hinc` and `psize`. Then\n"
   ]
  },
  {
   "cell_type": "code",
   "execution_count": 36,
   "id": "7bbb3ef7",
   "metadata": {},
   "outputs": [
    {
     "data": {
      "text/plain": [
       "0.8055537175020088"
      ]
     },
     "execution_count": 36,
     "metadata": {},
     "output_type": "execute_result"
    }
   ],
   "source": [
    "# Adding hinc\n",
    "smf.ols(\"ttme ~ mode + choice + invc + invt + gc + hinc\", data = modechoice).fit().rsquared"
   ]
  },
  {
   "cell_type": "code",
   "execution_count": 35,
   "id": "6fce7ae7",
   "metadata": {},
   "outputs": [
    {
     "data": {
      "text/plain": [
       "0.805735767844473"
      ]
     },
     "execution_count": 35,
     "metadata": {},
     "output_type": "execute_result"
    }
   ],
   "source": [
    "# Adding psize\n",
    "smf.ols(\"ttme ~ mode + choice + invc + invt + gc + psize\", data = modechoice).fit().rsquared"
   ]
  },
  {
   "cell_type": "markdown",
   "id": "1580a3f1",
   "metadata": {},
   "source": [
    "Since the $R^2$ of adding `psize` dominates the $R^2$ of adding `hinc`, `improve_model(\"ttme ~ mode + choice + invc + invt + gc\", [\"hinc\", \"psize\"], modechoice)` should return the formula `\"ttme ~ mode + choice + invc + invt + gc + psize\"`."
   ]
  },
  {
   "cell_type": "markdown",
   "id": "b034eead",
   "metadata": {},
   "source": [
    "Verify that your program works by testing it on:"
   ]
  },
  {
   "cell_type": "code",
   "execution_count": null,
   "id": "3cf3230b",
   "metadata": {},
   "outputs": [],
   "source": [
    "formula = \"ttme ~ mode + choice + invc\"\n",
    "covariates = [\"hinc\", \"psize\", \"invt\", \"gc\"]\n",
    "improve_model(formula, covariates, modechoice)\n",
    "# 'ttme~mode+choice+invc+psize'"
   ]
  },
  {
   "cell_type": "markdown",
   "id": "8c91f6f0",
   "metadata": {},
   "source": [
    "### (e) Select the $k<p$ most significant predictors (i)"
   ]
  },
  {
   "cell_type": "markdown",
   "id": "a0223257",
   "metadata": {},
   "source": [
    "Make a function `forward_k` that iteratively adds the best predictor, according to $R^2$ value, for `k` steps, and returns the formula of the best regression model. It should start with the model using the formula `formula`. At $k=1$, it should add the best covariate. At the second step, it should use the formula obtained from step 1, then add the best predictor. At the third step, it should add the best predictor to the formula from step 2, and so on.\n",
    "\n",
    "The argument `covariates` contains the covariates we're allowed to choose from.\n",
    "\n",
    "(***Hint:*** Use the functions you have already defined in the previous three exercises. Google \"forwards selection\" if you struggle with understanding the exercises. The form of the function is really similar to the corresponding \"backwards selection\" function in the mock exam.)"
   ]
  },
  {
   "cell_type": "code",
   "execution_count": 60,
   "id": "a1d3a7b3",
   "metadata": {},
   "outputs": [
    {
     "data": {
      "text/plain": [
       "'ttme~mode+choice+invc+psize+gc'"
      ]
     },
     "execution_count": 60,
     "metadata": {},
     "output_type": "execute_result"
    }
   ],
   "source": [
    "# Here are some examples for you to use.\n",
    "formula = \"ttme ~ mode + choice + invc\"\n",
    "covariates = [\"hinc\", \"psize\", \"invt\", \"gc\"]\n",
    "forward_k(formula, covariates, 1, modechoice)\n",
    "# 'ttme~mode+choice+invc+psize'\n",
    "forward_k(formula, covariates, 2, modechoice)\n",
    "# 'ttme~mode+choice+invc+psize+gc'\n",
    "forward_k(forward_k(formula, covariates, 1, modechoice), covariates, 1, modechoice)\n",
    "# 'ttme~mode+choice+invc+psize+gc'"
   ]
  },
  {
   "cell_type": "markdown",
   "id": "c6ea7941",
   "metadata": {},
   "source": [
    "### (f) Select the $k<p$ most significant predictors (ii)\n",
    "Modify the function `forward_k2` to take a `max_formula` argument instead of a `covariates` argument. The `max_formula` contains all the allowed covariates on its right-hand side. For instance,"
   ]
  },
  {
   "cell_type": "code",
   "execution_count": null,
   "id": "f860e6a5",
   "metadata": {},
   "outputs": [],
   "source": [
    "formula = \"ttme ~ mode + choice + invc\"\n",
    "covariates = [\"hinc\", \"psize\", \"invt\", \"gc\"]\n",
    "forward_k(formula, covariates, 2, modechoice)"
   ]
  },
  {
   "cell_type": "markdown",
   "id": "4d8b4c50",
   "metadata": {},
   "source": [
    "Corresponds to"
   ]
  },
  {
   "cell_type": "code",
   "execution_count": 67,
   "id": "7b7bf641",
   "metadata": {},
   "outputs": [
    {
     "data": {
      "text/plain": [
       "'ttme~mode+choice+invc+psize+gc'"
      ]
     },
     "execution_count": 67,
     "metadata": {},
     "output_type": "execute_result"
    }
   ],
   "source": [
    "formula = \"ttme ~ mode + choice + invc\"\n",
    "max_formula = \"ttme ~ mode + choice + invc + hinc + psize + invt + gc\"\n",
    "forward_k2(formula, max_formula, 2, modechoice)"
   ]
  },
  {
   "cell_type": "markdown",
   "id": "41463173",
   "metadata": {},
   "source": [
    "### (g) Select covariates as long as the increment in $R^2$ is larger than $\\delta$."
   ]
  },
  {
   "cell_type": "markdown",
   "id": "5e23bb6f",
   "metadata": {},
   "source": [
    "Modify `forward_k` so that it runs as long as the difference between the $R^2$ of the new formula and $R^2$ of the old formula is greater than `delta`. Call this new function `forward_delta`. (***Hint:*** You might wish to use `old_rsq = 0` as a default argument in your function.)"
   ]
  },
  {
   "cell_type": "markdown",
   "id": "95e8c2b5",
   "metadata": {},
   "source": [
    "### (h) Application "
   ]
  },
  {
   "cell_type": "markdown",
   "id": "a3359f26",
   "metadata": {},
   "source": [
    "Use the forwards regression algorithm on the data in Task I to find a \"best\" model for `ttme` using the covariates `[\"individual\", \"mode\", \"choice\", \"invc\", \"hinc\", \"psize\", \"invt\", \"gc\", \"choice * psize\", \"mode * choice\"]`. Use `forward_delta` with `delta = 0.01` if you managed to create it. If not, use `forward_k` with `k=4`. Comment on your results."
   ]
  },
  {
   "cell_type": "markdown",
   "id": "fe99302b",
   "metadata": {},
   "source": [
    "## Task III: Simulations\n",
    "We'll take a closer look at the one-sample $t$-test in this exercise. Let \n",
    "$$H_0: \\textrm{the true mean equals }\\mu.$$\n",
    "Then the statistic $t$-statistic\n",
    "$$t = \\sqrt{n}\\frac{\\overline{x} - \\mu}{s},$$\n",
    "is $t$-distributed with $n-1$ degrees of freedom, provided that the $X_i$  variables are independent and normally distributed with mean $\\mu$ and any standard deviation $\\sigma$.\n"
   ]
  },
  {
   "cell_type": "markdown",
   "id": "773ff4cc",
   "metadata": {},
   "source": [
    "### (a) Find the *t*-test in statsmodels and apply it.\n",
    "`scipy` has a function that runs the one-sample *t*-test. Find it and apply it to the `volume` data data set `nile` from [statsmodels](https://www.statsmodels.org/dev/datasets/generated/nile.html), with $H_0: \\mu = 1000$. Report the *p*-value for the two-sided alternative. "
   ]
  },
  {
   "cell_type": "markdown",
   "id": "f2b69276",
   "metadata": {},
   "source": [
    "### (b) Roll your own *t*-test function\n",
    "Make your own variant of the *t*-test function. It should take two arguments `x` and `popmean`, and calculate the *p*-value for the two-sided alternative hypothesis. Verify that your calculation matches that of the previous exercises\n",
    "\n",
    "(***Hints***: \n",
    "1. You can find the cumulative distribution (CDF) of the *t*-distribution in e.g. `scipy`. \n",
    "2. The CDF of a random variable $X$ is the function $F(x) = P(X\\leq x)$. \n",
    "3. Now use that the $p$-value equals $p = 2P(T\\geq |t|)$, where $t$ is the $t$ statistic and $T$ is *t*-distributed with $n-1$ degrees of freedom, called `df` in the documentation of `scipy`.\n",
    "4. In order to use `numpy` to calculate $s$, use `np.std(x, ddof = 1)`."
   ]
  },
  {
   "cell_type": "markdown",
   "id": "b060a155",
   "metadata": {},
   "source": [
    "### (c) The non-central *t*-distribution\n",
    "We'll now have a look at the power of the *t*-test against some alternatives. The *power of a test* is defined as the probability of rejecting the null-hypothesis when it is false, i.e., the true distribution does not match the null-hypothesis. To make it presice, we must fix the significance level $\\alpha$. Moreover, we have to make assumptions about what the true distribution is.\n",
    "\n",
    "The non-central *t*-distribution is the distribution of $T$ when the true distribution is normal, but with $\\mu\\neq0$. Find the non-central *t*-distribution in `scipy.stats`. Plot its density function (pdf) for $\\theta = -2, -1, 0, 1, 2$, its *non-centrality parameter*, in the same window. Let the degrees of freedom be 5. \n"
   ]
  },
  {
   "cell_type": "markdown",
   "id": "604a562b",
   "metadata": {},
   "source": [
    "### (d) Power of the test (i)\n",
    "Let $H_0:\\mu = 0$, but suppose the true distribution is normal with mean $\\mu \\neq 0$ and standard deviation $\\sigma$. We can calculate the power exactly using the non-central $t$-distribution. \n",
    "1. Consult the page on the non-central *t*-distribution, more specifically the section [Use in power analysis](https://en.wikipedia.org/wiki/Noncentral_t-distribution#Use_in_power_analysis). Use this information to make a function `power(mu, sigma, n, alpha = 0.05)` that calculates the probability of rejecting the null-hypothesis for any sample size `n` and true parameters `mu`,`sigma`, when the cutoff for significance is `alpha`. \n",
    "2. Calculate the power of the *t*-test when $\\mu = 0.1$ and $n=22$, $\\sigma = 2$. What does this mean? \n",
    "\n",
    "(***Hint:*** The capital $F$ on the wikipedia page refers to the cumulative distribution function (CDF) of a random variable, in this case the non-central *t*. You can find the quantiles of the *t*-distribution using the *t*-distribution in `scipy.stats`; this is the `ppf` function.)"
   ]
  },
  {
   "cell_type": "code",
   "execution_count": 127,
   "id": "66499653",
   "metadata": {},
   "outputs": [
    {
     "data": {
      "text/plain": [
       "0.8030968422370941"
      ]
     },
     "execution_count": 127,
     "metadata": {},
     "output_type": "execute_result"
    }
   ],
   "source": [
    "### You may test your function on these values:\n",
    "power(0, 1, 10) # 0.05\n",
    "power(1, 1, 10) # 0.8030968422370941"
   ]
  },
  {
   "cell_type": "markdown",
   "id": "f224c56c",
   "metadata": {},
   "source": [
    "### (e) Power of the test (ii)\n",
    "If the true distribution isn't normal, we cannot use the non-central *t*-distribution, and we have to simulate instead. Make a function that approximates the power of the *t*-test for any random variable generator and cutoff level $\\alpha$. (***Hint:*** Here `generator` is a function that generates random variables and takes one argument, e.g. `generator = lambda n: rng.normal(0, 1, n)`. To solve this exercise, you need to calculate the value of the *p*-value of the *t*-test and check if it's smaller than `alpha`.) "
   ]
  },
  {
   "cell_type": "markdown",
   "id": "cecaa218",
   "metadata": {},
   "source": [
    "### (f) Power of the test (iii)\n",
    "Investigate the power of the test for two cases. Let `n` be `3,9,15,21,...,99`. Plot the results in the same window, and comment. Moreover, make a rew `rng` with seed `313`. The distributions you should investigate are:\n",
    "\n",
    "1. The true distribution is exponential with $\\lambda = 1$,\n",
    "2. The true distribution is uniformly distributed,\n",
    "3. The true distribution is Laplace-distributed with location $\\mu = 0.1$ and $\\lambda = 1$.\n",
    "\n",
    "(***Hint:*** Use the `Numpy` documentation. The simulations might take a while to complete.)\n"
   ]
  }
 ],
 "metadata": {
  "interpreter": {
   "hash": "080eedb0a11b2a19371edcc5d082786eb8990a8b9074b6ad3a874ef8712359df"
  },
  "kernelspec": {
   "display_name": "Python 3",
   "language": "python",
   "name": "python3"
  },
  "language_info": {
   "codemirror_mode": {
    "name": "ipython",
    "version": 3
   },
   "file_extension": ".py",
   "mimetype": "text/x-python",
   "name": "python",
   "nbconvert_exporter": "python",
   "pygments_lexer": "ipython3",
   "version": "3.8.10"
  }
 },
 "nbformat": 4,
 "nbformat_minor": 5
}
