{
 "cells": [
  {
   "cell_type": "markdown",
   "metadata": {},
   "source": [
    "# Exam in EBA 3500\n",
    "All subtasks are equally weighted. There are 15 subtasks in total, giving slightly more than \n",
    "10 minutes for each. \n",
    "\n",
    "1. Don't spend too much time on any given exercise - come back to it later if you have \n",
    "   enough time left!\n",
    "2. You don't have to make pretty legends for plots.\n",
    "3. Download the [`.ipynb` at Github](https://gist.github.com/JonasMoss/97c450121cd75fa298d94835164264da), if you need it!\n",
    "\n",
    "Good luck!"
   ]
  },
  {
   "cell_type": "markdown",
   "metadata": {},
   "source": [
    "## Task 1: Variable slopes\n",
    "In this task we will use the `fair` dataset from `statsmodels`. Please consult the [documentation](https://www.statsmodels.org/dev/datasets/generated/fair.html) for more information about the variables."
   ]
  },
  {
   "cell_type": "code",
   "execution_count": 10,
   "metadata": {},
   "outputs": [
    {
     "data": {
      "text/html": [
       "<div>\n",
       "<style scoped>\n",
       "    .dataframe tbody tr th:only-of-type {\n",
       "        vertical-align: middle;\n",
       "    }\n",
       "\n",
       "    .dataframe tbody tr th {\n",
       "        vertical-align: top;\n",
       "    }\n",
       "\n",
       "    .dataframe thead th {\n",
       "        text-align: right;\n",
       "    }\n",
       "</style>\n",
       "<table border=\"1\" class=\"dataframe\">\n",
       "  <thead>\n",
       "    <tr style=\"text-align: right;\">\n",
       "      <th></th>\n",
       "      <th>rate_marriage</th>\n",
       "      <th>age</th>\n",
       "      <th>yrs_married</th>\n",
       "      <th>children</th>\n",
       "      <th>religious</th>\n",
       "      <th>educ</th>\n",
       "      <th>occupation</th>\n",
       "      <th>occupation_husb</th>\n",
       "      <th>affairs</th>\n",
       "    </tr>\n",
       "  </thead>\n",
       "  <tbody>\n",
       "    <tr>\n",
       "      <th>0</th>\n",
       "      <td>3.0</td>\n",
       "      <td>32.0</td>\n",
       "      <td>9.0</td>\n",
       "      <td>3.0</td>\n",
       "      <td>3.0</td>\n",
       "      <td>17.0</td>\n",
       "      <td>2.0</td>\n",
       "      <td>5.0</td>\n",
       "      <td>0.111111</td>\n",
       "    </tr>\n",
       "    <tr>\n",
       "      <th>1</th>\n",
       "      <td>3.0</td>\n",
       "      <td>27.0</td>\n",
       "      <td>13.0</td>\n",
       "      <td>3.0</td>\n",
       "      <td>1.0</td>\n",
       "      <td>14.0</td>\n",
       "      <td>3.0</td>\n",
       "      <td>4.0</td>\n",
       "      <td>3.230769</td>\n",
       "    </tr>\n",
       "    <tr>\n",
       "      <th>2</th>\n",
       "      <td>4.0</td>\n",
       "      <td>22.0</td>\n",
       "      <td>2.5</td>\n",
       "      <td>0.0</td>\n",
       "      <td>1.0</td>\n",
       "      <td>16.0</td>\n",
       "      <td>3.0</td>\n",
       "      <td>5.0</td>\n",
       "      <td>1.400000</td>\n",
       "    </tr>\n",
       "    <tr>\n",
       "      <th>3</th>\n",
       "      <td>4.0</td>\n",
       "      <td>37.0</td>\n",
       "      <td>16.5</td>\n",
       "      <td>4.0</td>\n",
       "      <td>3.0</td>\n",
       "      <td>16.0</td>\n",
       "      <td>5.0</td>\n",
       "      <td>5.0</td>\n",
       "      <td>0.727273</td>\n",
       "    </tr>\n",
       "    <tr>\n",
       "      <th>4</th>\n",
       "      <td>5.0</td>\n",
       "      <td>27.0</td>\n",
       "      <td>9.0</td>\n",
       "      <td>1.0</td>\n",
       "      <td>1.0</td>\n",
       "      <td>14.0</td>\n",
       "      <td>3.0</td>\n",
       "      <td>4.0</td>\n",
       "      <td>4.666666</td>\n",
       "    </tr>\n",
       "  </tbody>\n",
       "</table>\n",
       "</div>"
      ],
      "text/plain": [
       "   rate_marriage   age  yrs_married  children  religious  educ  occupation  \\\n",
       "0            3.0  32.0          9.0       3.0        3.0  17.0         2.0   \n",
       "1            3.0  27.0         13.0       3.0        1.0  14.0         3.0   \n",
       "2            4.0  22.0          2.5       0.0        1.0  16.0         3.0   \n",
       "3            4.0  37.0         16.5       4.0        3.0  16.0         5.0   \n",
       "4            5.0  27.0          9.0       1.0        1.0  14.0         3.0   \n",
       "\n",
       "   occupation_husb   affairs  \n",
       "0              5.0  0.111111  \n",
       "1              4.0  3.230769  \n",
       "2              5.0  1.400000  \n",
       "3              5.0  0.727273  \n",
       "4              4.0  4.666666  "
      ]
     },
     "execution_count": 10,
     "metadata": {},
     "output_type": "execute_result"
    }
   ],
   "source": [
    "import statsmodels.formula.api as smf\n",
    "import statsmodels.api as sm\n",
    "fair = sm.datasets.fair.load_pandas().data\n",
    "fair.head()"
   ]
  },
  {
   "cell_type": "markdown",
   "metadata": {},
   "source": [
    "### (a) Fix the data set\n",
    "Some of the columns in the data set have the incorrect type. In fact, there are only `float64` types in this data set. \n",
    "1. Demonstrate that all the columns in this data set are `float64` using an appropriate method.\n",
    "2. Change the numerical covariates that **should** be categorical (or ordinal) into categorical. Print the types of the column after changing types."
   ]
  },
  {
   "cell_type": "markdown",
   "metadata": {},
   "source": [
    "### (b) Several intercepts\n",
    "Fit a suitable linear model with response `affairs` and covariates `rate_marriage` and `age`.\n",
    "Show its output. This can be regarded as a model with several intercepts. Why?"
   ]
  },
  {
   "cell_type": "markdown",
   "metadata": {},
   "source": [
    "### (c) Categorical covariates (i)\n",
    "The coefficient `rate_marriage[T.3.0]` in the model used in (b) is not significant. Modify the model in (b) to run with `rate_marriage[T.3.0]` removed. Is the model fit improved?"
   ]
  },
  {
   "cell_type": "markdown",
   "metadata": {},
   "source": [
    "### (d) Categorical covariates (ii)\n",
    "Would you recommend removing `rate_marriage[T.3.0]` from the model? Why, or why not?"
   ]
  },
  {
   "cell_type": "markdown",
   "metadata": {},
   "source": [
    "### (e) Coding of `rate_marriage`\n",
    "Explain what a coding of an ordinal variables is. Judging from the regression output, do you think there is a reasonable coding for `rate_marriage`? (***Hint:*** Plot the values of `rate_marriage[T.2.0]` through `rate_marriage[T.5.0]`).\n"
   ]
  },
  {
   "cell_type": "markdown",
   "metadata": {},
   "source": [
    "### (f) Several intercepts and several slopes.\n",
    "Fit a suitable model with response `affairs` and covariates `rate_marriage` and `age`. But this time, make sure that there is a separate `age` slope for each value of `rate_marriage`. Show the output of the model.\n"
   ]
  },
  {
   "cell_type": "markdown",
   "metadata": {},
   "source": [
    "### (g) Choice of model\n",
    "Which model do you prefer? The one from (b) or the one from (f)? Give a short explanation why."
   ]
  },
  {
   "cell_type": "markdown",
   "metadata": {},
   "source": [
    "## Task 2: Binary regression\n",
    "In this task we will use the `modechoice` dataset from `statsmodels`. Please consult the [documentation](https://www.statsmodels.org/dev/datasets/generated/modechoice.html) for more information about the variables."
   ]
  },
  {
   "cell_type": "code",
   "execution_count": 17,
   "metadata": {},
   "outputs": [
    {
     "data": {
      "text/html": [
       "<div>\n",
       "<style scoped>\n",
       "    .dataframe tbody tr th:only-of-type {\n",
       "        vertical-align: middle;\n",
       "    }\n",
       "\n",
       "    .dataframe tbody tr th {\n",
       "        vertical-align: top;\n",
       "    }\n",
       "\n",
       "    .dataframe thead th {\n",
       "        text-align: right;\n",
       "    }\n",
       "</style>\n",
       "<table border=\"1\" class=\"dataframe\">\n",
       "  <thead>\n",
       "    <tr style=\"text-align: right;\">\n",
       "      <th></th>\n",
       "      <th>individual</th>\n",
       "      <th>mode</th>\n",
       "      <th>choice</th>\n",
       "      <th>ttme</th>\n",
       "      <th>invc</th>\n",
       "      <th>invt</th>\n",
       "      <th>gc</th>\n",
       "      <th>hinc</th>\n",
       "      <th>psize</th>\n",
       "    </tr>\n",
       "  </thead>\n",
       "  <tbody>\n",
       "    <tr>\n",
       "      <th>0</th>\n",
       "      <td>1.0</td>\n",
       "      <td>1.0</td>\n",
       "      <td>0.0</td>\n",
       "      <td>69.0</td>\n",
       "      <td>59.0</td>\n",
       "      <td>100.0</td>\n",
       "      <td>70.0</td>\n",
       "      <td>35.0</td>\n",
       "      <td>1.0</td>\n",
       "    </tr>\n",
       "    <tr>\n",
       "      <th>1</th>\n",
       "      <td>1.0</td>\n",
       "      <td>2.0</td>\n",
       "      <td>0.0</td>\n",
       "      <td>34.0</td>\n",
       "      <td>31.0</td>\n",
       "      <td>372.0</td>\n",
       "      <td>71.0</td>\n",
       "      <td>35.0</td>\n",
       "      <td>1.0</td>\n",
       "    </tr>\n",
       "    <tr>\n",
       "      <th>2</th>\n",
       "      <td>1.0</td>\n",
       "      <td>3.0</td>\n",
       "      <td>0.0</td>\n",
       "      <td>35.0</td>\n",
       "      <td>25.0</td>\n",
       "      <td>417.0</td>\n",
       "      <td>70.0</td>\n",
       "      <td>35.0</td>\n",
       "      <td>1.0</td>\n",
       "    </tr>\n",
       "    <tr>\n",
       "      <th>3</th>\n",
       "      <td>1.0</td>\n",
       "      <td>4.0</td>\n",
       "      <td>1.0</td>\n",
       "      <td>0.0</td>\n",
       "      <td>10.0</td>\n",
       "      <td>180.0</td>\n",
       "      <td>30.0</td>\n",
       "      <td>35.0</td>\n",
       "      <td>1.0</td>\n",
       "    </tr>\n",
       "    <tr>\n",
       "      <th>4</th>\n",
       "      <td>2.0</td>\n",
       "      <td>1.0</td>\n",
       "      <td>0.0</td>\n",
       "      <td>64.0</td>\n",
       "      <td>58.0</td>\n",
       "      <td>68.0</td>\n",
       "      <td>68.0</td>\n",
       "      <td>30.0</td>\n",
       "      <td>2.0</td>\n",
       "    </tr>\n",
       "  </tbody>\n",
       "</table>\n",
       "</div>"
      ],
      "text/plain": [
       "   individual  mode  choice  ttme  invc   invt    gc  hinc  psize\n",
       "0         1.0   1.0     0.0  69.0  59.0  100.0  70.0  35.0    1.0\n",
       "1         1.0   2.0     0.0  34.0  31.0  372.0  71.0  35.0    1.0\n",
       "2         1.0   3.0     0.0  35.0  25.0  417.0  70.0  35.0    1.0\n",
       "3         1.0   4.0     1.0   0.0  10.0  180.0  30.0  35.0    1.0\n",
       "4         2.0   1.0     0.0  64.0  58.0   68.0  68.0  30.0    2.0"
      ]
     },
     "execution_count": 17,
     "metadata": {},
     "output_type": "execute_result"
    }
   ],
   "source": [
    "import statsmodels.api as sm\n",
    "modechoice = sm.datasets.modechoice.load_pandas().data\n",
    "modechoice.head()"
   ]
  },
  {
   "cell_type": "markdown",
   "metadata": {},
   "source": [
    "### (a) First look at the data\n",
    "1. Create a plot that gives a rought overview of the data. (***Hint:*** Make a \"pairplot\" of the data.)\n",
    "2. Make a correlation plot. We care mostly about `choice`. Do any of the them stand out? (***Hint:*** To make the correlation plot clearer, use e.g. [this](https://stackoverflow.com/a/50703596) to easily visualize the correlation plot.)"
   ]
  },
  {
   "cell_type": "markdown",
   "metadata": {},
   "source": [
    "### (b) Link functions\n",
    "In this task we will run regressions with response `choice`, which is binary. Recall that \n",
    "binary regression uses **link functions**.\n",
    "1. Explain what link functions are, and why they are needed.\n",
    "2. Give three examples of link functions. What are the most popular link functions?"
   ]
  },
  {
   "cell_type": "markdown",
   "metadata": {},
   "source": [
    "### (c) Confidence interval\n",
    "Using a method from `statsmodel`, report the $95\\%$ confidence intervals for the coefficients in the model `choice ~ ttme + invt + gc`. "
   ]
  },
  {
   "cell_type": "markdown",
   "metadata": {},
   "source": [
    "### (d) Making predictions\n",
    "Use the builtin functions of `statsmodels` to predict the value of `mode` for \n",
    "the model `choice ~ ttme + invt + gc` (do this for all the values in the data frame). \n",
    "Plot the observed values of `mode` on the $x$-axis against the predicted values on the\n",
    "$y$-axis.\n"
   ]
  },
  {
   "cell_type": "markdown",
   "metadata": {},
   "source": [
    "## Task 3: The central limit theorem"
   ]
  },
  {
   "cell_type": "markdown",
   "metadata": {},
   "source": [
    "### (a) Stating the central limit theorem\n",
    "State the central limit theorem. Give two reasons why we care about it."
   ]
  },
  {
   "cell_type": "markdown",
   "metadata": {},
   "source": [
    "### (b) A counterexample to the central limit theorem?\n",
    "Let $X_i, i=1 \\ldots n$ be $n$ independent observations from a [Pareto distribution](https://en.wikipedia.org/wiki/Pareto_distribution) with shape parameter $\\alpha = 2$ and scale $x_m = 1$, a distribution with expected value $2$. Alice claims that $\\sqrt{n}(\\overline{X_n} - 2)$ does not converge to a normal distribution. Explain why this would not contradict the central limit theorem."
   ]
  },
  {
   "cell_type": "markdown",
   "metadata": {},
   "source": [
    "### (c) Distribution of the means\n",
    "Using the setup from the previous exercise, simulate and plot the distribution of $\\sqrt{n}(\\overline{X_n} - 2)$ when $n = 1000.$ Does it\n",
    "look normal? (***Hint:*** Use the [Numpy implementation](https://numpy.org/doc/stable/reference/random/generated/numpy.random.Generator.pareto.html#numpy.random.Generator.pareto) to generate samples: `rng.pareto(a, size) + 1`. (You must add $1$ to make the scale correct). Compare the histogram to the appearance of \"best-fitting\" normal distribution by calculating the standard deviation of your simulated `np.sqrt(n) * (means - 2)`. Remember that `from scipy.stats import norm` imports the normal density.)  "
   ]
  },
  {
   "cell_type": "markdown",
   "metadata": {},
   "source": [
    "\n",
    "### (d) Understanding when the central limit theorem is of limited use\n",
    "When will, in practice, the central limit theorem not be very useful? Give a general description and three examples. (***Hint:*** Look the wikipedia page for the [Pareto distribution](https://en.wikipedia.org/wiki/Pareto_distribution); also think about [Black Swans](https://en.wikipedia.org/wiki/The_Black_Swan:_The_Impact_of_the_Highly_Improbable).)\n"
   ]
  }
 ],
 "metadata": {
  "interpreter": {
   "hash": "1e84df4a150030eabb55304e8d3648d8a41821864f4805c34fc15caee6f90a5e"
  },
  "kernelspec": {
   "display_name": "Python 3.10.0 64-bit",
   "language": "python",
   "name": "python3"
  },
  "language_info": {
   "codemirror_mode": {
    "name": "ipython",
    "version": 3
   },
   "file_extension": ".py",
   "mimetype": "text/x-python",
   "name": "python",
   "nbconvert_exporter": "python",
   "pygments_lexer": "ipython3",
   "version": "3.10.0"
  },
  "orig_nbformat": 4
 },
 "nbformat": 4,
 "nbformat_minor": 2
}
