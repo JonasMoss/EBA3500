{
 "cells": [
  {
   "cell_type": "markdown",
   "metadata": {},
   "source": [
    "# EBA3500 Mock home exam"
   ]
  },
  {
   "cell_type": "markdown",
   "metadata": {},
   "source": [
    "This mock exam is part of the curriculum, and you should try to do it before\n",
    "the real home exam. The real home exam will be similar to this one, and you will\n",
    "benefit from taking this mock home exam seriously! \n",
    "\n",
    "**\"Brevity is the soul of wit.\"** There will be some rules for how you're allowed\n",
    "to write the final exam. Importantly, you must not write too much, or provide \n",
    "too much output. Give us what is relevant. I will make this clearer later. \n",
    "\n",
    "You need to be selective in the output you show. Only show output that supports\n",
    "your argument. To hide output of a cell, you may use a semi-colon \";\":\n"
   ]
  },
  {
   "cell_type": "code",
   "execution_count": null,
   "metadata": {},
   "outputs": [],
   "source": [
    "list(range(100000));"
   ]
  },
  {
   "cell_type": "markdown",
   "metadata": {},
   "source": [
    "\n",
    "**Note:** This mock exam has not been double-checked for errors and typos. If\n",
    "you come across any, please e-mail me."
   ]
  },
  {
   "cell_type": "markdown",
   "metadata": {},
   "source": [
    "## Task I: Applied regression"
   ]
  },
  {
   "cell_type": "markdown",
   "metadata": {},
   "source": [
    "We will use the following data set."
   ]
  },
  {
   "cell_type": "code",
   "execution_count": null,
   "id": "589aa354",
   "metadata": {},
   "outputs": [],
   "source": [
    "import numpy as np\n",
    "import statsmodels.api as sm\n",
    "import statsmodels.formula.api as smf\n",
    "dat = sm.datasets.get_rdataset(\"Guerry\", \"HistData\").data"
   ]
  },
  {
   "cell_type": "markdown",
   "id": "293cea19",
   "metadata": {},
   "source": [
    "Our goal is to predict to variable `Lottery` from the other variables in the model."
   ]
  },
  {
   "cell_type": "code",
   "execution_count": null,
   "id": "a1cd1061",
   "metadata": {},
   "outputs": [],
   "source": [
    "dat"
   ]
  },
  {
   "cell_type": "markdown",
   "id": "80a18e22",
   "metadata": {},
   "source": [
    "## (a) Using the data"
   ]
  },
  {
   "cell_type": "markdown",
   "id": "1d7f6f73",
   "metadata": {},
   "source": [
    "Notice the following about the categorical variable `Departement`:"
   ]
  },
  {
   "cell_type": "code",
   "execution_count": null,
   "id": "046bd77b",
   "metadata": {},
   "outputs": [],
   "source": [
    "len(set(dat.Department))"
   ]
  },
  {
   "cell_type": "markdown",
   "id": "4b06ba38",
   "metadata": {},
   "source": [
    "It would be silly use this variable as a covariate in a regression model. Why? Are there any other covariates in the data frame with the same problem? Modify `dat` so it doesn't have problems with covariate vectors being useless in this sense."
   ]
  },
  {
   "cell_type": "markdown",
   "metadata": {},
   "source": [
    "### (b) Taking an initial look at the data"
   ]
  },
  {
   "cell_type": "markdown",
   "metadata": {},
   "source": [
    "Use an appropriate plotting function to take a look at the data. Moreover, take\n",
    "a look at some data summaries such as the correlation matrix and category plots,\n",
    "if applicable."
   ]
  },
  {
   "cell_type": "markdown",
   "id": "9e968b90",
   "metadata": {},
   "source": [
    "### (c) Transforms\n",
    "Some the covariates in this data set would may benefit from being transformed. Try out the logarithmic and quadratic transforms on the numeric columns of the data frame (except for `Lottery`), and compare the resulting pairwise correlations to what you obtained without doing the transforms."
   ]
  },
  {
   "cell_type": "markdown",
   "metadata": {},
   "source": [
    "### (d) Evaluating models\n",
    "Fit at least five regression models and make an informed choice among them.\n",
    "Do **not** show the entire output of the models you look at. (**Hint:** You have\n",
    "learned about ANOVA tables, *F*-tests, and the adjusted $R^2$. But you may\n",
    "also think about what makes sense, the principle of parsimony, and so on.)"
   ]
  },
  {
   "cell_type": "markdown",
   "metadata": {},
   "source": [
    "### (e) Making predictions"
   ]
  },
  {
   "cell_type": "markdown",
   "id": "09f05d7f",
   "metadata": {},
   "source": [
    "In this exercise, we're going to use the model"
   ]
  },
  {
   "cell_type": "code",
   "execution_count": null,
   "id": "45287d12",
   "metadata": {},
   "outputs": [],
   "source": [
    "results = smf.ols('Lottery ~ Literacy + Donations +Infants +Suicides + MainCity', data=dat).fit()"
   ]
  },
  {
   "cell_type": "markdown",
   "id": "83214a0c",
   "metadata": {},
   "source": [
    "#### (i) Make speficic predictions"
   ]
  },
  {
   "cell_type": "markdown",
   "id": "6a9f637c",
   "metadata": {},
   "source": [
    "Predict the values of Lottery when `Literacy`, `Donations`, `Infants`, and `Suicides` are as in the following table:\n",
    "| Literacy | Donations | Infants | Suicides | MainCity | \n",
    "| - | - | - | - | - |\n",
    "| 20 |\t4000 |\t10000 |\t10000 |\t2:Med |\n",
    "| 50 |\t7777 |\t1 |\t1\t| 2:Med |\n",
    "| 0 |  0 |       0 |   0 | 3:Lg |\n",
    " "
   ]
  },
  {
   "cell_type": "markdown",
   "id": "c4b889a3",
   "metadata": {},
   "source": [
    "#### (ii) All predictions"
   ]
  },
  {
   "cell_type": "markdown",
   "id": "32414754",
   "metadata": {},
   "source": [
    "Predict the values of `Lottery` given the observed values `Literacy`, `Donations`, `Infants`, and `Suicides`. Plot the observed values against the predicted values. Do you see a pattern?"
   ]
  },
  {
   "cell_type": "markdown",
   "metadata": {},
   "source": [
    "### (f) Missing covariates (1)\n",
    "Suppose we have chosen to use the model in (e). Your uncle Bob comes along with a vector of new data. He wants you to predict the value of `Lottery`, but he has forgotten if `MainCity` equals `2:Med` or `3:Lg`. He knows everything else that you need to know. How would you modify the model in (e) so it's able to predict the value of `Lottery` given his data? You may assume Uncle Bob's vector is the first of the table in the previous exercise, but with `MainCity` equal to either `2:Med` or `3:Lg`, if you wish to compute something. (**Hint:** You may want to use unions here. \n",
    "However, there are reasonable solutions to this exercise that do no use unions.)"
   ]
  },
  {
   "cell_type": "markdown",
   "metadata": {},
   "source": [
    "### (g) Missing covariates (2)\n",
    "The following week, Bob visits again. This time he remembered `MainCity`, be he has forgotten `Donations` and `Suicides`. Modify the model in (e) so that it works in this scenario as well."
   ]
  },
  {
   "cell_type": "markdown",
   "metadata": {},
   "source": [
    "## Task II: Algorithms for regression"
   ]
  },
  {
   "cell_type": "markdown",
   "metadata": {},
   "source": [
    "In this task, you will make a program doing *backward* regression. See e.g. [this page](https://quantifyinghealth.com/stepwise-selection/) for more info. (Scroll down to backwards stepwise regression.) The point of backward regression is to iteratively fit regression models, removing one covariate at a time, starting out with the biggest model."
   ]
  },
  {
   "cell_type": "markdown",
   "metadata": {},
   "source": [
    "### (a) Find the least significant set of predictors\n",
    "Figure out how to extract the name of the predictor associated with the biggest *p*-value in\n",
    "an ANOVA table, i.e., `sm.stats.anova_lm(fit, typ=1)`. Make a function `largest_p_value` that takes a fitted `statsmodels.regression.linear_model.RegressionResultsWrapper` object and returns the name of the covariate / group of covariates with the largest *p*-value.\n",
    "\n",
    "(***Hint:*** `sm.stats.anova_lm` is a data frame. You might want to use `numpy.argmax`).\n"
   ]
  },
  {
   "cell_type": "code",
   "execution_count": null,
   "id": "6aea9a29",
   "metadata": {},
   "outputs": [],
   "source": [
    "frame = sm.stats.anova_lm(results, typ=1)[\"PR(>F)\"] \n",
    "frame"
   ]
  },
  {
   "cell_type": "markdown",
   "id": "70627142",
   "metadata": {},
   "source": [
    "Here `largest_p_value(results)` will return `\"Infants\"`, the name of the covariate with the largest *p*-value."
   ]
  },
  {
   "cell_type": "markdown",
   "id": "6f7aae2f",
   "metadata": {},
   "source": [
    "### (b) Removing covariate from formula\n",
    "Make a function `remove_covariate(formula, covariate)` that removes `covariate` from `formula`. For instance, `remove_covariate(\"y ~ x + z\", \"z\")` should return `\"y ~ x\"`.\n",
    "(***Hint:*** You must need Python's tools for handling strings. The commands below should suffice)"
   ]
  },
  {
   "cell_type": "code",
   "execution_count": null,
   "id": "a20b3a94",
   "metadata": {},
   "outputs": [],
   "source": [
    "formula = \"y ~ x +   z\" \n",
    "formula = formula.replace(\" \", \"\") # Strips whitespace\n",
    "response, covariates = formula.split(\"~\") # Divides the string into two!\n",
    "covariates = covariates.split(\"+\") # Splits the covariates into a vector of covariates.\n",
    "\n",
    "# Do you need to do somthing with `covariates` in order to solve the exercise?\n",
    "\n",
    "# Now we merge the strings together again.\n",
    "response + \"~\" + \"+\".join(covariates)\n"
   ]
  },
  {
   "cell_type": "markdown",
   "metadata": {},
   "source": [
    "### (c) Select the $k<n$ most significant predictors"
   ]
  },
  {
   "cell_type": "markdown",
   "id": "a0223257",
   "metadata": {},
   "source": [
    "Make a function that iteratively removes the least significant predictor `k` times. "
   ]
  },
  {
   "cell_type": "code",
   "execution_count": null,
   "metadata": {},
   "outputs": [],
   "source": [
    "def backward(\"formula\", k, data):\n",
    "    \"\"\" Returns the fitted regression model of the backwards regression model\n",
    "        after k steps. k must be smaller than n, the number of observations. We assume\n",
    "        that k smaller than, or equal to, the number of covariates in the formula.\"\"\"\n",
    "    \n",
    "    # If k == 0, we just do an ordinary regression model\n",
    "    if(k == 0) return(smf.fit(\"formula\", data))\n",
    "    n = data.nrow\n",
    "    assert n > k, \"k must be smaller than n\"\n",
    "\n",
    "    new_formula = ???\n",
    "    # If k > 0, we can run the algorithm once more, but with a new formula and a new k!\n",
    "    return backward(new_formula, k - 1, data)\n"
   ]
  },
  {
   "cell_type": "markdown",
   "metadata": {},
   "source": [
    "### (d) Select predictors as long as the largest *p* is larger than `limit`"
   ]
  },
  {
   "cell_type": "markdown",
   "id": "5e23bb6f",
   "metadata": {},
   "source": [
    "Modify the preeceding function so that it runs as the largest *p* is larget than `limit. "
   ]
  },
  {
   "cell_type": "code",
   "execution_count": null,
   "id": "2efd4621",
   "metadata": {},
   "outputs": [],
   "source": [
    "def backward(\"formula\", limit, data):\n",
    "    \"\"\" Returns the fitted regression model of the backwards regression model \n",
    "        which runs as long as the largest *p*-value is larger than `limit`\"\"\"\n",
    "    pass"
   ]
  },
  {
   "cell_type": "markdown",
   "metadata": {},
   "source": [
    "### (e) Application "
   ]
  },
  {
   "cell_type": "markdown",
   "metadata": {},
   "source": [
    "Use the backwards regression algorithm on the data in Task I to find the \"best\" model for `Lottery`."
   ]
  },
  {
   "cell_type": "markdown",
   "metadata": {},
   "source": [
    "## Task III: Simulations"
   ]
  },
  {
   "cell_type": "markdown",
   "id": "1805b595",
   "metadata": {},
   "source": [
    "We will take a look at the [Jarque-Bera test](https://en.wikipedia.org/wiki/Jarque%E2%80%93Bera_test). This tests if a univariate data set matches the normal distribution. More specifically, it tests if the sample skewness and kurtosis appear to match the normal distribution. We haven't covered skewness and kurtosis in this class, but feel free to look them up at wikipedia. Letting $\\mu = EX$, their population values are defined as\n",
    "$$\\textrm{Skewness} = \\frac{E(X-\\mu)^3}{\\textrm{Var}(X)^{2/3}}$$\n",
    "and\n",
    "$$\\textrm{Kurtosis} = \\frac{E(X-\\mu)^4}{\\textrm{Var}(X)^{2}}.$$\n",
    "Roughly speaking, the skewness measures how skewed a distribution is, while the kurtosis measures its \"tailedness\". "
   ]
  },
  {
   "cell_type": "markdown",
   "id": "773ff4cc",
   "metadata": {},
   "source": [
    "### (a) Implement the Jarque-Bera test, part I.\n",
    "Define a Python function that takes `n,S,K` as arguments and outputs $\\frac{n}{6}(S^2+\\frac{1}{4}(K-3)^2)$. "
   ]
  },
  {
   "cell_type": "markdown",
   "id": "f2b69276",
   "metadata": {},
   "source": [
    "### (b) Implement the Jarque-Bera test, part II\n",
    "The sample skewness and kurtosis are defined as\n",
    "$$\n",
    "S=\\frac{\\frac{1}{n}\\sum_{i=1}^{n}(x_{i}-\\overline{x})^{3}}{\\left(\\frac{1}{n}\\sum_{i=1}^{n}(x_{i}-\\overline{x})^{2}\\right)^{3/2}},\n",
    "$$\n",
    "\n",
    "$$\n",
    "K=\\frac{\\frac{1}{n}\\sum_{i=1}^{n}(x_{i}-\\overline{x})^{4}}{\\left(\\frac{1}{n}\\sum_{i=1}^{n}(x_{i}-\\overline{x})^{2}\\right)^{2}}.\n",
    "$$\n",
    "\n",
    "Implement these as two functions `skewness` and `kurtosis` taking one argument `x` each."
   ]
  },
  {
   "cell_type": "markdown",
   "id": "d8343b2d",
   "metadata": {},
   "source": [
    "### (c) Implement the Jarque-Bera test, part III\n",
    "Make the `jarque_beta` function, taking `x` as an argument, that impliments the Jarque-Bera test. To do this, use that the definition of the Jarque-Bera test is $\\frac{n}{6}(S^2+\\frac{1}{4}(K-3)^2)$, where $n$ is the sample size $S$ is the sample skewness, and $K$ is the sample kurtosis.\n"
   ]
  },
  {
   "cell_type": "markdown",
   "id": "ae5ea7b2",
   "metadata": {},
   "source": [
    "### (d) Simulate from a normal distribution\n",
    "Make a function that simulates `n` observations from a normal distribution with mean `mu` and standard deviation `sigma`, then calculates the Jarque-Beta test on these values. Do this `n_reps` times, and return the data as a Numpy vector. "
   ]
  },
  {
   "cell_type": "code",
   "execution_count": null,
   "id": "99c83617",
   "metadata": {},
   "outputs": [],
   "source": [
    "jarque_bera_normal = function(n, mu, sigma, n_reps):"
   ]
  },
  {
   "cell_type": "markdown",
   "id": "536d1a6f",
   "metadata": {},
   "source": [
    "### (e) Simulate and plot\n",
    "Using `n = 100` and `n_reps = 10**5`, call `jarque_bera_normal` with your choice of `mu` and `sigma`. Make a histogram of the values. Moreover, according to [Jarque-Bera test](https://en.wikipedia.org/wiki/Jarque%E2%80%93Bera_test), the distribution of the Jarque-Bera test should be approximately $\\chi^2$-distributed with $2$ degrees of freedom. To verify this, add a line plot of the $\\chi^2$-distributed with $2$ degrees of freedom to the histogram. Comment how well the lines match.\n",
    "(***Hint:*** To plot the $\\chi^2$-distribution you must consult the Numpy documentation.)"
   ]
  },
  {
   "cell_type": "markdown",
   "id": "79c241c9",
   "metadata": {},
   "source": [
    "### (f) Connection to *p*-values\n",
    "Consider the nullhypothesis\n",
    "$$H_0: \\textrm{The true distribution is normal.}$$\n",
    "Since the Jarque-Bera test is $\\chi^2$-distributed with $2$ degrees of freedom, we can calculate its *p*-value using `scipy.stats.chi2`. Explain *how* you would do this and *why* the result is a *p*-value."
   ]
  },
  {
   "cell_type": "markdown",
   "id": "51816356",
   "metadata": {},
   "source": [
    "### (g) Power of the test, part (i)\n",
    "The definition of a *p*-value only mentions the null-hypothesis, but in order for it to be useful it must have **power** against some reasonable alternatives. This means that, for a fixed significance level $\\alpha$, the probability is able to detect that $H_0$ isn't true. \n",
    "\n",
    "Make a function `simulate_jarque_bera` that takes three arguments `n`, `n_reps` and `random` as arguments. The `random` argument should be a random generator taking one `size` argument. (E.g. `lambda size: rng.normal(mu, sigma, size)`, `lambda size: rng.exponential(lambda, size)`). It should simulate the Jarque-Bera test as we did in Exercise (d), but with the supplied distribution `random` instead of the normal distribution."
   ]
  },
  {
   "cell_type": "markdown",
   "id": "464af55b",
   "metadata": {},
   "source": [
    "### (h) Power of the test, part (ii)\n",
    "Make a function `power_jarque_bera(n, n_reps, random, alpha = 0.05)`. The first three arguments are the same as the previous exercise, and `alpha` is a significance level. It should return the approximate probability that the `Jarque-Bera` test will be significant at the `alpha` level when the true distribution is `random`."
   ]
  },
  {
   "cell_type": "markdown",
   "id": "aaec5e4a",
   "metadata": {},
   "source": [
    "### (h) Power of the test, part (iii)\n",
    "Use the `power_jarque_bera(n, n_reps, random, alpha = 0.05)` function to calculate the power of the Jarque-Bera test for $10$ different choices of `random`, and put them into a table. Please make some comments too. (***Hint***: Look at the numpy documentation and find some reasonable distributions to simulate from!)"
   ]
  }
 ],
 "metadata": {
  "interpreter": {
   "hash": "080eedb0a11b2a19371edcc5d082786eb8990a8b9074b6ad3a874ef8712359df"
  },
  "kernelspec": {
   "display_name": "Python 3.9.7 64-bit (windows store)",
   "name": "python3"
  },
  "language_info": {
   "codemirror_mode": {
    "name": "ipython",
    "version": 3
   },
   "file_extension": ".py",
   "mimetype": "text/x-python",
   "name": "python",
   "nbconvert_exporter": "python",
   "pygments_lexer": "ipython3",
   "version": "3.9.6"
  }
 },
 "nbformat": 4,
 "nbformat_minor": 5
}
