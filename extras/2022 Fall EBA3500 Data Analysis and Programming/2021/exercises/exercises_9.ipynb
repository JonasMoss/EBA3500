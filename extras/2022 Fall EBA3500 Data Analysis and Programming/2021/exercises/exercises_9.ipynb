{
  "cells": [
    {
      "cell_type": "markdown",
      "metadata": {
        "id": "HXMhSDdGxife"
      },
      "source": [
        "# EBA3500 Exercises 9: Interactions"
      ]
    },
    {
      "cell_type": "markdown",
      "metadata": {},
      "source": [
        "## Difficulty classifications\n",
        "There are times when you may become confused by an exercise because it looks too easy. And some of the exercises in this course are easy. (For some!)  \n",
        "* 🐇: Should be very easy for everyone.\n",
        "* 🐖: Should be very easy for some, but harder for others.\n",
        "* 🦢: Should demand some work to finish.\n",
        "* 🐅: A \"challenge\" exercise that isn't strictly part of the curriculum. Can't guarantee a real challenge though. 😉"
      ]
    },
    {
      "cell_type": "markdown",
      "metadata": {},
      "source": [
        "## Exercise 1: Product sets\n",
        "\n",
        "Every set have a certain number of members, called its cardinality or size. For instance, $A = \\{1,2,3\\}$ has cardinality $3$, as it has $3$ members. We denote the cardinality of a set $A$ as either $\\#A$ or $|A|$, sometimes even $\\textrm{card}A$. The mathematics of cardinality is often concerned with the different sizes of infinity, for instance the real numbers $\\mathbb{R}$ contains strictly more members than the natural numbers $\\mathbb{N}$, even though both are infinite. The interested reader may have a look at wikipedia. We will only care about finite sets though.\n"
      ]
    },
    {
      "cell_type": "markdown",
      "metadata": {},
      "source": [
        "\n",
        "### (a) (🐇) Cardinality of a set \n",
        "Make a Python function that calculates the cardinality of a set $A$. \n"
      ]
    },
    {
      "cell_type": "markdown",
      "metadata": {},
      "source": [
        "\n",
        "### (b) (🐖) Cardinality of $A\\times B$\n",
        "Let the cardinality of $A$ be $I$ and the cardinality of $B$ be $J$. What is the cardinality of $A\\times B$?\n"
      ]
    },
    {
      "cell_type": "markdown",
      "metadata": {},
      "source": [
        "\n",
        "### (c) (🐖) Cardinality of $A_1\\times A_2 \\times ... \\times A_k$\n",
        "Let $A_1, A_2, ... , A_k$ be $k$ sets with cardinalities $I_1, I_2, ..., I_k$. What is the cardinality of $A_1\\times A_2 \\times ... \\times A_k$.\n"
      ]
    },
    {
      "cell_type": "markdown",
      "metadata": {},
      "source": [
        "\n",
        "### (d) (🐖) Number of parameters in an interaction model\n",
        "Let $A$ and $B$ be sets with $I$ and $J$ elements each. Consider the following model\n",
        "$$y=\\sum_{i=1}^{I}\\sum_{j=1}^{J}\\beta_{ij}1[X_{1}=a_{j}]1[X_{2}=b_{k}].$$\n",
        "How many regression coefficients $\\beta_{ij}$ are there in this model?\n"
      ]
    },
    {
      "cell_type": "markdown",
      "metadata": {},
      "source": [
        "\n",
        "### (e) (🐖) Number of parameters in a larger interaction model\n",
        "et $A_1, A_2, ... , A_k$ be $k$ sets with cardinalities $I_1, I_2, ..., I_k$. Denote the members of $A_i$ by $a_{ik}$, $k = 1,...I_i$. Consider the following model\n",
        "$$y=\\sum_{i_1=1}^{I_1}\\sum_{i_2=1}^{I_2}...\\sum_{i_k=1}^{I_k}\\beta_{i_1i_2...i_k}1[X_{i_1}=a_{1i_1}]1[X_{i_2}=a_{2i_2}] \\cdots 1[X_{i_k}=a_{ki_k}].$$\n",
        "How many regression coefficients are there in this model?\n"
      ]
    },
    {
      "cell_type": "markdown",
      "metadata": {},
      "source": [
        "\n",
        "### (f) (🐅) Your own product function! 😀\n",
        "Make a function `set_product` that behaves \"almost\" like `product` function in `itertools`. It should take an arbitrary number of elements as input, turn them into sets, then return the product set as a Python set. The function **should not** make use of the `product` function from `itertools`!\n",
        "\n",
        "**Hint:** You have to use [`*args`](https://realpython.com/python-kwargs-and-args/) here. It should behave like the following function, but without using `product`. Make sure you understand this \"fake\" version before trying to write your own `set_product`!"
      ]
    },
    {
      "cell_type": "code",
      "execution_count": 9,
      "metadata": {},
      "outputs": [
        {
          "data": {
            "text/plain": [
              "{(1, 'a', <function len(obj, /)>),\n",
              " (1, 'a', <function sum(iterable, /, start=0)>),\n",
              " (1, 'b', <function len(obj, /)>),\n",
              " (1, 'b', <function sum(iterable, /, start=0)>),\n",
              " (1, 'c', <function len(obj, /)>),\n",
              " (1, 'c', <function sum(iterable, /, start=0)>),\n",
              " (2, 'a', <function len(obj, /)>),\n",
              " (2, 'a', <function sum(iterable, /, start=0)>),\n",
              " (2, 'b', <function len(obj, /)>),\n",
              " (2, 'b', <function sum(iterable, /, start=0)>),\n",
              " (2, 'c', <function len(obj, /)>),\n",
              " (2, 'c', <function sum(iterable, /, start=0)>),\n",
              " (3, 'a', <function len(obj, /)>),\n",
              " (3, 'a', <function sum(iterable, /, start=0)>),\n",
              " (3, 'b', <function len(obj, /)>),\n",
              " (3, 'b', <function sum(iterable, /, start=0)>),\n",
              " (3, 'c', <function len(obj, /)>),\n",
              " (3, 'c', <function sum(iterable, /, start=0)>)}"
            ]
          },
          "execution_count": 9,
          "metadata": {},
          "output_type": "execute_result"
        }
      ],
      "source": [
        "from itertools import product\n",
        "\n",
        "def set_product_fake(*args):\n",
        "    return set(product(*[set(arg) for arg in args]))\n",
        "    \n",
        "set_product_fake([1,2,2,3], [\"a\", \"b\", \"c\"], [len, sum])"
      ]
    },
    {
      "cell_type": "markdown",
      "metadata": {},
      "source": [
        "## Exercise 2: Three-way interactions"
      ]
    },
    {
      "cell_type": "markdown",
      "metadata": {},
      "source": [
        "We'll use the Titanic data set again to look at three-way interactions. These are interactions involving three variables, such as sex, age, and class. Such interactions are hard to understand, and are usually not needed, but manybe they are in the Titanic data set?"
      ]
    },
    {
      "cell_type": "markdown",
      "metadata": {},
      "source": [
        "### (a) (🐇) Load the data set\n",
        "Load the `titanic` data frame. This exercise is as easy as it gets."
      ]
    },
    {
      "cell_type": "markdown",
      "metadata": {},
      "source": [
        "### (b) (🐇) `Age` is not just a number\n",
        "We haven't looked at `Age` yet. But yes, children died when Titanic sank. Make two plots illustrating the effect of `Age` on survival, one taking `Sex` into account, the other taking `Class` into account. Can you make a nice plot combining the effects of `Sex` and `Class` and `Age` on survival.\n",
        "\n",
        "Make some intelligent comments about the effect of `Age`."
      ]
    },
    {
      "cell_type": "markdown",
      "metadata": {},
      "source": [
        "### (c) (🐖) Fitting a model\n",
        "We'll try to fit a model taking `Age` and `Class` and `Sex` into account. This turns out to be difficult though, as there are no kids in the `Crew` class. Make a new data frame `titanic_2` where the rows with `Class = Crew` have been removed. \n",
        "\n",
        "(*Hint:* You have to remove the category `Crew` from the `Class` column as well. Google is your friend here.)"
      ]
    },
    {
      "cell_type": "markdown",
      "metadata": {},
      "source": [
        "### (d) (🦢) Formulating a model\n",
        "Define `Survived_01` in the usual way and consider the `statsmodels` model `Sex * Class * Age`. \n",
        "\n",
        "A two-way interaction is a product of two terms `x_1x_2` and a three-way interaction is a product of three terms `x_1x_2x_3`. Write down this model using indicator functions both (i) using a formulation with linear effects, two-way interactions, and three-way interaction, and (ii) using the formulation with only products of indicator functions (as in Exercise 1e).\n",
        "\n",
        "(***Hint:*** For (i), run the regression and look at the parameter names. That is the representation of the model we're after.)"
      ]
    },
    {
      "cell_type": "markdown",
      "metadata": {},
      "source": [
        "roduct of two terms `x_1x_2` and a three-way interaction is a product of three terms `x_1x_2x_3`. Write down this model using indicator functions both (i) using a formulation with linear effects, two-way interactions, and three-way interaction, and (ii) using the formulation with only products of indicator functions (as in Exercise 1e).\n",
        "\n",
        "(***Hint:*** For (i), run the regression and look at the parameter names. That is the representation of the model we're after.)"
      ]
    },
    {
      "cell_type": "markdown",
      "metadata": {},
      "source": [
        "### (e) (🐖) Running the model\n",
        "Fit the model in `statsmodels` and put it into a `fit` object. Then run an ANOVA using `sm.stats.anova_lm`. Try to explain what the table means using the explanation at the end of the lecture, if needed. Are we justified in using the three-way interaction `Sex:Class:Age`?"
      ]
    }
  ],
  "metadata": {
    "colab": {
      "collapsed_sections": [],
      "name": "EBA3500-exercises-8",
      "provenance": []
    },
    "interpreter": {
      "hash": "8214f72d23884c802e2dc6bec8e87b93e644d7518e94910628cfbca0d96cb336"
    },
    "kernelspec": {
      "display_name": "Python 3.9.7 64-bit (windows store)",
      "name": "python3"
    },
    "language_info": {
      "codemirror_mode": {
        "name": "ipython",
        "version": 3
      },
      "file_extension": ".py",
      "mimetype": "text/x-python",
      "name": "python",
      "nbconvert_exporter": "python",
      "pygments_lexer": "ipython3",
      "version": "3.9.7"
    }
  },
  "nbformat": 4,
  "nbformat_minor": 0
}
