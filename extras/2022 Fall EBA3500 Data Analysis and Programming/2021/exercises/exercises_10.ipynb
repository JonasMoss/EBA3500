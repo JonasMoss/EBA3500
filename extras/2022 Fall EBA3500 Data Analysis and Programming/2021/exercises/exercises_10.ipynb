{
  "cells": [
    {
      "cell_type": "markdown",
      "metadata": {
        "id": "HXMhSDdGxife"
      },
      "source": [
        "# EBA3500 Exercise 10: Ordinal, categorical, and numeric covariates"
      ]
    },
    {
      "cell_type": "markdown",
      "metadata": {},
      "source": [
        "## Difficulty classifications\n",
        "There are times when you may become confused by an exercise because it looks too easy. And some of the exercises in this course are easy. (For some!)  \n",
        "* 🐇: Should be very easy for everyone.\n",
        "* 🐖: Should be very easy for some, but harder for others.\n",
        "* 🦢: Should demand some work to finish.\n",
        "* 🐅: A \"challenge\" exercise that isn't strictly part of the curriculum. Can't guarantee a real challenge though. 😉"
      ]
    },
    {
      "cell_type": "markdown",
      "metadata": {},
      "source": [
        "# Input data"
      ]
    },
    {
      "cell_type": "code",
      "execution_count": 2,
      "metadata": {},
      "outputs": [
        {
          "data": {
            "text/html": [
              "<div>\n",
              "<style scoped>\n",
              "    .dataframe tbody tr th:only-of-type {\n",
              "        vertical-align: middle;\n",
              "    }\n",
              "\n",
              "    .dataframe tbody tr th {\n",
              "        vertical-align: top;\n",
              "    }\n",
              "\n",
              "    .dataframe thead th {\n",
              "        text-align: right;\n",
              "    }\n",
              "</style>\n",
              "<table border=\"1\" class=\"dataframe\">\n",
              "  <thead>\n",
              "    <tr style=\"text-align: right;\">\n",
              "      <th></th>\n",
              "      <th>apply</th>\n",
              "      <th>pared</th>\n",
              "      <th>public</th>\n",
              "      <th>gpa</th>\n",
              "    </tr>\n",
              "  </thead>\n",
              "  <tbody>\n",
              "    <tr>\n",
              "      <th>0</th>\n",
              "      <td>very likely</td>\n",
              "      <td>0</td>\n",
              "      <td>0</td>\n",
              "      <td>3.26</td>\n",
              "    </tr>\n",
              "    <tr>\n",
              "      <th>1</th>\n",
              "      <td>somewhat likely</td>\n",
              "      <td>1</td>\n",
              "      <td>0</td>\n",
              "      <td>3.21</td>\n",
              "    </tr>\n",
              "    <tr>\n",
              "      <th>2</th>\n",
              "      <td>unlikely</td>\n",
              "      <td>1</td>\n",
              "      <td>1</td>\n",
              "      <td>3.94</td>\n",
              "    </tr>\n",
              "    <tr>\n",
              "      <th>3</th>\n",
              "      <td>somewhat likely</td>\n",
              "      <td>0</td>\n",
              "      <td>0</td>\n",
              "      <td>2.81</td>\n",
              "    </tr>\n",
              "    <tr>\n",
              "      <th>4</th>\n",
              "      <td>somewhat likely</td>\n",
              "      <td>0</td>\n",
              "      <td>0</td>\n",
              "      <td>2.53</td>\n",
              "    </tr>\n",
              "  </tbody>\n",
              "</table>\n",
              "</div>"
            ],
            "text/plain": [
              "             apply  pared  public   gpa\n",
              "0      very likely      0       0  3.26\n",
              "1  somewhat likely      1       0  3.21\n",
              "2         unlikely      1       1  3.94\n",
              "3  somewhat likely      0       0  2.81\n",
              "4  somewhat likely      0       0  2.53"
            ]
          },
          "execution_count": 2,
          "metadata": {},
          "output_type": "execute_result"
        }
      ],
      "source": [
        "import pandas as pd\n",
        "url = \"https://stats.idre.ucla.edu/stat/data/ologit.dta\"\n",
        "data_student = pd.read_stata(url)\n",
        "data_student.head()"
      ]
    },
    {
      "cell_type": "markdown",
      "metadata": {},
      "source": [
        "## Exercise 1: Coding of variables\n"
      ]
    },
    {
      "cell_type": "markdown",
      "metadata": {},
      "source": [
        "We will work with coding of ordinal variables. You may need to consult the documentation of [categorical data types.](https://pandas.pydata.org/docs/user_guide/categorical.html)"
      ]
    },
    {
      "cell_type": "markdown",
      "metadata": {},
      "source": [
        "### (a) (🐇) Understanding codings\n",
        "Suppose we have some ordinal ordinal values '\"a\" < \"b\" < \"c\" < \"d\"'. Let `x` be a numeric vector and let\n",
        "`{'a' : x[0], 'b': x[1], 'c': x[2], 'd': x[3]}` be a dictionary associating the first categorical value with the first element of `x`, the second categorical variable with the second element of `x`, and so on.\n",
        "\n",
        "Which of these vectors are codings of the ordinal values above?\n",
        "1. `[0,1,2,3]`,\n",
        "2. `[0, 0, 1,2]`,\n",
        "3. `[-1,1,2,3]`,\n",
        "4. `[1,2,4,3]`,\n",
        "5. `[1,2,3]`."
      ]
    },
    {
      "cell_type": "markdown",
      "metadata": {},
      "source": [
        "### (b) (🐖) A simple coding function\n",
        "Make a function that takes a Pandas series `s` with the ordered categorical data type as an argument. It should return the series obtained by switching every $i$ th element of `s` with `i`, i.e., linearly code `s`. (*Hint:* Is this already done in the lecture notes?)"
      ]
    },
    {
      "cell_type": "markdown",
      "metadata": {},
      "source": [
        "### (c) (🦢) A coding function\n",
        "Make a function that takes a Pandas series `s` with the ordered categorical data type and a function `f` as arguments. It should return the series obtained by mapping every $i$th element of `s` to `f(i)`. \n",
        "\n",
        "For instance, `data_student[\"apply\"]` contains the ordered values `'unlikely' < 'somewhat likely' < 'very likely'`. Every `'unlikely'` in `s` will be mapped to `f(1)`, `'somewhat likely'` to `f(2)`, and `'very likely'` to `f(3)`. \n",
        "\n",
        "Notice the default argument, `f = lambda x: x`, which corresponds to the usual coding."
      ]
    },
    {
      "cell_type": "code",
      "execution_count": 53,
      "metadata": {},
      "outputs": [],
      "source": [
        "def coding(s, f = lambda i: i):\n",
        "    # fill in"
      ]
    },
    {
      "cell_type": "markdown",
      "metadata": {},
      "source": [
        "Verify your function using:"
      ]
    },
    {
      "cell_type": "code",
      "execution_count": null,
      "metadata": {},
      "outputs": [],
      "source": [
        "coding(data_student[\"apply\"], lambda x: x**2).array\n",
        "# [9, 4, 1, 4, 4, 1, 4, 4, 1, 4 ...\n",
        "\n",
        "import numpy as np\n",
        "coding(data_student[\"apply\"], np.log).array\n",
        "# 1.0986122886681098, 0.6931471805599453, 0.0, 0.6931471805599453, 0.6931471805599453, \n",
        "# 0.0, 0.6931471805599453, 0.6931471805599453, 0.0, 0.6931471805599453, ..."
      ]
    },
    {
      "cell_type": "markdown",
      "metadata": {},
      "source": [
        "### (d) (🐖) Applications (i)\n",
        "Try out the following codings on the `data_student` data set and global warming data sets (from the first part of the lecture.)\n",
        "1. The linear coding, `f(i) = i`,\n",
        "2. The quadratic coding `f(i) = i ** 2`,\n",
        "3. The function that maps `1` to `1` but `i` to `i+1` when $i>1$."
      ]
    },
    {
      "cell_type": "markdown",
      "metadata": {},
      "source": [
        "### (e)  (🦢) Another coding function\n",
        "Sometimes your coding function will depend on all the values of `s`. For instance, one could use a signed squared distance from the mean, i.e. `f = lambda i: np.sign(i - np.mean(coding(s))) * (i - np.mean(coding(s))) ** 2`.  Modiy the `coding` function to support functions `f` taking either one argument `i` or two arguments `i,s`."
      ]
    },
    {
      "cell_type": "markdown",
      "metadata": {},
      "source": [
        "You may need to check the signature of `f` to do this. The signature of a function is a list of the arguments it takes. To check the signature of a Python function, use:"
      ]
    },
    {
      "cell_type": "code",
      "execution_count": 38,
      "metadata": {},
      "outputs": [
        {
          "data": {
            "text/plain": [
              "<Signature (x)>"
            ]
          },
          "execution_count": 38,
          "metadata": {},
          "output_type": "execute_result"
        }
      ],
      "source": [
        "from inspect import signature\n",
        "signature(f)"
      ]
    },
    {
      "cell_type": "markdown",
      "metadata": {},
      "source": [
        "Use `dir` and the documentation of signature to make use of this."
      ]
    },
    {
      "cell_type": "code",
      "execution_count": null,
      "metadata": {},
      "outputs": [],
      "source": [
        "import numpy as np\n",
        "s = data_student[\"apply\"]\n",
        "coding(data_student[\"apply\"], lambda i, s: np.sign(i - np.mean(coding(s))) * (i - np.mean(coding(s))) ** 2)\n",
        "# 2.1025, 0.2025, -0.3025,  0.2025, 0.2025, ..."
      ]
    },
    {
      "cell_type": "markdown",
      "metadata": {},
      "source": [
        "### (f) Applications (ii)\n",
        "Try out your new coding function using:\n",
        "1.  The signed squared distance from the mean, `lambda i, s: np.sign(i - np.mean(coding(s))) * (i - np.mean(coding(s))) ** 2`.\n",
        "2.  Define `f(i, s)` as below.\n",
        "3.  Is the normal quantile function of the result in (2). (Use Scipy for this, i.e. `stats.norm.ppf`)\n",
        "4.  Is the Laplace quantile function of the result in (2). (Use Scipy for this.)\n",
        "\n",
        "Which coding do you prefer?"
      ]
    },
    {
      "cell_type": "markdown",
      "metadata": {},
      "source": [
        "### (g) (🐅) Making `f` more effective [Intermediate Python programming]\n",
        "The function `f(i, s)` above computes the vector `total` and `values` every time it is called - which is not necessary - and can use a lot of computational resources on large inputs. There is an easy way to prevent it from using many resources, namely letting it be a function of `i` only and precompute the values of `total`. But that causes cluttered code and is a bad option. \n",
        "\n",
        "The challenge of this exercise is to modify the function `f(i, s)` so that it only computes `total` and `values` once. You are **not** allowed to store `values` or `total` in the environment calling `coding` however, as this would be cheating.\n",
        "\n",
        "This is possible, but you probably have to use classes. In particular, you need a *callable object*. That's an object you can call using `()`. You can make an object callable by using the `__call__` attribute; see the code below.\n",
        "\n",
        "In addition, try to use pure Numpy, i.e., avoid using `Counter`.\n",
        "\n",
        "***Note***: This kind of \"trick\" is important, and can sometimes save hours of computing time, but is underused and even unknown by many statisticians. Stand tall in the grass, be resplendent in the mud. Learn to use callable objects! "
      ]
    },
    {
      "cell_type": "code",
      "execution_count": null,
      "metadata": {},
      "outputs": [],
      "source": [
        "class F:\n",
        "  values = None\n",
        "  \n",
        "  def __call__(self, i, s):\n",
        "    # What do you do here?\n",
        "    return self.values[i]\n",
        "\n",
        "f = F()"
      ]
    },
    {
      "cell_type": "markdown",
      "metadata": {},
      "source": [
        "## Exercise 2: Varying intercepts and slopes"
      ]
    },
    {
      "cell_type": "markdown",
      "metadata": {},
      "source": [
        "### (a) (🦢) Plot the varying intercept model\n",
        "Make a function that plots a random intercept model. It should be similar to `sns.lmplot`."
      ]
    },
    {
      "cell_type": "code",
      "execution_count": null,
      "metadata": {},
      "outputs": [],
      "source": [
        "sns.lmplot(x ='negemot', y ='govact', data = glbwarm, hue ='partyid')"
      ]
    },
    {
      "cell_type": "markdown",
      "metadata": {},
      "source": [
        "This function uses the slopes and intercept from the regression"
      ]
    },
    {
      "cell_type": "code",
      "execution_count": null,
      "metadata": {},
      "outputs": [],
      "source": [
        "smf.ols(\"govact ~ negemot * C(partyid)\", data = glbwarm).fit()"
      ]
    },
    {
      "cell_type": "markdown",
      "metadata": {},
      "source": [
        "However, you should make a function where the slope are constant across levels. In this case, you would want to use the unique slope from the regression model."
      ]
    },
    {
      "cell_type": "code",
      "execution_count": null,
      "metadata": {},
      "outputs": [],
      "source": [
        "smf.ols(\"govact ~ negemot + C(partyid)\", data = glbwarm).fit()"
      ]
    }
  ],
  "metadata": {
    "colab": {
      "collapsed_sections": [],
      "name": "EBA3500-exercises-8",
      "provenance": []
    },
    "interpreter": {
      "hash": "8214f72d23884c802e2dc6bec8e87b93e644d7518e94910628cfbca0d96cb336"
    },
    "kernelspec": {
      "display_name": "Python 3.9.7 64-bit (windows store)",
      "name": "python3"
    },
    "language_info": {
      "codemirror_mode": {
        "name": "ipython",
        "version": 3
      },
      "file_extension": ".py",
      "mimetype": "text/x-python",
      "name": "python",
      "nbconvert_exporter": "python",
      "pygments_lexer": "ipython3",
      "version": "3.9.7"
    }
  },
  "nbformat": 4,
  "nbformat_minor": 0
}
