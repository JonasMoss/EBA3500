{
  "nbformat": 4,
  "nbformat_minor": 0,
  "metadata": {
    "colab": {
      "name": "EBA3500-exercises-7",
      "provenance": []
    },
    "kernelspec": {
      "name": "python3",
      "display_name": "Python 3"
    },
    "language_info": {
      "name": "python"
    }
  },
  "cells": [
    {
      "cell_type": "markdown",
      "metadata": {
        "id": "HfmFu7z9m37E"
      },
      "source": [
        "# EBA3500 Exercises 7"
      ]
    },
    {
      "cell_type": "markdown",
      "metadata": {
        "id": "KZWoknLrXUHv"
      },
      "source": [
        "The following definition wasn't included in the lectures, but was implicitly used in the last part of part (ii).\n",
        "#### Definition: Categorical regression with one category\n",
        "> Let $A_1, A_2, ..., A_k$ be sets and $x$ be a vector whose $i$th element is in $A_i$. Then the linear regression model based on these sets (or these categorical variables) is\n",
        "$$\n",
        "y = \\sum_{i=1}^k \\sum_{a_i\\in A_i} \\beta_{a_i} 1[x_i \\textrm{ = }a_i] + \\epsilon,\\quad x_i \\textrm{ in } A_i.\n",
        "$$\n",
        "\n",
        "For instance, let $A_1 = \\{\\textrm{female}, \\textrm{male}\\}$ and $A_2 = \\{\\textrm{Biscoe}, \\textrm{Dream}, \\textrm{Torgersen}\\}$. Then the regression model based on these categorical variables is\n",
        "$$ \n",
        "y = \\sum_{a_1\\in A_1} \\beta_{a_i} 1[x_1 \\textrm{ = }a_1] + \\sum_{a_2\\in A_2} \\beta_{a_2} 1[x_i \\textrm{ = }a_2] + \\epsilon\n",
        "$$\n",
        "which equals\n",
        "$$\n",
        "y = \\beta_{\\textrm{female}}1[x_1 =\\textrm{female}] + \\beta_{\\textrm{male}}1[x_1 =\\textrm{male}] + \\beta_{\\textrm{Biscoe}}1[x_2 =\\textrm{Biscoe}]+\\beta_{\\textrm{Dream}}1[x_2 =\\textrm{Dream}] + \\beta_{\\textrm{Torgersen}}1[x_2 =\\textrm{Torgersen}] + \\epsilon\n",
        "$$"
      ]
    },
    {
      "cell_type": "markdown",
      "metadata": {
        "id": "FrJ59N3ZS5Lr"
      },
      "source": [
        "## Exercise 1: Review exercises"
      ]
    },
    {
      "cell_type": "markdown",
      "metadata": {
        "id": "-LcD_tWkS94z"
      },
      "source": [
        "1.   Define the indicator function $1[x\\textrm{ in }A]$. \n",
        "4.   What are, roughly, the three types of statistical data?\n",
        "2.   What is the definition of regression with categorical variables in a set $A$?\n",
        "2.   What does `y ~ C(x)` do in `statsmodels`?\n",
        "3.   What is the difference between `y ~ C(x) - 1` and `y ~ C(x)`?\n",
        "4.   Why would you want to use `y ~ C(x)` instead of `y ~ C(x) - 1`?\n",
        "\n",
        "\n"
      ]
    },
    {
      "cell_type": "markdown",
      "metadata": {
        "id": "kpquW-fZnhXD"
      },
      "source": [
        "### Exercise 2: Penguin plots"
      ]
    },
    {
      "cell_type": "markdown",
      "metadata": {
        "id": "JfmG2y3ynoJS"
      },
      "source": [
        "We went through several plotting functions in part (ii) of the lecture, and have covered some before too. Let's employ them on the penguin data set!"
      ]
    },
    {
      "cell_type": "code",
      "metadata": {
        "id": "clXqv0m3n1DT"
      },
      "source": [
        "import seaborn as sns\n",
        "penguins = sns.load_dataset(\"penguins\")"
      ],
      "execution_count": 8,
      "outputs": []
    },
    {
      "cell_type": "markdown",
      "metadata": {
        "id": "uP3D_fC5n2zt"
      },
      "source": [
        "## (a)\n",
        "Visualize the number of males and females by the island and species categories. Comment briefly on the plot. (*Hint:* Use `sns.catplot`!)"
      ]
    },
    {
      "cell_type": "code",
      "metadata": {
        "colab": {
          "base_uri": "https://localhost:8080/",
          "height": 340
        },
        "id": "0PladoXBoL4l",
        "outputId": "2b011af8-2fdc-40ce-d1af-bbf0cd44e518"
      },
      "source": [
        "sns.catplot(x=\"sex\",hue=\"island\",col=\"species\",data=penguins, kind=\"count\")"
      ],
      "execution_count": 11,
      "outputs": [
        {
          "output_type": "execute_result",
          "data": {
            "text/plain": [
              "<seaborn.axisgrid.FacetGrid at 0x7fd84b792490>"
            ]
          },
          "metadata": {},
          "execution_count": 11
        },
        {
          "output_type": "display_data",
          "data": {
            "image/png": "[encoded data removed]",
            "text/plain": [
              "<Figure size 1164.62x360 with 3 Axes>"
            ]
          },
          "metadata": {
            "needs_background": "light"
          }
        }
      ]
    },
    {
      "cell_type": "markdown",
      "metadata": {
        "id": "5wmsmgbdoEN7"
      },
      "source": [
        "### (b)\n",
        "Is there any relationsship between `island` and `species` on one hand, and probability of being female on the other hand? Make a guess first, an then run the logistic regression `sex ~ island + species`."
      ]
    },
    {
      "cell_type": "markdown",
      "metadata": {
        "id": "LCGoo5kHpA5y"
      },
      "source": [
        "### (c)\n",
        "Plot the flipper length by sex, species, and island. Comment on the results. (*Hint:* Use `sns.catplot` again.) "
      ]
    },
    {
      "cell_type": "code",
      "metadata": {
        "colab": {
          "base_uri": "https://localhost:8080/",
          "height": 386
        },
        "id": "heHOxIL9pHoI",
        "outputId": "eb85008f-7b90-4b8f-e89e-f13d6db8f74b"
      },
      "source": [
        "sns.catplot(x=\"flipper_length_mm\",hue=\"island\",y=\"species\", col = \"sex\",data=penguins)"
      ],
      "execution_count": 14,
      "outputs": [
        {
          "output_type": "execute_result",
          "data": {
            "text/plain": [
              "<seaborn.axisgrid.FacetGrid at 0x7fd84ae761d0>"
            ]
          },
          "metadata": {},
          "execution_count": 14
        },
        {
          "output_type": "display_data",
          "data": {
            "image/png": "[encoded data removed]",
            "text/plain": [
              "<Figure size 804.625x360 with 2 Axes>"
            ]
          },
          "metadata": {
            "needs_background": "light"
          }
        }
      ]
    },
    {
      "cell_type": "markdown",
      "metadata": {
        "id": "UdvXaXlXi3g7"
      },
      "source": [
        "## Exercises 3: Interpreting penguins"
      ]
    },
    {
      "cell_type": "markdown",
      "metadata": {
        "id": "eX-STGUpjP57"
      },
      "source": [
        "Consdiser the following regression model,"
      ]
    },
    {
      "cell_type": "code",
      "metadata": {
        "colab": {
          "base_uri": "https://localhost:8080/",
          "height": 522
        },
        "id": "80qgtV_Q2Ezc",
        "outputId": "55fd8b7f-2931-4bae-88ed-8c2cf0148e71"
      },
      "source": [
        "import seaborn as sns\n",
        "import statsmodels.formula.api as smf\n",
        "penguins = sns.load_dataset(\"penguins\")\n",
        "fit = smf.ols(\"bill_length_mm ~ island + species + sex\", data = penguins).fit()\n",
        "fit.summary()"
      ],
      "execution_count": 7,
      "outputs": [
        {
          "output_type": "execute_result",
          "data": {
            "text/html": [
              "<table class=\"simpletable\">\n",
              "<caption>OLS Regression Results</caption>\n",
              "<tr>\n",
              "  <th>Dep. Variable:</th>     <td>bill_length_mm</td>  <th>  R-squared:         </th> <td>   0.822</td> \n",
              "</tr>\n",
              "<tr>\n",
              "  <th>Model:</th>                   <td>OLS</td>       <th>  Adj. R-squared:    </th> <td>   0.819</td> \n",
              "</tr>\n",
              "<tr>\n",
              "  <th>Method:</th>             <td>Least Squares</td>  <th>  F-statistic:       </th> <td>   302.0</td> \n",
              "</tr>\n",
              "<tr>\n",
              "  <th>Date:</th>             <td>Thu, 07 Oct 2021</td> <th>  Prob (F-statistic):</th> <td>3.36e-120</td>\n",
              "</tr>\n",
              "<tr>\n",
              "  <th>Time:</th>                 <td>11:53:50</td>     <th>  Log-Likelihood:    </th> <td> -750.43</td> \n",
              "</tr>\n",
              "<tr>\n",
              "  <th>No. Observations:</th>      <td>   333</td>      <th>  AIC:               </th> <td>   1513.</td> \n",
              "</tr>\n",
              "<tr>\n",
              "  <th>Df Residuals:</th>          <td>   327</td>      <th>  BIC:               </th> <td>   1536.</td> \n",
              "</tr>\n",
              "<tr>\n",
              "  <th>Df Model:</th>              <td>     5</td>      <th>                     </th>     <td> </td>    \n",
              "</tr>\n",
              "<tr>\n",
              "  <th>Covariance Type:</th>      <td>nonrobust</td>    <th>                     </th>     <td> </td>    \n",
              "</tr>\n",
              "</table>\n",
              "<table class=\"simpletable\">\n",
              "<tr>\n",
              "            <td></td>              <th>coef</th>     <th>std err</th>      <th>t</th>      <th>P>|t|</th>  <th>[0.025</th>    <th>0.975]</th>  \n",
              "</tr>\n",
              "<tr>\n",
              "  <th>Intercept</th>            <td>   37.1263</td> <td>    0.373</td> <td>   99.550</td> <td> 0.000</td> <td>   36.393</td> <td>   37.860</td>\n",
              "</tr>\n",
              "<tr>\n",
              "  <th>island[T.Dream]</th>      <td>   -0.4886</td> <td>    0.470</td> <td>   -1.039</td> <td> 0.300</td> <td>   -1.414</td> <td>    0.436</td>\n",
              "</tr>\n",
              "<tr>\n",
              "  <th>island[T.Torgersen]</th>  <td>    0.1026</td> <td>    0.488</td> <td>    0.210</td> <td> 0.833</td> <td>   -0.857</td> <td>    1.062</td>\n",
              "</tr>\n",
              "<tr>\n",
              "  <th>species[T.Chinstrap]</th> <td>   10.3474</td> <td>    0.422</td> <td>   24.541</td> <td> 0.000</td> <td>    9.518</td> <td>   11.177</td>\n",
              "</tr>\n",
              "<tr>\n",
              "  <th>species[T.Gentoo]</th>    <td>    8.5465</td> <td>    0.410</td> <td>   20.834</td> <td> 0.000</td> <td>    7.739</td> <td>    9.353</td>\n",
              "</tr>\n",
              "<tr>\n",
              "  <th>sex[T.Male]</th>          <td>    3.6975</td> <td>    0.255</td> <td>   14.508</td> <td> 0.000</td> <td>    3.196</td> <td>    4.199</td>\n",
              "</tr>\n",
              "</table>\n",
              "<table class=\"simpletable\">\n",
              "<tr>\n",
              "  <th>Omnibus:</th>       <td>35.395</td> <th>  Durbin-Watson:     </th> <td>   1.961</td>\n",
              "</tr>\n",
              "<tr>\n",
              "  <th>Prob(Omnibus):</th> <td> 0.000</td> <th>  Jarque-Bera (JB):  </th> <td>  84.335</td>\n",
              "</tr>\n",
              "<tr>\n",
              "  <th>Skew:</th>          <td> 0.523</td> <th>  Prob(JB):          </th> <td>4.86e-19</td>\n",
              "</tr>\n",
              "<tr>\n",
              "  <th>Kurtosis:</th>      <td> 5.233</td> <th>  Cond. No.          </th> <td>    7.61</td>\n",
              "</tr>\n",
              "</table><br/><br/>Warnings:<br/>[1] Standard Errors assume that the covariance matrix of the errors is correctly specified."
            ],
            "text/plain": [
              "<class 'statsmodels.iolib.summary.Summary'>\n",
              "\"\"\"\n",
              "                            OLS Regression Results                            \n",
              "==============================================================================\n",
              "Dep. Variable:         bill_length_mm   R-squared:                       0.822\n",
              "Model:                            OLS   Adj. R-squared:                  0.819\n",
              "Method:                 Least Squares   F-statistic:                     302.0\n",
              "Date:                Thu, 07 Oct 2021   Prob (F-statistic):          3.36e-120\n",
              "Time:                        11:53:50   Log-Likelihood:                -750.43\n",
              "No. Observations:                 333   AIC:                             1513.\n",
              "Df Residuals:                     327   BIC:                             1536.\n",
              "Df Model:                           5                                         \n",
              "Covariance Type:            nonrobust                                         \n",
              "========================================================================================\n",
              "                           coef    std err          t      P>|t|      [0.025      0.975]\n",
              "----------------------------------------------------------------------------------------\n",
              "Intercept               37.1263      0.373     99.550      0.000      36.393      37.860\n",
              "island[T.Dream]         -0.4886      0.470     -1.039      0.300      -1.414       0.436\n",
              "island[T.Torgersen]      0.1026      0.488      0.210      0.833      -0.857       1.062\n",
              "species[T.Chinstrap]    10.3474      0.422     24.541      0.000       9.518      11.177\n",
              "species[T.Gentoo]        8.5465      0.410     20.834      0.000       7.739       9.353\n",
              "sex[T.Male]              3.6975      0.255     14.508      0.000       3.196       4.199\n",
              "==============================================================================\n",
              "Omnibus:                       35.395   Durbin-Watson:                   1.961\n",
              "Prob(Omnibus):                  0.000   Jarque-Bera (JB):               84.335\n",
              "Skew:                           0.523   Prob(JB):                     4.86e-19\n",
              "Kurtosis:                       5.233   Cond. No.                         7.61\n",
              "==============================================================================\n",
              "\n",
              "Warnings:\n",
              "[1] Standard Errors assume that the covariance matrix of the errors is correctly specified.\n",
              "\"\"\""
            ]
          },
          "metadata": {},
          "execution_count": 7
        }
      ]
    },
    {
      "cell_type": "markdown",
      "metadata": {
        "id": "gizQesV0jGMd"
      },
      "source": [
        "### (a)\n",
        "Comment on the $R^2$, the *p*-values and the *t*-values. How do you interpret them? Are there any covariates that do not appear to matter very much?"
      ]
    },
    {
      "cell_type": "markdown",
      "metadata": {
        "id": "7CViyyLTj-gc"
      },
      "source": [
        "### (b)\n",
        "What are the baseline covariates in this model? That is, what values of `island`, `species`, and `sex` are absorbed into the intercept?"
      ]
    },
    {
      "cell_type": "markdown",
      "metadata": {
        "id": "Re_2I-PMkp2b"
      },
      "source": [
        "### (c)\n",
        "1. Predict the bill length of a *female* penguin on the island *Biscoe* of the species *Gentoo*. You should use the parameters (i.e. `fit.params`) of the regression model, but use the `predict` method (and similar methods) only to validate. You should be able to do the calculation correctly using this information only.\n",
        "2. Predict the bill length of a *male* penguin on the island *Dream* of the species *Chinstrap*.\n",
        "3. Predict the bill length of a *female* penguin on the island *Biscoe* of the species *Adelie*."
      ]
    },
    {
      "cell_type": "markdown",
      "metadata": {
        "id": "o8wfjlHKlWTu"
      },
      "source": [
        "### (d)\n",
        "I want you to predict the bill length of my penguin. However, I've messed up! Due to a serious case of sensory malfunction, I can't distinguish the species *Chinstrap* and *Adelie* from one another. Make a regression model `fit2` that predicts the bill length from `islands`, `sex` and `species`, but that cannot differentiate between *Chinstrap* and *Adelie*. Use it to predict the bill length of a *female* penguin on *Biscoe* of species either equal to *Chinstrap* or *Adelie*. \n",
        "**Hint:** Can you make a new column in `penguins` that merges Chinstrap and Adelie into a single \"species\"?"
      ]
    },
    {
      "cell_type": "markdown",
      "metadata": {
        "id": "DTvJN43nmKMT"
      },
      "source": [
        "### (e) \n",
        "For the model `fit2` you made in the previous problem, predict the value a penguin with species *Gentoo*. Compare your prediction to that of `fit`. "
      ]
    },
    {
      "cell_type": "markdown",
      "metadata": {
        "id": "YL3v0CvpRt-v"
      },
      "source": [
        "## Exercise 3: Indicator functions and regression\n"
      ]
    },
    {
      "cell_type": "markdown",
      "metadata": {
        "id": "noiTgZakSxtH"
      },
      "source": [
        "\n",
        "## (a)\n",
        "Using the `titanic` data from lecture (ii), spell out `Survived ~ Sex` using indicator functions. Remember to take the baseline into account.\n"
      ]
    },
    {
      "cell_type": "markdown",
      "metadata": {
        "id": "KOU1Il-QSwE4"
      },
      "source": [
        "\n",
        "## (b)\n",
        "Spell out `Survived ~ Class` using indicator functions. Again, remember the baseline!\n"
      ]
    },
    {
      "cell_type": "markdown",
      "metadata": {
        "id": "tdVnuMl2SvJ2"
      },
      "source": [
        "\n",
        "## (c)\n",
        "Spell out `Survived ~ Class + Sex` using indicator functions. "
      ]
    },
    {
      "cell_type": "markdown",
      "metadata": {
        "id": "ufO1o7hqmprK"
      },
      "source": [
        "## Exercise 4 (🐯): Interpreting logistic regression\n",
        "Interpreting the parameters of the logistic regression model is hard, but doable. We'll explore one way to do it in this exercise."
      ]
    },
    {
      "cell_type": "markdown",
      "metadata": {
        "id": "aZ4fpHS3ppVb"
      },
      "source": [
        "### (a)\n",
        "Simulate matrix $x$ containing $n = 1000000$ rows and $k = 4$ columns of uniformly distributed values, i.e., using `rng.random`."
      ]
    },
    {
      "cell_type": "markdown",
      "metadata": {
        "id": "GIQHC3sZqKXD"
      },
      "source": [
        "### (b)\n",
        "Let $\\beta$ be a parameter vector of your choice. Simulate \n",
        "$y = \\beta_0 + \\beta_1 x_1 + \\beta_2 x_2 + \\beta_3 x_3 + \\beta_3 x_4 + \\epsilon$. Here $\\epsilon$ should be distributed according to the logistic distribution. You can find the documentation for this distribution [online](https://numpy.org/doc/stable/reference/random/generated/numpy.random.logistic.html). (*Hint:* Use `x @ np.array(beta)` for your vector of parameters to make it easier on yourself.)"
      ]
    },
    {
      "cell_type": "markdown",
      "metadata": {
        "id": "tqbMmBQ_qjeS"
      },
      "source": [
        "### (c)\n",
        "Define the variable $z = 1[y \\geq 0]$. "
      ]
    },
    {
      "cell_type": "markdown",
      "metadata": {
        "id": "JwamOewfqwMy"
      },
      "source": [
        "### (d)\n",
        "Now run a logistic regression `z ~ x1 + x2 + x3 + x4` and look at the parameter values $\\beta$. What do you find?"
      ]
    },
    {
      "cell_type": "code",
      "metadata": {
        "colab": {
          "base_uri": "https://localhost:8080/",
          "height": 359
        },
        "id": "De0A8vVzq9Ys",
        "outputId": "dc9d3c8a-7143-4603-c82b-3135e0d0f8bf"
      },
      "source": [
        "import numpy as np\n",
        "import pandas as pd\n",
        "rng = np.random.default_rng(313)\n",
        "x = rng.random((1000000, 4))\n",
        "beta = [1, 2, 3, 4]\n",
        "y = x @ np.array(beta) + rng.logistic(size = 1000000)\n",
        "z = y >= 0\n",
        "df = pd.DataFrame(np.c_[x,y,z], columns = [\"x1\", \"x2\", \"x3\", \"x4\", \"y\", \"z\"])\n",
        "fit = smf.logit(\"z ~ x1 + x2 + x3 + x4\", data = df).fit()\n",
        "fit.summary()"
      ],
      "execution_count": 47,
      "outputs": [
        {
          "output_type": "stream",
          "name": "stdout",
          "text": [
            "Optimization terminated successfully.\n",
            "         Current function value: 0.077413\n",
            "         Iterations 9\n"
          ]
        },
        {
          "output_type": "execute_result",
          "data": {
            "text/html": [
              "<table class=\"simpletable\">\n",
              "<caption>Logit Regression Results</caption>\n",
              "<tr>\n",
              "  <th>Dep. Variable:</th>           <td>z</td>        <th>  No. Observations:  </th>  <td>1000000</td>\n",
              "</tr>\n",
              "<tr>\n",
              "  <th>Model:</th>                 <td>Logit</td>      <th>  Df Residuals:      </th>  <td>999995</td> \n",
              "</tr>\n",
              "<tr>\n",
              "  <th>Method:</th>                 <td>MLE</td>       <th>  Df Model:          </th>  <td>     4</td> \n",
              "</tr>\n",
              "<tr>\n",
              "  <th>Date:</th>            <td>Thu, 07 Oct 2021</td> <th>  Pseudo R-squ.:     </th>  <td>0.1838</td> \n",
              "</tr>\n",
              "<tr>\n",
              "  <th>Time:</th>                <td>12:28:24</td>     <th>  Log-Likelihood:    </th> <td> -77413.</td>\n",
              "</tr>\n",
              "<tr>\n",
              "  <th>converged:</th>             <td>True</td>       <th>  LL-Null:           </th> <td> -94846.</td>\n",
              "</tr>\n",
              "<tr>\n",
              "  <th>Covariance Type:</th>     <td>nonrobust</td>    <th>  LLR p-value:       </th>  <td> 0.000</td> \n",
              "</tr>\n",
              "</table>\n",
              "<table class=\"simpletable\">\n",
              "<tr>\n",
              "      <td></td>         <th>coef</th>     <th>std err</th>      <th>z</th>      <th>P>|z|</th>  <th>[0.025</th>    <th>0.975]</th>  \n",
              "</tr>\n",
              "<tr>\n",
              "  <th>Intercept</th> <td>    0.0599</td> <td>    0.022</td> <td>    2.713</td> <td> 0.007</td> <td>    0.017</td> <td>    0.103</td>\n",
              "</tr>\n",
              "<tr>\n",
              "  <th>x1</th>        <td>    0.9272</td> <td>    0.027</td> <td>   34.938</td> <td> 0.000</td> <td>    0.875</td> <td>    0.979</td>\n",
              "</tr>\n",
              "<tr>\n",
              "  <th>x2</th>        <td>    2.0055</td> <td>    0.028</td> <td>   71.139</td> <td> 0.000</td> <td>    1.950</td> <td>    2.061</td>\n",
              "</tr>\n",
              "<tr>\n",
              "  <th>x3</th>        <td>    2.9587</td> <td>    0.031</td> <td>   95.651</td> <td> 0.000</td> <td>    2.898</td> <td>    3.019</td>\n",
              "</tr>\n",
              "<tr>\n",
              "  <th>x4</th>        <td>    3.9837</td> <td>    0.035</td> <td>  114.055</td> <td> 0.000</td> <td>    3.915</td> <td>    4.052</td>\n",
              "</tr>\n",
              "</table>"
            ],
            "text/plain": [
              "<class 'statsmodels.iolib.summary.Summary'>\n",
              "\"\"\"\n",
              "                           Logit Regression Results                           \n",
              "==============================================================================\n",
              "Dep. Variable:                      z   No. Observations:              1000000\n",
              "Model:                          Logit   Df Residuals:                   999995\n",
              "Method:                           MLE   Df Model:                            4\n",
              "Date:                Thu, 07 Oct 2021   Pseudo R-squ.:                  0.1838\n",
              "Time:                        12:28:24   Log-Likelihood:                -77413.\n",
              "converged:                       True   LL-Null:                       -94846.\n",
              "Covariance Type:            nonrobust   LLR p-value:                     0.000\n",
              "==============================================================================\n",
              "                 coef    std err          z      P>|z|      [0.025      0.975]\n",
              "------------------------------------------------------------------------------\n",
              "Intercept      0.0599      0.022      2.713      0.007       0.017       0.103\n",
              "x1             0.9272      0.027     34.938      0.000       0.875       0.979\n",
              "x2             2.0055      0.028     71.139      0.000       1.950       2.061\n",
              "x3             2.9587      0.031     95.651      0.000       2.898       3.019\n",
              "x4             3.9837      0.035    114.055      0.000       3.915       4.052\n",
              "==============================================================================\n",
              "\"\"\""
            ]
          },
          "metadata": {},
          "execution_count": 47
        }
      ]
    }
  ]
}