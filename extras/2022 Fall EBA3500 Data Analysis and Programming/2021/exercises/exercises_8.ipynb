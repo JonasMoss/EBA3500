{
  "cells": [
    {
      "cell_type": "markdown",
      "metadata": {
        "id": "HXMhSDdGxife"
      },
      "source": [
        "# EBA3500 Exercises 8: Omnibus tests"
      ]
    },
    {
      "cell_type": "markdown",
      "metadata": {
        "id": "lUz44VRekoFB"
      },
      "source": [
        "## Exercise 1: $R^2$ without categorical variables\n",
        "We presented the distribution of $R^2$ in the context of categorical variables, but this is not necessary. The distribution\n",
        "$$\n",
        "R^2 \\sim \\textrm{Beta}\\left(\\frac{K-1}{2},\\frac{n-K}{2}\\right)\n",
        "$$\n",
        "is true whenever the responses are normal with no non-zero $\\beta$s for any covariates, i.e.,\n",
        "$$\n",
        "y = \\beta_0 + \\epsilon.\n",
        "$$\n",
        "### (a)\n",
        "Suppose $y = \\beta_0 + \\epsilon$ for a normal $\\epsilon$, and let $X_1,X_2,...,\n",
        "X_{100}$ be $100$ normal variables sampled independently of $y$. Let the number of categorical variables be $10$. For instance:\n"
      ]
    },
    {
      "cell_type": "code",
      "execution_count": 1,
      "metadata": {
        "id": "nhOeA7u8sFGA"
      },
      "outputs": [],
      "source": [
        "import numpy as np\n",
        "rng = np.random.default_rng(seed = 313)\n",
        "\n",
        "k = 10\n",
        "n = 100\n",
        "x = rng.normal(0, 1, (n, k))\n",
        "y = rng.normal(3, 2, n)"
      ]
    },
    {
      "cell_type": "markdown",
      "metadata": {
        "id": "JVBj9gYIskWQ"
      },
      "source": [
        "Now suppose you calculate the $R^2$ from the regression $y \\sim \\beta_0 + \\beta_1 x_1 + ... + \\beta_{100} x_{100}$. What is the distribution of $R^2$?"
      ]
    },
    {
      "cell_type": "markdown",
      "metadata": {
        "id": "AbQMhkqDszxP"
      },
      "source": [
        "### (b)\n",
        "By suitably modifying the code in the lecture notes, simulate the $R^2$ a total of `n_reps = 10 ** 4` times for the setup above, where `x` is kept fixed for each simulation. Make a histogram and plot the density of the theoretical density atop of it."
      ]
    },
    {
      "cell_type": "markdown",
      "metadata": {
        "id": "DoN_cb0otNPv"
      },
      "source": [
        "### (c)\n",
        "Now suppose that\n",
        "$$y = 1 + 2x_1 + \\epsilon$$\n",
        "where $\\epsilon$ and $x_1,...,x_{100}$ are normal with mean 0 and standard deviation $1$. Let $n = 100$, and simulate both `x` and `y` a total of `n_reps = 10 ** 4` times, and calculate the $R^2$ obtained from the regression\n",
        "$y \\sim \\beta_0 + \\beta_1 x_1 + ... + \\beta_{20} x_{20}$ for each iteration.\n",
        "\n",
        "Put the $R^2$s into a histogram. Add the Beta density that holds true under the null-hypothesis to the histogram. Does it fit well? Why, or why not?\n"
      ]
    },
    {
      "cell_type": "markdown",
      "metadata": {
        "id": "1yTxLam0sEGR"
      },
      "source": [
        "\n",
        "\n",
        "## Exercise 2: $R^2$ and $F$\n",
        "Remember that \n",
        "$$\n",
        "F(R^2) = \\frac{n-K}{K-1}\\frac{R^{2}}{1-R^{2}},\n",
        "$$\n",
        "where $n$ is the number of observations and $K$ the number of categories.\n",
        "Keeping $n$ and $K$ fixed, $F$ is a *bijection* between $[0,1]$ and $[0,\\infty)$. This means that there is a unique function $F^{-1}$ so that $F^{-1}(F(x)) = x$ for all $x\\in [0,1]$.\n",
        "\n",
        "### (a)\n",
        "Show that $F^{-1}(x) = \\frac{x}{\\frac{n-K}{K-1}+x}$.\n",
        "\n",
        "### (b)\n",
        "Suppose $n = 100$ and $K=6$, and suppose $F = 230$. Can you deduce what $R^2$ is? If so, what is it?\n",
        "\n",
        "### (c)\n",
        "Assume $n>K>1$. For what values of $R^2$ is $F=0$?\n"
      ]
    },
    {
      "cell_type": "markdown",
      "metadata": {
        "id": "YPx5j-Kpufll"
      },
      "source": [
        "\n",
        "## Exercise 3: Simulating with different errors\n"
      ]
    },
    {
      "cell_type": "markdown",
      "metadata": {
        "id": "rlBbP8_ruhW3"
      },
      "source": [
        "### (a) Simulation function\n",
        "Make a function `rsq_sim` that takes `n, x, n_reps, error` as input, then does\n",
        "the following `n_reps` times.\n",
        "1. Lets `y` be `n` observations from `error`, a function that takes `n` as its first positional argument,\n",
        "3. Estimates the regression model `y ~ x1 + x2 + x3 ... x[K]`, where $K$ is the number of columns in a dataframe `x`,\n",
        "4. Calculates the $R^2$ for said model.\n",
        "\n",
        "The function should return an array containing `n_reps` $R^2$ values."
      ]
    },
    {
      "cell_type": "code",
      "execution_count": null,
      "metadata": {
        "id": "2PE3wiD5u3vp"
      },
      "outputs": [],
      "source": [
        "def rsq_sim(n, x, n_reps, error):"
      ]
    },
    {
      "cell_type": "markdown",
      "metadata": {
        "id": "wX5HVaP_wAn3"
      },
      "source": [
        "### (b) Trying out error terms\n",
        "Let $n = 20, K = 6$, and generate a fixed `x` with $K$ columns. Run `rsq_sim` for the following errors:\n",
        "1. `lambda n: rng.normal(0, 1, n)`\n",
        "2. `lambda n: rng.exponential(1, n)`\n",
        "3. `lambda n: rng.geometric(0.5, n)`\n",
        "4. `lambda n: rng.standard_t(3, n)`\n"
      ]
    },
    {
      "cell_type": "markdown",
      "metadata": {
        "id": "VTv3oxcPxFOO"
      },
      "source": [
        "### (c) Plotting\n",
        "Plot histograms for the data in the previous exercise in a facet grid and overlay the theoretical Beta distribution."
      ]
    }
  ],
  "metadata": {
    "colab": {
      "collapsed_sections": [],
      "name": "EBA3500-exercises-8",
      "provenance": []
    },
    "kernelspec": {
      "display_name": "Python 3",
      "name": "python3"
    },
    "language_info": {
      "name": "python"
    }
  },
  "nbformat": 4,
  "nbformat_minor": 0
}
