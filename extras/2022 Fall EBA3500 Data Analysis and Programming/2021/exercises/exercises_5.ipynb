{
  "nbformat": 4,
  "nbformat_minor": 0,
  "metadata": {
    "colab": {
      "name": "EBA3500-exercises-5",
      "provenance": [],
      "collapsed_sections": [],
      "toc_visible": true
    },
    "kernelspec": {
      "name": "python3",
      "display_name": "Python 3"
    },
    "language_info": {
      "name": "python"
    }
  },
  "cells": [
    {
      "cell_type": "markdown",
      "metadata": {
        "id": "lTM8inK2F84U"
      },
      "source": [
        "# EBA3500 Exercises 5"
      ]
    },
    {
      "cell_type": "markdown",
      "metadata": {
        "id": "NAcaWTfit3Vg"
      },
      "source": [
        "## 1: Review exercises\n",
        "\n",
        "1.   What are the two interpretations of the coefficients in a multiple linear regression model?\n",
        "2.   What is the difference between $\\hat{\\beta_i}$ and $\\beta_i$?\n",
        "3.   Why is the quadratic regression $y = \\beta_0 + \\beta_1x + \\beta_2x^2$ considered linear?\n",
        "4.   What can you do with `itertools.product` and `zip`?\n",
        "5.   Given a datafram `df`, how do you make a bunch of scatterplots for all the\n",
        "     variables in `df`?\n",
        "6.   What do you call the geometric shape defined by $z = a + bx + cy$?\n"
      ]
    },
    {
      "cell_type": "markdown",
      "metadata": {
        "id": "nH4pMpCiu_0h"
      },
      "source": [
        "## 2: Using tools from Python `zip`, `enumerate`, `product`, and `yield`\n"
      ]
    },
    {
      "cell_type": "markdown",
      "metadata": {
        "id": "5E_zMSi_wWjm"
      },
      "source": [
        "\n",
        "### (a) `zip`\n",
        "Write your own, simple, implementation of `zip`. It should take two iterables `iters*` and return the their \"zipped\" variant. You're allowed to transform the iterators into lists first. (*Hint*: If you don't know tuples, take a look at the documentation!)\n",
        "\n",
        "Be aware that the original `zip` function can take any number of iterables, not just two, and does not transform them to lists first!\n"
      ]
    },
    {
      "cell_type": "code",
      "metadata": {
        "id": "sWu-fc_vwZY5"
      },
      "source": [
        "def my_zip(iterable_1, iterable_2):\n",
        "  # fill in\n",
        "  return zipped"
      ],
      "execution_count": 2,
      "outputs": []
    },
    {
      "cell_type": "markdown",
      "metadata": {
        "id": "1_gvPXGewXfA"
      },
      "source": [
        "\n",
        "### (b) `enumerate`\n",
        "Find the documentation for the function `enumerate` online, the write your own\n",
        "`my_enumerate` function that does the same. You're allowed to turn the iterable into a lists. (*Hint*: Can you use `zip` for\n",
        "this?) \n"
      ]
    },
    {
      "cell_type": "code",
      "metadata": {
        "id": "gVnKfWVxxQji"
      },
      "source": [
        "def my_enumerate(iterable, start = 0):\n",
        "  # fill in"
      ],
      "execution_count": null,
      "outputs": []
    },
    {
      "cell_type": "markdown",
      "metadata": {
        "id": "3yGKvKAyFM8k"
      },
      "source": [
        "### (c) The `product`function\n",
        "Implement your own product function for two lists. (*Hint*: Consider nested for loops, as in the example below.)"
      ]
    },
    {
      "cell_type": "code",
      "metadata": {
        "id": "bCDVVbp0FMen"
      },
      "source": [
        "def my_product(list_1, list2):\n",
        "  # fill in\n",
        "  product_list = []\n",
        "  for i in ?:\n",
        "    for j in ?:\n",
        "      \n"
      ],
      "execution_count": null,
      "outputs": []
    },
    {
      "cell_type": "markdown",
      "metadata": {
        "id": "yjOFwBsGxPzJ"
      },
      "source": [
        "\n",
        "### (c) The `yield` keyword\n",
        "\n",
        "Python is built around the concept of iterators. An iterator is an object you can use in a for loop, i.e., `for a in iter:` makes sense. An iterator can be, for instance, a list. But it doesn't have to be. Iterators such as `range` aren't lists, as they generate their values on the fly. That is, `range(100)` doesn't actually store `[0, ..., 99]` in memory. Instead it keeps track of the previous number it returned, and the next time it is called, it resumes execution from the point it was last time.\n",
        "\n",
        "Consider the following piece of code:"
      ]
    },
    {
      "cell_type": "code",
      "metadata": {
        "id": "mgftgzS_z5d7"
      },
      "source": [
        "def my_range(n):\n",
        "  i = 0\n",
        "  while i < n:\n",
        "    yield i\n",
        "    i += 1"
      ],
      "execution_count": 5,
      "outputs": []
    },
    {
      "cell_type": "markdown",
      "metadata": {
        "id": "SZamSyEk06Nk"
      },
      "source": [
        "The `yield` keyword works roughly as follows: When the code inside the function reaches a `yield`, it returns the value to its right, then stops execution. But unlike a normal function, it keeps its internal state. That is, when a `my_range(n)` object `yields`, it still knows what `n` it was originally given.\n",
        "Let's run `my_range` and see what happens."
      ]
    },
    {
      "cell_type": "code",
      "metadata": {
        "colab": {
          "base_uri": "https://localhost:8080/"
        },
        "id": "ODvjzDav0GwB",
        "outputId": "63e8b1ea-8385-47d3-f6a7-df6a9bf44ecf"
      },
      "source": [
        "my_range(10)"
      ],
      "execution_count": 6,
      "outputs": [
        {
          "output_type": "execute_result",
          "data": {
            "text/plain": [
              "<generator object my_range at 0x7fa25fdad9d0>"
            ]
          },
          "metadata": {},
          "execution_count": 6
        }
      ]
    },
    {
      "cell_type": "markdown",
      "metadata": {
        "id": "EKEqLvCh0-HR"
      },
      "source": [
        "We can use `list` on the `my_range(10)` object to get a list."
      ]
    },
    {
      "cell_type": "code",
      "metadata": {
        "colab": {
          "base_uri": "https://localhost:8080/"
        },
        "id": "8fQyMQzW0IAh",
        "outputId": "1f1bf189-0d4e-468b-81b5-d20e0ae790de"
      },
      "source": [
        "list(my_range(10))"
      ],
      "execution_count": 7,
      "outputs": [
        {
          "output_type": "execute_result",
          "data": {
            "text/plain": [
              "[0, 1, 2, 3, 4, 5, 6, 7, 8, 9]"
            ]
          },
          "metadata": {},
          "execution_count": 7
        }
      ]
    },
    {
      "cell_type": "markdown",
      "metadata": {
        "id": "fvllSZFo1rNz"
      },
      "source": [
        "Let's look at a slight modification:"
      ]
    },
    {
      "cell_type": "code",
      "metadata": {
        "id": "1GkQCtAY22da"
      },
      "source": [
        "def my_range_squared(n):\n",
        "  i = 0\n",
        "  while i < n:\n",
        "    yield i ** 2\n",
        "    i += 1\n"
      ],
      "execution_count": 13,
      "outputs": []
    },
    {
      "cell_type": "code",
      "metadata": {
        "colab": {
          "base_uri": "https://localhost:8080/"
        },
        "id": "_PVCrRGM28lq",
        "outputId": "1ac9ad10-755f-42b2-ca65-482900053aad"
      },
      "source": [
        "[i for i in my_range_2(10)]"
      ],
      "execution_count": 12,
      "outputs": [
        {
          "output_type": "execute_result",
          "data": {
            "text/plain": [
              "[0, 1, 4, 9, 16, 25, 36, 49, 64, 81]"
            ]
          },
          "metadata": {},
          "execution_count": 12
        }
      ]
    },
    {
      "cell_type": "markdown",
      "metadata": {
        "id": "jmry1kJi3DLa"
      },
      "source": [
        "The `yield` keyword, generators, and iterators is difficult stuff, but is unavoidable if you want to master Python. For instance `zip` and `enumerate` accepts iterators. You unwittingly use the iterator and generator machinery all the time when using Python, and you may have to write your own at some point.\n",
        "\n",
        "Finally, Python has generator comprehensions. They work exactly like list comprehensions, but instead of returning lists, they return generators. "
      ]
    },
    {
      "cell_type": "markdown",
      "metadata": {
        "id": "N13rgeAF3eZr"
      },
      "source": [
        "#### (i) Another generator\n",
        "Write the function `my_range_f(n, f)` using `my_range` as a template. Its `f` argument is a function, and `my_range_f(n, f)` should like like `(f(i) for i in range(n))`. That is, it returns a generator that generates `f(0)`, `f(1)`, and so on."
      ]
    },
    {
      "cell_type": "markdown",
      "metadata": {
        "id": "AZdYEVTV4tZC"
      },
      "source": [
        "#### (ii) Infinite generators\n",
        "Modify `my_range(n)` into `my_range_inf()`. The function should take no arguments, and the `while` loop should run indefinitely. Why doesn't this cause an infinite loop? What happens when you call `list(zip([1,2,3], my_range_inf()))`?"
      ]
    },
    {
      "cell_type": "markdown",
      "metadata": {
        "id": "Whkismv75oHd"
      },
      "source": [
        "## 3: Multiple linear regression"
      ]
    },
    {
      "cell_type": "markdown",
      "metadata": {
        "id": "tQvTlHER6-qb"
      },
      "source": [
        "### (a) Import and visualize data\n",
        "In the previous lecture we looked at some admission data in the context of logistic regression. We'll take a look at it again. First import the file at the url `\"https://stats.idre.ucla.edu/stat/data/binary.csv\"` into the `admission` data frame. Then do the three things I advice you to do when analyzing data. Write down the most important features of the data."
      ]
    },
    {
      "cell_type": "markdown",
      "metadata": {
        "id": "Bgzstt3U7uib"
      },
      "source": [
        "### (b) Predict the GRE score\n",
        "Run an multiple linear regression to predict the `gre` variable using `statsmodels.formula.api`. Comment on the results. How does the $R^2$ compare to the simple linear regression models?"
      ]
    },
    {
      "cell_type": "markdown",
      "metadata": {
        "id": "Y2Q4ZUPv9C3c"
      },
      "source": [
        "### (c) Two dimensional models\n",
        "The variable `rank` appears unimportant. So run the regression with two covariates `gre ~ admit + gpa`. Plot a plane for this model, and make residual plots."
      ]
    },
    {
      "cell_type": "markdown",
      "metadata": {
        "id": "JGe8jLXo9h-K"
      },
      "source": [
        "### (d) Transformations\n",
        "Try out a couple of transformations such as `np.log` and `x**2` on the `gpa` variable. Are you able to find any better models?"
      ]
    },
    {
      "cell_type": "markdown",
      "metadata": {
        "id": "OaSD0QJv5xdi"
      },
      "source": [
        "## 4: Quadratic regression: Bullshit\n",
        "\n",
        "1. Download and import the dataset at https://gist.github.com/JonasMoss/7026e93bae8a969f3736541b8ddd2ed5 (a modified version of https://osf.io/qwzyb/)\n",
        "2. Plot and investigate the dataset.\n",
        "3. Is there a *U*-shape present in the data? Why would anyone think so?"
      ]
    }
  ]
}