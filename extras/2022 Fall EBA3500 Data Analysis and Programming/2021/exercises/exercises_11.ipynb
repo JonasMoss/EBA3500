{
  "cells": [
    {
      "cell_type": "markdown",
      "metadata": {
        "id": "HXMhSDdGxife"
      },
      "source": [
        "# EBA3500 Exercises 11: Expectation, consistency, and the adjusted $R^2$"
      ]
    },
    {
      "cell_type": "markdown",
      "metadata": {},
      "source": [
        "## Difficulty classifications\n",
        "* 🐇: Should be very easy for everyone.\n",
        "* 🐖: Should be very easy for some, but harder for others.\n",
        "* 🦢: Should demand some work to finish.\n",
        "* 🐅: A challenge exercise that isn't strictly part of the curriculum. "
      ]
    },
    {
      "cell_type": "markdown",
      "metadata": {},
      "source": [
        "## Exercise 1: Unbiased estimation"
      ]
    },
    {
      "cell_type": "markdown",
      "metadata": {},
      "source": [
        "### (a) (🐖)\n",
        "Show that the sample mean, $\\frac{1}{n}\\sum_i x_i$, is unbiased for the $E(X)$. (**Hint:** Linearity of expectation.)"
      ]
    },
    {
      "cell_type": "markdown",
      "metadata": {},
      "source": [
        "### (b) (🦢)\n",
        "The median is sometimes biased, sometimes not. Using the `np.median` function, write a simulation checking if the median estimator is unbiased for the normal distribution with mean $\\mu$ and standard deviation $1$, and the exponential distribution with parameter $\\lambda$. You may use that:\n",
        "\n",
        "1. The median of a normal distribution equals its mean.\n",
        "2. The median of an exponential distribution with parameter $\\lambda$ equals $\\frac{1}{\\lambda} \\log 2$."
      ]
    },
    {
      "cell_type": "markdown",
      "metadata": {},
      "source": [
        "### (c) (🐅) (For those who know how to integrate!)\n",
        "Let $U$ be uniform, which implies that the probability density function of $U$ is $p(u) = 1$. Calculate the expectation of $-\\log U$. (**Hint:** Either (i) ise integration by parts on $-\\int 1\\cdot\\log u du$, or (ii) use the substitution $x = \\log u$ and a more obvious integration by parts.)"
      ]
    },
    {
      "cell_type": "markdown",
      "metadata": {},
      "source": [
        "### (d) (🐅) \n",
        "The expected sample median of the exponential distribution has a closed form. Use for instance [this](https://math.stackexchange.com/questions/80475/order-statistics-of-i-i-d-exponentially-distributed-sample) answer to deduce it, and compare it to the result in exercise (b). (**Note:** The exponential distribution is unusually well-behaved. Don't expect to find closed form solutions for the expected sample medians for general non-symmetric distributions.)"
      ]
    },
    {
      "cell_type": "markdown",
      "metadata": {},
      "source": [
        "## Exercise 2: The unbiased sample variance estimator"
      ]
    },
    {
      "cell_type": "markdown",
      "metadata": {},
      "source": [
        "We will show that $S^2 = \\frac{1}{n-1}\\sum_{i=1}^n (X_i - \\overline{X})^2$ is an unbiased estimator of $\\textrm{Var}X = E(X^2) - (EX)^2$ provided the *covariance*, i.e., $$\\textrm{Cov}(X_i, X_j) = E(X_i X_j) - E X_i E X_j = 0.$$\n",
        "We will assume the variables are independent, which implies that $E(X_i) = E(X)$ and $E(X_i^2) = E(X^2)$ for all $i$.\n",
        "\n",
        "**To make calculations easier, we will assume that $E(X_i) = 0$.**"
      ]
    },
    {
      "cell_type": "markdown",
      "metadata": {},
      "source": [
        "### (a) (🐇)\n",
        "Show that \n",
        "$$(X_{i}-\\frac{1}{n}\\sum_{i=1}^{n}X_{i})^{2}=X_{i}^{2}-\\frac{2}{n}X_{i}\\left(\\sum_{i=1}^{n}X_{i}\\right)+\\frac{1}{n^{2}}\\left(\\sum_{i=1}^{n}X_{i}\\right)^{2}.$$\n"
      ]
    },
    {
      "cell_type": "markdown",
      "metadata": {},
      "source": [
        "### (b) (🐇)\n",
        "Deduce that\n",
        "$$(n-1)S^2 = \\sum_{i=1}^{n}X_{i}^{2}-\\frac{2}{n}(\\sum_{i=1}^{n}X_{i})^{2}+\\frac{1}{n}(\\sum_{i=1}^{n}X_{i})^{2}\n",
        "\n",
        "=\\sum_{i=1}^{n}X_{i}^{2}-\\frac{1}{n}(\\sum_{i=1}^{n}X_{i})^{2}.$$\n"
      ]
    },
    {
      "cell_type": "markdown",
      "metadata": {},
      "source": [
        "### (c) (🐖)\n",
        "Show that $(\\sum_{i=1}^{n}X_{i})^{2}=\\sum_{i=1}^{n}\\sum_{j=1}^{n}X_{i}X_{j}.$\n",
        "\n",
        "Deduce that $$(\\sum_{i=1}^{n}X_{i})^{2} =\\sum_{i=1}^{n}X_{i}^{2}+\\sum_{i=1}^{n}\\sum_{j\\neq i}X_{i}X_{j}.$$ "
      ]
    },
    {
      "cell_type": "markdown",
      "metadata": {},
      "source": [
        "### (d) (🐖)\n",
        "Show that $E[\\frac{1}{n}\\sum_{i=1}^n X_{i}^{\\alpha}]=E[X_{i}^{\\alpha}]$ for any $\\alpha$. Use this to simplify $E[\\sum_{i=1}^{n}X_{i}^{2}]$. Moreover, explain why $E[\\sum_{i=1}^{n}\\sum_{j\\neq i}X_{i}X_{j}] = 0$."
      ]
    },
    {
      "cell_type": "markdown",
      "metadata": {},
      "source": [
        "### (e) (🐖)\n",
        "Finish the argument that $ES^2 = \\textrm{Var}(X)$."
      ]
    },
    {
      "cell_type": "markdown",
      "metadata": {},
      "source": [
        "## Exercise 3: Adjusted $R^2$"
      ]
    },
    {
      "cell_type": "markdown",
      "metadata": {},
      "source": [
        "### (a) (🐇) Plotting a function\n",
        "For $n = 10, 50, 100, 1000, 10000$, plot the function $E(R^2) = (k-1)/(n-1)$ for $k=1,...n$. Interpret the plots."
      ]
    },
    {
      "cell_type": "markdown",
      "metadata": {},
      "source": [
        "### (b) (🐖) Variance of the $R^2$\n",
        "Suppose the true population $R^2$ is equal to $0$. Calculate the variance of the population $R^2$. Plot the variance function, just as you did for $E(R^2)$ in the previous exercise.  (**Hint:** What is the distribution of $R^2$ under this assumption?)"
      ]
    },
    {
      "cell_type": "markdown",
      "metadata": {},
      "source": [
        "### (c) (🐖) Simulation function, take 1\n",
        "Consider the regression setup in the lecture, where all the $\\beta_i$ coefficients are $0$"
      ]
    },
    {
      "cell_type": "code",
      "execution_count": 1,
      "metadata": {},
      "outputs": [],
      "source": [
        "import numpy as np\n",
        "rng = np.random.default_rng(seed = 313)\n",
        "p = 10\n",
        "n = 100\n",
        "x = rng.normal(0, 1, (n, p))\n",
        "y = rng.normal(3, 2, n)"
      ]
    },
    {
      "cell_type": "markdown",
      "metadata": {},
      "source": [
        "Make a function that simulates the distribution of the $R^2$ and the adjusted $R^2$ when $x$ is kept fixed across simulations and $y$ is independent of $x$."
      ]
    },
    {
      "cell_type": "code",
      "execution_count": null,
      "metadata": {},
      "outputs": [],
      "source": [
        "def rsqs(n, p, n_reps):\n",
        "    \"\"\" document! \"\"\"\n",
        "    x = rng.normal(0, 1, (n, p))\n",
        "    # simulate rsqs and adjusted rsqs\n",
        "    return {adjusted_rsq: , rsq:}"
      ]
    },
    {
      "cell_type": "markdown",
      "metadata": {},
      "source": [
        "### (d) (🐖) Comparing the $R^2$ values\n",
        "Make a function that makes histograms of the simulated $R^2$ values from the previous function. "
      ]
    },
    {
      "cell_type": "markdown",
      "metadata": {},
      "source": [
        "### (e) (🐖) Simulate.\n",
        "For a reasonable selection of $p$ and $n$, simulate the $R^2$ and plot them in a nice way. Does the adjusted $R^2$ appear to be unbiased?"
      ]
    },
    {
      "cell_type": "markdown",
      "metadata": {},
      "source": [
        "### (d) (🦢) Simulation function, take 2\n",
        "Modify the function in (c) to take a `beta` vector of regression coefficients. Then do the same as in (d - e).\n"
      ]
    }
  ],
  "metadata": {
    "colab": {
      "collapsed_sections": [],
      "name": "EBA3500-exercises-8",
      "provenance": []
    },
    "interpreter": {
      "hash": "8214f72d23884c802e2dc6bec8e87b93e644d7518e94910628cfbca0d96cb336"
    },
    "kernelspec": {
      "display_name": "Python 3.9.7 64-bit (windows store)",
      "name": "python3"
    },
    "language_info": {
      "codemirror_mode": {
        "name": "ipython",
        "version": 3
      },
      "file_extension": ".py",
      "mimetype": "text/x-python",
      "name": "python",
      "nbconvert_exporter": "python",
      "pygments_lexer": "ipython3",
      "version": "3.9.7"
    }
  },
  "nbformat": 4,
  "nbformat_minor": 0
}
