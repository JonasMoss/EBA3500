{
  "cells": [
    {
      "cell_type": "markdown",
      "metadata": {
        "id": "cXdeN6tD7Z7S"
      },
      "source": [
        "# EBA3500 Lecture 8. Omnibus tests."
      ]
    },
    {
      "cell_type": "markdown",
      "metadata": {
        "id": "O2HOse_gXgvM"
      },
      "source": [
        "We'll use the `titanic` data set once again. "
      ]
    },
    {
      "cell_type": "code",
      "execution_count": 142,
      "metadata": {
        "colab": {
          "base_uri": "https://localhost:8080/"
        },
        "id": "tvmWAYTEXQ4x",
        "outputId": "16873284-fe5e-4763-b0bf-c8dcf1f3932e"
      },
      "outputs": [
        {
          "name": "stdout",
          "output_type": "stream",
          "text": [
            "Requirement already satisfied: pyreadr in /usr/local/lib/python3.7/dist-packages (0.4.2)\n",
            "Requirement already satisfied: pandas>0.24.0 in /usr/local/lib/python3.7/dist-packages (from pyreadr) (1.1.5)\n",
            "Requirement already satisfied: pytz>=2017.2 in /usr/local/lib/python3.7/dist-packages (from pandas>0.24.0->pyreadr) (2018.9)\n",
            "Requirement already satisfied: numpy>=1.15.4 in /usr/local/lib/python3.7/dist-packages (from pandas>0.24.0->pyreadr) (1.19.5)\n",
            "Requirement already satisfied: python-dateutil>=2.7.3 in /usr/local/lib/python3.7/dist-packages (from pandas>0.24.0->pyreadr) (2.8.2)\n",
            "Requirement already satisfied: six>=1.5 in /usr/local/lib/python3.7/dist-packages (from python-dateutil>=2.7.3->pandas>0.24.0->pyreadr) (1.15.0)\n"
          ]
        }
      ],
      "source": [
        "!pip install pyreadr\n",
        "import pyreadr, os, pathlib\n",
        "\n",
        "def pyreadr_load(url, local_file = \"temp_pyreadr.rda\"):\n",
        "  \"\"\"Download the R dataset at the specified url into local_file, load the \n",
        "  local file, delete the local file. Return the dataset.\"\"\"\n",
        "  \n",
        "  file_name = pyreadr.download_file(url, local_file)\n",
        "  dataframe = pyreadr.read_r(file_name)\n",
        "  os.remove(str(pathlib.Path().resolve()) + \"/\" + file_name)\n",
        "  name = next(iter(dataframe.items()))[0]\n",
        "  return dataframe[name]"
      ]
    },
    {
      "cell_type": "code",
      "execution_count": 143,
      "metadata": {
        "colab": {
          "base_uri": "https://localhost:8080/",
          "height": 203
        },
        "id": "fmxEl8P6XR_3",
        "outputId": "3d875229-140e-4170-f470-dacf1e028419"
      },
      "outputs": [
        {
          "data": {
            "text/html": [
              "<div>\n",
              "<style scoped>\n",
              "    .dataframe tbody tr th:only-of-type {\n",
              "        vertical-align: middle;\n",
              "    }\n",
              "\n",
              "    .dataframe tbody tr th {\n",
              "        vertical-align: top;\n",
              "    }\n",
              "\n",
              "    .dataframe thead th {\n",
              "        text-align: right;\n",
              "    }\n",
              "</style>\n",
              "<table border=\"1\" class=\"dataframe\">\n",
              "  <thead>\n",
              "    <tr style=\"text-align: right;\">\n",
              "      <th></th>\n",
              "      <th>Class</th>\n",
              "      <th>Sex</th>\n",
              "      <th>Age</th>\n",
              "      <th>Survived</th>\n",
              "    </tr>\n",
              "  </thead>\n",
              "  <tbody>\n",
              "    <tr>\n",
              "      <th>0</th>\n",
              "      <td>3rd</td>\n",
              "      <td>Male</td>\n",
              "      <td>Child</td>\n",
              "      <td>No</td>\n",
              "    </tr>\n",
              "    <tr>\n",
              "      <th>1</th>\n",
              "      <td>3rd</td>\n",
              "      <td>Male</td>\n",
              "      <td>Child</td>\n",
              "      <td>No</td>\n",
              "    </tr>\n",
              "    <tr>\n",
              "      <th>2</th>\n",
              "      <td>3rd</td>\n",
              "      <td>Male</td>\n",
              "      <td>Child</td>\n",
              "      <td>No</td>\n",
              "    </tr>\n",
              "    <tr>\n",
              "      <th>3</th>\n",
              "      <td>3rd</td>\n",
              "      <td>Male</td>\n",
              "      <td>Child</td>\n",
              "      <td>No</td>\n",
              "    </tr>\n",
              "    <tr>\n",
              "      <th>4</th>\n",
              "      <td>3rd</td>\n",
              "      <td>Male</td>\n",
              "      <td>Child</td>\n",
              "      <td>No</td>\n",
              "    </tr>\n",
              "  </tbody>\n",
              "</table>\n",
              "</div>"
            ],
            "text/plain": [
              "  Class   Sex    Age Survived\n",
              "0   3rd  Male  Child       No\n",
              "1   3rd  Male  Child       No\n",
              "2   3rd  Male  Child       No\n",
              "3   3rd  Male  Child       No\n",
              "4   3rd  Male  Child       No"
            ]
          },
          "execution_count": 143,
          "metadata": {},
          "output_type": "execute_result"
        }
      ],
      "source": [
        "url = 'https://github.com/kassambara/datarium/blob/master/data/titanic.raw.rda?raw=true'\n",
        "titanic = pyreadr_load(url)\n",
        "titanic.head()"
      ]
    },
    {
      "cell_type": "markdown",
      "metadata": {
        "id": "L7FeeOmP-iHp"
      },
      "source": [
        "## The omnibus test"
      ]
    },
    {
      "cell_type": "markdown",
      "metadata": {
        "id": "w_FXd3JZ-2hx"
      },
      "source": [
        "Omnibus sounds scary, but is latin for \"all\". It also an archaic way of saying \"bus\"."
      ]
    },
    {
      "cell_type": "markdown",
      "metadata": {
        "id": "ol5EPZPm-0rZ"
      },
      "source": [
        "Recall the Titanic data. How can we test if there is a real difference in survival between the sexes? Easy, we run a *t*-test. Equivalently, we run a linear regression and look at the *p*-value of one of the category not in the baseline."
      ]
    },
    {
      "cell_type": "code",
      "execution_count": 144,
      "metadata": {
        "id": "WwoX21eGCRum"
      },
      "outputs": [],
      "source": [
        "titanic[\"Survived_01\"] = 1 * (titanic.Survived == \"Yes\")"
      ]
    },
    {
      "cell_type": "code",
      "execution_count": 145,
      "metadata": {
        "colab": {
          "base_uri": "https://localhost:8080/",
          "height": 418
        },
        "id": "UnazIIOyBrfO",
        "outputId": "478c3724-1b0b-43fc-de9b-beb256717bde"
      },
      "outputs": [
        {
          "data": {
            "text/html": [
              "<div>\n",
              "<style scoped>\n",
              "    .dataframe tbody tr th:only-of-type {\n",
              "        vertical-align: middle;\n",
              "    }\n",
              "\n",
              "    .dataframe tbody tr th {\n",
              "        vertical-align: top;\n",
              "    }\n",
              "\n",
              "    .dataframe thead th {\n",
              "        text-align: right;\n",
              "    }\n",
              "</style>\n",
              "<table border=\"1\" class=\"dataframe\">\n",
              "  <thead>\n",
              "    <tr style=\"text-align: right;\">\n",
              "      <th></th>\n",
              "      <th>Class</th>\n",
              "      <th>Sex</th>\n",
              "      <th>Age</th>\n",
              "      <th>Survived</th>\n",
              "      <th>Survived_01</th>\n",
              "    </tr>\n",
              "  </thead>\n",
              "  <tbody>\n",
              "    <tr>\n",
              "      <th>35</th>\n",
              "      <td>3rd</td>\n",
              "      <td>Female</td>\n",
              "      <td>Child</td>\n",
              "      <td>No</td>\n",
              "      <td>0</td>\n",
              "    </tr>\n",
              "    <tr>\n",
              "      <th>36</th>\n",
              "      <td>3rd</td>\n",
              "      <td>Female</td>\n",
              "      <td>Child</td>\n",
              "      <td>No</td>\n",
              "      <td>0</td>\n",
              "    </tr>\n",
              "    <tr>\n",
              "      <th>37</th>\n",
              "      <td>3rd</td>\n",
              "      <td>Female</td>\n",
              "      <td>Child</td>\n",
              "      <td>No</td>\n",
              "      <td>0</td>\n",
              "    </tr>\n",
              "    <tr>\n",
              "      <th>38</th>\n",
              "      <td>3rd</td>\n",
              "      <td>Female</td>\n",
              "      <td>Child</td>\n",
              "      <td>No</td>\n",
              "      <td>0</td>\n",
              "    </tr>\n",
              "    <tr>\n",
              "      <th>39</th>\n",
              "      <td>3rd</td>\n",
              "      <td>Female</td>\n",
              "      <td>Child</td>\n",
              "      <td>No</td>\n",
              "      <td>0</td>\n",
              "    </tr>\n",
              "    <tr>\n",
              "      <th>...</th>\n",
              "      <td>...</td>\n",
              "      <td>...</td>\n",
              "      <td>...</td>\n",
              "      <td>...</td>\n",
              "      <td>...</td>\n",
              "    </tr>\n",
              "    <tr>\n",
              "      <th>2196</th>\n",
              "      <td>Crew</td>\n",
              "      <td>Female</td>\n",
              "      <td>Adult</td>\n",
              "      <td>Yes</td>\n",
              "      <td>1</td>\n",
              "    </tr>\n",
              "    <tr>\n",
              "      <th>2197</th>\n",
              "      <td>Crew</td>\n",
              "      <td>Female</td>\n",
              "      <td>Adult</td>\n",
              "      <td>Yes</td>\n",
              "      <td>1</td>\n",
              "    </tr>\n",
              "    <tr>\n",
              "      <th>2198</th>\n",
              "      <td>Crew</td>\n",
              "      <td>Female</td>\n",
              "      <td>Adult</td>\n",
              "      <td>Yes</td>\n",
              "      <td>1</td>\n",
              "    </tr>\n",
              "    <tr>\n",
              "      <th>2199</th>\n",
              "      <td>Crew</td>\n",
              "      <td>Female</td>\n",
              "      <td>Adult</td>\n",
              "      <td>Yes</td>\n",
              "      <td>1</td>\n",
              "    </tr>\n",
              "    <tr>\n",
              "      <th>2200</th>\n",
              "      <td>Crew</td>\n",
              "      <td>Female</td>\n",
              "      <td>Adult</td>\n",
              "      <td>Yes</td>\n",
              "      <td>1</td>\n",
              "    </tr>\n",
              "  </tbody>\n",
              "</table>\n",
              "<p>470 rows × 5 columns</p>\n",
              "</div>"
            ],
            "text/plain": [
              "     Class     Sex    Age Survived  Survived_01\n",
              "35     3rd  Female  Child       No            0\n",
              "36     3rd  Female  Child       No            0\n",
              "37     3rd  Female  Child       No            0\n",
              "38     3rd  Female  Child       No            0\n",
              "39     3rd  Female  Child       No            0\n",
              "...    ...     ...    ...      ...          ...\n",
              "2196  Crew  Female  Adult      Yes            1\n",
              "2197  Crew  Female  Adult      Yes            1\n",
              "2198  Crew  Female  Adult      Yes            1\n",
              "2199  Crew  Female  Adult      Yes            1\n",
              "2200  Crew  Female  Adult      Yes            1\n",
              "\n",
              "[470 rows x 5 columns]"
            ]
          },
          "execution_count": 145,
          "metadata": {},
          "output_type": "execute_result"
        }
      ],
      "source": [
        "x = titanic[titanic[\"Sex\"] == \"Female\"]\n",
        "x"
      ]
    },
    {
      "cell_type": "code",
      "execution_count": 146,
      "metadata": {
        "colab": {
          "base_uri": "https://localhost:8080/",
          "height": 418
        },
        "id": "4oziWqa8CYDs",
        "outputId": "6fc68078-b1fb-43d9-8d5a-1d895e98ba24"
      },
      "outputs": [
        {
          "data": {
            "text/html": [
              "<div>\n",
              "<style scoped>\n",
              "    .dataframe tbody tr th:only-of-type {\n",
              "        vertical-align: middle;\n",
              "    }\n",
              "\n",
              "    .dataframe tbody tr th {\n",
              "        vertical-align: top;\n",
              "    }\n",
              "\n",
              "    .dataframe thead th {\n",
              "        text-align: right;\n",
              "    }\n",
              "</style>\n",
              "<table border=\"1\" class=\"dataframe\">\n",
              "  <thead>\n",
              "    <tr style=\"text-align: right;\">\n",
              "      <th></th>\n",
              "      <th>Class</th>\n",
              "      <th>Sex</th>\n",
              "      <th>Age</th>\n",
              "      <th>Survived</th>\n",
              "      <th>Survived_01</th>\n",
              "    </tr>\n",
              "  </thead>\n",
              "  <tbody>\n",
              "    <tr>\n",
              "      <th>0</th>\n",
              "      <td>3rd</td>\n",
              "      <td>Male</td>\n",
              "      <td>Child</td>\n",
              "      <td>No</td>\n",
              "      <td>0</td>\n",
              "    </tr>\n",
              "    <tr>\n",
              "      <th>1</th>\n",
              "      <td>3rd</td>\n",
              "      <td>Male</td>\n",
              "      <td>Child</td>\n",
              "      <td>No</td>\n",
              "      <td>0</td>\n",
              "    </tr>\n",
              "    <tr>\n",
              "      <th>2</th>\n",
              "      <td>3rd</td>\n",
              "      <td>Male</td>\n",
              "      <td>Child</td>\n",
              "      <td>No</td>\n",
              "      <td>0</td>\n",
              "    </tr>\n",
              "    <tr>\n",
              "      <th>3</th>\n",
              "      <td>3rd</td>\n",
              "      <td>Male</td>\n",
              "      <td>Child</td>\n",
              "      <td>No</td>\n",
              "      <td>0</td>\n",
              "    </tr>\n",
              "    <tr>\n",
              "      <th>4</th>\n",
              "      <td>3rd</td>\n",
              "      <td>Male</td>\n",
              "      <td>Child</td>\n",
              "      <td>No</td>\n",
              "      <td>0</td>\n",
              "    </tr>\n",
              "    <tr>\n",
              "      <th>...</th>\n",
              "      <td>...</td>\n",
              "      <td>...</td>\n",
              "      <td>...</td>\n",
              "      <td>...</td>\n",
              "      <td>...</td>\n",
              "    </tr>\n",
              "    <tr>\n",
              "      <th>1880</th>\n",
              "      <td>Crew</td>\n",
              "      <td>Male</td>\n",
              "      <td>Adult</td>\n",
              "      <td>Yes</td>\n",
              "      <td>1</td>\n",
              "    </tr>\n",
              "    <tr>\n",
              "      <th>1881</th>\n",
              "      <td>Crew</td>\n",
              "      <td>Male</td>\n",
              "      <td>Adult</td>\n",
              "      <td>Yes</td>\n",
              "      <td>1</td>\n",
              "    </tr>\n",
              "    <tr>\n",
              "      <th>1882</th>\n",
              "      <td>Crew</td>\n",
              "      <td>Male</td>\n",
              "      <td>Adult</td>\n",
              "      <td>Yes</td>\n",
              "      <td>1</td>\n",
              "    </tr>\n",
              "    <tr>\n",
              "      <th>1883</th>\n",
              "      <td>Crew</td>\n",
              "      <td>Male</td>\n",
              "      <td>Adult</td>\n",
              "      <td>Yes</td>\n",
              "      <td>1</td>\n",
              "    </tr>\n",
              "    <tr>\n",
              "      <th>1884</th>\n",
              "      <td>Crew</td>\n",
              "      <td>Male</td>\n",
              "      <td>Adult</td>\n",
              "      <td>Yes</td>\n",
              "      <td>1</td>\n",
              "    </tr>\n",
              "  </tbody>\n",
              "</table>\n",
              "<p>1731 rows × 5 columns</p>\n",
              "</div>"
            ],
            "text/plain": [
              "     Class   Sex    Age Survived  Survived_01\n",
              "0      3rd  Male  Child       No            0\n",
              "1      3rd  Male  Child       No            0\n",
              "2      3rd  Male  Child       No            0\n",
              "3      3rd  Male  Child       No            0\n",
              "4      3rd  Male  Child       No            0\n",
              "...    ...   ...    ...      ...          ...\n",
              "1880  Crew  Male  Adult      Yes            1\n",
              "1881  Crew  Male  Adult      Yes            1\n",
              "1882  Crew  Male  Adult      Yes            1\n",
              "1883  Crew  Male  Adult      Yes            1\n",
              "1884  Crew  Male  Adult      Yes            1\n",
              "\n",
              "[1731 rows x 5 columns]"
            ]
          },
          "execution_count": 146,
          "metadata": {},
          "output_type": "execute_result"
        }
      ],
      "source": [
        "y = titanic[titanic[\"Sex\"] == \"Male\"]\n",
        "y"
      ]
    },
    {
      "cell_type": "code",
      "execution_count": 147,
      "metadata": {
        "colab": {
          "base_uri": "https://localhost:8080/"
        },
        "id": "3NSyJyfSBQui",
        "outputId": "6ed5e0aa-7c38-45d2-fad5-741766caec9e"
      },
      "outputs": [
        {
          "data": {
            "text/plain": [
              "(24.000594650874334, 2.98891210006274e-113, 2199.0)"
            ]
          },
          "execution_count": 147,
          "metadata": {},
          "output_type": "execute_result"
        }
      ],
      "source": [
        "import statsmodels.api as sm\n",
        "sm.stats.ttest_ind(x.Survived_01, y.Survived_01)"
      ]
    },
    {
      "cell_type": "markdown",
      "metadata": {
        "id": "BOk9GHe-CqO0"
      },
      "source": [
        "The first value is the *t*-value, the second is the *p*-value. Definitely a difference between the sexes here, which we already knew from looking at the plots."
      ]
    },
    {
      "cell_type": "code",
      "execution_count": 149,
      "metadata": {
        "colab": {
          "base_uri": "https://localhost:8080/"
        },
        "id": "ahw0k3H0Rmpr",
        "outputId": "8db89cae-4571-4486-dea4-5ff39ae34c87"
      },
      "outputs": [
        {
          "data": {
            "text/plain": [
              "0.2120161756210283"
            ]
          },
          "execution_count": 149,
          "metadata": {},
          "output_type": "execute_result"
        }
      ],
      "source": [
        "import numpy as np\n",
        "np.mean(x[\"Survived_01\"]) # female survivale\n",
        "np.mean(y[\"Survived_01\"]) # male survival"
      ]
    },
    {
      "cell_type": "markdown",
      "metadata": {
        "id": "CPpGQPjCC8o1"
      },
      "source": [
        "In this case though, it's easier just to run a regression."
      ]
    },
    {
      "cell_type": "code",
      "execution_count": 153,
      "metadata": {
        "colab": {
          "base_uri": "https://localhost:8080/",
          "height": 439
        },
        "id": "Ot8AFV8HCzCP",
        "outputId": "3555f47b-969c-47a2-9339-88a8efd7ec41"
      },
      "outputs": [
        {
          "data": {
            "text/html": [
              "<table class=\"simpletable\">\n",
              "<caption>OLS Regression Results</caption>\n",
              "<tr>\n",
              "  <th>Dep. Variable:</th>       <td>Survived_01</td>   <th>  R-squared:         </th> <td>   0.208</td> \n",
              "</tr>\n",
              "<tr>\n",
              "  <th>Model:</th>                   <td>OLS</td>       <th>  Adj. R-squared:    </th> <td>   0.207</td> \n",
              "</tr>\n",
              "<tr>\n",
              "  <th>Method:</th>             <td>Least Squares</td>  <th>  F-statistic:       </th> <td>   576.0</td> \n",
              "</tr>\n",
              "<tr>\n",
              "  <th>Date:</th>             <td>Thu, 14 Oct 2021</td> <th>  Prob (F-statistic):</th> <td>2.99e-113</td>\n",
              "</tr>\n",
              "<tr>\n",
              "  <th>Time:</th>                 <td>10:12:10</td>     <th>  Log-Likelihood:    </th> <td> -1194.1</td> \n",
              "</tr>\n",
              "<tr>\n",
              "  <th>No. Observations:</th>      <td>  2201</td>      <th>  AIC:               </th> <td>   2392.</td> \n",
              "</tr>\n",
              "<tr>\n",
              "  <th>Df Residuals:</th>          <td>  2199</td>      <th>  BIC:               </th> <td>   2404.</td> \n",
              "</tr>\n",
              "<tr>\n",
              "  <th>Df Model:</th>              <td>     1</td>      <th>                     </th>     <td> </td>    \n",
              "</tr>\n",
              "<tr>\n",
              "  <th>Covariance Type:</th>      <td>nonrobust</td>    <th>                     </th>     <td> </td>    \n",
              "</tr>\n",
              "</table>\n",
              "<table class=\"simpletable\">\n",
              "<tr>\n",
              "       <td></td>          <th>coef</th>     <th>std err</th>      <th>t</th>      <th>P>|t|</th>  <th>[0.025</th>    <th>0.975]</th>  \n",
              "</tr>\n",
              "<tr>\n",
              "  <th>Intercept</th>   <td>    0.7319</td> <td>    0.019</td> <td>   38.100</td> <td> 0.000</td> <td>    0.694</td> <td>    0.770</td>\n",
              "</tr>\n",
              "<tr>\n",
              "  <th>Sex[T.Male]</th> <td>   -0.5199</td> <td>    0.022</td> <td>  -24.001</td> <td> 0.000</td> <td>   -0.562</td> <td>   -0.477</td>\n",
              "</tr>\n",
              "</table>\n",
              "<table class=\"simpletable\">\n",
              "<tr>\n",
              "  <th>Omnibus:</th>       <td>184.584</td> <th>  Durbin-Watson:     </th> <td>   0.010</td>\n",
              "</tr>\n",
              "<tr>\n",
              "  <th>Prob(Omnibus):</th> <td> 0.000</td>  <th>  Jarque-Bera (JB):  </th> <td> 228.425</td>\n",
              "</tr>\n",
              "<tr>\n",
              "  <th>Skew:</th>          <td> 0.780</td>  <th>  Prob(JB):          </th> <td>2.50e-50</td>\n",
              "</tr>\n",
              "<tr>\n",
              "  <th>Kurtosis:</th>      <td> 2.756</td>  <th>  Cond. No.          </th> <td>    4.12</td>\n",
              "</tr>\n",
              "</table><br/><br/>Warnings:<br/>[1] Standard Errors assume that the covariance matrix of the errors is correctly specified."
            ],
            "text/plain": [
              "<class 'statsmodels.iolib.summary.Summary'>\n",
              "\"\"\"\n",
              "                            OLS Regression Results                            \n",
              "==============================================================================\n",
              "Dep. Variable:            Survived_01   R-squared:                       0.208\n",
              "Model:                            OLS   Adj. R-squared:                  0.207\n",
              "Method:                 Least Squares   F-statistic:                     576.0\n",
              "Date:                Thu, 14 Oct 2021   Prob (F-statistic):          2.99e-113\n",
              "Time:                        10:12:10   Log-Likelihood:                -1194.1\n",
              "No. Observations:                2201   AIC:                             2392.\n",
              "Df Residuals:                    2199   BIC:                             2404.\n",
              "Df Model:                           1                                         \n",
              "Covariance Type:            nonrobust                                         \n",
              "===============================================================================\n",
              "                  coef    std err          t      P>|t|      [0.025      0.975]\n",
              "-------------------------------------------------------------------------------\n",
              "Intercept       0.7319      0.019     38.100      0.000       0.694       0.770\n",
              "Sex[T.Male]    -0.5199      0.022    -24.001      0.000      -0.562      -0.477\n",
              "==============================================================================\n",
              "Omnibus:                      184.584   Durbin-Watson:                   0.010\n",
              "Prob(Omnibus):                  0.000   Jarque-Bera (JB):              228.425\n",
              "Skew:                           0.780   Prob(JB):                     2.50e-50\n",
              "Kurtosis:                       2.756   Cond. No.                         4.12\n",
              "==============================================================================\n",
              "\n",
              "Warnings:\n",
              "[1] Standard Errors assume that the covariance matrix of the errors is correctly specified.\n",
              "\"\"\""
            ]
          },
          "execution_count": 153,
          "metadata": {},
          "output_type": "execute_result"
        }
      ],
      "source": [
        "import statsmodels.formula.api as smf\n",
        "fit = smf.ols(\"Survived_01 ~ Sex\", data = titanic).fit()\n",
        "fit.summary()"
      ]
    },
    {
      "cell_type": "code",
      "execution_count": 71,
      "metadata": {
        "colab": {
          "base_uri": "https://localhost:8080/"
        },
        "id": "TfhPTwY3DDde",
        "outputId": "471bab1f-e7d6-493d-a405-1ffe0ade677c"
      },
      "outputs": [
        {
          "data": {
            "text/plain": [
              "Intercept      2.433710e-244\n",
              "Sex[T.Male]    2.988912e-113\n",
              "dtype: float64"
            ]
          },
          "execution_count": 71,
          "metadata": {},
          "output_type": "execute_result"
        }
      ],
      "source": [
        "fit.pvalues"
      ]
    },
    {
      "cell_type": "markdown",
      "metadata": {
        "id": "OmbJx_VxDGmc"
      },
      "source": [
        "The *p*-value of `Sex[T.Male]` matches the *p*-value of the *t*-test above."
      ]
    },
    {
      "cell_type": "markdown",
      "metadata": {
        "id": "bnKYq5PW_slg"
      },
      "source": [
        "But what can we do when we have more than $2$ categories? For $k$ categories, there is more than one *p*-value to look at!"
      ]
    },
    {
      "cell_type": "code",
      "execution_count": 154,
      "metadata": {
        "colab": {
          "base_uri": "https://localhost:8080/",
          "height": 480
        },
        "id": "540Ss6GB_sCA",
        "outputId": "483528e6-5d70-4af9-ceb8-374a557e5f0d"
      },
      "outputs": [
        {
          "data": {
            "text/html": [
              "<table class=\"simpletable\">\n",
              "<caption>OLS Regression Results</caption>\n",
              "<tr>\n",
              "  <th>Dep. Variable:</th>       <td>Survived_01</td>   <th>  R-squared:         </th> <td>   0.087</td>\n",
              "</tr>\n",
              "<tr>\n",
              "  <th>Model:</th>                   <td>OLS</td>       <th>  Adj. R-squared:    </th> <td>   0.085</td>\n",
              "</tr>\n",
              "<tr>\n",
              "  <th>Method:</th>             <td>Least Squares</td>  <th>  F-statistic:       </th> <td>   69.35</td>\n",
              "</tr>\n",
              "<tr>\n",
              "  <th>Date:</th>             <td>Thu, 14 Oct 2021</td> <th>  Prob (F-statistic):</th> <td>7.56e-43</td>\n",
              "</tr>\n",
              "<tr>\n",
              "  <th>Time:</th>                 <td>10:14:12</td>     <th>  Log-Likelihood:    </th> <td> -1350.6</td>\n",
              "</tr>\n",
              "<tr>\n",
              "  <th>No. Observations:</th>      <td>  2201</td>      <th>  AIC:               </th> <td>   2709.</td>\n",
              "</tr>\n",
              "<tr>\n",
              "  <th>Df Residuals:</th>          <td>  2197</td>      <th>  BIC:               </th> <td>   2732.</td>\n",
              "</tr>\n",
              "<tr>\n",
              "  <th>Df Model:</th>              <td>     3</td>      <th>                     </th>     <td> </td>   \n",
              "</tr>\n",
              "<tr>\n",
              "  <th>Covariance Type:</th>      <td>nonrobust</td>    <th>                     </th>     <td> </td>   \n",
              "</tr>\n",
              "</table>\n",
              "<table class=\"simpletable\">\n",
              "<tr>\n",
              "        <td></td>           <th>coef</th>     <th>std err</th>      <th>t</th>      <th>P>|t|</th>  <th>[0.025</th>    <th>0.975]</th>  \n",
              "</tr>\n",
              "<tr>\n",
              "  <th>Intercept</th>     <td>    0.6246</td> <td>    0.025</td> <td>   25.171</td> <td> 0.000</td> <td>    0.576</td> <td>    0.673</td>\n",
              "</tr>\n",
              "<tr>\n",
              "  <th>Class[T.2nd]</th>  <td>   -0.2106</td> <td>    0.036</td> <td>   -5.800</td> <td> 0.000</td> <td>   -0.282</td> <td>   -0.139</td>\n",
              "</tr>\n",
              "<tr>\n",
              "  <th>Class[T.3rd]</th>  <td>   -0.3725</td> <td>    0.030</td> <td>  -12.422</td> <td> 0.000</td> <td>   -0.431</td> <td>   -0.314</td>\n",
              "</tr>\n",
              "<tr>\n",
              "  <th>Class[T.Crew]</th> <td>   -0.3851</td> <td>    0.029</td> <td>  -13.271</td> <td> 0.000</td> <td>   -0.442</td> <td>   -0.328</td>\n",
              "</tr>\n",
              "</table>\n",
              "<table class=\"simpletable\">\n",
              "<tr>\n",
              "  <th>Omnibus:</th>       <td>758.455</td> <th>  Durbin-Watson:     </th> <td>   0.003</td>\n",
              "</tr>\n",
              "<tr>\n",
              "  <th>Prob(Omnibus):</th> <td> 0.000</td>  <th>  Jarque-Bera (JB):  </th> <td> 292.650</td>\n",
              "</tr>\n",
              "<tr>\n",
              "  <th>Skew:</th>          <td> 0.727</td>  <th>  Prob(JB):          </th> <td>2.83e-64</td>\n",
              "</tr>\n",
              "<tr>\n",
              "  <th>Kurtosis:</th>      <td> 1.962</td>  <th>  Cond. No.          </th> <td>    6.32</td>\n",
              "</tr>\n",
              "</table><br/><br/>Warnings:<br/>[1] Standard Errors assume that the covariance matrix of the errors is correctly specified."
            ],
            "text/plain": [
              "<class 'statsmodels.iolib.summary.Summary'>\n",
              "\"\"\"\n",
              "                            OLS Regression Results                            \n",
              "==============================================================================\n",
              "Dep. Variable:            Survived_01   R-squared:                       0.087\n",
              "Model:                            OLS   Adj. R-squared:                  0.085\n",
              "Method:                 Least Squares   F-statistic:                     69.35\n",
              "Date:                Thu, 14 Oct 2021   Prob (F-statistic):           7.56e-43\n",
              "Time:                        10:14:12   Log-Likelihood:                -1350.6\n",
              "No. Observations:                2201   AIC:                             2709.\n",
              "Df Residuals:                    2197   BIC:                             2732.\n",
              "Df Model:                           3                                         \n",
              "Covariance Type:            nonrobust                                         \n",
              "=================================================================================\n",
              "                    coef    std err          t      P>|t|      [0.025      0.975]\n",
              "---------------------------------------------------------------------------------\n",
              "Intercept         0.6246      0.025     25.171      0.000       0.576       0.673\n",
              "Class[T.2nd]     -0.2106      0.036     -5.800      0.000      -0.282      -0.139\n",
              "Class[T.3rd]     -0.3725      0.030    -12.422      0.000      -0.431      -0.314\n",
              "Class[T.Crew]    -0.3851      0.029    -13.271      0.000      -0.442      -0.328\n",
              "==============================================================================\n",
              "Omnibus:                      758.455   Durbin-Watson:                   0.003\n",
              "Prob(Omnibus):                  0.000   Jarque-Bera (JB):              292.650\n",
              "Skew:                           0.727   Prob(JB):                     2.83e-64\n",
              "Kurtosis:                       1.962   Cond. No.                         6.32\n",
              "==============================================================================\n",
              "\n",
              "Warnings:\n",
              "[1] Standard Errors assume that the covariance matrix of the errors is correctly specified.\n",
              "\"\"\""
            ]
          },
          "execution_count": 154,
          "metadata": {},
          "output_type": "execute_result"
        }
      ],
      "source": [
        "fit = smf.ols(\"Survived_01 ~ Class\", data = titanic).fit()\n",
        "fit.summary()"
      ]
    },
    {
      "cell_type": "markdown",
      "metadata": {
        "id": "pVLPjD_2DSgV"
      },
      "source": [
        "We can, using this regression output, answer probabilistic questions such as \"is the coefficient $\\beta_{\\textrm{2nd}} = 0$?\". But we can't answer the omnibus question \"Is at least one of the $\\beta$s (except the intercept $\\beta_0$), not equal to 0?\"\n",
        "This question is about the usesfulness of all the entire categorical variable, not just its isolated $\\beta$ coefficients.\n"
      ]
    },
    {
      "cell_type": "markdown",
      "metadata": {
        "id": "Z7n_pCfvAOiQ"
      },
      "source": [
        "### Look at sum of squares\n",
        "Recall the definition of the $R^2$ for multiple regression models,\n",
        "$$\n",
        "R^2 = 1-\\frac{\\sum_{i=1}^{n}\\left(y_{i}-\\beta_{0}-\\sum_{k=1}^{K}\\beta_{k}x_{k}\\right)^{2}}{\\sum_{i=1}^{n}(y_{i}-\\overline{y})^{2}}.\n",
        "$$\n",
        "\n",
        "The $R^2$ quantifies the relative reduction in the sum of squares attained by using the covariates $x_1, x_2, ..., x_k$.\n",
        "\n",
        "Suppose we have one categorial covariate $X$ taking on values in $a_1, a_2, ..., a_K$, and we deal with the model $y = \\beta_{0}+\\sum_{k=2}^{K}\\beta_{k}1[X=a_{k}]$. (Here the regression coefficeint for $a_1$ has been absorbed into the baseline.)\n",
        "\n",
        "Then the $R^2$ equals\n",
        "$$\n",
        "1-\\frac{\\sum_{i=1}^{n}\\left(y_{i}-\\beta_{0}-\\sum_{k=1}^{K}\\beta_{k}1[X=a_{k}]\\right)^{2}}{\\sum_{i=1}^{n}(y_{i}-\\overline{y})^{2}}.\n",
        "$$\n",
        "This $R^2$ quantifies the reduction in sum of squares obtained by including *all* the $\\beta$s associated with the categorical variable $X$ in the regression model.\n",
        "\n",
        "Thus, instead of testing whether there is a parameter that is not equal to $0$, we will test if the $R^2$ is equal to $0$.\n",
        "Consider the following testing problem\n",
        "$$\n",
        "H_{0}:R^{2}=0,\\quad H_{a}:R^{2}>0\n",
        "$$\n",
        "This is equivalent to\n",
        "$$\n",
        "H_{0}:\\beta_{2}=\\beta_{3}=...=\\beta_{K}=0, \\quad H_{a}:\\beta_{i}\\neq 0\\textrm{ for some }i\n",
        "$$\n",
        "To see why, notice that $R^2 = 0$ if and only if all the $\\beta_i$s, $i\\geq2$,are equal to $0$. "
      ]
    },
    {
      "cell_type": "markdown",
      "metadata": {
        "id": "mm7XHMBQaS-B"
      },
      "source": [
        "### Testing $R^2 = 0$\n",
        "For the tests we are going to discuss to be formally correct, we will have to assume that the regression\n",
        "model \n",
        "$$y = \\beta_{0}+\\sum_{k=2}^{K}\\beta_{k}1[X=a_{k}] + \\epsilon$$\n",
        "is true, where the residuals $\\epsilon$ are independent and normal with zero mean and the same variance. The assumptions about are not critical though, and the tests works well when the residuals aren't normally distributed.\n",
        "\n",
        "Under these conditions, we find that, when $\\beta_i = 0$ for all $i > 1$, \n",
        "$$\n",
        "R^2 \\sim \\textrm{Beta}\\left(\\frac{K-1}{2},\\frac{n-K}{2}\\right),\n",
        "$$\n",
        "where $\\textrm{Beta}(a,b)$ denotes the Beta distribution with parameters $a,b$. Moreover, \"$\\sim$\" means \"distributed as\". "
      ]
    },
    {
      "cell_type": "markdown",
      "metadata": {
        "id": "2aZfFqf8byVn"
      },
      "source": [
        "### What does this mean?\n"
      ]
    },
    {
      "cell_type": "markdown",
      "metadata": {
        "id": "GF_j1FHrGFck"
      },
      "source": [
        "In terms of simulation, it means that the simulated $R^2$ will have a histogram that approximates the density of a $\\textrm{Beta}\\left(\\frac{K-1}{2},\\frac{n-K}{2}\\right)$-distributed variable arbitrarily well when the number of simulations go to infinity. \n",
        "\n",
        "The simulated values have to be from the null-hypothesis, i.e., they must be normally distributed with some mean $\\mu$ and standard deviation $\\sigma$."
      ]
    },
    {
      "cell_type": "code",
      "execution_count": 155,
      "metadata": {
        "colab": {
          "base_uri": "https://localhost:8080/"
        },
        "id": "YcLu3IxwGges",
        "outputId": "b54d966c-eaa9-4634-d669-2f8a75ca5098"
      },
      "outputs": [
        {
          "data": {
            "text/plain": [
              "array([[-0.10476825,  1.200623  , -0.38544127, ..., -0.36334591,\n",
              "        -0.79925663, -0.85709784],\n",
              "       [ 1.57469391, -1.13584913,  2.15868501, ..., -1.00557318,\n",
              "        -0.66484784, -0.31447754],\n",
              "       [ 0.90012285,  1.01632256, -0.20860774, ...,  2.05125315,\n",
              "        -0.61617816,  1.88551235],\n",
              "       ...,\n",
              "       [-0.49747136, -0.56413613,  0.08626853, ...,  0.92477878,\n",
              "        -1.02178499, -0.52129338],\n",
              "       [ 0.43491177,  0.43304638, -1.3601706 , ..., -0.60534607,\n",
              "         0.60160771, -0.39902685],\n",
              "       [-0.44078295, -0.07041964,  1.55085301, ...,  1.03522783,\n",
              "         0.67758851,  0.86163172]])"
            ]
          },
          "execution_count": 155,
          "metadata": {},
          "output_type": "execute_result"
        }
      ],
      "source": [
        "import numpy as np\n",
        "import seaborn as sns \n",
        "import matplotlib.pyplot as plt\n",
        "from scipy import stats\n",
        "\n",
        "rng = np.random.default_rng(seed = 313)\n",
        "n_reps = 10 ** 4\n",
        "\n",
        "n = 20\n",
        "K = K\n",
        "y = rng.normal(0, 1, (n_reps, n))\n",
        "y"
      ]
    },
    {
      "cell_type": "markdown",
      "metadata": {
        "id": "xF0rCf6sH9tM"
      },
      "source": [
        "Let's simulate some $R^2$s from a subset of the Titanic data."
      ]
    },
    {
      "cell_type": "code",
      "execution_count": 156,
      "metadata": {
        "colab": {
          "base_uri": "https://localhost:8080/"
        },
        "id": "IftancyBHykV",
        "outputId": "276213fc-cf7e-4ffe-b70a-ca6507b1c8fb"
      },
      "outputs": [
        {
          "name": "stderr",
          "output_type": "stream",
          "text": [
            "/usr/local/lib/python3.7/dist-packages/ipykernel_launcher.py:5: UserWarning: Pandas doesn't allow columns to be created via a new attribute name - see https://pandas.pydata.org/pandas-docs/stable/indexing.html#attribute-access\n",
            "  \"\"\"\n"
          ]
        },
        {
          "data": {
            "text/plain": [
              "array([0.06004274, 0.11528575, 0.01384137, ..., 0.10826497, 0.04976875,\n",
              "       0.03199749])"
            ]
          },
          "execution_count": 156,
          "metadata": {},
          "output_type": "execute_result"
        }
      ],
      "source": [
        "import statsmodels.formula.api as smf\n",
        "titanic_2 = titanic.sample(n)\n",
        "\n",
        "def func1d(y):\n",
        "  titanic_2.y = y\n",
        "  fit = smf.ols(\"y ~ Class\", data = titanic_2).fit()\n",
        "  return fit.rsquared\n",
        "\n",
        "rsqs = np.apply_along_axis(\n",
        "    func1d = func1d,\n",
        "    axis = 1,\n",
        "    arr = y\n",
        ")\n",
        "\n",
        "rsqs"
      ]
    },
    {
      "cell_type": "code",
      "execution_count": 159,
      "metadata": {
        "colab": {
          "base_uri": "https://localhost:8080/"
        },
        "id": "LzaIKOhtW42a",
        "outputId": "b4e0ba3c-6f25-4b0e-8164-54259511e573"
      },
      "outputs": [
        {
          "data": {
            "text/plain": [
              "3"
            ]
          },
          "execution_count": 159,
          "metadata": {},
          "output_type": "execute_result"
        }
      ],
      "source": [
        "K = len(set(titanic_2.Class))\n",
        "K"
      ]
    },
    {
      "cell_type": "code",
      "execution_count": 160,
      "metadata": {
        "colab": {
          "base_uri": "https://localhost:8080/",
          "height": 282
        },
        "id": "bp9vWwMFJH3c",
        "outputId": "99dcf90c-f583-4689-b9ce-275c627760eb"
      },
      "outputs": [
        {
          "data": {
            "text/plain": [
              "[<matplotlib.lines.Line2D at 0x7f1c2f5536d0>]"
            ]
          },
          "execution_count": 160,
          "metadata": {},
          "output_type": "execute_result"
        },
        {
          "data": {
            "image/png": "[encoded data removed]",
            "text/plain": [
              "<Figure size 432x288 with 1 Axes>"
            ]
          },
          "metadata": {
            "needs_background": "light"
          },
          "output_type": "display_data"
        }
      ],
      "source": [
        "ax = sns.histplot(x = rsqs, stat = \"density\")\n",
        "xs = np.arange(0, 1, 0.001)\n",
        "ax.plot(xs, stats.beta.pdf(xs, (K-1)/2, (n-K)/2), color = \"black\")"
      ]
    },
    {
      "cell_type": "markdown",
      "metadata": {
        "id": "gK81n_wbKSnl"
      },
      "source": [
        "If the null-hypothesis is true, the simulated $R^2$s will look just like this!"
      ]
    },
    {
      "cell_type": "markdown",
      "metadata": {
        "id": "iGFaGZm6KhNV"
      },
      "source": [
        "### Applying it"
      ]
    },
    {
      "cell_type": "markdown",
      "metadata": {
        "id": "NX045MsqKmJk"
      },
      "source": [
        "The *p*-value of a positive test statistic $T$ is $P(T\\geq t)$, where $t$ is the observed value. In our case, we found that "
      ]
    },
    {
      "cell_type": "code",
      "execution_count": 106,
      "metadata": {
        "colab": {
          "base_uri": "https://localhost:8080/"
        },
        "id": "qE_oHuRlKf1P",
        "outputId": "a29a7bd0-bda7-4c53-b52f-9c0ca1eea478"
      },
      "outputs": [
        {
          "data": {
            "text/plain": [
              "0.08650663499174571"
            ]
          },
          "execution_count": 106,
          "metadata": {},
          "output_type": "execute_result"
        }
      ],
      "source": [
        "fit.rsquared"
      ]
    },
    {
      "cell_type": "markdown",
      "metadata": {
        "id": "DrMnq2oSXaQz"
      },
      "source": [
        "How unlikely is this this $R^2$ if the null-hypothesis is true?"
      ]
    },
    {
      "cell_type": "markdown",
      "metadata": {
        "id": "9mRwYREELYRL"
      },
      "source": [
        "Using [`scipy.stats.beta`](https://docs.scipy.org/doc/scipy/reference/generated/scipy.stats.beta.html), we can finds the probability that $R^2\\geq0.0865$."
      ]
    },
    {
      "cell_type": "code",
      "execution_count": 141,
      "metadata": {
        "colab": {
          "base_uri": "https://localhost:8080/"
        },
        "id": "8FKTQqB5Lh30",
        "outputId": "99708ea4-74a8-439d-8a46-abe5c110dab2"
      },
      "outputs": [
        {
          "data": {
            "text/plain": [
              "1.1102230246251565e-16"
            ]
          },
          "execution_count": 141,
          "metadata": {},
          "output_type": "execute_result"
        }
      ],
      "source": [
        "n = titanic.shape[0]\n",
        "K = 4\n",
        "# sf is the \"survival function\" P(T > t).\n",
        "stats.beta.sf(fit.rsquared, (K - 1)/2, (n - K)/2)"
      ]
    },
    {
      "cell_type": "markdown",
      "metadata": {
        "id": "R6jl8JOfLhTv"
      },
      "source": [
        "This *p*-value turns out to be extremely inaccurate. The value I got using `R` is `7.226502e-43`, many orders of magnitude smaller.\n",
        "\n",
        "**Conclusion:** Reject the null-hypothesis that $\\beta_i = 0$ for all $i > 1$, in other words, the categorical variable `Class` matters!"
      ]
    },
    {
      "cell_type": "markdown",
      "metadata": {
        "id": "zI_wM73lFEOo"
      },
      "source": [
        "### The $F$-test\n",
        "An $F$-test is a generic term for a testing problem where the distribution of the test statistic is [$F$-distributed](https://en.wikipedia.org/wiki/F-distribution). We care about the $F$-distributed statistic above because it equals $0$ if and only if $R^2$ is equal to 0. The distribution of $R^2$ is not commonly used, for reason I do not fathom. Instead, everyone uses the $F$-test. You can find its output in e.g. `statsmodels`.\n",
        "\n",
        "We can write down the test statistic for the $F$ distribution in several ways. This one is especially convenient for us:\n",
        "$$\n",
        "\\frac{n-K}{K-1}\\frac{R^{2}}{1-R^{2}} \\sim F(K-1, n - K)\n",
        "$$\n",
        "\n",
        "The $F$ tests takes two parameters, $d_1$ and $d_2$, called the degrees of freedom. In this case, $d_1 = K-1$ and $d_2 = n - K$. The parameter $d_1$ is sometimes called the numerator degree of freedom, $d_2$ the denominator degree of freedom.\n",
        "\n",
        "**Note:**\n",
        "I didn't misspell the names of $d_1$ and $d_2$. They are given these names since the $F$ statistic can be written in a different way, where $n-K$ is the denominator and $K-1$ the numerator. See e.g. the wikipedia page about the $F$-distribution. \n",
        "\n"
      ]
    },
    {
      "cell_type": "markdown",
      "metadata": {
        "id": "n7gYI5bZO7ht"
      },
      "source": [
        "Using the $F$-test, we can test exactly the same null-hypothesis as we did with the Beta distribution. Python manages to calculate the *p*-value accurately in this case, namely:"
      ]
    },
    {
      "cell_type": "code",
      "execution_count": 136,
      "metadata": {
        "colab": {
          "base_uri": "https://localhost:8080/"
        },
        "id": "vMj6SUPULI1E",
        "outputId": "7b6d2b1d-daf7-4a55-a705-c31bcc8b2217"
      },
      "outputs": [
        {
          "data": {
            "text/plain": [
              "7.55923138291284e-43"
            ]
          },
          "execution_count": 136,
          "metadata": {},
          "output_type": "execute_result"
        }
      ],
      "source": [
        "fit.f_pvalue"
      ]
    },
    {
      "cell_type": "markdown",
      "metadata": {
        "id": "7PhTJC2pPIzJ"
      },
      "source": [
        "We will continue to discuss the $F$-test - and its connection to $R^2$ - in the nest lecture."
      ]
    },
    {
      "cell_type": "markdown",
      "metadata": {
        "id": "vUyTTojV_nTw"
      },
      "source": [
        "## Summary\n",
        "1. We can test if at least one of the coefficients $\\beta \\neq 0$ using the $F$-test or the Beta distribution.\n",
        "2. Using the $F$-test is equivalent to testing if the $R^2$ is greater than $0$."
      ]
    }
  ],
  "metadata": {
    "colab": {
      "collapsed_sections": [],
      "name": "EBA3500-lecture-8",
      "provenance": []
    },
    "kernelspec": {
      "display_name": "Python 3",
      "name": "python3"
    },
    "language_info": {
      "name": "python"
    }
  },
  "nbformat": 4,
  "nbformat_minor": 0
}
