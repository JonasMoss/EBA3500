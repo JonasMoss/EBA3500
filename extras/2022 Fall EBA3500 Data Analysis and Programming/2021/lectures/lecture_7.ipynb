{
  "cells": [
    {
      "cell_type": "markdown",
      "metadata": {
        "id": "-k6rYYeZiAQI"
      },
      "source": [
        "# EBA3500 Lecture 7 (i): Categorical data"
      ]
    },
    {
      "cell_type": "markdown",
      "metadata": {
        "id": "HxAZLNpxiISj"
      },
      "source": [
        "## What's a categorical variable?\n",
        "We frequently divide data types into three categories:\n",
        "1. **Continuous / real-valued / decimal-valued / numeric.** These are `float` or `float64` in Python. A common example is height and weight. Most of our numeric data has been unbounded, i.e., it can take on arbitrarily large or small values. \n",
        "2. **Ordered / ordinal data.** This is data equipped with an *order*. For instance, a gold medal is better than a silver medal, and a silver medal is better than a bronze medal. Education level is also ordinal. Having finished high school obviously scores as more education than having finished junior high, but it's unclear by how much. Continuous data is ordered, but not all ordered data is continuous!\n",
        "3. **Categorical data.** Data with no order that's not naturally associated with a decimal number. Examples include gender, ethnicity, and major in college (sociology, economics, etc.). We often handle ordinal data as categorical data, just because it's easier. Categorical data can often be worked with using `set` objects and the `Counter` function from `itertools`.\n",
        "\n",
        "Regression with categorical *covariates* is super-important, but is harder conceptually than regression with real-valued covariates. \n",
        "\n",
        "We covered regression with categorical *responses* two lectures age, when we talked about logistic regression. In that case we only talked about two categories, however, which is why we called it binary regression. Logistic regression\n",
        "can be extended to handle both [categorical](https://en.wikipedia.org/wiki/Multinomial_logistic_regression) and [ordinal data](https://en.wikipedia.org/wiki/Ordered_logit), but we won't cover these in this lecture.\n"
      ]
    },
    {
      "cell_type": "markdown",
      "metadata": {
        "id": "DHRVcXFD14Hz"
      },
      "source": [
        "\n",
        "### A rough categorization of methods\n",
        "A rough delineation of the different regression types are in this table, where ANOVA is an abbreviation of \"analysis of variance\".\n",
        "\n",
        "| | Response type |   |   |\n",
        "|-| --------------|-- | - |\n",
        "|**Covariate type** | Numeric | Categorical or binary | Ordered |\n",
        "|  Numeric          | Linear regression | (Multivariate) Logistic regression | Ordered logit\n",
        "| Categorical       | Linear regression / ANOVA| (Multivariate) logistic regression | Ordered logit\n",
        "| Ordinal           | Constrained linear regression | [Constrained logistic regression](https://en.wikipedia.org/wiki/Constrained_least_squares) | Constrained ordered logit |\n",
        "\n",
        "**The key message:** It's the response type that primarily determines the regression method, not the covariate type! As we'll see, there is a general method for handling categorical data that can be used in any regression model that supports decimal data. This matters quite a bit, as it allows you to mix and match covariate types in a single model. \n",
        "\n",
        "The categorization is rough for two reasons: It doesn't show *every* possibility for handling any of the covariate-response combination. For instance, one may use Probit regression instead of Logistic regrssion. Moreover, it doesn't cover every response type either. Other kinds of responses include numeric data bounded between $0$ and $1$, positive numeric data, and count data. But there exists methods for all these kinds of data as well."
      ]
    },
    {
      "cell_type": "markdown",
      "metadata": {
        "id": "JtQJGClS16HV"
      },
      "source": [
        "## Linear regression with categorical variables\n",
        "\n",
        "Let $A$ be a set of categories, for instance $A = \\{\\textrm{male}, \\textrm{female}\\}$. Recall the indicator function $1[x\\textrm{ in }A]$, which equals $1$ if $x\\textrm{ in }A$ and $0$ otherwise.\n"
      ]
    },
    {
      "cell_type": "markdown",
      "metadata": {
        "id": "ITFxhOBZ5vTb"
      },
      "source": [
        "\n",
        "#### Definition: Categorical regression with one category\n",
        "> Let $A$ be a set. Then the linear regression model on this set of categories is\n",
        "$$\n",
        "y = \\sum_{a\\in A} \\beta_a 1[x\\textrm{ = }a] + \\epsilon,\\quad x \\textrm{ in } A.\n",
        "$$\n",
        "\n"
      ]
    },
    {
      "cell_type": "markdown",
      "metadata": {
        "id": "UdXjjiGm5glF"
      },
      "source": [
        "#### Interpreting the definition. \n",
        "We can write the model\n",
        "$$\n",
        "y = \\sum_{a\\in A} \\beta_a 1[x\\textrm{ = }a] + \\epsilon,\\quad x \\textrm{ in } A.\n",
        "$$\n",
        "in a way that might be easier to interpret. Let $x = a'$ for some $a'$ in $A$. By the definition of the indicator function, $1[x\\textrm{ = }a] = 0$ for all $a$ in $A$ except for $a'$, where $1[x\\textrm{ = }a'] = 1$. Plugging this into the definiton of $y$, we find that $y = \\beta_{a'} + \\epsilon$. \n",
        "\n",
        "For instance, if $a = \\textrm{female}$, then $y = \\beta_\\textrm{female} + \\epsilon$.\n"
      ]
    },
    {
      "cell_type": "markdown",
      "metadata": {
        "id": "pXqE9xdh7RHD"
      },
      "source": [
        "### Example: Penguins\n",
        "Let's go back to the penguins example."
      ]
    },
    {
      "cell_type": "code",
      "execution_count": 48,
      "metadata": {
        "colab": {
          "base_uri": "https://localhost:8080/",
          "height": 203
        },
        "id": "FD1tmz1B7Ejy",
        "outputId": "688f9a1d-208a-47a0-f65c-029ed9cb88d1"
      },
      "outputs": [
        {
          "data": {
            "text/html": [
              "<div>\n",
              "<style scoped>\n",
              "    .dataframe tbody tr th:only-of-type {\n",
              "        vertical-align: middle;\n",
              "    }\n",
              "\n",
              "    .dataframe tbody tr th {\n",
              "        vertical-align: top;\n",
              "    }\n",
              "\n",
              "    .dataframe thead th {\n",
              "        text-align: right;\n",
              "    }\n",
              "</style>\n",
              "<table border=\"1\" class=\"dataframe\">\n",
              "  <thead>\n",
              "    <tr style=\"text-align: right;\">\n",
              "      <th></th>\n",
              "      <th>species</th>\n",
              "      <th>island</th>\n",
              "      <th>bill_length_mm</th>\n",
              "      <th>bill_depth_mm</th>\n",
              "      <th>flipper_length_mm</th>\n",
              "      <th>body_mass_g</th>\n",
              "      <th>sex</th>\n",
              "    </tr>\n",
              "  </thead>\n",
              "  <tbody>\n",
              "    <tr>\n",
              "      <th>0</th>\n",
              "      <td>Adelie</td>\n",
              "      <td>Torgersen</td>\n",
              "      <td>39.1</td>\n",
              "      <td>18.7</td>\n",
              "      <td>181.0</td>\n",
              "      <td>3750.0</td>\n",
              "      <td>Male</td>\n",
              "    </tr>\n",
              "    <tr>\n",
              "      <th>1</th>\n",
              "      <td>Adelie</td>\n",
              "      <td>Torgersen</td>\n",
              "      <td>39.5</td>\n",
              "      <td>17.4</td>\n",
              "      <td>186.0</td>\n",
              "      <td>3800.0</td>\n",
              "      <td>Female</td>\n",
              "    </tr>\n",
              "    <tr>\n",
              "      <th>2</th>\n",
              "      <td>Adelie</td>\n",
              "      <td>Torgersen</td>\n",
              "      <td>40.3</td>\n",
              "      <td>18.0</td>\n",
              "      <td>195.0</td>\n",
              "      <td>3250.0</td>\n",
              "      <td>Female</td>\n",
              "    </tr>\n",
              "    <tr>\n",
              "      <th>3</th>\n",
              "      <td>Adelie</td>\n",
              "      <td>Torgersen</td>\n",
              "      <td>NaN</td>\n",
              "      <td>NaN</td>\n",
              "      <td>NaN</td>\n",
              "      <td>NaN</td>\n",
              "      <td>NaN</td>\n",
              "    </tr>\n",
              "    <tr>\n",
              "      <th>4</th>\n",
              "      <td>Adelie</td>\n",
              "      <td>Torgersen</td>\n",
              "      <td>36.7</td>\n",
              "      <td>19.3</td>\n",
              "      <td>193.0</td>\n",
              "      <td>3450.0</td>\n",
              "      <td>Female</td>\n",
              "    </tr>\n",
              "  </tbody>\n",
              "</table>\n",
              "</div>"
            ],
            "text/plain": [
              "  species     island  bill_length_mm  ...  flipper_length_mm  body_mass_g     sex\n",
              "0  Adelie  Torgersen            39.1  ...              181.0       3750.0    Male\n",
              "1  Adelie  Torgersen            39.5  ...              186.0       3800.0  Female\n",
              "2  Adelie  Torgersen            40.3  ...              195.0       3250.0  Female\n",
              "3  Adelie  Torgersen             NaN  ...                NaN          NaN     NaN\n",
              "4  Adelie  Torgersen            36.7  ...              193.0       3450.0  Female\n",
              "\n",
              "[5 rows x 7 columns]"
            ]
          },
          "execution_count": 48,
          "metadata": {},
          "output_type": "execute_result"
        }
      ],
      "source": [
        "import seaborn as sns\n",
        "penguins = sns.load_dataset(\"penguins\")\n",
        "penguins.head()"
      ]
    },
    {
      "cell_type": "markdown",
      "metadata": {
        "id": "WMlYJruH7YB7"
      },
      "source": [
        "We'll work with the `island` covariate, which is categorical with three categories."
      ]
    },
    {
      "cell_type": "code",
      "execution_count": null,
      "metadata": {
        "colab": {
          "base_uri": "https://localhost:8080/"
        },
        "id": "pT788rFa7ctr",
        "outputId": "e84c64ba-6bdf-4ae8-92b8-2a6ba8c8d964"
      },
      "outputs": [
        {
          "data": {
            "text/plain": [
              "Counter({'Biscoe': 168, 'Dream': 124, 'Torgersen': 52})"
            ]
          },
          "execution_count": 4,
          "metadata": {},
          "output_type": "execute_result"
        }
      ],
      "source": [
        "from collections import Counter\n",
        "Counter(penguins.island)"
      ]
    },
    {
      "cell_type": "markdown",
      "metadata": {
        "id": "-10xkc447q9y"
      },
      "source": [
        "Using `bill_length_mm` as our numeric response, we may write out a regression model as:"
      ]
    },
    {
      "cell_type": "markdown",
      "metadata": {
        "id": "tfxUJ9pR71XA"
      },
      "source": [
        "$$\n",
        "\\textrm{bill_length_mm} = \\beta_{\\textrm{Biscoe}}1[\\textrm{island} =\\textrm{Biscoe}]+\\beta_{\\textrm{Dream}}1[\\textrm{island} =\\textrm{Dream}] + \\beta_{\\textrm{Torgersen}}1[\\textrm{island} =\\textrm{Torgersen}] + \\epsilon\n",
        "$$"
      ]
    },
    {
      "cell_type": "markdown",
      "metadata": {
        "id": "xNzQnCTX8anV"
      },
      "source": [
        "Running the regression above in `statsmodels` is not too hard. But first, let's plot the data and compute some means!"
      ]
    },
    {
      "cell_type": "markdown",
      "metadata": {
        "id": "pFh_yGvc0GcV"
      },
      "source": [
        "We can use the `countplot` command to make bar charts for the number of observations in each island."
      ]
    },
    {
      "cell_type": "code",
      "execution_count": null,
      "metadata": {
        "colab": {
          "base_uri": "https://localhost:8080/",
          "height": 296
        },
        "id": "sfkdQlXk9EGj",
        "outputId": "8c1a5054-6192-40fd-88c8-4da72f3be679"
      },
      "outputs": [
        {
          "data": {
            "text/plain": [
              "<matplotlib.axes._subplots.AxesSubplot at 0x7f45f097a810>"
            ]
          },
          "execution_count": 5,
          "metadata": {},
          "output_type": "execute_result"
        },
        {
          "data": {
            "image/png": "[encoded data removed]",
            "text/plain": [
              "<Figure size 432x288 with 1 Axes>"
            ]
          },
          "metadata": {
            "needs_background": "light"
          },
          "output_type": "display_data"
        }
      ],
      "source": [
        "import seaborn as sns\n",
        "sns.countplot(x=\"island\", data=penguins)"
      ]
    },
    {
      "cell_type": "markdown",
      "metadata": {
        "id": "ScV1m8Qr0YI0"
      },
      "source": [
        "That's nice and all - but what about the bill lengths at all the islands?"
      ]
    },
    {
      "cell_type": "markdown",
      "metadata": {
        "id": "MckK7tSY9-Gr"
      },
      "source": [
        "The `groupby` method can be used to calculate summary functions such as the mean. "
      ]
    },
    {
      "cell_type": "code",
      "execution_count": null,
      "metadata": {
        "colab": {
          "base_uri": "https://localhost:8080/",
          "height": 174
        },
        "id": "8MfN-BMm9k3v",
        "outputId": "08ba276b-63f1-4089-b00f-b7ed4f27fa04"
      },
      "outputs": [
        {
          "data": {
            "text/html": [
              "<div>\n",
              "<style scoped>\n",
              "    .dataframe tbody tr th:only-of-type {\n",
              "        vertical-align: middle;\n",
              "    }\n",
              "\n",
              "    .dataframe tbody tr th {\n",
              "        vertical-align: top;\n",
              "    }\n",
              "\n",
              "    .dataframe thead th {\n",
              "        text-align: right;\n",
              "    }\n",
              "</style>\n",
              "<table border=\"1\" class=\"dataframe\">\n",
              "  <thead>\n",
              "    <tr style=\"text-align: right;\">\n",
              "      <th></th>\n",
              "      <th>bill_length_mm</th>\n",
              "      <th>bill_depth_mm</th>\n",
              "      <th>flipper_length_mm</th>\n",
              "      <th>body_mass_g</th>\n",
              "    </tr>\n",
              "    <tr>\n",
              "      <th>island</th>\n",
              "      <th></th>\n",
              "      <th></th>\n",
              "      <th></th>\n",
              "      <th></th>\n",
              "    </tr>\n",
              "  </thead>\n",
              "  <tbody>\n",
              "    <tr>\n",
              "      <th>Biscoe</th>\n",
              "      <td>45.257485</td>\n",
              "      <td>15.874850</td>\n",
              "      <td>209.706587</td>\n",
              "      <td>4716.017964</td>\n",
              "    </tr>\n",
              "    <tr>\n",
              "      <th>Dream</th>\n",
              "      <td>44.167742</td>\n",
              "      <td>18.344355</td>\n",
              "      <td>193.072581</td>\n",
              "      <td>3712.903226</td>\n",
              "    </tr>\n",
              "    <tr>\n",
              "      <th>Torgersen</th>\n",
              "      <td>38.950980</td>\n",
              "      <td>18.429412</td>\n",
              "      <td>191.196078</td>\n",
              "      <td>3706.372549</td>\n",
              "    </tr>\n",
              "  </tbody>\n",
              "</table>\n",
              "</div>"
            ],
            "text/plain": [
              "           bill_length_mm  bill_depth_mm  flipper_length_mm  body_mass_g\n",
              "island                                                                  \n",
              "Biscoe          45.257485      15.874850         209.706587  4716.017964\n",
              "Dream           44.167742      18.344355         193.072581  3712.903226\n",
              "Torgersen       38.950980      18.429412         191.196078  3706.372549"
            ]
          },
          "execution_count": 8,
          "metadata": {},
          "output_type": "execute_result"
        }
      ],
      "source": [
        "penguins.groupby(\"island\").mean()"
      ]
    },
    {
      "cell_type": "markdown",
      "metadata": {
        "id": "5Dosp6sW-MoG"
      },
      "source": [
        "We find that the bill lengths appear different across island. "
      ]
    },
    {
      "cell_type": "markdown",
      "metadata": {
        "id": "Lf4j1pfJ0sAG"
      },
      "source": [
        "The method `groupby` is not restricted to `mean`, the standard deviation `std` can also be used. You can also define your own functions. "
      ]
    },
    {
      "cell_type": "code",
      "execution_count": null,
      "metadata": {
        "colab": {
          "base_uri": "https://localhost:8080/",
          "height": 173
        },
        "id": "GNHrlgcc0zoU",
        "outputId": "203781d6-dd1f-47ce-940d-d3a4a081fd89"
      },
      "outputs": [
        {
          "data": {
            "text/html": [
              "<div>\n",
              "<style scoped>\n",
              "    .dataframe tbody tr th:only-of-type {\n",
              "        vertical-align: middle;\n",
              "    }\n",
              "\n",
              "    .dataframe tbody tr th {\n",
              "        vertical-align: top;\n",
              "    }\n",
              "\n",
              "    .dataframe thead th {\n",
              "        text-align: right;\n",
              "    }\n",
              "</style>\n",
              "<table border=\"1\" class=\"dataframe\">\n",
              "  <thead>\n",
              "    <tr style=\"text-align: right;\">\n",
              "      <th></th>\n",
              "      <th>bill_length_mm</th>\n",
              "      <th>bill_depth_mm</th>\n",
              "      <th>flipper_length_mm</th>\n",
              "      <th>body_mass_g</th>\n",
              "    </tr>\n",
              "    <tr>\n",
              "      <th>island</th>\n",
              "      <th></th>\n",
              "      <th></th>\n",
              "      <th></th>\n",
              "      <th></th>\n",
              "    </tr>\n",
              "  </thead>\n",
              "  <tbody>\n",
              "    <tr>\n",
              "      <th>Biscoe</th>\n",
              "      <td>4.772731</td>\n",
              "      <td>1.820721</td>\n",
              "      <td>14.142268</td>\n",
              "      <td>782.855743</td>\n",
              "    </tr>\n",
              "    <tr>\n",
              "      <th>Dream</th>\n",
              "      <td>5.953527</td>\n",
              "      <td>1.133116</td>\n",
              "      <td>7.507366</td>\n",
              "      <td>416.644112</td>\n",
              "    </tr>\n",
              "    <tr>\n",
              "      <th>Torgersen</th>\n",
              "      <td>3.025318</td>\n",
              "      <td>1.339447</td>\n",
              "      <td>6.232238</td>\n",
              "      <td>445.107940</td>\n",
              "    </tr>\n",
              "  </tbody>\n",
              "</table>\n",
              "</div>"
            ],
            "text/plain": [
              "           bill_length_mm  bill_depth_mm  flipper_length_mm  body_mass_g\n",
              "island                                                                  \n",
              "Biscoe           4.772731       1.820721          14.142268   782.855743\n",
              "Dream            5.953527       1.133116           7.507366   416.644112\n",
              "Torgersen        3.025318       1.339447           6.232238   445.107940"
            ]
          },
          "execution_count": 5,
          "metadata": {},
          "output_type": "execute_result"
        }
      ],
      "source": [
        "penguins.groupby(\"island\").std()"
      ]
    },
    {
      "cell_type": "markdown",
      "metadata": {
        "id": "EhSfzOxo_NVs"
      },
      "source": [
        "Now let's run a regression! Recall the formula,\n",
        "$$\n",
        "\\textrm{bill_length_mm} = \\beta_{\\textrm{Biscoe}}1[\\textrm{island} =\\textrm{Biscoe}]+\\beta_{\\textrm{Dream}}1[\\textrm{island} =\\textrm{Dream}] + \\beta_{\\textrm{Torgersen}}1[\\textrm{island} =\\textrm{Torgersen}] + \\epsilon\n",
        "$$\n",
        "\n",
        "Running this is quite easy to do. Just use the formula\n",
        "\n",
        "`bill_length_mm ~ I(1 * (island == 'Biscoe')) + I(1 * (island == 'Dream')) + I(1 * (island == 'Torgersen')) - 1`. \n",
        "\n",
        "1. We write `-1` at the end to remove the intercept from the model. `statsmodels` includes the intercept by default, and writing either `+0` or `-1` will remove it. There is no intercept in the model above, so this is what we want.\n",
        "2. Remember that `1 * (x = a)` is the vectorized indicator function we went through in the previous lecture.\n",
        "3. The `I(f(x))` command tells `statsmodels` that it shouldn't try to interpret `f(x)`. You also had to use it in e.g. `I(x**2)` in the quadratic regression model.)"
      ]
    },
    {
      "cell_type": "code",
      "execution_count": 49,
      "metadata": {
        "id": "fyGx0Yki-Fxt"
      },
      "outputs": [],
      "source": [
        "import statsmodels.formula.api as smf"
      ]
    },
    {
      "cell_type": "code",
      "execution_count": 50,
      "metadata": {
        "colab": {
          "base_uri": "https://localhost:8080/",
          "height": 460
        },
        "id": "80qgtV_Q2Ezc",
        "outputId": "f51a534c-b93a-41e9-943f-c20776f6a02c"
      },
      "outputs": [
        {
          "data": {
            "text/html": [
              "<table class=\"simpletable\">\n",
              "<caption>OLS Regression Results</caption>\n",
              "<tr>\n",
              "  <th>Dep. Variable:</th>     <td>bill_length_mm</td>  <th>  R-squared:         </th> <td>   0.154</td>\n",
              "</tr>\n",
              "<tr>\n",
              "  <th>Model:</th>                   <td>OLS</td>       <th>  Adj. R-squared:    </th> <td>   0.149</td>\n",
              "</tr>\n",
              "<tr>\n",
              "  <th>Method:</th>             <td>Least Squares</td>  <th>  F-statistic:       </th> <td>   30.86</td>\n",
              "</tr>\n",
              "<tr>\n",
              "  <th>Date:</th>             <td>Thu, 07 Oct 2021</td> <th>  Prob (F-statistic):</th> <td>4.86e-13</td>\n",
              "</tr>\n",
              "<tr>\n",
              "  <th>Time:</th>                 <td>09:13:04</td>     <th>  Log-Likelihood:    </th> <td> -1036.7</td>\n",
              "</tr>\n",
              "<tr>\n",
              "  <th>No. Observations:</th>      <td>   342</td>      <th>  AIC:               </th> <td>   2079.</td>\n",
              "</tr>\n",
              "<tr>\n",
              "  <th>Df Residuals:</th>          <td>   339</td>      <th>  BIC:               </th> <td>   2091.</td>\n",
              "</tr>\n",
              "<tr>\n",
              "  <th>Df Model:</th>              <td>     2</td>      <th>                     </th>     <td> </td>   \n",
              "</tr>\n",
              "<tr>\n",
              "  <th>Covariance Type:</th>      <td>nonrobust</td>    <th>                     </th>     <td> </td>   \n",
              "</tr>\n",
              "</table>\n",
              "<table class=\"simpletable\">\n",
              "<tr>\n",
              "                 <td></td>                   <th>coef</th>     <th>std err</th>      <th>t</th>      <th>P>|t|</th>  <th>[0.025</th>    <th>0.975]</th>  \n",
              "</tr>\n",
              "<tr>\n",
              "  <th>I(1 * (island == 'Biscoe'))</th>    <td>   45.2575</td> <td>    0.390</td> <td>  116.127</td> <td> 0.000</td> <td>   44.491</td> <td>   46.024</td>\n",
              "</tr>\n",
              "<tr>\n",
              "  <th>I(1 * (island == 'Dream'))</th>     <td>   44.1677</td> <td>    0.452</td> <td>   97.657</td> <td> 0.000</td> <td>   43.278</td> <td>   45.057</td>\n",
              "</tr>\n",
              "<tr>\n",
              "  <th>I(1 * (island == 'Torgersen'))</th> <td>   38.9510</td> <td>    0.705</td> <td>   55.232</td> <td> 0.000</td> <td>   37.564</td> <td>   40.338</td>\n",
              "</tr>\n",
              "</table>\n",
              "<table class=\"simpletable\">\n",
              "<tr>\n",
              "  <th>Omnibus:</th>       <td> 8.214</td> <th>  Durbin-Watson:     </th> <td>   0.978</td>\n",
              "</tr>\n",
              "<tr>\n",
              "  <th>Prob(Omnibus):</th> <td> 0.016</td> <th>  Jarque-Bera (JB):  </th> <td>   4.722</td>\n",
              "</tr>\n",
              "<tr>\n",
              "  <th>Skew:</th>          <td>-0.064</td> <th>  Prob(JB):          </th> <td>  0.0943</td>\n",
              "</tr>\n",
              "<tr>\n",
              "  <th>Kurtosis:</th>      <td> 2.439</td> <th>  Cond. No.          </th> <td>    1.81</td>\n",
              "</tr>\n",
              "</table><br/><br/>Warnings:<br/>[1] Standard Errors assume that the covariance matrix of the errors is correctly specified."
            ],
            "text/plain": [
              "<class 'statsmodels.iolib.summary.Summary'>\n",
              "\"\"\"\n",
              "                            OLS Regression Results                            \n",
              "==============================================================================\n",
              "Dep. Variable:         bill_length_mm   R-squared:                       0.154\n",
              "Model:                            OLS   Adj. R-squared:                  0.149\n",
              "Method:                 Least Squares   F-statistic:                     30.86\n",
              "Date:                Thu, 07 Oct 2021   Prob (F-statistic):           4.86e-13\n",
              "Time:                        09:13:04   Log-Likelihood:                -1036.7\n",
              "No. Observations:                 342   AIC:                             2079.\n",
              "Df Residuals:                     339   BIC:                             2091.\n",
              "Df Model:                           2                                         \n",
              "Covariance Type:            nonrobust                                         \n",
              "==================================================================================================\n",
              "                                     coef    std err          t      P>|t|      [0.025      0.975]\n",
              "--------------------------------------------------------------------------------------------------\n",
              "I(1 * (island == 'Biscoe'))       45.2575      0.390    116.127      0.000      44.491      46.024\n",
              "I(1 * (island == 'Dream'))        44.1677      0.452     97.657      0.000      43.278      45.057\n",
              "I(1 * (island == 'Torgersen'))    38.9510      0.705     55.232      0.000      37.564      40.338\n",
              "==============================================================================\n",
              "Omnibus:                        8.214   Durbin-Watson:                   0.978\n",
              "Prob(Omnibus):                  0.016   Jarque-Bera (JB):                4.722\n",
              "Skew:                          -0.064   Prob(JB):                       0.0943\n",
              "Kurtosis:                       2.439   Cond. No.                         1.81\n",
              "==============================================================================\n",
              "\n",
              "Warnings:\n",
              "[1] Standard Errors assume that the covariance matrix of the errors is correctly specified.\n",
              "\"\"\""
            ]
          },
          "execution_count": 50,
          "metadata": {},
          "output_type": "execute_result"
        }
      ],
      "source": [
        "fit = smf.ols(\"bill_length_mm ~ I(1 * (island == 'Biscoe')) + I(1 * (island == 'Dream')) + I(1 * (island == 'Torgersen')) - 1\", data = penguins).fit()\n",
        "fit.summary()"
      ]
    },
    {
      "cell_type": "markdown",
      "metadata": {
        "id": "ZMppiKEq3Wmz"
      },
      "source": [
        "However, you don't need to do all this, as statsmodels can do it for you. To use a column `x` in a data frame as a categorical variable, use `C(x)` in the formula, e.g. `y ~ C(x)`. You often don't have to do this either, if `x` is already categorical. But it's a nice habbit.\n",
        "\n",
        "When you use `C(x)`, statsmodels will expand the term into its categorical regression form automatically. It will do this expansion in a way that includes the intercept, however. To avoid this, you need to write `C(x) - 1`."
      ]
    },
    {
      "cell_type": "code",
      "execution_count": null,
      "metadata": {
        "colab": {
          "base_uri": "https://localhost:8080/",
          "height": 469
        },
        "id": "ngZ2YzKM-UTt",
        "outputId": "83beca51-5dc4-4873-c988-32f3823b6a1a"
      },
      "outputs": [
        {
          "data": {
            "text/html": [
              "<table class=\"simpletable\">\n",
              "<caption>OLS Regression Results</caption>\n",
              "<tr>\n",
              "  <th>Dep. Variable:</th>     <td>bill_length_mm</td>  <th>  R-squared:         </th> <td>   0.154</td>\n",
              "</tr>\n",
              "<tr>\n",
              "  <th>Model:</th>                   <td>OLS</td>       <th>  Adj. R-squared:    </th> <td>   0.149</td>\n",
              "</tr>\n",
              "<tr>\n",
              "  <th>Method:</th>             <td>Least Squares</td>  <th>  F-statistic:       </th> <td>   30.86</td>\n",
              "</tr>\n",
              "<tr>\n",
              "  <th>Date:</th>             <td>Thu, 30 Sep 2021</td> <th>  Prob (F-statistic):</th> <td>4.86e-13</td>\n",
              "</tr>\n",
              "<tr>\n",
              "  <th>Time:</th>                 <td>05:01:00</td>     <th>  Log-Likelihood:    </th> <td> -1036.7</td>\n",
              "</tr>\n",
              "<tr>\n",
              "  <th>No. Observations:</th>      <td>   342</td>      <th>  AIC:               </th> <td>   2079.</td>\n",
              "</tr>\n",
              "<tr>\n",
              "  <th>Df Residuals:</th>          <td>   339</td>      <th>  BIC:               </th> <td>   2091.</td>\n",
              "</tr>\n",
              "<tr>\n",
              "  <th>Df Model:</th>              <td>     2</td>      <th>                     </th>     <td> </td>   \n",
              "</tr>\n",
              "<tr>\n",
              "  <th>Covariance Type:</th>      <td>nonrobust</td>    <th>                     </th>     <td> </td>   \n",
              "</tr>\n",
              "</table>\n",
              "<table class=\"simpletable\">\n",
              "<tr>\n",
              "            <td></td>              <th>coef</th>     <th>std err</th>      <th>t</th>      <th>P>|t|</th>  <th>[0.025</th>    <th>0.975]</th>  \n",
              "</tr>\n",
              "<tr>\n",
              "  <th>C(island)[Biscoe]</th>    <td>   45.2575</td> <td>    0.390</td> <td>  116.127</td> <td> 0.000</td> <td>   44.491</td> <td>   46.024</td>\n",
              "</tr>\n",
              "<tr>\n",
              "  <th>C(island)[Dream]</th>     <td>   44.1677</td> <td>    0.452</td> <td>   97.657</td> <td> 0.000</td> <td>   43.278</td> <td>   45.057</td>\n",
              "</tr>\n",
              "<tr>\n",
              "  <th>C(island)[Torgersen]</th> <td>   38.9510</td> <td>    0.705</td> <td>   55.232</td> <td> 0.000</td> <td>   37.564</td> <td>   40.338</td>\n",
              "</tr>\n",
              "</table>\n",
              "<table class=\"simpletable\">\n",
              "<tr>\n",
              "  <th>Omnibus:</th>       <td> 8.214</td> <th>  Durbin-Watson:     </th> <td>   0.978</td>\n",
              "</tr>\n",
              "<tr>\n",
              "  <th>Prob(Omnibus):</th> <td> 0.016</td> <th>  Jarque-Bera (JB):  </th> <td>   4.722</td>\n",
              "</tr>\n",
              "<tr>\n",
              "  <th>Skew:</th>          <td>-0.064</td> <th>  Prob(JB):          </th> <td>  0.0943</td>\n",
              "</tr>\n",
              "<tr>\n",
              "  <th>Kurtosis:</th>      <td> 2.439</td> <th>  Cond. No.          </th> <td>    1.81</td>\n",
              "</tr>\n",
              "</table><br/><br/>Warnings:<br/>[1] Standard Errors assume that the covariance matrix of the errors is correctly specified."
            ],
            "text/plain": [
              "<class 'statsmodels.iolib.summary.Summary'>\n",
              "\"\"\"\n",
              "                            OLS Regression Results                            \n",
              "==============================================================================\n",
              "Dep. Variable:         bill_length_mm   R-squared:                       0.154\n",
              "Model:                            OLS   Adj. R-squared:                  0.149\n",
              "Method:                 Least Squares   F-statistic:                     30.86\n",
              "Date:                Thu, 30 Sep 2021   Prob (F-statistic):           4.86e-13\n",
              "Time:                        05:01:00   Log-Likelihood:                -1036.7\n",
              "No. Observations:                 342   AIC:                             2079.\n",
              "Df Residuals:                     339   BIC:                             2091.\n",
              "Df Model:                           2                                         \n",
              "Covariance Type:            nonrobust                                         \n",
              "========================================================================================\n",
              "                           coef    std err          t      P>|t|      [0.025      0.975]\n",
              "----------------------------------------------------------------------------------------\n",
              "C(island)[Biscoe]       45.2575      0.390    116.127      0.000      44.491      46.024\n",
              "C(island)[Dream]        44.1677      0.452     97.657      0.000      43.278      45.057\n",
              "C(island)[Torgersen]    38.9510      0.705     55.232      0.000      37.564      40.338\n",
              "==============================================================================\n",
              "Omnibus:                        8.214   Durbin-Watson:                   0.978\n",
              "Prob(Omnibus):                  0.016   Jarque-Bera (JB):                4.722\n",
              "Skew:                          -0.064   Prob(JB):                       0.0943\n",
              "Kurtosis:                       2.439   Cond. No.                         1.81\n",
              "==============================================================================\n",
              "\n",
              "Warnings:\n",
              "[1] Standard Errors assume that the covariance matrix of the errors is correctly specified.\n",
              "\"\"\""
            ]
          },
          "execution_count": 25,
          "metadata": {},
          "output_type": "execute_result"
        }
      ],
      "source": [
        "fit = smf.ols(\"bill_length_mm ~ C(island) - 1\", data = penguins).fit()\n",
        "fit.summary()"
      ]
    },
    {
      "cell_type": "markdown",
      "metadata": {
        "id": "vH1xXq7y_fzU"
      },
      "source": [
        "These results are the same, just as we wanted.\n",
        "\n",
        "Also note that the estimated beta coefficients are exactly the same as the means we just calculated. This is true in general.\n",
        "\n",
        "The rôle of \"-1\" in \"bill_length_mm ~ C(island) - 1\" is to remove the intercept from the regression model. We often do not want to this, as it makes it hard to look at the the *p*-values. "
      ]
    },
    {
      "cell_type": "code",
      "execution_count": null,
      "metadata": {
        "colab": {
          "base_uri": "https://localhost:8080/"
        },
        "id": "HS3lJyzBA4VY",
        "outputId": "faec87f2-bdc8-4461-ebe1-dbac390a1890"
      },
      "outputs": [
        {
          "data": {
            "text/plain": [
              "C(island)[Biscoe]       4.681012e-275\n",
              "C(island)[Dream]        2.708558e-250\n",
              "C(island)[Torgersen]    1.475592e-171\n",
              "dtype: float64"
            ]
          },
          "execution_count": 22,
          "metadata": {},
          "output_type": "execute_result"
        }
      ],
      "source": [
        "fit.pvalues"
      ]
    },
    {
      "cell_type": "markdown",
      "metadata": {
        "id": "kSLHM0rdBFkc"
      },
      "source": [
        "Here we see that all of the beta coefficients are highly significant. But what does that mean? It means that the mean length of the bills are unlikely to be $0$ for every island! What we typically care about is whether there is a difference between the islands, say Biscoe and Dream. "
      ]
    },
    {
      "cell_type": "code",
      "execution_count": null,
      "metadata": {
        "colab": {
          "base_uri": "https://localhost:8080/",
          "height": 469
        },
        "id": "l_YLKbDABbwL",
        "outputId": "c46f8189-61f5-4e70-9d46-e6f941bedcf8"
      },
      "outputs": [
        {
          "data": {
            "text/html": [
              "<table class=\"simpletable\">\n",
              "<caption>OLS Regression Results</caption>\n",
              "<tr>\n",
              "  <th>Dep. Variable:</th>     <td>bill_length_mm</td>  <th>  R-squared:         </th> <td>   0.154</td>\n",
              "</tr>\n",
              "<tr>\n",
              "  <th>Model:</th>                   <td>OLS</td>       <th>  Adj. R-squared:    </th> <td>   0.149</td>\n",
              "</tr>\n",
              "<tr>\n",
              "  <th>Method:</th>             <td>Least Squares</td>  <th>  F-statistic:       </th> <td>   30.86</td>\n",
              "</tr>\n",
              "<tr>\n",
              "  <th>Date:</th>             <td>Thu, 30 Sep 2021</td> <th>  Prob (F-statistic):</th> <td>4.86e-13</td>\n",
              "</tr>\n",
              "<tr>\n",
              "  <th>Time:</th>                 <td>05:01:12</td>     <th>  Log-Likelihood:    </th> <td> -1036.7</td>\n",
              "</tr>\n",
              "<tr>\n",
              "  <th>No. Observations:</th>      <td>   342</td>      <th>  AIC:               </th> <td>   2079.</td>\n",
              "</tr>\n",
              "<tr>\n",
              "  <th>Df Residuals:</th>          <td>   339</td>      <th>  BIC:               </th> <td>   2091.</td>\n",
              "</tr>\n",
              "<tr>\n",
              "  <th>Df Model:</th>              <td>     2</td>      <th>                     </th>     <td> </td>   \n",
              "</tr>\n",
              "<tr>\n",
              "  <th>Covariance Type:</th>      <td>nonrobust</td>    <th>                     </th>     <td> </td>   \n",
              "</tr>\n",
              "</table>\n",
              "<table class=\"simpletable\">\n",
              "<tr>\n",
              "             <td></td>               <th>coef</th>     <th>std err</th>      <th>t</th>      <th>P>|t|</th>  <th>[0.025</th>    <th>0.975]</th>  \n",
              "</tr>\n",
              "<tr>\n",
              "  <th>Intercept</th>              <td>   45.2575</td> <td>    0.390</td> <td>  116.127</td> <td> 0.000</td> <td>   44.491</td> <td>   46.024</td>\n",
              "</tr>\n",
              "<tr>\n",
              "  <th>C(island)[T.Dream]</th>     <td>   -1.0897</td> <td>    0.597</td> <td>   -1.825</td> <td> 0.069</td> <td>   -2.264</td> <td>    0.085</td>\n",
              "</tr>\n",
              "<tr>\n",
              "  <th>C(island)[T.Torgersen]</th> <td>   -6.3065</td> <td>    0.806</td> <td>   -7.827</td> <td> 0.000</td> <td>   -7.891</td> <td>   -4.722</td>\n",
              "</tr>\n",
              "</table>\n",
              "<table class=\"simpletable\">\n",
              "<tr>\n",
              "  <th>Omnibus:</th>       <td> 8.214</td> <th>  Durbin-Watson:     </th> <td>   0.978</td>\n",
              "</tr>\n",
              "<tr>\n",
              "  <th>Prob(Omnibus):</th> <td> 0.016</td> <th>  Jarque-Bera (JB):  </th> <td>   4.722</td>\n",
              "</tr>\n",
              "<tr>\n",
              "  <th>Skew:</th>          <td>-0.064</td> <th>  Prob(JB):          </th> <td>  0.0943</td>\n",
              "</tr>\n",
              "<tr>\n",
              "  <th>Kurtosis:</th>      <td> 2.439</td> <th>  Cond. No.          </th> <td>    3.52</td>\n",
              "</tr>\n",
              "</table><br/><br/>Warnings:<br/>[1] Standard Errors assume that the covariance matrix of the errors is correctly specified."
            ],
            "text/plain": [
              "<class 'statsmodels.iolib.summary.Summary'>\n",
              "\"\"\"\n",
              "                            OLS Regression Results                            \n",
              "==============================================================================\n",
              "Dep. Variable:         bill_length_mm   R-squared:                       0.154\n",
              "Model:                            OLS   Adj. R-squared:                  0.149\n",
              "Method:                 Least Squares   F-statistic:                     30.86\n",
              "Date:                Thu, 30 Sep 2021   Prob (F-statistic):           4.86e-13\n",
              "Time:                        05:01:12   Log-Likelihood:                -1036.7\n",
              "No. Observations:                 342   AIC:                             2079.\n",
              "Df Residuals:                     339   BIC:                             2091.\n",
              "Df Model:                           2                                         \n",
              "Covariance Type:            nonrobust                                         \n",
              "==========================================================================================\n",
              "                             coef    std err          t      P>|t|      [0.025      0.975]\n",
              "------------------------------------------------------------------------------------------\n",
              "Intercept                 45.2575      0.390    116.127      0.000      44.491      46.024\n",
              "C(island)[T.Dream]        -1.0897      0.597     -1.825      0.069      -2.264       0.085\n",
              "C(island)[T.Torgersen]    -6.3065      0.806     -7.827      0.000      -7.891      -4.722\n",
              "==============================================================================\n",
              "Omnibus:                        8.214   Durbin-Watson:                   0.978\n",
              "Prob(Omnibus):                  0.016   Jarque-Bera (JB):                4.722\n",
              "Skew:                          -0.064   Prob(JB):                       0.0943\n",
              "Kurtosis:                       2.439   Cond. No.                         3.52\n",
              "==============================================================================\n",
              "\n",
              "Warnings:\n",
              "[1] Standard Errors assume that the covariance matrix of the errors is correctly specified.\n",
              "\"\"\""
            ]
          },
          "execution_count": 28,
          "metadata": {},
          "output_type": "execute_result"
        }
      ],
      "source": [
        "fit2 = smf.ols(\"bill_length_mm ~ C(island)\", data = penguins).fit()\n",
        "fit2.summary()"
      ]
    },
    {
      "cell_type": "markdown",
      "metadata": {
        "id": "f1WxddweBZIj"
      },
      "source": [
        "In this run of the regression model, there is no `C(island)[Biscoe]` because this coefficient has been absorbed into a *baseline*. "
      ]
    },
    {
      "cell_type": "markdown",
      "metadata": {
        "id": "EXSVHpjkEUWk"
      },
      "source": [
        "Our first model was\n",
        "$$\n",
        "\\textrm{bill_length_mm} = \\beta_{\\textrm{Biscoe}}1[\\textrm{island} =\\textrm{Biscoe}]+\\beta_{\\textrm{Dream}}1[\\textrm{island} =\\textrm{Dream}] + \\beta_{\\textrm{Torgersen}}1[\\textrm{island} =\\textrm{Torgersen}] + \\epsilon\n",
        "$$\n"
      ]
    },
    {
      "cell_type": "markdown",
      "metadata": {
        "id": "GLBAHCSTEksv"
      },
      "source": [
        "\n",
        "But now our model is\n",
        "$$\n",
        "\\textrm{bill_length_mm} = \\beta_0 +\\beta^*_{\\textrm{Dream}}1[\\textrm{island} =\\textrm{Dream}] + \\beta^*_{\\textrm{Torgersen}}1[\\textrm{island} =\\textrm{Torgersen}] + \\epsilon\n",
        "$$"
      ]
    },
    {
      "cell_type": "markdown",
      "metadata": {
        "id": "UwO280_KEm6G"
      },
      "source": [
        "When `island = Biscoe`, only $\\beta_0$ is kept. Hence the intercept of `fit2` equals the Biscoe coeffcient of `fit1`."
      ]
    },
    {
      "cell_type": "code",
      "execution_count": null,
      "metadata": {
        "colab": {
          "base_uri": "https://localhost:8080/"
        },
        "id": "tD3rY3p3E4dy",
        "outputId": "e12ddd90-977b-42c2-ef5c-0a85eaa79e65"
      },
      "outputs": [
        {
          "data": {
            "text/plain": [
              "C(island)[Biscoe]       45.257485\n",
              "C(island)[Dream]        44.167742\n",
              "C(island)[Torgersen]    38.950980\n",
              "dtype: float64"
            ]
          },
          "execution_count": 26,
          "metadata": {},
          "output_type": "execute_result"
        }
      ],
      "source": [
        "fit.params"
      ]
    },
    {
      "cell_type": "code",
      "execution_count": null,
      "metadata": {
        "colab": {
          "base_uri": "https://localhost:8080/"
        },
        "id": "GBNqIcrwE6gd",
        "outputId": "1db5df1a-bc90-4752-f590-f35b5b9a05cd"
      },
      "outputs": [
        {
          "data": {
            "text/plain": [
              "Intercept                 45.257485\n",
              "C(island)[T.Dream]        -1.089743\n",
              "C(island)[T.Torgersen]    -6.306505\n",
              "dtype: float64"
            ]
          },
          "execution_count": 29,
          "metadata": {},
          "output_type": "execute_result"
        }
      ],
      "source": [
        "fit2.params"
      ]
    },
    {
      "cell_type": "markdown",
      "metadata": {
        "id": "eDHKx6GxFBiG"
      },
      "source": [
        "The other parameters do not match, but they shouldn't, as the first model contains no intercept! To match them, we must look at what happens when, e.g., `island = Dream` in both models. "
      ]
    },
    {
      "cell_type": "markdown",
      "metadata": {
        "id": "ZhdRtTP0FMwm"
      },
      "source": [
        "In the first model, $y = \\beta_{\\textrm{Dream}} + \\epsilon$ when `island = Dream`. In the second model, \n",
        "$$\n",
        "\\textrm{bill_length_mm} = \\beta_0 +\\beta^*_{\\textrm{Dream}}1[\\textrm{island} =\\textrm{Dream}] + \\beta^*_{\\textrm{Torgersen}}1[\\textrm{island} =\\textrm{Torgersen}] + \\epsilon\n",
        "$$\n",
        "We find that \n",
        "$$\n",
        "\\textrm{bill_length_mm} = \\beta_0 +\\beta^*_{\\textrm{Dream}}1[\\textrm{island}] + \\epsilon\n",
        "$$\n",
        "hence we need to add the intercept to $\\beta^*_{\\textrm{Dream}}$ in order to recover $\\beta_{\\textrm{Dream}}$"
      ]
    },
    {
      "cell_type": "code",
      "execution_count": null,
      "metadata": {
        "colab": {
          "base_uri": "https://localhost:8080/"
        },
        "id": "VBd2kGWvFt4m",
        "outputId": "693a37fc-e9ab-4525-d432-0c0f94e025ea"
      },
      "outputs": [
        {
          "data": {
            "text/plain": [
              "44.16774193548389"
            ]
          },
          "execution_count": 31,
          "metadata": {},
          "output_type": "execute_result"
        }
      ],
      "source": [
        "fit2.params[0] + fit2.params[1]"
      ]
    },
    {
      "cell_type": "code",
      "execution_count": null,
      "metadata": {
        "colab": {
          "base_uri": "https://localhost:8080/"
        },
        "id": "tOAOXZ3LF1y9",
        "outputId": "5ed14e74-3dfa-4958-ddef-815de373f9a8"
      },
      "outputs": [
        {
          "data": {
            "text/plain": [
              "44.16774193548388"
            ]
          },
          "execution_count": 32,
          "metadata": {},
          "output_type": "execute_result"
        }
      ],
      "source": [
        "fit.params[1]"
      ]
    },
    {
      "cell_type": "markdown",
      "metadata": {
        "id": "wlA9B8sG8bu-"
      },
      "source": [
        "## Summary\n",
        "1. There are roughly three kinds of data: Decimal, ordinal, and categorical.\n",
        "3. The interpretation of categories variables in a regression model uses the indicator function: $$\n",
        "y = \\sum_{a\\in A} \\beta_a 1[x\\textrm{ = }a] + \\epsilon,\\quad x \\textrm{ in } A.\n",
        "$$\n",
        "3. `statsmodels` automatically fits a regression model of the kind above when given categorical covariates."
      ]
    }
  ],
  "metadata": {
    "colab": {
      "collapsed_sections": [],
      "name": "EBA3500-lecture7(i)",
      "provenance": []
    },
    "kernelspec": {
      "display_name": "Python 3",
      "name": "python3"
    },
    "language_info": {
      "name": "python"
    }
  },
  "nbformat": 4,
  "nbformat_minor": 0
}
